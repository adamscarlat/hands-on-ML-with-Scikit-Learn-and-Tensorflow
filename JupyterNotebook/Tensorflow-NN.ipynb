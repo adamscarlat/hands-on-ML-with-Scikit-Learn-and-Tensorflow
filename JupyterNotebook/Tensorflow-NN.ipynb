{
 "cells": [
  {
   "cell_type": "markdown",
   "metadata": {},
   "source": [
    "## Building a Neural Network with TensorFlow\n",
    "\n",
    "Using TensorFlow's API to build a neural network as a tensor graph."
   ]
  },
  {
   "cell_type": "code",
   "execution_count": 14,
   "metadata": {
    "collapsed": true
   },
   "outputs": [],
   "source": [
    "import tensorflow as tf#Reset the tf graph\n",
    "import numpy as np"
   ]
  },
  {
   "cell_type": "code",
   "execution_count": 15,
   "metadata": {
    "collapsed": true
   },
   "outputs": [],
   "source": [
    "#reset the TF graph\n",
    "\n",
    "def reset_graph(seed=42): \n",
    "    tf.reset_default_graph()\n",
    "    tf.set_random_seed(seed)\n",
    "    np.random.seed(seed)"
   ]
  },
  {
   "cell_type": "code",
   "execution_count": 16,
   "metadata": {
    "collapsed": true
   },
   "outputs": [],
   "source": [
    "'''\n",
    "Construction phase\n",
    "----------------------------------------\n",
    "Here we define the network in terms of: \n",
    "- input, hidden, output layers\n",
    "- activation function: ReLu\n",
    "- loss function: cross-entropy\n",
    "- optimizer: mini-batch GD\n",
    "- performacne evaluation: accuracy\n",
    "'''\n",
    "\n",
    "#specify the NN architecture\n",
    "\n",
    "n_inputs = 28*28 # MNIST \n",
    "n_hidden1 = 300\n",
    "n_hidden2 = 100\n",
    "n_outputs = 10"
   ]
  },
  {
   "cell_type": "code",
   "execution_count": 17,
   "metadata": {
    "collapsed": true
   },
   "outputs": [],
   "source": [
    "#We use placeholders for the input/output of the network. \n",
    "#For X, we know the number of features each instance will have (784) but we don't know\n",
    "#how many instances each batch of the mini-batch GD will contain.\n",
    "\n",
    "#Same for y, we know it's a single label per training instance but still rely on the\n",
    "#number of instances in our mini-batch. Each Yi will contain the error of example Xi\n",
    "\n",
    "X = tf.placeholder(tf.float32, shape=(None, n_inputs), name=\"X\")\n",
    "y = tf.placeholder(tf.int64, shape=(None), name=\"y\")"
   ]
  },
  {
   "cell_type": "code",
   "execution_count": 4,
   "metadata": {
    "collapsed": true
   },
   "outputs": [],
   "source": [
    "#This function creates a layer in the NN. It takes an input layer X (units connected to this layer),\n",
    "#number of neurons (units in the layer), name and an activation function.\n",
    "\n",
    "#This has a TF implementation that does it- see TF's fully_connected function\n",
    "\n",
    "def neuron_layer(X, n_neurons, name, activation=None): \n",
    "    #add namescope for better visualization in tensorboard\n",
    "    with tf.name_scope(name):\n",
    "        \n",
    "        #get number of features from input\n",
    "        n_inputs = int(X.get_shape()[1])\n",
    "        \n",
    "        #initialize W matrix with random weight.\n",
    "        #W is the shape (n_features_input, n_neurons_nextlayer)\n",
    "        stddev = 2 / np.sqrt(n_inputs)\n",
    "        init = tf.truncated_normal((n_inputs, n_neurons), stddev=stddev) \n",
    "        W = tf.Variable(init, name=\"weights\")\n",
    "        \n",
    "        #bias edges in hidden layer\n",
    "        b = tf.Variable(tf.zeros([n_neurons]), name=\"biases\")\n",
    "        \n",
    "        #hidden layer- net\n",
    "        z = tf.matmul(X, W) + b\n",
    "        \n",
    "        #hidden layer- out\n",
    "        if activation==\"relu\":\n",
    "            return tf.nn.relu(z) \n",
    "        else:\n",
    "            return z"
   ]
  },
  {
   "cell_type": "code",
   "execution_count": 11,
   "metadata": {},
   "outputs": [],
   "source": [
    "#Create the DNN:\n",
    "    #input layer: a training instance\n",
    "    #hidden layer 1: 300\n",
    "    #hidden layer 2: 100\n",
    "    #output layer: 10\n",
    "\n",
    "with tf.name_scope(\"dnn\"):\n",
    "    hidden1 = neuron_layer(X, n_hidden1, \"hidden1\", activation=\"relu\") \n",
    "    hidden2 = neuron_layer(hidden1, n_hidden2, \"hidden2\", activation=\"relu\") \n",
    "    logits = neuron_layer(hidden2, n_outputs, \"outputs\")"
   ]
  },
  {
   "cell_type": "code",
   "execution_count": 19,
   "metadata": {},
   "outputs": [],
   "source": [
    "from tensorflow.contrib.layers import fully_connected\n",
    "\n",
    "#The TF implementation for our 'neuron_layer' function\n",
    "\n",
    "with tf.name_scope(\"dnn\"):\n",
    "    hidden1 = fully_connected(X, n_hidden1, scope=\"hidden1\", reuse=True) \n",
    "    hidden2 = fully_connected(hidden1, n_hidden2, scope=\"hidden2\", reuse=True) \n",
    "    logits = fully_connected(hidden2, n_outputs, scope=\"outputs\",\n",
    "                                 activation_fn=None, reuse=True)\n"
   ]
  },
  {
   "cell_type": "code",
   "execution_count": 20,
   "metadata": {
    "collapsed": true
   },
   "outputs": [],
   "source": [
    "#define cross-entropy loss function for the output layer.\n",
    "\n",
    "with tf.name_scope(\"loss\"):\n",
    "    \n",
    "    #computes the cross-entropy loss of each output node\n",
    "    xentropy = tf.nn.sparse_softmax_cross_entropy_with_logits(labels=y, logits=logits)\n",
    "    \n",
    "    #computes the total error as a mean over the cross-entropies\n",
    "    loss = tf.reduce_mean(xentropy, name=\"loss\")"
   ]
  },
  {
   "cell_type": "code",
   "execution_count": 21,
   "metadata": {
    "collapsed": true
   },
   "outputs": [],
   "source": [
    "#define a gradient-descent optimizer to minimize the loss function\n",
    "\n",
    "learning_rate = 0.01\n",
    "\n",
    "with tf.name_scope(\"train\"):\n",
    "    #this will minimize the loss, a TF node that contains the rest \n",
    "    #of our nodes: X,W and y\n",
    "    optimizer = tf.train.GradientDescentOptimizer(learning_rate) \n",
    "    training_op = optimizer.minimize(loss)\n"
   ]
  },
  {
   "cell_type": "code",
   "execution_count": 22,
   "metadata": {
    "collapsed": true
   },
   "outputs": [],
   "source": [
    "#Model Evaluation\n",
    "\n",
    "with tf.name_scope(\"eval\"):\n",
    "    \n",
    "    #foreach prediction i (logits) determine wether the highest logit \n",
    "    #(amonge the topk predictions where k=1) corresponds to the target class\n",
    "    correct = tf.nn.in_top_k(logits, y, 1)\n",
    "    accuracy = tf.reduce_mean(tf.cast(correct, tf.float32))"
   ]
  },
  {
   "cell_type": "code",
   "execution_count": 24,
   "metadata": {
    "collapsed": true
   },
   "outputs": [],
   "source": [
    "#initializer and saver\n",
    "\n",
    "init = tf.global_variables_initializer()\n",
    "saver = tf.train.Saver()"
   ]
  },
  {
   "cell_type": "code",
   "execution_count": 33,
   "metadata": {},
   "outputs": [
    {
     "name": "stdout",
     "output_type": "stream",
     "text": [
      "Extracting /tmp/data/train-images-idx3-ubyte.gz\n",
      "Extracting /tmp/data/train-labels-idx1-ubyte.gz\n",
      "Extracting /tmp/data/t10k-images-idx3-ubyte.gz\n",
      "Extracting /tmp/data/t10k-labels-idx1-ubyte.gz\n"
     ]
    }
   ],
   "source": [
    "'''\n",
    "Execution Phase\n",
    "-------------------\n",
    "- Load, scale and split the MNIST data: done by TF read_data_sets method\n",
    "- Define execution parameters: ephocs and batch size\n",
    "- Run training, evaluate every epoch\n",
    "- Save network to disk\n",
    "'''\n",
    "from tensorflow.examples.tutorials.mnist import input_data\n",
    "\n",
    "#load data using TF's API. Loads, scales and shuffles the data\n",
    "mnist = input_data.read_data_sets(\"/tmp/data/\")\n",
    "\n",
    "#define mini-batch GD parameters\n",
    "n_epochs = 30\n",
    "batch_size = 50\n"
   ]
  },
  {
   "cell_type": "code",
   "execution_count": 34,
   "metadata": {},
   "outputs": [
    {
     "name": "stdout",
     "output_type": "stream",
     "text": [
      "0 Train accuracy: 0.94 Test accuracy: 0.9013\n",
      "1 Train accuracy: 0.9 Test accuracy: 0.9224\n",
      "2 Train accuracy: 1.0 Test accuracy: 0.9337\n",
      "3 Train accuracy: 0.96 Test accuracy: 0.9376\n",
      "4 Train accuracy: 0.9 Test accuracy: 0.9428\n",
      "5 Train accuracy: 0.98 Test accuracy: 0.9468\n",
      "6 Train accuracy: 0.94 Test accuracy: 0.9522\n",
      "7 Train accuracy: 0.96 Test accuracy: 0.9543\n",
      "8 Train accuracy: 0.92 Test accuracy: 0.9572\n",
      "9 Train accuracy: 0.98 Test accuracy: 0.9595\n",
      "10 Train accuracy: 0.98 Test accuracy: 0.9612\n",
      "11 Train accuracy: 0.92 Test accuracy: 0.9643\n",
      "12 Train accuracy: 0.96 Test accuracy: 0.9646\n",
      "13 Train accuracy: 1.0 Test accuracy: 0.9647\n",
      "14 Train accuracy: 1.0 Test accuracy: 0.9657\n",
      "15 Train accuracy: 0.96 Test accuracy: 0.9671\n",
      "16 Train accuracy: 0.98 Test accuracy: 0.9683\n",
      "17 Train accuracy: 0.98 Test accuracy: 0.9689\n",
      "18 Train accuracy: 0.98 Test accuracy: 0.9691\n",
      "19 Train accuracy: 0.98 Test accuracy: 0.9708\n",
      "20 Train accuracy: 1.0 Test accuracy: 0.9701\n",
      "21 Train accuracy: 0.98 Test accuracy: 0.9714\n",
      "22 Train accuracy: 1.0 Test accuracy: 0.9722\n",
      "23 Train accuracy: 1.0 Test accuracy: 0.9723\n",
      "24 Train accuracy: 1.0 Test accuracy: 0.973\n",
      "25 Train accuracy: 1.0 Test accuracy: 0.9734\n",
      "26 Train accuracy: 0.98 Test accuracy: 0.9738\n",
      "27 Train accuracy: 0.98 Test accuracy: 0.9744\n",
      "28 Train accuracy: 1.0 Test accuracy: 0.9746\n",
      "29 Train accuracy: 0.98 Test accuracy: 0.9729\n"
     ]
    }
   ],
   "source": [
    "with tf.Session() as sess: \n",
    "    #initialize all nodes in the graph\n",
    "    init.run()\n",
    "    for epoch in range(n_epochs):\n",
    "        for iteration in range(mnist.train.num_examples // batch_size):\n",
    "            \n",
    "            #get batch i - examples and targets\n",
    "            X_batch, y_batch = mnist.train.next_batch(batch_size)\n",
    "            \n",
    "            #feed batch to network - all examples in a batch will run in parallel.\n",
    "            #populate the place holders in the graph\n",
    "            sess.run(training_op, feed_dict={X: X_batch, y: y_batch})\n",
    "        \n",
    "        #train/test sets accuracy measurments\n",
    "        acc_train = accuracy.eval(feed_dict={X: X_batch, y: y_batch})\n",
    "        acc_test = accuracy.eval(feed_dict={X: mnist.test.images, y: mnist.test.labels}) \n",
    "        \n",
    "        print(epoch, \"Train accuracy:\", acc_train, \"Test accuracy:\", acc_test)\n",
    "        \n",
    "    save_path = saver.save(sess, \"./my_model_final.ckpt\")"
   ]
  },
  {
   "cell_type": "code",
   "execution_count": 52,
   "metadata": {},
   "outputs": [
    {
     "name": "stderr",
     "output_type": "stream",
     "text": [
      "/usr/local/lib/python3.6/site-packages/sklearn/utils/validation.py:429: DataConversionWarning: Data with input dtype uint8 was converted to float64 by StandardScaler.\n",
      "  warnings.warn(msg, _DataConversionWarning)\n"
     ]
    },
    {
     "data": {
      "image/png": "[encoded data removed]",
      "text/plain": [
       "<matplotlib.figure.Figure at 0x101d7f550>"
      ]
     },
     "metadata": {},
     "output_type": "display_data"
    }
   ],
   "source": [
    "#Use the network on a \"new\" examples\n",
    "\n",
    "from sklearn.datasets import fetch_mldata\n",
    "import matplotlib\n",
    "import matplotlib.pyplot as plt\n",
    "from sklearn.preprocessing import StandardScaler\n",
    "\n",
    "scaler = StandardScaler()\n",
    "\n",
    "#Get 2 digits from the dataset\n",
    "mnist = fetch_mldata('MNIST original')\n",
    "target = mnist.target.reshape(mnist.target.shape[0], 1)\n",
    "data = mnist.data\n",
    "\n",
    "digit_5 = scaler.fit_transform(data[35000].reshape(28, 28))\n",
    "digit_4 = scaler.fit_transform(data[29999].reshape(28, 28))\n",
    "digits = np.c_[digit_5, digit_4]\n",
    "\n",
    "plt.imshow(digits, cmap = matplotlib.cm.binary, interpolation=\"nearest\")\n",
    "plt.show()"
   ]
  },
  {
   "cell_type": "code",
   "execution_count": 57,
   "metadata": {},
   "outputs": [
    {
     "name": "stdout",
     "output_type": "stream",
     "text": [
      "INFO:tensorflow:Restoring parameters from ./my_model_final.ckpt\n",
      "prediction:  [4]\n"
     ]
    }
   ],
   "source": [
    "\n",
    "\n",
    "with tf.Session() as sess:\n",
    "    saver.restore(sess, \"./my_model_final.ckpt\")\n",
    "    \n",
    "    digit4_new_scaled = digit_4.reshape(1,784)\n",
    "    Z = logits.eval(feed_dict={X: digit4_new_scaled})\n",
    "    y_pred = np.argmax(Z, axis=1)\n",
    "    \n",
    "    print ('prediction: ', y_pred)"
   ]
  }
 ],
 "metadata": {
  "kernelspec": {
   "display_name": "Python 3",
   "language": "python",
   "name": "python3"
  },
  "language_info": {
   "codemirror_mode": {
    "name": "ipython",
    "version": 3
   },
   "file_extension": ".py",
   "mimetype": "text/x-python",
   "name": "python",
   "nbconvert_exporter": "python",
   "pygments_lexer": "ipython3",
   "version": "3.6.2"
  }
 },
 "nbformat": 4,
 "nbformat_minor": 2
}
