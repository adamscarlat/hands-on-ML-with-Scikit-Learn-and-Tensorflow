{
 "cells": [
  {
   "cell_type": "code",
   "execution_count": 215,
   "metadata": {
    "collapsed": true
   },
   "outputs": [],
   "source": [
    "from sklearn.datasets import fetch_mldata\n",
    "import numpy as np\n",
    "import matplotlib\n",
    "import matplotlib.pyplot as plt\n",
    "import pandas as pd\n",
    "\n",
    "%matplotlib inline\n",
    "%config IPCompleter.greedy=True"
   ]
  },
  {
   "cell_type": "code",
   "execution_count": 216,
   "metadata": {
    "collapsed": true
   },
   "outputs": [],
   "source": [
    "mnist = fetch_mldata('MNIST original')"
   ]
  },
  {
   "cell_type": "code",
   "execution_count": 217,
   "metadata": {},
   "outputs": [
    {
     "name": "stdout",
     "output_type": "stream",
     "text": [
      "data shape:  (70000, 784)\n",
      "target shape:  (70000, 1)\n"
     ]
    }
   ],
   "source": [
    "#get data and targets\n",
    "target = mnist.target.reshape(mnist.target.shape[0], 1)\n",
    "data = mnist.data\n",
    "\n",
    "print ('data shape: ', data.shape)\n",
    "print ('target shape: ', target.shape)"
   ]
  },
  {
   "cell_type": "code",
   "execution_count": 218,
   "metadata": {},
   "outputs": [
    {
     "name": "stdout",
     "output_type": "stream",
     "text": [
      "target proportions\n"
     ]
    },
    {
     "data": {
      "text/plain": [
       "1.0    0.112529\n",
       "7.0    0.104186\n",
       "3.0    0.102014\n",
       "2.0    0.099857\n",
       "9.0    0.099400\n",
       "0.0    0.098614\n",
       "6.0    0.098229\n",
       "8.0    0.097500\n",
       "4.0    0.097486\n",
       "5.0    0.090186\n",
       "Name: 0, dtype: float64"
      ]
     },
     "execution_count": 218,
     "metadata": {},
     "output_type": "execute_result"
    }
   ],
   "source": [
    "#target proportions\n",
    "def get_proportions(data):\n",
    "    target_df = pd.DataFrame(data)\n",
    "    value_counts = target_df[0].value_counts()\n",
    "    num_targets = target_df.shape[0]\n",
    "\n",
    "    return value_counts / len(data)\n",
    "\n",
    "print ('target proportions')\n",
    "get_proportions(target)"
   ]
  },
  {
   "cell_type": "code",
   "execution_count": 219,
   "metadata": {},
   "outputs": [
    {
     "data": {
      "text/plain": [
       "<matplotlib.image.AxesImage at 0x11f1a4160>"
      ]
     },
     "execution_count": 219,
     "metadata": {},
     "output_type": "execute_result"
    },
    {
     "data": {
      "image/png": "[encoded data removed]",
      "text/plain": [
       "<matplotlib.figure.Figure at 0x11cdc7198>"
      ]
     },
     "metadata": {},
     "output_type": "display_data"
    }
   ],
   "source": [
    "#see what an image from data looks like\n",
    "digit_5 = data[35000].reshape(28, 28)\n",
    "digit_4 = data[29999].reshape(28, 28)\n",
    "digits = np.c_[digit_5, digit_4]\n",
    "plt.imshow(digits, cmap = matplotlib.cm.binary, interpolation=\"nearest\")"
   ]
  },
  {
   "cell_type": "code",
   "execution_count": 220,
   "metadata": {},
   "outputs": [
    {
     "name": "stdout",
     "output_type": "stream",
     "text": [
      "train targets proportions\n"
     ]
    },
    {
     "data": {
      "text/plain": [
       "1.0    0.112367\n",
       "7.0    0.104417\n",
       "3.0    0.102183\n",
       "2.0    0.099300\n",
       "9.0    0.099150\n",
       "0.0    0.098717\n",
       "6.0    0.098633\n",
       "8.0    0.097517\n",
       "4.0    0.097367\n",
       "5.0    0.090350\n",
       "Name: 0, dtype: float64"
      ]
     },
     "execution_count": 220,
     "metadata": {},
     "output_type": "execute_result"
    }
   ],
   "source": [
    "#train/test split (MNIST data set is already ready for split)\n",
    "X_train, X_test, y_train, y_test = data[:60000], data[60000:], target[:60000], target[60000:]\n",
    "\n",
    "#shuffle training set so that same numbers don't appear in a row\n",
    "shuffle_index = np.random.permutation(60000)\n",
    "X_train, y_train = X_train[shuffle_index], y_train[shuffle_index]\n",
    "\n",
    "#check train targets proportions\n",
    "print ('train targets proportions')\n",
    "get_proportions(y_train)"
   ]
  },
  {
   "cell_type": "code",
   "execution_count": 272,
   "metadata": {},
   "outputs": [
    {
     "name": "stdout",
     "output_type": "stream",
     "text": [
      "testing 5:  [ True]\n",
      "testing 4:  [False]\n"
     ]
    }
   ],
   "source": [
    "from sklearn.linear_model import SGDClassifier\n",
    "\n",
    "#Binary classifier for the digit 5- if 5 true, if not 5 false\n",
    "y_train_5 = (y_train == 5) # True for all 5s, False for all other digits. \n",
    "y_test_5 = (y_test == 5)\n",
    "\n",
    "#stochastic gradient descent classifier\n",
    "sgd_clf = SGDClassifier(random_state=42)\n",
    "sgd_clf.fit(X_train, y_train_5.ravel())\n",
    "\n",
    "#predict on our some_digit from before\n",
    "print ('testing 5: ', sgd_clf.predict([digit_5.ravel()]))\n",
    "print ('testing 4: ', sgd_clf.predict([digit_4.ravel()]))\n",
    "\n",
    "\n"
   ]
  },
  {
   "cell_type": "code",
   "execution_count": 222,
   "metadata": {},
   "outputs": [
    {
     "name": "stdout",
     "output_type": "stream",
     "text": [
      "Cross validation results\n",
      "0.96175\n",
      "0.9592\n",
      "0.9394\n"
     ]
    }
   ],
   "source": [
    "from sklearn.model_selection import StratifiedKFold \n",
    "from sklearn.base import clone\n",
    "\n",
    "#k-fold cv implementation\n",
    "def cross_validation(classifier, X, y, n_splits = 3):\n",
    "    skfolds = StratifiedKFold(n_splits=n_splits, random_state=42)\n",
    "\n",
    "    #need to reshape y to (y,) for cv\n",
    "    y = y.reshape(y.shape[0],)\n",
    "    \n",
    "    print ('Cross validation results')\n",
    "    \n",
    "    for train_index, test_index in skfolds.split(X, y): \n",
    "        clone_clf = clone(classifier)\n",
    "        X_train_folds = X[train_index]\n",
    "        y_train_folds = (y[train_index])\n",
    "        X_test_fold = X[test_index]\n",
    "        y_test_fold = (y[test_index])\n",
    "\n",
    "        clone_clf.fit(X_train_folds, y_train_folds)\n",
    "        y_pred = clone_clf.predict(X_test_fold)\n",
    "        n_correct = sum(y_pred == y_test_fold)\n",
    "\n",
    "        print(n_correct / len(y_pred)) \n",
    "\n",
    "#testing our 5-only classifier\n",
    "cross_validation(sgd_clf, X_train, y_train_5)"
   ]
  },
  {
   "cell_type": "code",
   "execution_count": 223,
   "metadata": {},
   "outputs": [
    {
     "name": "stdout",
     "output_type": "stream",
     "text": [
      "Accuracy for predicting not-5 all the time\n"
     ]
    },
    {
     "data": {
      "text/plain": [
       "array([ 0.90835,  0.9127 ,  0.9079 ])"
      ]
     },
     "execution_count": 223,
     "metadata": {},
     "output_type": "execute_result"
    }
   ],
   "source": [
    "from sklearn.model_selection import cross_val_score\n",
    "from sklearn.base import BaseEstimator\n",
    "\n",
    "#what accuracy will we get if we predict not-5 all the time?\n",
    "#we're getting 90% (since only 10% of the examples are 5 - see proportions above).\n",
    "#This means that accuracy measurement does not tell us much here\n",
    "class Never5Classifier(BaseEstimator): \n",
    "    def fit(self, X, y=None):\n",
    "        pass\n",
    "    def predict(self, X):\n",
    "        return np.zeros((len(X), 1), dtype=bool)\n",
    "    \n",
    "never_5_clf = Never5Classifier()\n",
    "\n",
    "print ('Accuracy for predicting not-5 all the time')\n",
    "cross_val_score(never_5_clf, X_train, y_train_5, cv=3, scoring=\"accuracy\")"
   ]
  },
  {
   "cell_type": "code",
   "execution_count": 230,
   "metadata": {},
   "outputs": [
    {
     "name": "stdout",
     "output_type": "stream",
     "text": [
      "Confusion matrix\n",
      "[[53978   601]\n",
      " [ 2192  3229]]\n",
      "TP: 3229, FP: 601, TN: 53978, FN: 2192 \n",
      "\n",
      "precision:  0.843080939948\n",
      "recall:  0.595646559675\n",
      "f1:  0.69808669333\n"
     ]
    }
   ],
   "source": [
    "from sklearn.model_selection import cross_val_predict\n",
    "\n",
    "#Creating a confusion matrix for performance measuremence\n",
    "\n",
    "#returns the predictions (instead of the performance scores)\n",
    "y_train_5_reshaped = y_train_5.reshape(y_train_5.shape[0],)\n",
    "y_train_pred = cross_val_predict(sgd_clf, X_train, y_train_5_reshaped, cv=3)\n",
    "y_train_actuals = y_train_5\n",
    "\n",
    "confusion_mat = confusion_matrix(y_train_actuals, y_train_pred)\n",
    "print ('Confusion matrix')\n",
    "print (confusion_mat)\n",
    "\n",
    "tp = confusion_mat[1][1]\n",
    "fp = confusion_mat[0][1]\n",
    "tn = confusion_mat[0][0]\n",
    "fn = confusion_mat[1][0]\n",
    "\n",
    "print ('TP: {}, FP: {}, TN: {}, FN: {} \\n'.format(tp, fp, tn, fn))\n",
    "\n",
    "precision = tp / (tp + fp)\n",
    "recall = tp / (tp + fn)\n",
    "f1 = 2 * ((precision * recall) / (precision + recall))\n",
    "print ('precision: ', precision)\n",
    "print ('recall: ', recall)\n",
    "print ('f1: ', f1)\n"
   ]
  },
  {
   "cell_type": "code",
   "execution_count": 265,
   "metadata": {},
   "outputs": [
    {
     "name": "stdout",
     "output_type": "stream",
     "text": [
      "confidence for a single positive example:  [ 82032.52626308]\n",
      "confidence for a single negative example:  [-353938.12480219]\n",
      "number of positives:  3830\n",
      "number of positives:  56170\n",
      "avreage positive confidence:  190162.559636\n",
      "avreage negative confidence:  -549315.916135\n",
      "\n",
      "Plot of precision-recall pairs for increasing threshold values\n",
      "precision_score for threshold 70000:  0.91224419008\n"
     ]
    },
    {
     "data": {
      "image/png": "[encoded data removed]",
      "text/plain": [
       "<matplotlib.figure.Figure at 0x1222f9b70>"
      ]
     },
     "metadata": {},
     "output_type": "display_data"
    }
   ],
   "source": [
    "from sklearn.metrics import precision_score\n",
    "from sklearn.metrics import recall_score\n",
    "\n",
    "#precision/recall tradeoff\n",
    "#useful for when the positive examples are sparse\n",
    "\n",
    "#by default the SGD classifier's threshold for positive example is above 0.\n",
    "#get the confidence score of the classifier for true and false examples\n",
    "print ('confidence for a single positive example: ', sgd_clf.decision_function([digit_5.ravel()]))\n",
    "print ('confidence for a single negative example: ', sgd_clf.decision_function([digit_4.ravel()]))\n",
    "\n",
    "#get confidence level for each example in training set\n",
    "y_scores = cross_val_predict(sgd_clf, X_train, y_train_5_reshaped, cv=3, method=\"decision_function\")\n",
    "y_positive = y_scores[y_scores > 0.0]\n",
    "y_negative = y_scores[y_scores < 0.0]\n",
    "\n",
    "print ('number of positives: ', len(y_positive))\n",
    "print ('number of positives: ', len(y_negative))\n",
    "print ('avreage positive confidence: ', np.mean(y_positive))\n",
    "print ('avreage negative confidence: ', np.mean(y_negative))\n",
    "\n",
    "#plot precision and recall for increasing thresholds\n",
    "def plot_precision_recall_vs_threshold(precisions, recalls, thresholds, x_range = [-600000, 600000]): \n",
    "    plt.plot(thresholds, precisions[:-1], \"b--\", label=\"Precision\") \n",
    "    plt.plot(thresholds, recalls[:-1], \"g-\", label=\"Recall\") \n",
    "    plt.xlim(x_range)\n",
    "    plt.xlabel(\"Threshold\")\n",
    "    plt.legend(loc=\"upper left\")\n",
    "    plt.ylim([0, 1])\n",
    "\n",
    "#get the precision and recall pairs for increasing threshold values\n",
    "precisions, recalls, thresholds = precision_recall_curve(y_train_5, y_scores)\n",
    "\n",
    "print ('\\nPlot of precision-recall pairs for increasing threshold values')\n",
    "plot_precision_recall_vs_threshold(precisions, recalls, thresholds)\n",
    "\n",
    "#example: setting a threshold that produces 90% precision\n",
    "y_train_pred_90 = (y_scores > 70000)\n",
    "print ('precision score for threshold 70000: ', precision_score(y_train_actuals, y_train_pred_90))\n"
   ]
  },
  {
   "cell_type": "code",
   "execution_count": 233,
   "metadata": {},
   "outputs": [
    {
     "name": "stdout",
     "output_type": "stream",
     "text": [
      "ROC Curve\n",
      "Area under the curve:  0.943707071728\n"
     ]
    },
    {
     "data": {
      "image/png": "[encoded data removed]",
      "text/plain": [
       "<matplotlib.figure.Figure at 0x11cdb6198>"
      ]
     },
     "metadata": {},
     "output_type": "display_data"
    }
   ],
   "source": [
    "from sklearn.metrics import roc_curve\n",
    "from sklearn.metrics import roc_auc_score\n",
    "\n",
    "#ROC Curve\n",
    "#plots true positive rates (recall) against false positive rates for increasing threshold values\n",
    "\n",
    "fpr, tpr, thresholds = roc_curve(y_train_5, y_scores)\n",
    "\n",
    "def plot_roc_curve(fpr, tpr, label=None): \n",
    "    plt.plot(fpr, tpr, linewidth=2, label=label) \n",
    "    plt.plot([0, 1], [0, 1], 'k--')\n",
    "    plt.axis([0, 1, 0, 1])\n",
    "    plt.xlabel('False Positive Rate')\n",
    "    plt.ylabel('True Positive Rate')\n",
    "    \n",
    "print ('ROC Curve')\n",
    "plot_roc_curve(fpr, tpr)\n",
    "\n",
    "print ('Area under the curve: ', roc_auc_score(y_train_5, y_scores))"
   ]
  },
  {
   "cell_type": "code",
   "execution_count": 249,
   "metadata": {},
   "outputs": [],
   "source": [
    "from sklearn.ensemble import RandomForestClassifier\n",
    "\n",
    "#Changing our model - random forest classifier\n",
    "\n",
    "#get the probabilities for True and False classifications\n",
    "#column 1 - prob of negative, column 2 - prob of positive\n",
    "#default cutoff - 0.5\n",
    "forest_clf = RandomForestClassifier(random_state=42)\n",
    "forest_clf.fit(X_train, y_train_5_reshaped)\n",
    "y_probas_forest = cross_val_predict(forest_clf, X_train, y_train_5_reshaped, cv=3, method=\"predict_proba\")\n"
   ]
  },
  {
   "cell_type": "code",
   "execution_count": 263,
   "metadata": {},
   "outputs": [
    {
     "data": {
      "text/plain": [
       "0.96514907332796129"
      ]
     },
     "execution_count": 263,
     "metadata": {},
     "output_type": "execute_result"
    }
   ],
   "source": [
    "from sklearn.metrics import precision_score\n",
    "from sklearn.metrics import recall_score\n",
    "\n",
    "y_predictions = (y_probas_forest[:,1] >= 0.5)\n",
    "precision_score(y_train_actuals, y_predictions)\n",
    "\n"
   ]
  },
  {
   "cell_type": "code",
   "execution_count": 271,
   "metadata": {},
   "outputs": [
    {
     "name": "stdout",
     "output_type": "stream",
     "text": [
      "confidence (probability) for a single positive example:  [[ 0.  1.]]\n",
      "confidence (probability) for a single negative example:  [[ 1.  0.]]\n",
      "Number of positive predictions:  4964\n",
      "Number of negative predictions:  4573\n",
      "avreage positive confidence (probability):  0.5\n",
      "avreage negative confidence (probability):  0.5\n",
      "\n",
      "Plot of precision-recall pairs for increasing threshold values\n",
      "precision score for 0.3 threshold : 0.8485245901639344 \n",
      "recall score for 0.3 threshold : 0.9548053864600627\n"
     ]
    },
    {
     "data": {
      "image/png": "[encoded data removed]",
      "text/plain": [
       "<matplotlib.figure.Figure at 0x11c8a6320>"
      ]
     },
     "metadata": {},
     "output_type": "display_data"
    }
   ],
   "source": [
    "y_positive= y_probas_forest[y_probas_forest[:,1] >= 0.5]\n",
    "y_negative = y_probas_forest[y_probas_forest[:,0] < 0.5]\n",
    "\n",
    "print ('confidence (probability) for a single positive example: ', forest_clf.predict_proba([digit_5.ravel()]))\n",
    "print ('confidence (probability) for a single negative example: ', forest_clf.predict_proba([digit_4.ravel()]))\n",
    "print ('Number of positive predictions: ', len(y_positive))\n",
    "print ('Number of negative predictions: ', len(y_negative))\n",
    "print ('avreage positive confidence (probability): ', np.mean(y_positive))\n",
    "print ('avreage negative confidence (probability): ', np.mean(y_negative))\n",
    "\n",
    "#get the precision and recall pairs for increasing threshold values\n",
    "precisions, recalls, thresholds = precision_recall_curve(y_train_5, y_probas_forest[:,1])\n",
    "\n",
    "print ('\\nPlot of precision-recall pairs for increasing threshold values')\n",
    "plot_precision_recall_vs_threshold(precisions, recalls, thresholds, x_range = [0, 1])\n",
    "\n",
    "#Example: getting recall of ~95% and precision of ~84%\n",
    "threshold = 0.30\n",
    "y_recall_95 = (y_probas_forest[:,1] >= threshold)\n",
    "print ('precision score for {} threshold : {} '.format(threshold, precision_score(y_train_actuals, y_recall_95)))\n",
    "print ('recall score for {} threshold : {}'.format(threshold, recall_score(y_train_actuals, y_recall_95)))\n"
   ]
  },
  {
   "cell_type": "code",
   "execution_count": 259,
   "metadata": {},
   "outputs": [
    {
     "name": "stdout",
     "output_type": "stream",
     "text": [
      "\n",
      "Plot ROC Curve or SGD classifier against random forest\n",
      "Area under the curve for the random forest classifers ROC curve:  0.992635371342\n"
     ]
    },
    {
     "data": {
      "image/png": "[encoded data removed]",
      "text/plain": [
       "<matplotlib.figure.Figure at 0x11f622320>"
      ]
     },
     "metadata": {},
     "output_type": "display_data"
    }
   ],
   "source": [
    "print ('\\nPlot ROC Curve or SGD classifier against random forest')\n",
    "y_scores_forest = y_probas_forest[:, 1] # score = proba of positive class\n",
    "fpr_forest, tpr_forest, thresholds_forest = roc_curve(y_train_5, y_scores_forest)\n",
    "\n",
    "plt.plot(fpr, tpr, \"b:\", label=\"SGD\")\n",
    "plot_roc_curve(fpr_forest, tpr_forest, \"Random Forest\")\n",
    "plt.legend(loc=\"lower right\")\n",
    "\n",
    "print ('Area under the curve for the random forest classifers ROC curve: ', roc_auc_score(y_train_5, y_scores_forest))"
   ]
  }
 ],
 "metadata": {
  "kernelspec": {
   "display_name": "Python 3",
   "language": "python",
   "name": "python3"
  },
  "language_info": {
   "codemirror_mode": {
    "name": "ipython",
    "version": 3
   },
   "file_extension": ".py",
   "mimetype": "text/x-python",
   "name": "python",
   "nbconvert_exporter": "python",
   "pygments_lexer": "ipython3",
   "version": "3.6.2"
  }
 },
 "nbformat": 4,
 "nbformat_minor": 2
}
