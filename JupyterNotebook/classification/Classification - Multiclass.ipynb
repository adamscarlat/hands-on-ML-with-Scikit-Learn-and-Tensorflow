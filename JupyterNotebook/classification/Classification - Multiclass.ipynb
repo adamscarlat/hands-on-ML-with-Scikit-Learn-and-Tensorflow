{
 "cells": [
  {
   "cell_type": "code",
   "execution_count": 1,
   "metadata": {
    "collapsed": true
   },
   "outputs": [],
   "source": [
    "from sklearn.datasets import fetch_mldata\n",
    "import numpy as np\n",
    "import matplotlib\n",
    "import matplotlib.pyplot as plt\n",
    "import pandas as pd\n",
    "\n",
    "%matplotlib inline\n",
    "%config IPCompleter.greedy=True"
   ]
  },
  {
   "cell_type": "code",
   "execution_count": 2,
   "metadata": {
    "collapsed": true
   },
   "outputs": [],
   "source": [
    "#fetch the data\n",
    "mnist = fetch_mldata('MNIST original')"
   ]
  },
  {
   "cell_type": "code",
   "execution_count": 14,
   "metadata": {},
   "outputs": [
    {
     "name": "stdout",
     "output_type": "stream",
     "text": [
      "shape of data and targets\n",
      "\n",
      "data shape:  (70000, 784)\n",
      "target shape:  (70000, 1)\n",
      "hi\n"
     ]
    }
   ],
   "source": [
    "#get data and targets\n",
    "target = mnist.target.reshape(mnist.target.shape[0], 1)\n",
    "data = mnist.data\n",
    "\n",
    "print ('shape of data and targets')\n",
    "print ('\\ndata shape: ', data.shape)\n",
    "print ('target shape: ', target.shape)"
   ]
  },
  {
   "cell_type": "code",
   "execution_count": 8,
   "metadata": {},
   "outputs": [
    {
     "name": "stdout",
     "output_type": "stream",
     "text": [
      "splitting data to train and test sets\n"
     ]
    }
   ],
   "source": [
    "#train/test split (MNIST data set is already ready for split)\n",
    "print ('splitting data to train and test sets')\n",
    "X_train, X_test, y_train, y_test = data[:60000], data[60000:], target[:60000], target[60000:]\n",
    "\n",
    "#shuffle training set so that same numbers don't appear in a row\n",
    "shuffle_index = np.random.permutation(60000)\n",
    "X_train, y_train = X_train[shuffle_index], y_train[shuffle_index]"
   ]
  },
  {
   "cell_type": "code",
   "execution_count": 48,
   "metadata": {},
   "outputs": [
    {
     "name": "stdout",
     "output_type": "stream",
     "text": [
      "training SGD classifier...\n"
     ]
    }
   ],
   "source": [
    "from sklearn.linear_model import SGDClassifier\n",
    "\n",
    "sgd_clf = SGDClassifier()\n",
    "sgd_clf.fit(X_train, y_train.ravel())\n",
    "\n",
    "#under the hood, scikit is training 10 binary classifiers (one for each class - OvA).\n",
    "#when predicting, it will take the most confident classifier\n",
    "print ('training SGD classifier...')"
   ]
  },
  {
   "cell_type": "code",
   "execution_count": 49,
   "metadata": {},
   "outputs": [
    {
     "name": "stdout",
     "output_type": "stream",
     "text": [
      "prediction: [ 3.], actual: [ 3.]\n"
     ]
    }
   ],
   "source": [
    "some_digit = X_train[30000]\n",
    "prediction = sgd_clf.predict(some_digit.reshape(1, -1))\n",
    "actual = y_train[30000]\n",
    "print ('prediction: {}, actual: {}'.format(prediction, actual))"
   ]
  },
  {
   "cell_type": "code",
   "execution_count": 59,
   "metadata": {},
   "outputs": [
    {
     "name": "stdout",
     "output_type": "stream",
     "text": [
      "results of the 10 classifiers: \n",
      " [[-325805.64533859 -422183.15677885 -447663.16897136  341499.44495264\n",
      "  -615792.21580277 -119514.97128174 -931869.84796071 -752996.90255021\n",
      "  -889651.6228156  -657583.64207434]]\n"
     ]
    },
    {
     "data": {
      "image/png": "[encoded data removed]",
      "text/plain": [
       "<matplotlib.figure.Figure at 0x1126f6a90>"
      ]
     },
     "metadata": {},
     "output_type": "display_data"
    }
   ],
   "source": [
    "#see the results of the 10 classifiers\n",
    "some_digit_scores = sgd_clf.decision_function([some_digit])\n",
    "print ('results of the 10 classifiers: \\n', some_digit_scores)\n",
    "\n",
    "def plot_classifiers_confidence(scores):  \n",
    "    plt.xlabel('Classifier #')\n",
    "    plt.ylabel('Confidence')\n",
    "    plt.title('Classifiers Confidence')\n",
    "    x_axis = range(0, scores.shape[1])\n",
    "    plt.xticks(x_axis)\n",
    "    plt.bar(x_axis, scores.ravel())\n",
    "\n",
    "plot_classifiers_confidence(some_digit_scores)"
   ]
  },
  {
   "cell_type": "code",
   "execution_count": 53,
   "metadata": {},
   "outputs": [
    {
     "name": "stdout",
     "output_type": "stream",
     "text": [
      "Training Random Forest classifier...\n"
     ]
    },
    {
     "data": {
      "text/plain": [
       "RandomForestClassifier(bootstrap=True, class_weight=None, criterion='gini',\n",
       "            max_depth=None, max_features='auto', max_leaf_nodes=None,\n",
       "            min_impurity_split=1e-07, min_samples_leaf=1,\n",
       "            min_samples_split=2, min_weight_fraction_leaf=0.0,\n",
       "            n_estimators=10, n_jobs=1, oob_score=False, random_state=42,\n",
       "            verbose=0, warm_start=False)"
      ]
     },
     "execution_count": 53,
     "metadata": {},
     "output_type": "execute_result"
    }
   ],
   "source": [
    "from sklearn.ensemble import RandomForestClassifier\n",
    "\n",
    "#train a random forest classifier\n",
    "print ('Training Random Forest classifier...')\n",
    "random_forest_clf = RandomForestClassifier(random_state=42)\n",
    "random_forest_clf.fit(X_train, y_train.ravel())"
   ]
  },
  {
   "cell_type": "code",
   "execution_count": 61,
   "metadata": {},
   "outputs": [
    {
     "data": {
      "image/png": "[encoded data removed]",
      "text/plain": [
       "<matplotlib.figure.Figure at 0x10466cf28>"
      ]
     },
     "metadata": {},
     "output_type": "display_data"
    }
   ],
   "source": [
    "#see random forest classifiers confidence levels\n",
    "clf_probs = random_forest_clf.predict_proba([some_digit])\n",
    "plot_classifiers_confidence(clf_probs)"
   ]
  },
  {
   "cell_type": "code",
   "execution_count": 65,
   "metadata": {},
   "outputs": [
    {
     "name": "stdout",
     "output_type": "stream",
     "text": [
      "Computing accuracy for SGD classifier...\n"
     ]
    },
    {
     "data": {
      "text/plain": [
       "array([ 0.86407718,  0.87834392,  0.87428114])"
      ]
     },
     "execution_count": 65,
     "metadata": {},
     "output_type": "execute_result"
    }
   ],
   "source": [
    "from sklearn.model_selection import cross_val_score\n",
    "\n",
    "print('Computing accuracy for SGD classifier...')\n",
    "cross_val_score(sgd_clf, X_train, y_train.ravel(), cv=3, scoring=\"accuracy\")"
   ]
  },
  {
   "cell_type": "code",
   "execution_count": 70,
   "metadata": {},
   "outputs": [
    {
     "name": "stdout",
     "output_type": "stream",
     "text": [
      "adding a standard scaler and testing accuracy...\n"
     ]
    },
    {
     "data": {
      "text/plain": [
       "array([ 0.90756849,  0.91139557,  0.90908636])"
      ]
     },
     "execution_count": 70,
     "metadata": {},
     "output_type": "execute_result"
    }
   ],
   "source": [
    "from sklearn.preprocessing import StandardScaler\n",
    "\n",
    "print ('Adding a standard scaler and testing accuracy...')\n",
    "\n",
    "#standard scarler will transform each value to a Z-score. Will help \n",
    "#the model to converge faster - better accuracy in same amount of time \n",
    "scaler = StandardScaler()\n",
    "X_train_scaled = scaler.fit_transform(X_train.astype(np.float64))\n",
    "cross_val_score(sgd_clf, X_train_scaled, y_train.ravel(), cv=3, scoring=\"accuracy\")"
   ]
  }
 ],
 "metadata": {
  "kernelspec": {
   "display_name": "Python 3",
   "language": "python",
   "name": "python3"
  },
  "language_info": {
   "codemirror_mode": {
    "name": "ipython",
    "version": 3
   },
   "file_extension": ".py",
   "mimetype": "text/x-python",
   "name": "python",
   "nbconvert_exporter": "python",
   "pygments_lexer": "ipython3",
   "version": "3.6.2"
  }
 },
 "nbformat": 4,
 "nbformat_minor": 2
}
