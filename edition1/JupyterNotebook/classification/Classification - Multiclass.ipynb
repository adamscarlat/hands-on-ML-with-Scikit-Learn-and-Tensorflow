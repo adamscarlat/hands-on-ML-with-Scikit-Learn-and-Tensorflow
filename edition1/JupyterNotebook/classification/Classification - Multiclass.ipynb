{
 "cells": [
  {
   "cell_type": "code",
   "execution_count": 1,
   "metadata": {
    "collapsed": true
   },
   "outputs": [],
   "source": [
    "from sklearn.datasets import fetch_mldata\n",
    "import numpy as np\n",
    "import matplotlib\n",
    "import matplotlib.pyplot as plt\n",
    "import pandas as pd\n",
    "\n",
    "%matplotlib inline\n",
    "%config IPCompleter.greedy=True"
   ]
  },
  {
   "cell_type": "code",
   "execution_count": 2,
   "metadata": {
    "collapsed": true
   },
   "outputs": [],
   "source": [
    "#fetch the data\n",
    "mnist = fetch_mldata('MNIST original')"
   ]
  },
  {
   "cell_type": "code",
   "execution_count": 3,
   "metadata": {},
   "outputs": [
    {
     "name": "stdout",
     "output_type": "stream",
     "text": [
      "shape of data and targets\n",
      "\n",
      "data shape:  (70000, 784)\n",
      "target shape:  (70000, 1)\n"
     ]
    }
   ],
   "source": [
    "#get data and targets\n",
    "target = mnist.target.reshape(mnist.target.shape[0], 1)\n",
    "data = mnist.data\n",
    "\n",
    "print ('shape of data and targets')\n",
    "print ('\\ndata shape: ', data.shape)\n",
    "print ('target shape: ', target.shape)"
   ]
  },
  {
   "cell_type": "code",
   "execution_count": 4,
   "metadata": {},
   "outputs": [
    {
     "name": "stdout",
     "output_type": "stream",
     "text": [
      "splitting data to train and test sets\n"
     ]
    }
   ],
   "source": [
    "#train/test split (MNIST data set is already ready for split)\n",
    "print ('splitting data to train and test sets')\n",
    "X_train, X_test, y_train, y_test = data[:60000], data[60000:], target[:60000], target[60000:]\n",
    "\n",
    "#shuffle training set so that same numbers don't appear in a row\n",
    "shuffle_index = np.random.permutation(60000)\n",
    "X_train, y_train = X_train[shuffle_index], y_train[shuffle_index]"
   ]
  },
  {
   "cell_type": "code",
   "execution_count": 5,
   "metadata": {},
   "outputs": [
    {
     "name": "stdout",
     "output_type": "stream",
     "text": [
      "training SGD classifier...\n"
     ]
    }
   ],
   "source": [
    "from sklearn.linear_model import SGDClassifier\n",
    "\n",
    "sgd_clf = SGDClassifier()\n",
    "sgd_clf.fit(X_train, y_train.ravel())\n",
    "\n",
    "#under the hood, scikit is training 10 binary classifiers (one for each class - OvA).\n",
    "#when predicting, it will take the most confident classifier\n",
    "print ('training SGD classifier...')"
   ]
  },
  {
   "cell_type": "code",
   "execution_count": 6,
   "metadata": {},
   "outputs": [
    {
     "name": "stdout",
     "output_type": "stream",
     "text": [
      "prediction: [ 0.], actual: [ 0.]\n"
     ]
    }
   ],
   "source": [
    "some_digit = X_train[30000]\n",
    "prediction = sgd_clf.predict(some_digit.reshape(1, -1))\n",
    "actual = y_train[30000]\n",
    "print ('prediction: {}, actual: {}'.format(prediction, actual))"
   ]
  },
  {
   "cell_type": "code",
   "execution_count": 7,
   "metadata": {},
   "outputs": [
    {
     "name": "stdout",
     "output_type": "stream",
     "text": [
      "results of the 10 classifiers: \n",
      " [[  647039.25546086 -1161869.24473844  -646038.59716516  -492081.29397181\n",
      "  -1207374.66983261  -898015.83082565 -1096562.94827807  -706286.17642321\n",
      "   -657366.08425288 -1126127.79150765]]\n"
     ]
    },
    {
     "data": {
      "image/png": "[encoded data removed]",
      "text/plain": [
       "<matplotlib.figure.Figure at 0x10b3c9da0>"
      ]
     },
     "metadata": {},
     "output_type": "display_data"
    }
   ],
   "source": [
    "#see the results of the 10 classifiers\n",
    "some_digit_scores = sgd_clf.decision_function([some_digit])\n",
    "print ('results of the 10 classifiers: \\n', some_digit_scores)\n",
    "\n",
    "def plot_classifiers_confidence(scores):  \n",
    "    plt.xlabel('Classifier #')\n",
    "    plt.ylabel('Confidence')\n",
    "    plt.title('Classifiers Confidence')\n",
    "    x_axis = range(0, scores.shape[1])\n",
    "    plt.xticks(x_axis)\n",
    "    plt.bar(x_axis, scores.ravel())\n",
    "\n",
    "plot_classifiers_confidence(some_digit_scores)"
   ]
  },
  {
   "cell_type": "code",
   "execution_count": 8,
   "metadata": {},
   "outputs": [
    {
     "name": "stdout",
     "output_type": "stream",
     "text": [
      "Training Random Forest classifier...\n"
     ]
    },
    {
     "data": {
      "text/plain": [
       "RandomForestClassifier(bootstrap=True, class_weight=None, criterion='gini',\n",
       "            max_depth=None, max_features='auto', max_leaf_nodes=None,\n",
       "            min_impurity_split=1e-07, min_samples_leaf=1,\n",
       "            min_samples_split=2, min_weight_fraction_leaf=0.0,\n",
       "            n_estimators=10, n_jobs=1, oob_score=False, random_state=42,\n",
       "            verbose=0, warm_start=False)"
      ]
     },
     "execution_count": 8,
     "metadata": {},
     "output_type": "execute_result"
    }
   ],
   "source": [
    "from sklearn.ensemble import RandomForestClassifier\n",
    "\n",
    "#train a random forest classifier\n",
    "print ('Training Random Forest classifier...')\n",
    "random_forest_clf = RandomForestClassifier(random_state=42)\n",
    "random_forest_clf.fit(X_train, y_train.ravel())"
   ]
  },
  {
   "cell_type": "code",
   "execution_count": 9,
   "metadata": {},
   "outputs": [
    {
     "data": {
      "image/png": "[encoded data removed]",
      "text/plain": [
       "<matplotlib.figure.Figure at 0x109b75240>"
      ]
     },
     "metadata": {},
     "output_type": "display_data"
    }
   ],
   "source": [
    "#see random forest classifiers confidence levels\n",
    "clf_probs = random_forest_clf.predict_proba([some_digit])\n",
    "plot_classifiers_confidence(clf_probs)"
   ]
  },
  {
   "cell_type": "code",
   "execution_count": 10,
   "metadata": {},
   "outputs": [
    {
     "name": "stdout",
     "output_type": "stream",
     "text": [
      "Computing accuracy for SGD classifier...\n"
     ]
    },
    {
     "data": {
      "text/plain": [
       "array([ 0.8464807 ,  0.85289264,  0.83477522])"
      ]
     },
     "execution_count": 10,
     "metadata": {},
     "output_type": "execute_result"
    }
   ],
   "source": [
    "from sklearn.model_selection import cross_val_score\n",
    "\n",
    "print('Computing accuracy for SGD classifier...')\n",
    "cross_val_score(sgd_clf, X_train, y_train.ravel(), cv=3, scoring=\"accuracy\")"
   ]
  },
  {
   "cell_type": "code",
   "execution_count": 11,
   "metadata": {},
   "outputs": [
    {
     "name": "stdout",
     "output_type": "stream",
     "text": [
      "Adding a standard scaler and testing accuracy...\n"
     ]
    },
    {
     "data": {
      "text/plain": [
       "array([ 0.91011798,  0.90984549,  0.90873631])"
      ]
     },
     "execution_count": 11,
     "metadata": {},
     "output_type": "execute_result"
    }
   ],
   "source": [
    "from sklearn.preprocessing import StandardScaler\n",
    "\n",
    "print ('Adding a standard scaler and testing accuracy...')\n",
    "\n",
    "#standard scarler will transform each value to a Z-score. Will help \n",
    "#the model to converge faster - better accuracy in same amount of time \n",
    "scaler = StandardScaler()\n",
    "X_train_scaled = scaler.fit_transform(X_train.astype(np.float64))\n",
    "cross_val_score(sgd_clf, X_train_scaled, y_train.ravel(), cv=3, scoring=\"accuracy\")"
   ]
  },
  {
   "cell_type": "code",
   "execution_count": 14,
   "metadata": {},
   "outputs": [
    {
     "data": {
      "text/plain": [
       "<matplotlib.image.AxesImage at 0x1177e3ef0>"
      ]
     },
     "execution_count": 14,
     "metadata": {},
     "output_type": "execute_result"
    },
    {
     "data": {
      "image/png": "[encoded data removed]",
      "text/plain": [
       "<matplotlib.figure.Figure at 0x11776e3c8>"
      ]
     },
     "metadata": {},
     "output_type": "display_data"
    }
   ],
   "source": [
    "digit = data[30001].reshape(28, 28)\n",
    "plt.imshow(digit, cmap = matplotlib.cm.binary, interpolation=\"nearest\")"
   ]
  },
  {
   "cell_type": "code",
   "execution_count": 15,
   "metadata": {},
   "outputs": [
    {
     "name": "stdout",
     "output_type": "stream",
     "text": [
      "prediction: [ 4.]\n"
     ]
    }
   ],
   "source": [
    "prediction = sgd_clf.predict(digit.reshape(1, -1))\n",
    "print ('prediction: {}'.format(prediction))"
   ]
  },
  {
   "cell_type": "code",
   "execution_count": 16,
   "metadata": {
    "collapsed": true
   },
   "outputs": [],
   "source": [
    "from sklearn.model_selection import cross_val_predict\n",
    "\n",
    "#cross-validation\n",
    "y_train_pred = cross_val_predict(sgd_clf, X_train_scaled, y_train.ravel(), cv=3)"
   ]
  },
  {
   "cell_type": "code",
   "execution_count": 17,
   "metadata": {},
   "outputs": [
    {
     "name": "stdout",
     "output_type": "stream",
     "text": [
      "[[5733    4   30   10   12   39   41   11   38    5]\n",
      " [   2 6487   48   26    5   35    7   10  110   12]\n",
      " [  54   34 5361   96   82   21   79   51  166   14]\n",
      " [  45   39  133 5359    2  231   33   54  143   92]\n",
      " [  20   31   38   13 5342    7   54   32   81  224]\n",
      " [  70   43   32  189   67 4590  114   29  196   91]\n",
      " [  32   25   59    2   48   79 5618    8   47    0]\n",
      " [  19   22   72   31   47   12    6 5816   16  224]\n",
      " [  48  155   78  168   15  147   57   22 5029  132]\n",
      " [  47   32   25   89  171   38    2  225   81 5239]]\n"
     ]
    },
    {
     "data": {
      "image/png": "[encoded data removed]",
      "text/plain": [
       "<matplotlib.figure.Figure at 0x1177ed9b0>"
      ]
     },
     "metadata": {},
     "output_type": "display_data"
    }
   ],
   "source": [
    "from sklearn.metrics import confusion_matrix\n",
    "\n",
    "#confusion matrix - Mij: number of class i that was predicted as class j\n",
    "#rows - actual, columns - predicted\n",
    "conf_mx = confusion_matrix(y_train, y_train_pred)\n",
    "print (conf_mx)\n",
    "plt.matshow(conf_mx, cmap=plt.cm.gray)\n",
    "plt.show()"
   ]
  },
  {
   "cell_type": "code",
   "execution_count": 19,
   "metadata": {},
   "outputs": [
    {
     "data": {
      "image/png": "[encoded data removed]",
      "text/plain": [
       "<matplotlib.figure.Figure at 0x1179c7240>"
      ]
     },
     "metadata": {},
     "output_type": "display_data"
    }
   ],
   "source": [
    "#error analysis\n",
    "\n",
    "#normalizing conf matrix values\n",
    "row_sums = conf_mx.sum(axis=1, keepdims=True)\n",
    "norm_conf_mx = conf_mx / row_sums\n",
    "\n",
    "#fill diagonal with zeros to keep only the errors\n",
    "#here, bright = error\n",
    "#for example, notice columns 8,9 are bright. many digits are \n",
    "#missclassified as 8,9\n",
    "np.fill_diagonal(norm_conf_mx, 0)\n",
    "plt.matshow(norm_conf_mx, cmap=plt.cm.gray)\n",
    "plt.show()\n"
   ]
  },
  {
   "cell_type": "markdown",
   "metadata": {},
   "source": [
    "<h2>Exercise Questions</h2>\n",
    "1. Reach 97% accuracy on the test set"
   ]
  },
  {
   "cell_type": "code",
   "execution_count": 20,
   "metadata": {},
   "outputs": [
    {
     "name": "stdout",
     "output_type": "stream",
     "text": [
      "SGD Accuracy on test set:  0.8837\n",
      "Random Forest Accuracy on test set:  0.9481\n"
     ]
    }
   ],
   "source": [
    "print ('SGD Accuracy on test set: ', sgd_clf.score(X_test, y_test))\n",
    "print ('Random Forest Accuracy on test set: ',random_forest_clf.score(X_test, y_test))"
   ]
  },
  {
   "cell_type": "code",
   "execution_count": null,
   "metadata": {},
   "outputs": [
    {
     "name": "stdout",
     "output_type": "stream",
     "text": [
      "\n",
      "Grid search fitting for random forest regressor. May take some time...\n",
      "Fitting 3 folds for each of 10 candidates, totalling 30 fits\n",
      "[CV] max_features=500, n_estimators=10 ...............................\n",
      "[CV]  max_features=500, n_estimators=10, score=0.943761, total=  45.1s\n",
      "[CV] max_features=500, n_estimators=10 ...............................\n"
     ]
    },
    {
     "name": "stderr",
     "output_type": "stream",
     "text": [
      "[Parallel(n_jobs=1)]: Done   1 out of   1 | elapsed:   45.3s remaining:    0.0s\n"
     ]
    },
    {
     "name": "stdout",
     "output_type": "stream",
     "text": [
      "[CV]  max_features=500, n_estimators=10, score=0.942747, total=  46.4s\n",
      "[CV] max_features=500, n_estimators=10 ...............................\n"
     ]
    },
    {
     "name": "stderr",
     "output_type": "stream",
     "text": [
      "[Parallel(n_jobs=1)]: Done   2 out of   2 | elapsed:  1.5min remaining:    0.0s\n"
     ]
    },
    {
     "name": "stdout",
     "output_type": "stream",
     "text": [
      "[CV]  max_features=500, n_estimators=10, score=0.943642, total=  43.6s\n",
      "[CV] max_features=500, n_estimators=30 ...............................\n"
     ]
    },
    {
     "name": "stderr",
     "output_type": "stream",
     "text": [
      "[Parallel(n_jobs=1)]: Done   3 out of   3 | elapsed:  2.3min remaining:    0.0s\n"
     ]
    },
    {
     "name": "stdout",
     "output_type": "stream",
     "text": [
      "[CV]  max_features=500, n_estimators=30, score=0.956809, total= 2.2min\n",
      "[CV] max_features=500, n_estimators=30 ...............................\n"
     ]
    },
    {
     "name": "stderr",
     "output_type": "stream",
     "text": [
      "[Parallel(n_jobs=1)]: Done   4 out of   4 | elapsed:  4.5min remaining:    0.0s\n"
     ]
    },
    {
     "name": "stdout",
     "output_type": "stream",
     "text": [
      "[CV]  max_features=500, n_estimators=30, score=0.954298, total= 2.2min\n",
      "[CV] max_features=500, n_estimators=30 ...............................\n"
     ]
    },
    {
     "name": "stderr",
     "output_type": "stream",
     "text": [
      "[Parallel(n_jobs=1)]: Done   5 out of   5 | elapsed:  6.7min remaining:    0.0s\n"
     ]
    },
    {
     "name": "stdout",
     "output_type": "stream",
     "text": [
      "[CV]  max_features=500, n_estimators=30, score=0.954293, total= 2.2min\n",
      "[CV] max_features=600, n_estimators=10 ...............................\n"
     ]
    },
    {
     "name": "stderr",
     "output_type": "stream",
     "text": [
      "[Parallel(n_jobs=1)]: Done   6 out of   6 | elapsed:  8.9min remaining:    0.0s\n"
     ]
    }
   ],
   "source": [
    "from sklearn.model_selection import GridSearchCV\n",
    "\n",
    "#using grid search on the random forest classifier\n",
    "param_grid = [\n",
    "        {'n_estimators': [10, 30], 'max_features': [500, 600, 700]},\n",
    "        {'bootstrap': [False], 'n_estimators': [8, 10], 'max_features': [400, 600]},\n",
    "]\n",
    "\n",
    "#train model with grid search and cv. good for small set of hyper parameters\n",
    "print ('\\nGrid search fitting for random forest regressor. May take some time...')\n",
    "forest_clf = RandomForestClassifier()\n",
    "grid_search = GridSearchCV(forest_clf, param_grid, cv=3, verbose=10)\n",
    "grid_search.fit(X_train, y_train.ravel())\n",
    "\n",
    "print ('\\nRandom forest regressor grid search best params: ')\n",
    "print (grid_search.best_params_)"
   ]
  }
 ],
 "metadata": {
  "kernelspec": {
   "display_name": "Python 3",
   "language": "python",
   "name": "python3"
  },
  "language_info": {
   "codemirror_mode": {
    "name": "ipython",
    "version": 3
   },
   "file_extension": ".py",
   "mimetype": "text/x-python",
   "name": "python",
   "nbconvert_exporter": "python",
   "pygments_lexer": "ipython3",
   "version": "3.6.2"
  }
 },
 "nbformat": 4,
 "nbformat_minor": 2
}
