{
 "cells": [
  {
   "cell_type": "code",
   "execution_count": 1,
   "metadata": {},
   "outputs": [],
   "source": [
    "import tensorflow as tf\n",
    "\n",
    "from functools import partial\n"
   ]
  },
  {
   "cell_type": "markdown",
   "metadata": {},
   "source": [
    "# ResNet-34 CNN\n",
    "\n",
    "Implementing the ResNet-34 CNN using Keras.\n",
    "\n",
    "**This is done only for teaching purposes to understand CNN better. If you need to build a CNN on top of ResNet, load it\n",
    "from keras and use transfer learning instead**"
   ]
  },
  {
   "cell_type": "code",
   "execution_count": 2,
   "metadata": {},
   "outputs": [],
   "source": [
    "DefaultConv2D = partial(tf.keras.layers.Conv2D, kernel_size=3, strides=1, padding=\"same\", \n",
    "                        kernel_initializer=\"he_normal\", use_bias=False)\n",
    "\n",
    "class ResidualUnit(tf.keras.layers.Layer):\n",
    "  def __init__(self, filters, strides=1, activation=\"relu\", **kwargs):\n",
    "    super().__init__(**kwargs)\n",
    "    self.activation = tf.keras.activations.get(activation)\n",
    "    self.main_layers = [\n",
    "      DefaultConv2D(filters, strides=strides),\n",
    "      tf.keras.layers.BatchNormalization(),\n",
    "      self.activation,\n",
    "      DefaultConv2D(filters),\n",
    "      tf.keras.layers.BatchNormalization()\n",
    "    ]\n",
    "\n",
    "    self.skip_layers = []\n",
    "\n",
    "    # When the stride is greater than 1, we need to account for a reduction in spatial dimension of the output\n",
    "    # so that it matches the input. For example, if we set strides=2, the output dimensions will be cut in half.\n",
    "    # When we'll need to add them to the input, there will be a mismatch. To fix it, we need to reduce the dimensions\n",
    "    # of the inputs as well. We use a single conv layer with the same stride and a kernel size of 1.\n",
    "    if strides > 1:\n",
    "      self.skip_layers = [\n",
    "        # Adjusts the number of channels while maintaining the same spatial dimensions\n",
    "        DefaultConv2D(filters, kernel_size=1, strides=strides),\n",
    "        tf.keras.layers.BatchNormalization()\n",
    "      ]\n",
    "\n",
    "  def call(self, inputs):\n",
    "    # Forward prop thru the block's main layers\n",
    "    Z = inputs\n",
    "    for layer in self.main_layers:\n",
    "      Z = layer(Z)\n",
    "    \n",
    "    # Forward prop thru the block's skip layers (it'll have layers only if the stride is > 1).\n",
    "    # This will ensure compatibility of the inputs and outputs spatial dimensions.\n",
    "    skip_Z = inputs\n",
    "    for layer in self.skip_layers:\n",
    "      skip_Z = layer(skip_Z)\n",
    "    \n",
    "    # Activate the output with inputsxw\n",
    "    return self.activation(Z + skip_Z)"
   ]
  },
  {
   "cell_type": "code",
   "execution_count": 5,
   "metadata": {},
   "outputs": [],
   "source": [
    "model = tf.keras.Sequential([\n",
    "  DefaultConv2D(64, kernel_size=7, strides=2, input_shape=[224, 224, 3]),\n",
    "  tf.keras.layers.BatchNormalization(),\n",
    "  tf.keras.layers.Activation(\"relu\"),\n",
    "  tf.keras.layers.MaxPool2D(pool_size=3, strides=2, padding=\"same\")\n",
    "])\n",
    "\n",
    "prev_filters = 64\n",
    "# [64, 64, 64, 128, 128, 128, 128, 256, 256, 256, 256, 256, 256, 512, 512, 512]\n",
    "filters_list = [64] * 3 + [128] * 4 + [256] * 6 + [512] * 3\n",
    "for filters in filters_list:\n",
    "  # When moving to a new filters size, we use strides=2, else strides=1\n",
    "  strides = 1 if filters == prev_filters else 2\n",
    "  model.add(ResidualUnit(filters, strides=strides))\n",
    "  prev_filters = filters\n",
    "\n",
    "model.add(tf.keras.layers.GlobalAvgPool2D())\n",
    "model.add(tf.keras.layers.Flatten())\n",
    "model.add(tf.keras.layers.Dense(10, activation=\"relu\"))\n"
   ]
  },
  {
   "cell_type": "code",
   "execution_count": null,
   "metadata": {},
   "outputs": [],
   "source": []
  }
 ],
 "metadata": {
  "kernelspec": {
   "display_name": "Python 3",
   "language": "python",
   "name": "python3"
  },
  "language_info": {
   "codemirror_mode": {
    "name": "ipython",
    "version": 3
   },
   "file_extension": ".py",
   "mimetype": "text/x-python",
   "name": "python",
   "nbconvert_exporter": "python",
   "pygments_lexer": "ipython3",
   "version": "3.11.4"
  }
 },
 "nbformat": 4,
 "nbformat_minor": 2
}
