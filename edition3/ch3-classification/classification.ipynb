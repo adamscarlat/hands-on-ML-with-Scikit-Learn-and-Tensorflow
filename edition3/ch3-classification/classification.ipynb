{
 "cells": [
  {
   "cell_type": "code",
   "execution_count": 109,
   "metadata": {},
   "outputs": [],
   "source": [
    "import numpy as np\n",
    "import pandas as pd\n",
    "import matplotlib.pyplot as plt\n",
    "\n",
    "from sklearn.datasets import fetch_openml\n",
    "from sklearn.linear_model import SGDClassifier\n",
    "from sklearn.model_selection import cross_val_score, cross_val_predict\n",
    "from sklearn.dummy import DummyClassifier\n",
    "from sklearn.metrics import confusion_matrix, precision_score, recall_score, f1_score, precision_recall_curve"
   ]
  },
  {
   "cell_type": "code",
   "execution_count": 3,
   "metadata": {},
   "outputs": [
    {
     "name": "stderr",
     "output_type": "stream",
     "text": [
      "/Users/adamscarlat/miniconda3/envs/tensorflow/lib/python3.11/site-packages/sklearn/datasets/_openml.py:1002: FutureWarning: The default value of `parser` will change from `'liac-arff'` to `'auto'` in 1.4. You can set `parser='auto'` to silence this warning. Therefore, an `ImportError` will be raised from 1.4 if the dataset is dense and pandas is not installed. Note that the pandas parser may return different data types. See the Notes Section in fetch_openml's API doc for details.\n",
      "  warn(\n"
     ]
    }
   ],
   "source": [
    "# Get the data. No need for a data frame since it's image data\n",
    "mnist = fetch_openml(\"mnist_784\", as_frame=False)"
   ]
  },
  {
   "cell_type": "code",
   "execution_count": 10,
   "metadata": {},
   "outputs": [
    {
     "name": "stdout",
     "output_type": "stream",
     "text": [
      "(70000, 784)\n",
      "(70000,)\n"
     ]
    },
    {
     "data": {
      "image/png": "[encoded data removed]",
      "text/plain": [
       "<Figure size 640x480 with 1 Axes>"
      ]
     },
     "metadata": {},
     "output_type": "display_data"
    },
    {
     "name": "stdout",
     "output_type": "stream",
     "text": [
      "5\n"
     ]
    }
   ],
   "source": [
    "# Get data and labels\n",
    "X, y = mnist.data, mnist.target\n",
    "\n",
    "# Each instance is an flattened 28x28 = 784 pixel image \n",
    "# Each label is a number 0-9\n",
    "print (X.shape)\n",
    "print (y.shape)\n",
    "\n",
    "# Seeing one image as an example\n",
    "def plot_digit(image_data):\n",
    "  image = image_data.reshape(28,28)\n",
    "  plt.imshow(image, cmap=\"binary\")\n",
    "  plt.axis(\"off\")\n",
    "\n",
    "some_digit = X[0]\n",
    "plot_digit(some_digit)\n",
    "plt.show()\n",
    "print (y[0])\n",
    "\n"
   ]
  },
  {
   "cell_type": "code",
   "execution_count": 11,
   "metadata": {},
   "outputs": [],
   "source": [
    "# The MNIST dataset is already shuffled and split into train and test datasets. The first 60K images are for \n",
    "# training.\n",
    "\n",
    "# With classification models, it's important that our training set contains an example of each digit. If we were to shuffle\n",
    "# and split the data ourselves, we would have had to use stratified split with the labels as the stratification parameter.\n",
    "\n",
    "# In addition to have an example of every image in our training set, the order they appear can affect the training as well.\n",
    "# Shuffling them to a random order is important.\n",
    "\n",
    "X_train, X_test, y_train, y_test = X[:60000], X[60000:], y[:60000], y[60000:]"
   ]
  },
  {
   "cell_type": "markdown",
   "metadata": {},
   "source": [
    "### Training a Binary Classifier"
   ]
  },
  {
   "cell_type": "code",
   "execution_count": 24,
   "metadata": {},
   "outputs": [],
   "source": [
    "# To start, let's build a simple classifier that can identify 5 or no 5\n",
    "\n",
    "# This will change the labels to True when the label is 5, False otherwise\n",
    "y_train_5 = (y_train == '5')\n",
    "y_test_5 = (y_test == '5')"
   ]
  },
  {
   "cell_type": "code",
   "execution_count": 25,
   "metadata": {},
   "outputs": [
    {
     "data": {
      "text/html": [
       "<style>#sk-container-id-1 {color: black;}#sk-container-id-1 pre{padding: 0;}#sk-container-id-1 div.sk-toggleable {background-color: white;}#sk-container-id-1 label.sk-toggleable__label {cursor: pointer;display: block;width: 100%;margin-bottom: 0;padding: 0.3em;box-sizing: border-box;text-align: center;}#sk-container-id-1 label.sk-toggleable__label-arrow:before {content: \"▸\";float: left;margin-right: 0.25em;color: #696969;}#sk-container-id-1 label.sk-toggleable__label-arrow:hover:before {color: black;}#sk-container-id-1 div.sk-estimator:hover label.sk-toggleable__label-arrow:before {color: black;}#sk-container-id-1 div.sk-toggleable__content {max-height: 0;max-width: 0;overflow: hidden;text-align: left;background-color: #f0f8ff;}#sk-container-id-1 div.sk-toggleable__content pre {margin: 0.2em;color: black;border-radius: 0.25em;background-color: #f0f8ff;}#sk-container-id-1 input.sk-toggleable__control:checked~div.sk-toggleable__content {max-height: 200px;max-width: 100%;overflow: auto;}#sk-container-id-1 input.sk-toggleable__control:checked~label.sk-toggleable__label-arrow:before {content: \"▾\";}#sk-container-id-1 div.sk-estimator input.sk-toggleable__control:checked~label.sk-toggleable__label {background-color: #d4ebff;}#sk-container-id-1 div.sk-label input.sk-toggleable__control:checked~label.sk-toggleable__label {background-color: #d4ebff;}#sk-container-id-1 input.sk-hidden--visually {border: 0;clip: rect(1px 1px 1px 1px);clip: rect(1px, 1px, 1px, 1px);height: 1px;margin: -1px;overflow: hidden;padding: 0;position: absolute;width: 1px;}#sk-container-id-1 div.sk-estimator {font-family: monospace;background-color: #f0f8ff;border: 1px dotted black;border-radius: 0.25em;box-sizing: border-box;margin-bottom: 0.5em;}#sk-container-id-1 div.sk-estimator:hover {background-color: #d4ebff;}#sk-container-id-1 div.sk-parallel-item::after {content: \"\";width: 100%;border-bottom: 1px solid gray;flex-grow: 1;}#sk-container-id-1 div.sk-label:hover label.sk-toggleable__label {background-color: #d4ebff;}#sk-container-id-1 div.sk-serial::before {content: \"\";position: absolute;border-left: 1px solid gray;box-sizing: border-box;top: 0;bottom: 0;left: 50%;z-index: 0;}#sk-container-id-1 div.sk-serial {display: flex;flex-direction: column;align-items: center;background-color: white;padding-right: 0.2em;padding-left: 0.2em;position: relative;}#sk-container-id-1 div.sk-item {position: relative;z-index: 1;}#sk-container-id-1 div.sk-parallel {display: flex;align-items: stretch;justify-content: center;background-color: white;position: relative;}#sk-container-id-1 div.sk-item::before, #sk-container-id-1 div.sk-parallel-item::before {content: \"\";position: absolute;border-left: 1px solid gray;box-sizing: border-box;top: 0;bottom: 0;left: 50%;z-index: -1;}#sk-container-id-1 div.sk-parallel-item {display: flex;flex-direction: column;z-index: 1;position: relative;background-color: white;}#sk-container-id-1 div.sk-parallel-item:first-child::after {align-self: flex-end;width: 50%;}#sk-container-id-1 div.sk-parallel-item:last-child::after {align-self: flex-start;width: 50%;}#sk-container-id-1 div.sk-parallel-item:only-child::after {width: 0;}#sk-container-id-1 div.sk-dashed-wrapped {border: 1px dashed gray;margin: 0 0.4em 0.5em 0.4em;box-sizing: border-box;padding-bottom: 0.4em;background-color: white;}#sk-container-id-1 div.sk-label label {font-family: monospace;font-weight: bold;display: inline-block;line-height: 1.2em;}#sk-container-id-1 div.sk-label-container {text-align: center;}#sk-container-id-1 div.sk-container {/* jupyter's `normalize.less` sets `[hidden] { display: none; }` but bootstrap.min.css set `[hidden] { display: none !important; }` so we also need the `!important` here to be able to override the default hidden behavior on the sphinx rendered scikit-learn.org. See: https://github.com/scikit-learn/scikit-learn/issues/21755 */display: inline-block !important;position: relative;}#sk-container-id-1 div.sk-text-repr-fallback {display: none;}</style><div id=\"sk-container-id-1\" class=\"sk-top-container\"><div class=\"sk-text-repr-fallback\"><pre>SGDClassifier(random_state=42)</pre><b>In a Jupyter environment, please rerun this cell to show the HTML representation or trust the notebook. <br />On GitHub, the HTML representation is unable to render, please try loading this page with nbviewer.org.</b></div><div class=\"sk-container\" hidden><div class=\"sk-item\"><div class=\"sk-estimator sk-toggleable\"><input class=\"sk-toggleable__control sk-hidden--visually\" id=\"sk-estimator-id-1\" type=\"checkbox\" checked><label for=\"sk-estimator-id-1\" class=\"sk-toggleable__label sk-toggleable__label-arrow\">SGDClassifier</label><div class=\"sk-toggleable__content\"><pre>SGDClassifier(random_state=42)</pre></div></div></div></div></div>"
      ],
      "text/plain": [
       "SGDClassifier(random_state=42)"
      ]
     },
     "execution_count": 25,
     "metadata": {},
     "output_type": "execute_result"
    }
   ],
   "source": [
    "sgd_clf = SGDClassifier(random_state=42)\n",
    "sgd_clf.fit(X_train, y_train_5)"
   ]
  },
  {
   "cell_type": "code",
   "execution_count": 28,
   "metadata": {},
   "outputs": [
    {
     "data": {
      "text/plain": [
       "array([ True])"
      ]
     },
     "execution_count": 28,
     "metadata": {},
     "output_type": "execute_result"
    }
   ],
   "source": [
    "# Our random 'some_digit' variable (which we know is 5)\n",
    "sgd_clf.predict([some_digit])"
   ]
  },
  {
   "cell_type": "markdown",
   "metadata": {},
   "source": [
    "### Measuring Performance"
   ]
  },
  {
   "cell_type": "code",
   "execution_count": 30,
   "metadata": {},
   "outputs": [
    {
     "data": {
      "text/plain": [
       "array([0.95035, 0.96035, 0.9604 ])"
      ]
     },
     "execution_count": 30,
     "metadata": {},
     "output_type": "execute_result"
    }
   ],
   "source": [
    "# Using k-fold cross validation to test our 5-only binary classifier\n",
    "\n",
    "cross_val_score(sgd_clf, X_train, y_train_5, cv=3, scoring=\"accuracy\")"
   ]
  },
  {
   "cell_type": "code",
   "execution_count": 33,
   "metadata": {},
   "outputs": [
    {
     "data": {
      "text/plain": [
       "array([0.90965, 0.90965, 0.90965])"
      ]
     },
     "execution_count": 33,
     "metadata": {},
     "output_type": "execute_result"
    }
   ],
   "source": [
    "# We can see high accuracy for the binary 5-only classifier. Does it mean it's a good classifier? Accuracy is not enough. \n",
    "# This classifier could have missed many 5's (said no instead of yes), i.e it could have a high number of false negatives.\n",
    "# Accuracy only tells us the percentage of correct answers (yes or no) out of all answers. High accuracy for a model\n",
    "# means - when the model gave an answer (yes or no), it was most likely the right answer.\n",
    "\n",
    "# To see how accuracy is not enough, we can create a dummy classifier which always classifies the most frequent class. In\n",
    "# our case, the false class. This helps us to establish a baseline\n",
    "dummy_clf = DummyClassifier()\n",
    "cross_val_score(dummy_clf, X_train, y_train_5, cv=3, scoring=\"accuracy\")\n",
    "\n",
    "# We can see that the dummy model got over 90% accuracy. That's because the number 5 is 10% of the dataset... if you guess\n",
    "# that an image is not a 5, you'll be correct 90% of the time.\n"
   ]
  },
  {
   "cell_type": "code",
   "execution_count": 35,
   "metadata": {},
   "outputs": [],
   "source": [
    "# Accuracy is not great performance metric for classifiers and especially not a good one for skewed datasets where there\n",
    "# is a class imbalance. A better performance metric (or metrics) is the confusion matrix. \n",
    "\n",
    "# cross_val_predict returns the actual predictions made in each fold instead of a score. It'll take the most frequent\n",
    "# prediction out of the k models predictions in the result (you'll get back a single array)\n",
    "y_train_pred = cross_val_predict(sgd_clf, X_train, y_train_5, cv=3)\n"
   ]
  },
  {
   "cell_type": "code",
   "execution_count": 40,
   "metadata": {},
   "outputs": [
    {
     "data": {
      "text/plain": [
       "array([[53892,   687],\n",
       "       [ 1891,  3530]])"
      ]
     },
     "execution_count": 40,
     "metadata": {},
     "output_type": "execute_result"
    }
   ],
   "source": [
    "# Generate a confusion matrix. It takes the real labels and the predicted labels and returns a matrix:\n",
    "#\n",
    "#    | neg` pos`\n",
    "# neg: TN,  FP \n",
    "# pos: FN,  TP \n",
    "#\n",
    "# Notice that each row represents the entire elements of a class. Each column represents predicted elements of a certain class.\n",
    "\n",
    "cm = confusion_matrix(y_train_5, y_train_pred)\n",
    "cm"
   ]
  },
  {
   "cell_type": "markdown",
   "metadata": {},
   "source": [
    "Using the confusion matrix's values we can start computing more insightful metrics:\n",
    "\n",
    "* Precision: TP / (TP + FP)\n",
    "  - From all the times the classifier predicted YES, how many of those were correct.\n",
    "  - Ratio of correct YES to ALL PREDICTED YES \n",
    "  - Example, training a model that makes sure a video is safe for kids (YES means safe for kids). You'd care more\n",
    "    about the precision since it's better to be wrong and censor a video than letting a kid see an unsafe video.\n",
    "    Here lower recall would mean that the algorithm decided that some safe videos are actually unsafe which is ok.\n",
    "* Recall: TP / (TP + FN)\n",
    "  - Given the model's TP count, what's its percentage considering all positives\n",
    "  - Ratio of correct YES to ALL ACTUAL YES\n",
    "  - Example, training a model that detects shoplifting (YES means shoplifter). Here high recall would be preferable since\n",
    "    you don't want to miss shoplifter. Lower precision would mean that the store checks people that aren't shoplifter, \n",
    "    which isn't great but not as bad as having stuff stolen.\n",
    "* F1: 2 * (precision * recall) / (precision + recall)\n",
    "  - The harmonic mean of precision and recall. Harmonic mean gives more weight to lower values. If precision is high\n",
    "    and recall is low, the F1 score will get dragged more to the lower end.\n",
    "  - F1 favors classifiers that have similar precision and recall. \n",
    "\n",
    "The precision/recall tradeoff: Increasing precision reduces recall and vice versa.\n",
    "  * The reason is because models that classify compute a probability that an instance belongs to a class \n",
    "    and then use a threshold on that probability to make a decision.\n",
    "  * Reducing this threshold would make the model say YES more easily, hence increasing the recall (it throws a wider\n",
    "    net, catching more stuff but also junk - FPs).\n",
    "  * Increasing this threshold would make the model say NO more easily, hence increasing the precision (it throws a\n",
    "    small, more targeted net, catching less things - more FNs - but the stuff it does catch are more likely\n",
    "    tp be true).\n"
   ]
  },
  {
   "cell_type": "code",
   "execution_count": 48,
   "metadata": {},
   "outputs": [
    {
     "name": "stdout",
     "output_type": "stream",
     "text": [
      "Precision: 0.8370879772350012\n",
      "Recall: 0.6511713705958311\n",
      "F1:  0.7325171197343846\n"
     ]
    }
   ],
   "source": [
    "# Precision is 83% - meaning, when it says YES, it's correct 83% of the time\n",
    "print (\"Precision:\", precision_score(y_train_5, y_train_pred))\n",
    "\n",
    "# Recall is 65% - meaning all the YES it said covered 65% of the actual YES examples\n",
    "print (\"Recall:\", recall_score(y_train_5, y_train_pred))\n",
    "\n",
    "print (\"F1: \", f1_score(y_train_5, y_train_pred))"
   ]
  },
  {
   "cell_type": "code",
   "execution_count": 56,
   "metadata": {},
   "outputs": [
    {
     "name": "stdout",
     "output_type": "stream",
     "text": [
      "Precision threshold 3000: 0.9390070921985816\n",
      "Recall threshold 3000: 0.610588452315071\n",
      "Precision threshold 6000: 0.9829619921363041\n",
      "Recall threshold 6000: 0.27670171555063644\n"
     ]
    }
   ],
   "source": [
    "# The precision / recall tradeoff\n",
    "\n",
    "# The SGD classifier does not let you change the threshold, instead it lets you get the confidence for each prediction\n",
    "# and you can combine it with a threshold to make decisions\n",
    "\n",
    "y_scores = sgd_clf.decision_function(X_train)\n",
    "threshold = 3000\n",
    "y_pred_after_threshold = (y_scores >= threshold)\n",
    "print (\"Precision threshold 3000:\", precision_score(y_train_5, y_pred_after_threshold))\n",
    "print (\"Recall threshold 3000:\", recall_score(y_train_5, y_pred_after_threshold))\n",
    "\n",
    "threshold = 6000\n",
    "y_pred_after_threshold = (y_scores >= threshold)\n",
    "print (\"Precision threshold 6000:\", precision_score(y_train_5, y_pred_after_threshold))\n",
    "print (\"Recall threshold 6000:\", recall_score(y_train_5, y_pred_after_threshold))\n",
    "\n",
    "# This shows how increasing the prediction threshold increases precision and reduces recall. \n",
    "# Think of it as the inverse to the size of the net thrown - higher threshold, smaller net and vice versa"
   ]
  },
  {
   "cell_type": "code",
   "execution_count": 64,
   "metadata": {},
   "outputs": [
    {
     "data": {
      "image/png": "[encoded data removed]",
      "text/plain": [
       "<Figure size 640x480 with 1 Axes>"
      ]
     },
     "metadata": {},
     "output_type": "display_data"
    }
   ],
   "source": [
    "# How do we know which threshold to use?\n",
    "\n",
    "# We want to find the threshold that fits our problem's needs (see recall and precision examples).\n",
    "\n",
    "# We can use the classifier's decision_function as a metric for the cross val function. This will return the aggregated\n",
    "# scores from all k folds\n",
    "y_scores = cross_val_predict(sgd_clf, X_train, y_train_5, cv=3, method=\"decision_function\")\n",
    "\n",
    "# The we can get a precision recall curve and plot it\n",
    "precisions, recalls, thresholds = precision_recall_curve(y_train_5, y_scores)\n",
    "\n",
    "plt.plot(thresholds, precisions[:-1], \"b--\", label=\"Precision\", linewidth=2)\n",
    "plt.plot(thresholds, recalls[:-1], \"g-\", label=\"Recall\", linewidth=2)\n",
    "plt.vlines(threshold, 0, 1.0, \"k\", \"dotted\", label=\"threshold\")\n",
    "plt.legend()\n",
    "plt.grid()\n",
    "plt.show()"
   ]
  },
  {
   "cell_type": "code",
   "execution_count": 63,
   "metadata": {},
   "outputs": [
    {
     "data": {
      "image/png": "[encoded data removed]",
      "text/plain": [
       "<Figure size 640x480 with 1 Axes>"
      ]
     },
     "metadata": {},
     "output_type": "display_data"
    }
   ],
   "source": [
    "# Another way to plot it is to have the precision as a function of the recall\n",
    "plt.plot(recalls, precisions, linewidth=2, label=\"Precision/Recall curve\")\n",
    "plt.xlabel(\"Recall\")\n",
    "plt.ylabel(\"Precision\")\n",
    "plt.grid()\n",
    "plt.show()\n"
   ]
  },
  {
   "cell_type": "code",
   "execution_count": 114,
   "metadata": {},
   "outputs": [
    {
     "data": {
      "text/html": [
       "<div>\n",
       "<style scoped>\n",
       "    .dataframe tbody tr th:only-of-type {\n",
       "        vertical-align: middle;\n",
       "    }\n",
       "\n",
       "    .dataframe tbody tr th {\n",
       "        vertical-align: top;\n",
       "    }\n",
       "\n",
       "    .dataframe thead th {\n",
       "        text-align: right;\n",
       "    }\n",
       "</style>\n",
       "<table border=\"1\" class=\"dataframe\">\n",
       "  <thead>\n",
       "    <tr style=\"text-align: right;\">\n",
       "      <th></th>\n",
       "      <th>0</th>\n",
       "    </tr>\n",
       "  </thead>\n",
       "  <tbody>\n",
       "    <tr>\n",
       "      <th>0</th>\n",
       "      <td>[0, 0, 0, 0, 0, 0, 0, 1, 0, 0]</td>\n",
       "    </tr>\n",
       "    <tr>\n",
       "      <th>1</th>\n",
       "      <td>[1, 8, 7, 9, 3, 9, 8, 5, 9, 3]</td>\n",
       "    </tr>\n",
       "  </tbody>\n",
       "</table>\n",
       "</div>"
      ],
      "text/plain": [
       "                                0\n",
       "0  [0, 0, 0, 0, 0, 0, 0, 1, 0, 0]\n",
       "1  [1, 8, 7, 9, 3, 9, 8, 5, 9, 3]"
      ]
     },
     "execution_count": 114,
     "metadata": {},
     "output_type": "execute_result"
    }
   ],
   "source": [
    "# Now that you saw the curve and you're ready to get the right threshold for your project, you do the following (getting\n",
    "# it from the curve is not accurate):\n",
    "\n",
    "# Assume that you want to find the threshold that'll keep precision at 90%\n",
    "# The precisions and recalls array are sorted in ascending order. This means that if we find the first threshold over 90%\n",
    "# precision, we can use it\n",
    "\n",
    "# Get the index of the first precision over 90%\n",
    "precision_wanted = 0.9\n",
    "\n",
    "# get array of true when the value is over 0.9, false otherwise\n",
    "precisions_over_val = (precisions >= precision_wanted)\n",
    "\n",
    "# get the index of the first max value (index of the first True)\n",
    "precision_over_val_idx = np.argmax(precisions_over_val >= precision_wanted)\n",
    "\n",
    "# get the threshold at that index\n",
    "threshold_precision_val = thresholds[precision_over_val_idx]\n",
    "\n",
    "# now to get a prediction, instead of calling predict on the classifier, we call the decision_function and use our threshold\n",
    "digits_to_predict = X_train[40:50]\n",
    "digits_to_predict_scores = sgd_clf.decision_function(digits_to_predict)\n",
    "predictions = (digits_to_predict_scores >= threshold_precision_val)\n",
    "actuals = y_train[40:50]\n",
    "\n",
    "df = pd.DataFrame([[predictions.astype(int), actuals]])\n",
    "df.T\n"
   ]
  },
  {
   "cell_type": "markdown",
   "metadata": {},
   "source": [
    "### The ROC Curve"
   ]
  },
  {
   "cell_type": "code",
   "execution_count": null,
   "metadata": {},
   "outputs": [],
   "source": []
  }
 ],
 "metadata": {
  "kernelspec": {
   "display_name": "tensorflow",
   "language": "python",
   "name": "python3"
  },
  "language_info": {
   "codemirror_mode": {
    "name": "ipython",
    "version": 3
   },
   "file_extension": ".py",
   "mimetype": "text/x-python",
   "name": "python",
   "nbconvert_exporter": "python",
   "pygments_lexer": "ipython3",
   "version": "3.11.5"
  },
  "orig_nbformat": 4
 },
 "nbformat": 4,
 "nbformat_minor": 2
}
