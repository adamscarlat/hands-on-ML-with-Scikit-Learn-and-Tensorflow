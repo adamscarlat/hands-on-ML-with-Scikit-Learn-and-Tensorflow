{
 "cells": [
  {
   "cell_type": "code",
   "execution_count": 66,
   "metadata": {},
   "outputs": [],
   "source": [
    "import numpy as np # linear algebra\n",
    "import pandas as pd\n",
    "import seaborn as sns\n",
    "import nltk\n",
    "import re\n",
    "\n",
    "from sklearn.feature_extraction.text import TfidfVectorizer\n",
    "from sklearn.decomposition import LatentDirichletAllocation\n",
    "\n",
    "from nltk.corpus import stopwords, words as english_words\n"
   ]
  },
  {
   "cell_type": "code",
   "execution_count": 67,
   "metadata": {},
   "outputs": [
    {
     "name": "stderr",
     "output_type": "stream",
     "text": [
      "[nltk_data] Downloading package stopwords to\n",
      "[nltk_data]     /Users/adamscarlat/nltk_data...\n",
      "[nltk_data]   Package stopwords is already up-to-date!\n",
      "[nltk_data] Downloading package words to\n",
      "[nltk_data]     /Users/adamscarlat/nltk_data...\n",
      "[nltk_data]   Package words is already up-to-date!\n"
     ]
    },
    {
     "data": {
      "text/plain": [
       "True"
      ]
     },
     "execution_count": 67,
     "metadata": {},
     "output_type": "execute_result"
    }
   ],
   "source": [
    "nltk.download(\"stopwords\")\n",
    "nltk.download(\"words\")"
   ]
  },
  {
   "cell_type": "code",
   "execution_count": 68,
   "metadata": {},
   "outputs": [
    {
     "data": {
      "text/html": [
       "<div>\n",
       "<style scoped>\n",
       "    .dataframe tbody tr th:only-of-type {\n",
       "        vertical-align: middle;\n",
       "    }\n",
       "\n",
       "    .dataframe tbody tr th {\n",
       "        vertical-align: top;\n",
       "    }\n",
       "\n",
       "    .dataframe thead th {\n",
       "        text-align: right;\n",
       "    }\n",
       "</style>\n",
       "<table border=\"1\" class=\"dataframe\">\n",
       "  <thead>\n",
       "    <tr style=\"text-align: right;\">\n",
       "      <th></th>\n",
       "      <th>source_id</th>\n",
       "      <th>first_name</th>\n",
       "      <th>last_name</th>\n",
       "      <th>institution</th>\n",
       "    </tr>\n",
       "  </thead>\n",
       "  <tbody>\n",
       "    <tr>\n",
       "      <th>0</th>\n",
       "      <td>27</td>\n",
       "      <td>Alan</td>\n",
       "      <td>Murray</td>\n",
       "      <td>NaN</td>\n",
       "    </tr>\n",
       "    <tr>\n",
       "      <th>1</th>\n",
       "      <td>27</td>\n",
       "      <td>Anthony</td>\n",
       "      <td>Smith</td>\n",
       "      <td>NaN</td>\n",
       "    </tr>\n",
       "    <tr>\n",
       "      <th>2</th>\n",
       "      <td>27</td>\n",
       "      <td>Zoe</td>\n",
       "      <td>Butler</td>\n",
       "      <td>NaN</td>\n",
       "    </tr>\n",
       "    <tr>\n",
       "      <th>3</th>\n",
       "      <td>63</td>\n",
       "      <td>Yaser</td>\n",
       "      <td>Abu-Mostafa</td>\n",
       "      <td>NaN</td>\n",
       "    </tr>\n",
       "    <tr>\n",
       "      <th>4</th>\n",
       "      <td>60</td>\n",
       "      <td>Michael</td>\n",
       "      <td>Fleisher</td>\n",
       "      <td>NaN</td>\n",
       "    </tr>\n",
       "  </tbody>\n",
       "</table>\n",
       "</div>"
      ],
      "text/plain": [
       "   source_id first_name    last_name institution\n",
       "0         27       Alan       Murray         NaN\n",
       "1         27    Anthony        Smith         NaN\n",
       "2         27        Zoe       Butler         NaN\n",
       "3         63      Yaser  Abu-Mostafa         NaN\n",
       "4         60    Michael     Fleisher         NaN"
      ]
     },
     "execution_count": 68,
     "metadata": {},
     "output_type": "execute_result"
    }
   ],
   "source": [
    "# Authors Dataset\n",
    "\n",
    "authors = pd.read_csv(\"./data/authors.csv\")\n",
    "authors.head()"
   ]
  },
  {
   "cell_type": "code",
   "execution_count": 69,
   "metadata": {},
   "outputs": [
    {
     "name": "stdout",
     "output_type": "stream",
     "text": [
      "<class 'pandas.core.frame.DataFrame'>\n",
      "RangeIndex: 30237 entries, 0 to 30236\n",
      "Data columns (total 4 columns):\n",
      " #   Column       Non-Null Count  Dtype \n",
      "---  ------       --------------  ----- \n",
      " 0   source_id    30237 non-null  int64 \n",
      " 1   first_name   30236 non-null  object\n",
      " 2   last_name    30234 non-null  object\n",
      " 3   institution  17302 non-null  object\n",
      "dtypes: int64(1), object(3)\n",
      "memory usage: 945.0+ KB\n",
      "None\n"
     ]
    },
    {
     "data": {
      "text/plain": [
       "source_id          0\n",
       "first_name         1\n",
       "last_name          3\n",
       "institution    12935\n",
       "dtype: int64"
      ]
     },
     "execution_count": 69,
     "metadata": {},
     "output_type": "execute_result"
    }
   ],
   "source": [
    "print (authors.info())\n",
    "authors.isna().sum()"
   ]
  },
  {
   "cell_type": "code",
   "execution_count": 70,
   "metadata": {},
   "outputs": [
    {
     "name": "stdout",
     "output_type": "stream",
     "text": [
      "9680\n"
     ]
    },
    {
     "data": {
      "text/html": [
       "<div>\n",
       "<style scoped>\n",
       "    .dataframe tbody tr th:only-of-type {\n",
       "        vertical-align: middle;\n",
       "    }\n",
       "\n",
       "    .dataframe tbody tr th {\n",
       "        vertical-align: top;\n",
       "    }\n",
       "\n",
       "    .dataframe thead th {\n",
       "        text-align: right;\n",
       "    }\n",
       "</style>\n",
       "<table border=\"1\" class=\"dataframe\">\n",
       "  <thead>\n",
       "    <tr style=\"text-align: right;\">\n",
       "      <th></th>\n",
       "      <th>source_id</th>\n",
       "      <th>year</th>\n",
       "      <th>title</th>\n",
       "      <th>abstract</th>\n",
       "      <th>full_text</th>\n",
       "    </tr>\n",
       "  </thead>\n",
       "  <tbody>\n",
       "    <tr>\n",
       "      <th>0</th>\n",
       "      <td>27</td>\n",
       "      <td>1987</td>\n",
       "      <td>Bit-Serial Neural Networks</td>\n",
       "      <td>NaN</td>\n",
       "      <td>573 \\n\\nBIT - SERIAL NEURAL  NETWORKS \\n\\nAlan...</td>\n",
       "    </tr>\n",
       "    <tr>\n",
       "      <th>1</th>\n",
       "      <td>63</td>\n",
       "      <td>1987</td>\n",
       "      <td>Connectivity Versus Entropy</td>\n",
       "      <td>NaN</td>\n",
       "      <td>1 \\n\\nCONNECTIVITY VERSUS ENTROPY \\n\\nYaser  S...</td>\n",
       "    </tr>\n",
       "    <tr>\n",
       "      <th>2</th>\n",
       "      <td>60</td>\n",
       "      <td>1987</td>\n",
       "      <td>The Hopfield Model with Multi-Level Neurons</td>\n",
       "      <td>NaN</td>\n",
       "      <td>278 \\n\\nTHE HOPFIELD MODEL WITH MUL TI-LEVEL N...</td>\n",
       "    </tr>\n",
       "    <tr>\n",
       "      <th>3</th>\n",
       "      <td>59</td>\n",
       "      <td>1987</td>\n",
       "      <td>How Neural Nets Work</td>\n",
       "      <td>NaN</td>\n",
       "      <td>442 \\n\\nAlan  Lapedes \\nRobert  Farber \\n\\nThe...</td>\n",
       "    </tr>\n",
       "    <tr>\n",
       "      <th>4</th>\n",
       "      <td>69</td>\n",
       "      <td>1987</td>\n",
       "      <td>Spatial Organization of Neural Networks: A Pro...</td>\n",
       "      <td>NaN</td>\n",
       "      <td>740 \\n\\nSPATIAL  ORGANIZATION  OF  NEURAL  NEn...</td>\n",
       "    </tr>\n",
       "  </tbody>\n",
       "</table>\n",
       "</div>"
      ],
      "text/plain": [
       "   source_id  year                                              title  \\\n",
       "0         27  1987                         Bit-Serial Neural Networks   \n",
       "1         63  1987                        Connectivity Versus Entropy   \n",
       "2         60  1987        The Hopfield Model with Multi-Level Neurons   \n",
       "3         59  1987                               How Neural Nets Work   \n",
       "4         69  1987  Spatial Organization of Neural Networks: A Pro...   \n",
       "\n",
       "  abstract                                          full_text  \n",
       "0      NaN  573 \\n\\nBIT - SERIAL NEURAL  NETWORKS \\n\\nAlan...  \n",
       "1      NaN  1 \\n\\nCONNECTIVITY VERSUS ENTROPY \\n\\nYaser  S...  \n",
       "2      NaN  278 \\n\\nTHE HOPFIELD MODEL WITH MUL TI-LEVEL N...  \n",
       "3      NaN  442 \\n\\nAlan  Lapedes \\nRobert  Farber \\n\\nThe...  \n",
       "4      NaN  740 \\n\\nSPATIAL  ORGANIZATION  OF  NEURAL  NEn...  "
      ]
     },
     "execution_count": 70,
     "metadata": {},
     "output_type": "execute_result"
    }
   ],
   "source": [
    "# Paper dataset\n",
    "\n",
    "papers = pd.read_csv(\"./data/papers.csv\")\n",
    "print (len(papers))\n",
    "papers.head()\n"
   ]
  },
  {
   "cell_type": "code",
   "execution_count": 71,
   "metadata": {},
   "outputs": [
    {
     "name": "stdout",
     "output_type": "stream",
     "text": [
      "<class 'pandas.core.frame.DataFrame'>\n",
      "RangeIndex: 9680 entries, 0 to 9679\n",
      "Data columns (total 5 columns):\n",
      " #   Column     Non-Null Count  Dtype \n",
      "---  ------     --------------  ----- \n",
      " 0   source_id  9680 non-null   int64 \n",
      " 1   year       9680 non-null   int64 \n",
      " 2   title      9680 non-null   object\n",
      " 3   abstract   6361 non-null   object\n",
      " 4   full_text  9677 non-null   object\n",
      "dtypes: int64(2), object(3)\n",
      "memory usage: 378.3+ KB\n",
      "None\n",
      "source_id       0\n",
      "year            0\n",
      "title           0\n",
      "abstract     3319\n",
      "full_text       3\n",
      "dtype: int64\n"
     ]
    }
   ],
   "source": [
    "print (papers.info())\n",
    "print (papers.isna().sum())"
   ]
  },
  {
   "cell_type": "code",
   "execution_count": 72,
   "metadata": {},
   "outputs": [],
   "source": [
    "# Impute the missing values\n",
    "# It will impute the na column with title if it's na, use the original value if not\n",
    "\n",
    "papers['full_text'] = np.where(papers['full_text'].isna(), papers['title'], papers['full_text'])\n",
    "papers['abstract'] = np.where(papers['abstract'].isna(), papers['title'], papers['abstract'])"
   ]
  },
  {
   "cell_type": "code",
   "execution_count": 73,
   "metadata": {},
   "outputs": [
    {
     "data": {
      "text/plain": [
       "source_id    0\n",
       "year         0\n",
       "title        0\n",
       "abstract     0\n",
       "full_text    0\n",
       "dtype: int64"
      ]
     },
     "execution_count": 73,
     "metadata": {},
     "output_type": "execute_result"
    }
   ],
   "source": [
    "papers.isna().sum()"
   ]
  },
  {
   "cell_type": "markdown",
   "metadata": {},
   "source": [
    "# Preprocessing\n",
    "\n",
    "### Text cleaning"
   ]
  },
  {
   "cell_type": "code",
   "execution_count": 74,
   "metadata": {},
   "outputs": [
    {
     "data": {
      "text/html": [
       "<div>\n",
       "<style scoped>\n",
       "    .dataframe tbody tr th:only-of-type {\n",
       "        vertical-align: middle;\n",
       "    }\n",
       "\n",
       "    .dataframe tbody tr th {\n",
       "        vertical-align: top;\n",
       "    }\n",
       "\n",
       "    .dataframe thead th {\n",
       "        text-align: right;\n",
       "    }\n",
       "</style>\n",
       "<table border=\"1\" class=\"dataframe\">\n",
       "  <thead>\n",
       "    <tr style=\"text-align: right;\">\n",
       "      <th></th>\n",
       "      <th>source_id</th>\n",
       "      <th>year</th>\n",
       "      <th>title</th>\n",
       "      <th>abstract</th>\n",
       "      <th>full_text</th>\n",
       "    </tr>\n",
       "  </thead>\n",
       "  <tbody>\n",
       "    <tr>\n",
       "      <th>0</th>\n",
       "      <td>27</td>\n",
       "      <td>1987</td>\n",
       "      <td>Bit-Serial Neural Networks</td>\n",
       "      <td>Bit-Serial Neural Networks</td>\n",
       "      <td>bit serial neural alan smith butler department...</td>\n",
       "    </tr>\n",
       "    <tr>\n",
       "      <th>1</th>\n",
       "      <td>63</td>\n",
       "      <td>1987</td>\n",
       "      <td>Connectivity Versus Entropy</td>\n",
       "      <td>Connectivity Versus Entropy</td>\n",
       "      <td>connectivity versus entropy abu institute tech...</td>\n",
       "    </tr>\n",
       "    <tr>\n",
       "      <th>2</th>\n",
       "      <td>60</td>\n",
       "      <td>1987</td>\n",
       "      <td>The Hopfield Model with Multi-Level Neurons</td>\n",
       "      <td>The Hopfield Model with Multi-Level Neurons</td>\n",
       "      <td>model ti level department electrical engineeri...</td>\n",
       "    </tr>\n",
       "    <tr>\n",
       "      <th>3</th>\n",
       "      <td>59</td>\n",
       "      <td>1987</td>\n",
       "      <td>How Neural Nets Work</td>\n",
       "      <td>How Neural Nets Work</td>\n",
       "      <td>alan theoretical division neural work national...</td>\n",
       "    </tr>\n",
       "    <tr>\n",
       "      <th>4</th>\n",
       "      <td>69</td>\n",
       "      <td>1987</td>\n",
       "      <td>Spatial Organization of Neural Networks: A Pro...</td>\n",
       "      <td>Spatial Organization of Neural Networks: A Pro...</td>\n",
       "      <td>spatial organization neural probabilistic mode...</td>\n",
       "    </tr>\n",
       "    <tr>\n",
       "      <th>...</th>\n",
       "      <td>...</td>\n",
       "      <td>...</td>\n",
       "      <td>...</td>\n",
       "      <td>...</td>\n",
       "      <td>...</td>\n",
       "    </tr>\n",
       "    <tr>\n",
       "      <th>9675</th>\n",
       "      <td>5452</td>\n",
       "      <td>2019</td>\n",
       "      <td>Discrete Object Generation with Reversible Ind...</td>\n",
       "      <td>The success of generative modeling in continuo...</td>\n",
       "      <td>discrete object generation reversible inductiv...</td>\n",
       "    </tr>\n",
       "    <tr>\n",
       "      <th>9676</th>\n",
       "      <td>4799</td>\n",
       "      <td>2019</td>\n",
       "      <td>Adaptively Aligned Image Captioning via Adapti...</td>\n",
       "      <td>Recent neural models for image captioning usua...</td>\n",
       "      <td>adaptively image via adaptive attention time w...</td>\n",
       "    </tr>\n",
       "    <tr>\n",
       "      <th>9677</th>\n",
       "      <td>1827</td>\n",
       "      <td>2019</td>\n",
       "      <td>Fully Dynamic Consistent Facility Location</td>\n",
       "      <td>We consider classic clustering problems in ful...</td>\n",
       "      <td>fully dynamic consistent facility location vin...</td>\n",
       "    </tr>\n",
       "    <tr>\n",
       "      <th>9678</th>\n",
       "      <td>8693</td>\n",
       "      <td>2019</td>\n",
       "      <td>Efficient Rematerialization for Deep Networks</td>\n",
       "      <td>When training complex neural networks, memory ...</td>\n",
       "      <td>deep research mountain view ca research mounta...</td>\n",
       "    </tr>\n",
       "    <tr>\n",
       "      <th>9679</th>\n",
       "      <td>2302</td>\n",
       "      <td>2019</td>\n",
       "      <td>Flow-based Image-to-Image Translation with Fea...</td>\n",
       "      <td>Learning non-deterministic dynamics and intrin...</td>\n",
       "      <td>flow based image image translation feature dis...</td>\n",
       "    </tr>\n",
       "  </tbody>\n",
       "</table>\n",
       "<p>9680 rows × 5 columns</p>\n",
       "</div>"
      ],
      "text/plain": [
       "      source_id  year                                              title  \\\n",
       "0            27  1987                         Bit-Serial Neural Networks   \n",
       "1            63  1987                        Connectivity Versus Entropy   \n",
       "2            60  1987        The Hopfield Model with Multi-Level Neurons   \n",
       "3            59  1987                               How Neural Nets Work   \n",
       "4            69  1987  Spatial Organization of Neural Networks: A Pro...   \n",
       "...         ...   ...                                                ...   \n",
       "9675       5452  2019  Discrete Object Generation with Reversible Ind...   \n",
       "9676       4799  2019  Adaptively Aligned Image Captioning via Adapti...   \n",
       "9677       1827  2019         Fully Dynamic Consistent Facility Location   \n",
       "9678       8693  2019      Efficient Rematerialization for Deep Networks   \n",
       "9679       2302  2019  Flow-based Image-to-Image Translation with Fea...   \n",
       "\n",
       "                                               abstract  \\\n",
       "0                            Bit-Serial Neural Networks   \n",
       "1                           Connectivity Versus Entropy   \n",
       "2           The Hopfield Model with Multi-Level Neurons   \n",
       "3                                  How Neural Nets Work   \n",
       "4     Spatial Organization of Neural Networks: A Pro...   \n",
       "...                                                 ...   \n",
       "9675  The success of generative modeling in continuo...   \n",
       "9676  Recent neural models for image captioning usua...   \n",
       "9677  We consider classic clustering problems in ful...   \n",
       "9678  When training complex neural networks, memory ...   \n",
       "9679  Learning non-deterministic dynamics and intrin...   \n",
       "\n",
       "                                              full_text  \n",
       "0     bit serial neural alan smith butler department...  \n",
       "1     connectivity versus entropy abu institute tech...  \n",
       "2     model ti level department electrical engineeri...  \n",
       "3     alan theoretical division neural work national...  \n",
       "4     spatial organization neural probabilistic mode...  \n",
       "...                                                 ...  \n",
       "9675  discrete object generation reversible inductiv...  \n",
       "9676  adaptively image via adaptive attention time w...  \n",
       "9677  fully dynamic consistent facility location vin...  \n",
       "9678  deep research mountain view ca research mounta...  \n",
       "9679  flow based image image translation feature dis...  \n",
       "\n",
       "[9680 rows x 5 columns]"
      ]
     },
     "execution_count": 74,
     "metadata": {},
     "output_type": "execute_result"
    }
   ],
   "source": [
    "\n",
    "def clean_text_column(df, text_column_name):\n",
    "    # Define a set of English stopwords\n",
    "    stop_words = set(stopwords.words(\"english\"))\n",
    "\n",
    "    # Define a set of valid English words\n",
    "    english_words_set = set(english_words.words())\n",
    "\n",
    "    # Helper function to clean a single text string\n",
    "    def clean_text(text):\n",
    "        # Remove non-alphabetic characters and convert to lowercase\n",
    "        text = re.sub(r\"[^a-zA-Z]\", \" \", text).lower()\n",
    "\n",
    "        # Tokenize the text into words\n",
    "        words = text.split()\n",
    "\n",
    "        # Remove stopwords, single-letter words, and non-English words\n",
    "        words = [word for word in words if word not in stop_words and len(word) > 1 and word in english_words_set]\n",
    "\n",
    "        # Join the cleaned words back into a string\n",
    "        cleaned_text = \" \".join(words)\n",
    "\n",
    "        return cleaned_text\n",
    "\n",
    "    # Apply the clean_text function to the specified column\n",
    "    df[text_column_name] = df[text_column_name].apply(clean_text)\n",
    "\n",
    "    return df\n",
    "\n",
    "\n",
    "clean_text_column(papers, 'full_text')\n"
   ]
  },
  {
   "cell_type": "markdown",
   "metadata": {},
   "source": [
    "### TF-IDF"
   ]
  },
  {
   "cell_type": "code",
   "execution_count": 75,
   "metadata": {},
   "outputs": [
    {
     "data": {
      "text/plain": [
       "(9680, 5000)"
      ]
     },
     "execution_count": 75,
     "metadata": {},
     "output_type": "execute_result"
    }
   ],
   "source": [
    "# transforming the title using tf-idf (9680 titles containing 3397 unique words)\n",
    "\n",
    "tfidf = TfidfVectorizer(max_df=0.8, min_df=2, max_features=5000, stop_words='english', token_pattern=r'(?u)\\b[A-Za-z]+\\b')\n",
    "dtm = tfidf.fit_transform(papers['full_text'])\n",
    "\n",
    "dtm.shape"
   ]
  },
  {
   "cell_type": "code",
   "execution_count": 76,
   "metadata": {},
   "outputs": [
    {
     "data": {
      "text/html": [
       "<style>#sk-container-id-7 {color: black;}#sk-container-id-7 pre{padding: 0;}#sk-container-id-7 div.sk-toggleable {background-color: white;}#sk-container-id-7 label.sk-toggleable__label {cursor: pointer;display: block;width: 100%;margin-bottom: 0;padding: 0.3em;box-sizing: border-box;text-align: center;}#sk-container-id-7 label.sk-toggleable__label-arrow:before {content: \"▸\";float: left;margin-right: 0.25em;color: #696969;}#sk-container-id-7 label.sk-toggleable__label-arrow:hover:before {color: black;}#sk-container-id-7 div.sk-estimator:hover label.sk-toggleable__label-arrow:before {color: black;}#sk-container-id-7 div.sk-toggleable__content {max-height: 0;max-width: 0;overflow: hidden;text-align: left;background-color: #f0f8ff;}#sk-container-id-7 div.sk-toggleable__content pre {margin: 0.2em;color: black;border-radius: 0.25em;background-color: #f0f8ff;}#sk-container-id-7 input.sk-toggleable__control:checked~div.sk-toggleable__content {max-height: 200px;max-width: 100%;overflow: auto;}#sk-container-id-7 input.sk-toggleable__control:checked~label.sk-toggleable__label-arrow:before {content: \"▾\";}#sk-container-id-7 div.sk-estimator input.sk-toggleable__control:checked~label.sk-toggleable__label {background-color: #d4ebff;}#sk-container-id-7 div.sk-label input.sk-toggleable__control:checked~label.sk-toggleable__label {background-color: #d4ebff;}#sk-container-id-7 input.sk-hidden--visually {border: 0;clip: rect(1px 1px 1px 1px);clip: rect(1px, 1px, 1px, 1px);height: 1px;margin: -1px;overflow: hidden;padding: 0;position: absolute;width: 1px;}#sk-container-id-7 div.sk-estimator {font-family: monospace;background-color: #f0f8ff;border: 1px dotted black;border-radius: 0.25em;box-sizing: border-box;margin-bottom: 0.5em;}#sk-container-id-7 div.sk-estimator:hover {background-color: #d4ebff;}#sk-container-id-7 div.sk-parallel-item::after {content: \"\";width: 100%;border-bottom: 1px solid gray;flex-grow: 1;}#sk-container-id-7 div.sk-label:hover label.sk-toggleable__label {background-color: #d4ebff;}#sk-container-id-7 div.sk-serial::before {content: \"\";position: absolute;border-left: 1px solid gray;box-sizing: border-box;top: 0;bottom: 0;left: 50%;z-index: 0;}#sk-container-id-7 div.sk-serial {display: flex;flex-direction: column;align-items: center;background-color: white;padding-right: 0.2em;padding-left: 0.2em;position: relative;}#sk-container-id-7 div.sk-item {position: relative;z-index: 1;}#sk-container-id-7 div.sk-parallel {display: flex;align-items: stretch;justify-content: center;background-color: white;position: relative;}#sk-container-id-7 div.sk-item::before, #sk-container-id-7 div.sk-parallel-item::before {content: \"\";position: absolute;border-left: 1px solid gray;box-sizing: border-box;top: 0;bottom: 0;left: 50%;z-index: -1;}#sk-container-id-7 div.sk-parallel-item {display: flex;flex-direction: column;z-index: 1;position: relative;background-color: white;}#sk-container-id-7 div.sk-parallel-item:first-child::after {align-self: flex-end;width: 50%;}#sk-container-id-7 div.sk-parallel-item:last-child::after {align-self: flex-start;width: 50%;}#sk-container-id-7 div.sk-parallel-item:only-child::after {width: 0;}#sk-container-id-7 div.sk-dashed-wrapped {border: 1px dashed gray;margin: 0 0.4em 0.5em 0.4em;box-sizing: border-box;padding-bottom: 0.4em;background-color: white;}#sk-container-id-7 div.sk-label label {font-family: monospace;font-weight: bold;display: inline-block;line-height: 1.2em;}#sk-container-id-7 div.sk-label-container {text-align: center;}#sk-container-id-7 div.sk-container {/* jupyter's `normalize.less` sets `[hidden] { display: none; }` but bootstrap.min.css set `[hidden] { display: none !important; }` so we also need the `!important` here to be able to override the default hidden behavior on the sphinx rendered scikit-learn.org. See: https://github.com/scikit-learn/scikit-learn/issues/21755 */display: inline-block !important;position: relative;}#sk-container-id-7 div.sk-text-repr-fallback {display: none;}</style><div id=\"sk-container-id-7\" class=\"sk-top-container\"><div class=\"sk-text-repr-fallback\"><pre>LatentDirichletAllocation(n_components=5, random_state=101)</pre><b>In a Jupyter environment, please rerun this cell to show the HTML representation or trust the notebook. <br />On GitHub, the HTML representation is unable to render, please try loading this page with nbviewer.org.</b></div><div class=\"sk-container\" hidden><div class=\"sk-item\"><div class=\"sk-estimator sk-toggleable\"><input class=\"sk-toggleable__control sk-hidden--visually\" id=\"sk-estimator-id-7\" type=\"checkbox\" checked><label for=\"sk-estimator-id-7\" class=\"sk-toggleable__label sk-toggleable__label-arrow\">LatentDirichletAllocation</label><div class=\"sk-toggleable__content\"><pre>LatentDirichletAllocation(n_components=5, random_state=101)</pre></div></div></div></div></div>"
      ],
      "text/plain": [
       "LatentDirichletAllocation(n_components=5, random_state=101)"
      ]
     },
     "execution_count": 76,
     "metadata": {},
     "output_type": "execute_result"
    }
   ],
   "source": [
    "LDA = LatentDirichletAllocation(n_components=3, random_state=101)\n",
    "LDA.fit(dtm)"
   ]
  },
  {
   "cell_type": "code",
   "execution_count": 77,
   "metadata": {},
   "outputs": [
    {
     "data": {
      "text/plain": [
       "(5, 5000)"
      ]
     },
     "execution_count": 77,
     "metadata": {},
     "output_type": "execute_result"
    }
   ],
   "source": [
    "# 7 components and 3397 unique words\n",
    "LDA.components_.shape"
   ]
  },
  {
   "cell_type": "code",
   "execution_count": 78,
   "metadata": {},
   "outputs": [
    {
     "data": {
      "text/plain": [
       "(9680, 5)"
      ]
     },
     "execution_count": 78,
     "metadata": {},
     "output_type": "execute_result"
    }
   ],
   "source": [
    "# In order to do this, we would need to apply the transform method on our LDA model and DTM to associate the topic to each\n",
    "# article. Each title will be associated with probability for each LDA component\n",
    "topic_results = LDA.transform(dtm)\n",
    "\n",
    "# Now we will check the shape\n",
    "topic_results.shape"
   ]
  },
  {
   "cell_type": "code",
   "execution_count": 79,
   "metadata": {},
   "outputs": [
    {
     "data": {
      "text/plain": [
       "array([0.82852575, 0.01640499, 0.01683958, 0.12204164, 0.01618804])"
      ]
     },
     "execution_count": 79,
     "metadata": {},
     "output_type": "execute_result"
    }
   ],
   "source": [
    "# Probability of the first title to be associated to each topic (component)\n",
    "topic_results[0]"
   ]
  },
  {
   "cell_type": "code",
   "execution_count": 80,
   "metadata": {},
   "outputs": [
    {
     "data": {
      "text/html": [
       "<div>\n",
       "<style scoped>\n",
       "    .dataframe tbody tr th:only-of-type {\n",
       "        vertical-align: middle;\n",
       "    }\n",
       "\n",
       "    .dataframe tbody tr th {\n",
       "        vertical-align: top;\n",
       "    }\n",
       "\n",
       "    .dataframe thead th {\n",
       "        text-align: right;\n",
       "    }\n",
       "</style>\n",
       "<table border=\"1\" class=\"dataframe\">\n",
       "  <thead>\n",
       "    <tr style=\"text-align: right;\">\n",
       "      <th></th>\n",
       "      <th>source_id</th>\n",
       "      <th>year</th>\n",
       "      <th>title</th>\n",
       "      <th>abstract</th>\n",
       "      <th>full_text</th>\n",
       "      <th>Topic</th>\n",
       "    </tr>\n",
       "  </thead>\n",
       "  <tbody>\n",
       "    <tr>\n",
       "      <th>0</th>\n",
       "      <td>27</td>\n",
       "      <td>1987</td>\n",
       "      <td>Bit-Serial Neural Networks</td>\n",
       "      <td>Bit-Serial Neural Networks</td>\n",
       "      <td>bit serial neural alan smith butler department...</td>\n",
       "      <td>0</td>\n",
       "    </tr>\n",
       "    <tr>\n",
       "      <th>1</th>\n",
       "      <td>63</td>\n",
       "      <td>1987</td>\n",
       "      <td>Connectivity Versus Entropy</td>\n",
       "      <td>Connectivity Versus Entropy</td>\n",
       "      <td>connectivity versus entropy abu institute tech...</td>\n",
       "      <td>2</td>\n",
       "    </tr>\n",
       "    <tr>\n",
       "      <th>2</th>\n",
       "      <td>60</td>\n",
       "      <td>1987</td>\n",
       "      <td>The Hopfield Model with Multi-Level Neurons</td>\n",
       "      <td>The Hopfield Model with Multi-Level Neurons</td>\n",
       "      <td>model ti level department electrical engineeri...</td>\n",
       "      <td>2</td>\n",
       "    </tr>\n",
       "    <tr>\n",
       "      <th>3</th>\n",
       "      <td>59</td>\n",
       "      <td>1987</td>\n",
       "      <td>How Neural Nets Work</td>\n",
       "      <td>How Neural Nets Work</td>\n",
       "      <td>alan theoretical division neural work national...</td>\n",
       "      <td>3</td>\n",
       "    </tr>\n",
       "    <tr>\n",
       "      <th>4</th>\n",
       "      <td>69</td>\n",
       "      <td>1987</td>\n",
       "      <td>Spatial Organization of Neural Networks: A Pro...</td>\n",
       "      <td>Spatial Organization of Neural Networks: A Pro...</td>\n",
       "      <td>spatial organization neural probabilistic mode...</td>\n",
       "      <td>0</td>\n",
       "    </tr>\n",
       "    <tr>\n",
       "      <th>5</th>\n",
       "      <td>6</td>\n",
       "      <td>1987</td>\n",
       "      <td>A Neural-Network Solution to the Concentrator ...</td>\n",
       "      <td>A Neural-Network Solution to the Concentrator ...</td>\n",
       "      <td>neural network solution concentrator problem g...</td>\n",
       "      <td>2</td>\n",
       "    </tr>\n",
       "    <tr>\n",
       "      <th>6</th>\n",
       "      <td>33</td>\n",
       "      <td>1987</td>\n",
       "      <td>LEARNING BY STATE RECURRENCE DETECTION</td>\n",
       "      <td>LEARNING BY STATE RECURRENCE DETECTION</td>\n",
       "      <td>learning st ate recurrence university ca abstr...</td>\n",
       "      <td>3</td>\n",
       "    </tr>\n",
       "    <tr>\n",
       "      <th>7</th>\n",
       "      <td>36</td>\n",
       "      <td>1987</td>\n",
       "      <td>Stability Results for Neural Networks</td>\n",
       "      <td>Stability Results for Neural Networks</td>\n",
       "      <td>stability neural department electrical compute...</td>\n",
       "      <td>2</td>\n",
       "    </tr>\n",
       "    <tr>\n",
       "      <th>8</th>\n",
       "      <td>35</td>\n",
       "      <td>1987</td>\n",
       "      <td>Introduction to a System for Implementing Neur...</td>\n",
       "      <td>Introduction to a System for Implementing Neur...</td>\n",
       "      <td>introduction system neural net institute compu...</td>\n",
       "      <td>3</td>\n",
       "    </tr>\n",
       "    <tr>\n",
       "      <th>9</th>\n",
       "      <td>19</td>\n",
       "      <td>1987</td>\n",
       "      <td>Optimization with Artificial Neural Network Sy...</td>\n",
       "      <td>Optimization with Artificial Neural Network Sy...</td>\n",
       "      <td>non artificial neural network principle compar...</td>\n",
       "      <td>2</td>\n",
       "    </tr>\n",
       "  </tbody>\n",
       "</table>\n",
       "</div>"
      ],
      "text/plain": [
       "   source_id  year                                              title  \\\n",
       "0         27  1987                         Bit-Serial Neural Networks   \n",
       "1         63  1987                        Connectivity Versus Entropy   \n",
       "2         60  1987        The Hopfield Model with Multi-Level Neurons   \n",
       "3         59  1987                               How Neural Nets Work   \n",
       "4         69  1987  Spatial Organization of Neural Networks: A Pro...   \n",
       "5          6  1987  A Neural-Network Solution to the Concentrator ...   \n",
       "6         33  1987             LEARNING BY STATE RECURRENCE DETECTION   \n",
       "7         36  1987              Stability Results for Neural Networks   \n",
       "8         35  1987  Introduction to a System for Implementing Neur...   \n",
       "9         19  1987  Optimization with Artificial Neural Network Sy...   \n",
       "\n",
       "                                            abstract  \\\n",
       "0                         Bit-Serial Neural Networks   \n",
       "1                        Connectivity Versus Entropy   \n",
       "2        The Hopfield Model with Multi-Level Neurons   \n",
       "3                               How Neural Nets Work   \n",
       "4  Spatial Organization of Neural Networks: A Pro...   \n",
       "5  A Neural-Network Solution to the Concentrator ...   \n",
       "6             LEARNING BY STATE RECURRENCE DETECTION   \n",
       "7              Stability Results for Neural Networks   \n",
       "8  Introduction to a System for Implementing Neur...   \n",
       "9  Optimization with Artificial Neural Network Sy...   \n",
       "\n",
       "                                           full_text  Topic  \n",
       "0  bit serial neural alan smith butler department...      0  \n",
       "1  connectivity versus entropy abu institute tech...      2  \n",
       "2  model ti level department electrical engineeri...      2  \n",
       "3  alan theoretical division neural work national...      3  \n",
       "4  spatial organization neural probabilistic mode...      0  \n",
       "5  neural network solution concentrator problem g...      2  \n",
       "6  learning st ate recurrence university ca abstr...      3  \n",
       "7  stability neural department electrical compute...      2  \n",
       "8  introduction system neural net institute compu...      3  \n",
       "9  non artificial neural network principle compar...      2  "
      ]
     },
     "execution_count": 80,
     "metadata": {},
     "output_type": "execute_result"
    }
   ],
   "source": [
    "# Associating topic to each of the documents (index of highest probability)\n",
    "\n",
    "papers['Topic'] = topic_results.argmax(axis=1)\n",
    "papers.head(10)\n"
   ]
  },
  {
   "cell_type": "code",
   "execution_count": 81,
   "metadata": {},
   "outputs": [
    {
     "data": {
      "text/plain": [
       "array(['aa', 'abbasi', 'ability', ..., 'zo', 'zone', 'zoom'], dtype=object)"
      ]
     },
     "execution_count": 81,
     "metadata": {},
     "output_type": "execute_result"
    }
   ],
   "source": [
    "tfidf.get_feature_names_out()"
   ]
  },
  {
   "cell_type": "code",
   "execution_count": 82,
   "metadata": {},
   "outputs": [
    {
     "name": "stdout",
     "output_type": "stream",
     "text": [
      "THE TOP 15 WORDS FOR TOPIC #0\n",
      "['visual', 'cell', 'response', 'input', 'activity', 'synaptic', 'stimulus', 'network', 'spike', 'neuron']\n",
      "\n",
      "\n",
      "THE TOP 15 WORDS FOR TOPIC #1\n",
      "['server', 'differential', 'ode', 'accelerated', 'asynchronous', 'saga', 'communication', 'differentially', 'private', 'privacy']\n",
      "\n",
      "\n",
      "THE TOP 15 WORDS FOR TOPIC #2\n",
      "['let', 'error', 'convex', 'bound', 'distribution', 'kernel', 'theorem', 'xi', 'log', 'matrix']\n",
      "\n",
      "\n",
      "THE TOP 15 WORDS FOR TOPIC #3\n",
      "['task', 'recognition', 'state', 'object', 'policy', 'layer', 'deep', 'network', 'training', 'image']\n",
      "\n",
      "\n",
      "THE TOP 15 WORDS FOR TOPIC #4\n",
      "['stabilization', 'infected', 'carrier', 'therapy', 'unfairness', 'rim', 'adaptor', 'epitome', 'churn', 'labeler']\n",
      "\n",
      "\n"
     ]
    }
   ],
   "source": [
    "# print out the top 10 words with highest probabilities for all the ten topics. \n",
    "\n",
    "# Each topic is a vector of 3397 probabilities (for each unique word) for how much it matches the titles component.\n",
    "# Take the top 10 words that have the highest probability to match the topic. For example the two words that match\n",
    "# the first topic the most are \"deep\", \"network\"\n",
    "for index, topic in enumerate(LDA.components_):\n",
    "    print(f\"THE TOP 15 WORDS FOR TOPIC #{index}\")\n",
    "    list_keywords = [tfidf.get_feature_names_out()[index] for index in topic.argsort()[-10:]]\n",
    "    print(list_keywords)\n",
    "    print(\"\\n\")"
   ]
  },
  {
   "cell_type": "code",
   "execution_count": 84,
   "metadata": {},
   "outputs": [
    {
     "data": {
      "text/plain": [
       "Topic\n",
       "2    5478\n",
       "3    3251\n",
       "0     951\n",
       "Name: count, dtype: int64"
      ]
     },
     "execution_count": 84,
     "metadata": {},
     "output_type": "execute_result"
    },
    {
     "data": {
      "image/png": "[encoded data removed]",
      "text/plain": [
       "<Figure size 640x480 with 1 Axes>"
      ]
     },
     "metadata": {},
     "output_type": "display_data"
    }
   ],
   "source": [
    "sns.countplot(x = 'Topic',\n",
    "              data = papers,\n",
    "              order = papers['Topic'].value_counts().index)\n",
    "\n",
    "papers['Topic'].value_counts().sort_values(ascending=False)"
   ]
  },
  {
   "cell_type": "code",
   "execution_count": 107,
   "metadata": {},
   "outputs": [],
   "source": [
    "def sample_titles_per_topic(papers_df, topic_num, sample_count = 5):\n",
    "  indices = papers_df['Topic'][papers_df['Topic'] == topic_num].index\n",
    "  \n",
    "  for i in indices[:sample_count]:\n",
    "    print (papers_df.iloc[i][\"title\"])"
   ]
  },
  {
   "cell_type": "code",
   "execution_count": 112,
   "metadata": {},
   "outputs": [
    {
     "name": "stdout",
     "output_type": "stream",
     "text": [
      "Topic 0: \n",
      "Bit-Serial Neural Networks\n",
      "Spatial Organization of Neural Networks: A Probabilistic Modeling Approach\n",
      "Optimal Neural Spike Classification\n",
      "REFLEXIVE ASSOCIATIVE MEMORIES\n",
      "Neuromorphic Networks Based on Sparse Optical Orthogonal Codes\n",
      "----------------------------------------------------------------------------------------------------\n",
      "Topic 2: \n",
      "Connectivity Versus Entropy\n",
      "The Hopfield Model with Multi-Level Neurons\n",
      "A Neural-Network Solution to the Concentrator Assignment Problem\n",
      "Stability Results for Neural Networks\n",
      "Optimization with Artificial Neural Network Systems: A Mapping Principle and a Comparison to Gradient Based Methods\n",
      "----------------------------------------------------------------------------------------------------\n",
      "Topic 3: \n",
      "How Neural Nets Work\n",
      "LEARNING BY STATE RECURRENCE DETECTION\n",
      "Introduction to a System for Implementing Neural Net Connections on SIMD Architectures\n",
      "Speech Recognition Experiments with Perceptrons\n",
      "On Tropistic Processing and Its Applications\n",
      "----------------------------------------------------------------------------------------------------\n"
     ]
    }
   ],
   "source": [
    "print (\"Topic 0: \")\n",
    "sample_titles_per_topic(papers, 0, 5)\n",
    "print (\"-\"*100)\n",
    "print (\"Topic 2: \")\n",
    "sample_titles_per_topic(papers, 2, 5)\n",
    "print (\"-\"*100)\n",
    "print (\"Topic 3: \")\n",
    "sample_titles_per_topic(papers, 3, 5)\n",
    "print (\"-\"*100)\n"
   ]
  },
  {
   "cell_type": "code",
   "execution_count": null,
   "metadata": {},
   "outputs": [],
   "source": []
  }
 ],
 "metadata": {
  "kernelspec": {
   "display_name": "Python 3",
   "language": "python",
   "name": "python3"
  },
  "language_info": {
   "codemirror_mode": {
    "name": "ipython",
    "version": 3
   },
   "file_extension": ".py",
   "mimetype": "text/x-python",
   "name": "python",
   "nbconvert_exporter": "python",
   "pygments_lexer": "ipython3",
   "version": "3.11.4"
  },
  "orig_nbformat": 4
 },
 "nbformat": 4,
 "nbformat_minor": 2
}
