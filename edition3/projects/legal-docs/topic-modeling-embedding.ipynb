{
 "cells": [
  {
   "cell_type": "code",
   "execution_count": 1,
   "metadata": {},
   "outputs": [],
   "source": [
    "import numpy as np # linear algebra\n",
    "import pandas as pd\n",
    "import seaborn as sns\n",
    "\n",
    "import os\n",
    "\n",
    "import faiss\n",
    "\n",
    "import tensorflow as tf\n",
    "\n",
    "import tensorflow_hub as hub\n",
    "\n",
    "from pprint import pprint\n",
    "\n",
    "from nltk.corpus import stopwords, words as english_words\n",
    "\n",
    "import openai\n",
    "openai.api_key = os.environ[\"OPENAI_API_KEY\"]\n",
    "\n"
   ]
  },
  {
   "cell_type": "code",
   "execution_count": 2,
   "metadata": {},
   "outputs": [
    {
     "data": {
      "text/html": [
       "<div>\n",
       "<style scoped>\n",
       "    .dataframe tbody tr th:only-of-type {\n",
       "        vertical-align: middle;\n",
       "    }\n",
       "\n",
       "    .dataframe tbody tr th {\n",
       "        vertical-align: top;\n",
       "    }\n",
       "\n",
       "    .dataframe thead th {\n",
       "        text-align: right;\n",
       "    }\n",
       "</style>\n",
       "<table border=\"1\" class=\"dataframe\">\n",
       "  <thead>\n",
       "    <tr style=\"text-align: right;\">\n",
       "      <th></th>\n",
       "      <th>case_id</th>\n",
       "      <th>case_outcome</th>\n",
       "      <th>case_title</th>\n",
       "      <th>case_text</th>\n",
       "    </tr>\n",
       "  </thead>\n",
       "  <tbody>\n",
       "    <tr>\n",
       "      <th>0</th>\n",
       "      <td>Case1</td>\n",
       "      <td>cited</td>\n",
       "      <td>Alpine Hardwood (Aust) Pty Ltd v Hardys Pty Lt...</td>\n",
       "      <td>Ordinarily that discretion will be exercised s...</td>\n",
       "    </tr>\n",
       "    <tr>\n",
       "      <th>1</th>\n",
       "      <td>Case2</td>\n",
       "      <td>cited</td>\n",
       "      <td>Black v Lipovac [1998] FCA 699 ; (1998) 217 AL...</td>\n",
       "      <td>The general principles governing the exercise ...</td>\n",
       "    </tr>\n",
       "    <tr>\n",
       "      <th>2</th>\n",
       "      <td>Case3</td>\n",
       "      <td>cited</td>\n",
       "      <td>Colgate Palmolive Co v Cussons Pty Ltd (1993) ...</td>\n",
       "      <td>Ordinarily that discretion will be exercised s...</td>\n",
       "    </tr>\n",
       "    <tr>\n",
       "      <th>3</th>\n",
       "      <td>Case4</td>\n",
       "      <td>cited</td>\n",
       "      <td>Dais Studio Pty Ltd v Bullett Creative Pty Ltd...</td>\n",
       "      <td>The general principles governing the exercise ...</td>\n",
       "    </tr>\n",
       "    <tr>\n",
       "      <th>4</th>\n",
       "      <td>Case5</td>\n",
       "      <td>cited</td>\n",
       "      <td>Dr Martens Australia Pty Ltd v Figgins Holding...</td>\n",
       "      <td>The preceding general principles inform the ex...</td>\n",
       "    </tr>\n",
       "  </tbody>\n",
       "</table>\n",
       "</div>"
      ],
      "text/plain": [
       "  case_id case_outcome                                         case_title  \\\n",
       "0   Case1        cited  Alpine Hardwood (Aust) Pty Ltd v Hardys Pty Lt...   \n",
       "1   Case2        cited  Black v Lipovac [1998] FCA 699 ; (1998) 217 AL...   \n",
       "2   Case3        cited  Colgate Palmolive Co v Cussons Pty Ltd (1993) ...   \n",
       "3   Case4        cited  Dais Studio Pty Ltd v Bullett Creative Pty Ltd...   \n",
       "4   Case5        cited  Dr Martens Australia Pty Ltd v Figgins Holding...   \n",
       "\n",
       "                                           case_text  \n",
       "0  Ordinarily that discretion will be exercised s...  \n",
       "1  The general principles governing the exercise ...  \n",
       "2  Ordinarily that discretion will be exercised s...  \n",
       "3  The general principles governing the exercise ...  \n",
       "4  The preceding general principles inform the ex...  "
      ]
     },
     "execution_count": 2,
     "metadata": {},
     "output_type": "execute_result"
    }
   ],
   "source": [
    "legal_docs = pd.read_csv(\"./data/legal_text_classification.csv\")\n",
    "legal_docs.head()"
   ]
  },
  {
   "cell_type": "code",
   "execution_count": 3,
   "metadata": {},
   "outputs": [
    {
     "name": "stdout",
     "output_type": "stream",
     "text": [
      "('Gedeon v Commissioner of New South Wales Crime Commission [2008] HCA 43 ; '\n",
      " '(2008) 82 ALJR 1465 at [43] the High Court said: The expression '\n",
      " '\"jurisdictional fact\" was used somewhat loosely in the course of '\n",
      " 'submissions. Generally the expression is used to identify a criterion the '\n",
      " 'satisfaction of which enlivens the exercise of the statutory power or '\n",
      " 'discretion in question. If the criterion be not satisfied then the decision '\n",
      " 'purportedly made in exercise of the power or discretion will have been made '\n",
      " 'without the necessary statutory authority required of the decision maker.')\n"
     ]
    }
   ],
   "source": [
    "pprint (legal_docs.iloc[100][\"case_text\"])"
   ]
  },
  {
   "cell_type": "code",
   "execution_count": 4,
   "metadata": {},
   "outputs": [
    {
     "name": "stdout",
     "output_type": "stream",
     "text": [
      "<class 'pandas.core.frame.DataFrame'>\n",
      "RangeIndex: 24985 entries, 0 to 24984\n",
      "Data columns (total 4 columns):\n",
      " #   Column        Non-Null Count  Dtype \n",
      "---  ------        --------------  ----- \n",
      " 0   case_id       24985 non-null  object\n",
      " 1   case_outcome  24985 non-null  object\n",
      " 2   case_title    24985 non-null  object\n",
      " 3   case_text     24809 non-null  object\n",
      "dtypes: object(4)\n",
      "memory usage: 780.9+ KB\n",
      "None\n"
     ]
    },
    {
     "data": {
      "text/plain": [
       "case_id           0\n",
       "case_outcome      0\n",
       "case_title        0\n",
       "case_text       176\n",
       "dtype: int64"
      ]
     },
     "execution_count": 4,
     "metadata": {},
     "output_type": "execute_result"
    }
   ],
   "source": [
    "print (legal_docs.info())\n",
    "legal_docs.isna().sum()"
   ]
  },
  {
   "cell_type": "code",
   "execution_count": 5,
   "metadata": {},
   "outputs": [],
   "source": [
    "# impute missing text with title\n",
    "legal_docs[\"case_text\"] = np.where(legal_docs[\"case_text\"].isna(), legal_docs[\"case_title\"], legal_docs[\"case_text\"])"
   ]
  },
  {
   "cell_type": "code",
   "execution_count": 6,
   "metadata": {},
   "outputs": [
    {
     "data": {
      "text/plain": [
       "case_id         0\n",
       "case_outcome    0\n",
       "case_title      0\n",
       "case_text       0\n",
       "dtype: int64"
      ]
     },
     "execution_count": 6,
     "metadata": {},
     "output_type": "execute_result"
    }
   ],
   "source": [
    "legal_docs.isna().sum()"
   ]
  },
  {
   "cell_type": "code",
   "execution_count": 7,
   "metadata": {},
   "outputs": [
    {
     "name": "stdout",
     "output_type": "stream",
     "text": [
      "module https://tfhub.dev/google/universal-sentence-encoder/4 loaded\n"
     ]
    }
   ],
   "source": [
    "module_url = \"https://tfhub.dev/google/universal-sentence-encoder/4\"\n",
    "model = hub.load(module_url)\n",
    "print (\"module %s loaded\" % module_url)\n",
    "def embed(input):\n",
    "  return model(input)"
   ]
  },
  {
   "cell_type": "code",
   "execution_count": 8,
   "metadata": {},
   "outputs": [],
   "source": [
    "text_all = legal_docs[\"case_text\"].to_list()\n",
    "text_partial = text_all[:10000]\n",
    "text_embeddings = embed(text_partial)"
   ]
  },
  {
   "cell_type": "code",
   "execution_count": 15,
   "metadata": {},
   "outputs": [
    {
     "data": {
      "text/plain": [
       "<tf.Tensor: shape=(10000, 512), dtype=float32, numpy=\n",
       "array([[ 0.03102933, -0.068979  , -0.04295269, ...,  0.01397307,\n",
       "        -0.01894638, -0.07713135],\n",
       "       [ 0.01482124, -0.06870302, -0.03530958, ..., -0.01106551,\n",
       "         0.02936252,  0.02105497],\n",
       "       [ 0.03102933, -0.068979  , -0.04295269, ...,  0.01397307,\n",
       "        -0.01894638, -0.07713135],\n",
       "       ...,\n",
       "       [-0.0264187 , -0.00344109, -0.0454563 , ...,  0.05053573,\n",
       "        -0.04314136, -0.06131158],\n",
       "       [-0.01808256,  0.00948057, -0.03791722, ...,  0.0233391 ,\n",
       "         0.01767599, -0.07593904],\n",
       "       [-0.01808256,  0.00948057, -0.03791722, ...,  0.0233391 ,\n",
       "         0.01767599, -0.07593904]], dtype=float32)>"
      ]
     },
     "execution_count": 15,
     "metadata": {},
     "output_type": "execute_result"
    }
   ],
   "source": [
    "text_embeddings"
   ]
  },
  {
   "cell_type": "code",
   "execution_count": 10,
   "metadata": {},
   "outputs": [],
   "source": [
    "text_embeddings_np = text_embeddings.numpy()\n",
    "index = faiss.IndexFlatL2(text_embeddings_np.shape[1])\n",
    "index.add(text_embeddings_np)"
   ]
  },
  {
   "cell_type": "code",
   "execution_count": 50,
   "metadata": {},
   "outputs": [
    {
     "name": "stdout",
     "output_type": "stream",
     "text": [
      "Top 5 similar documents:\n",
      "Index: 2919, Similarity Score: -0.25680971145629883\n",
      "Index: 8959, Similarity Score: -0.2823491096496582\n",
      "Index: 9668, Similarity Score: -0.28590452671051025\n",
      "Index: 9531, Similarity Score: -0.2877476215362549\n",
      "Index: 9532, Similarity Score: -0.2877476215362549\n"
     ]
    }
   ],
   "source": [
    "#query1 = \"Lawsuits involving harm to another human being.\"\n",
    "query1 = \"Native tribes lawsuits involving land claims.\"\n",
    "\n",
    "# Encode the query into an embedding\n",
    "query_embedding = embed([query1]).numpy()\n",
    "\n",
    "# Search for similar embeddings in the index\n",
    "D, I = index.search(query_embedding, k=5)  # Retrieve the top 5 similar documents\n",
    "\n",
    "# Print the indices and distances of the similar documents\n",
    "print(\"Top 5 similar documents:\")\n",
    "for i, d in zip(I[0], D[0]):\n",
    "    print(f\"Index: {i}, Similarity Score: {1 - d}\")\n"
   ]
  },
  {
   "cell_type": "code",
   "execution_count": 51,
   "metadata": {},
   "outputs": [
    {
     "name": "stdout",
     "output_type": "stream",
     "text": [
      "('Hillig as Administrator of Worimi Local Aboriginal Land Council v Minister '\n",
      " 'for Lands for the State of New South Wales [2006] FCA 61')\n",
      "('I refused an application by Mr and Mrs Parkinson for joinder to the Hillig '\n",
      " 'proceedings on the basis of their ownership of land adjoining the Port '\n",
      " 'Stephens land ( Hillig as Administrator of Worimi Local Aboriginal Land '\n",
      " 'Council v Minister for Lands for the State of New South Wales [2006] FCA '\n",
      " '61). Worimi did not seek to be joined to the Hillig proceedings within the '\n",
      " 'relevant period of notification of the non-claimant proceedings (see [39] '\n",
      " 'below). The original basis for joinder was as the applicant authorised by '\n",
      " 'the women who assert a native title interest. Worimi contends, and the '\n",
      " \"original Form 1 claimant application ('the original application') states, \"\n",
      " 'that the Port Stephens land is a sacred site for women, in the context of '\n",
      " 'childbirth. If Worimi has a claim to native title over the Port Stephens '\n",
      " 'land on behalf of a native title claim group, subject to compliance with the '\n",
      " 'Act he would have sufficient interest to be joined to the Hillig '\n",
      " 'proceedings. Mr Hillig contends, however, that if no valid assertion of '\n",
      " 'native title can be made, there can be no reason to join him to those '\n",
      " 'proceedings. It is insufficient for joinder to the non-claimant proceedings '\n",
      " 'that Worimi seeks to prevent the sale of the land ( Hillig at [27]). The '\n",
      " 'original application, filed on 9 February 2006, was prepared before Worimi '\n",
      " 'had legal advice. In the original application the native title claim group '\n",
      " \"is said to be ' the female members of the Garuahgal people who are descended \"\n",
      " 'from Mary Mahr born in 1847...being those aboriginal people whose '\n",
      " 'traditional lands and waters are situated in the Port Stephens area of New '\n",
      " \"South Wales '. Worimi asserts that authority to make the claimant \"\n",
      " \"application ' was given to me as the Custodian and Protector of the \"\n",
      " \"Garuahgal Women '.\")\n"
     ]
    }
   ],
   "source": [
    "idx = 2919\n",
    "\n",
    "pprint (legal_docs.iloc[idx][\"case_title\"])\n",
    "pprint (text_partial[idx])\n"
   ]
  },
  {
   "cell_type": "code",
   "execution_count": 46,
   "metadata": {},
   "outputs": [],
   "source": [
    "def summarize_text(text, num_sentences=5, english_level=9):\n",
    "  response = openai.ChatCompletion.create(\n",
    "    model = \"gpt-3.5-turbo\",\n",
    "    temperature = 0,\n",
    "    messages = [{\"role\":\"system\", \"content\": f\"Follow these instructions when writing the summary:\\\n",
    "      \\n1. Write a clear and concise summary consisting of {num_sentences} sentences \\\n",
    "      \\n2. The summary's english level matches that of a person with {english_level} years of education \\\n",
    "      \\n3. The summary should consist of an explanation of what the case is about, who's involved and the outcome\"\n",
    "      },\n",
    "      {\"role\": \"user\", \"content\":f\"Write a summary of the following text:{text}\"}]\n",
    "    )\n",
    "\n",
    "  return response['choices'][0]['message']['content']\n"
   ]
  },
  {
   "cell_type": "code",
   "execution_count": 52,
   "metadata": {},
   "outputs": [],
   "source": [
    "summary = summarize_text(text_partial[idx])"
   ]
  },
  {
   "cell_type": "code",
   "execution_count": 53,
   "metadata": {},
   "outputs": [
    {
     "name": "stdout",
     "output_type": "stream",
     "text": [
      "('Mr and Mrs Parkinson applied to join the Hillig proceedings, but their '\n",
      " 'application was refused. The basis for their joinder was their ownership of '\n",
      " 'land adjoining the Port Stephens land. Worimi, the applicant authorized by '\n",
      " 'the women asserting a native title interest, did not seek to be joined to '\n",
      " 'the Hillig proceedings within the relevant period of notification. Worimi '\n",
      " 'claims that the Port Stephens land is a sacred site for women in the context '\n",
      " 'of childbirth. However, Mr Hillig argues that if no valid assertion of '\n",
      " 'native title can be made, there is no reason to join him to the proceedings. '\n",
      " 'The original application was filed before Worimi had legal advice and stated '\n",
      " 'that the native title claim group consists of the female members of the '\n",
      " 'Garuahgal people descended from Mary Mahr.')\n"
     ]
    }
   ],
   "source": [
    "pprint (summary)"
   ]
  },
  {
   "cell_type": "code",
   "execution_count": null,
   "metadata": {},
   "outputs": [],
   "source": []
  }
 ],
 "metadata": {
  "kernelspec": {
   "display_name": "Python 3",
   "language": "python",
   "name": "python3"
  },
  "language_info": {
   "codemirror_mode": {
    "name": "ipython",
    "version": 3
   },
   "file_extension": ".py",
   "mimetype": "text/x-python",
   "name": "python",
   "nbconvert_exporter": "python",
   "pygments_lexer": "ipython3",
   "version": "3.10.0"
  },
  "orig_nbformat": 4
 },
 "nbformat": 4,
 "nbformat_minor": 2
}
