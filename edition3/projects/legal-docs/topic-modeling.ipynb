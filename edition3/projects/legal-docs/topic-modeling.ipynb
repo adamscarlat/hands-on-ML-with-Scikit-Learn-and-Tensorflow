{
 "cells": [
  {
   "cell_type": "code",
   "execution_count": 1,
   "metadata": {},
   "outputs": [],
   "source": [
    "import numpy as np # linear algebra\n",
    "import pandas as pd\n",
    "import seaborn as sns\n",
    "import nltk\n",
    "import re\n",
    "import os\n",
    "from pprint import pprint\n",
    "\n",
    "from sklearn.feature_extraction.text import TfidfVectorizer\n",
    "from sklearn.decomposition import LatentDirichletAllocation\n",
    "from sklearn.metrics.pairwise import cosine_similarity\n",
    "\n",
    "from nltk.corpus import stopwords, words as english_words\n",
    "\n",
    "import openai\n",
    "openai.api_key = os.environ[\"OPENAI_API_KEY\"]\n",
    "\n"
   ]
  },
  {
   "cell_type": "code",
   "execution_count": 2,
   "metadata": {},
   "outputs": [
    {
     "name": "stderr",
     "output_type": "stream",
     "text": [
      "[nltk_data] Downloading package stopwords to\n",
      "[nltk_data]     C:\\Users\\AdamScarlat\\AppData\\Roaming\\nltk_data...\n",
      "[nltk_data]   Unzipping corpora\\stopwords.zip.\n",
      "[nltk_data] Downloading package words to\n",
      "[nltk_data]     C:\\Users\\AdamScarlat\\AppData\\Roaming\\nltk_data...\n",
      "[nltk_data]   Unzipping corpora\\words.zip.\n"
     ]
    },
    {
     "data": {
      "text/plain": [
       "True"
      ]
     },
     "execution_count": 2,
     "metadata": {},
     "output_type": "execute_result"
    }
   ],
   "source": [
    "nltk.download(\"stopwords\")\n",
    "nltk.download(\"words\")"
   ]
  },
  {
   "cell_type": "code",
   "execution_count": 3,
   "metadata": {},
   "outputs": [
    {
     "data": {
      "text/html": [
       "<div>\n",
       "<style scoped>\n",
       "    .dataframe tbody tr th:only-of-type {\n",
       "        vertical-align: middle;\n",
       "    }\n",
       "\n",
       "    .dataframe tbody tr th {\n",
       "        vertical-align: top;\n",
       "    }\n",
       "\n",
       "    .dataframe thead th {\n",
       "        text-align: right;\n",
       "    }\n",
       "</style>\n",
       "<table border=\"1\" class=\"dataframe\">\n",
       "  <thead>\n",
       "    <tr style=\"text-align: right;\">\n",
       "      <th></th>\n",
       "      <th>case_id</th>\n",
       "      <th>case_outcome</th>\n",
       "      <th>case_title</th>\n",
       "      <th>case_text</th>\n",
       "    </tr>\n",
       "  </thead>\n",
       "  <tbody>\n",
       "    <tr>\n",
       "      <th>0</th>\n",
       "      <td>Case1</td>\n",
       "      <td>cited</td>\n",
       "      <td>Alpine Hardwood (Aust) Pty Ltd v Hardys Pty Lt...</td>\n",
       "      <td>Ordinarily that discretion will be exercised s...</td>\n",
       "    </tr>\n",
       "    <tr>\n",
       "      <th>1</th>\n",
       "      <td>Case2</td>\n",
       "      <td>cited</td>\n",
       "      <td>Black v Lipovac [1998] FCA 699 ; (1998) 217 AL...</td>\n",
       "      <td>The general principles governing the exercise ...</td>\n",
       "    </tr>\n",
       "    <tr>\n",
       "      <th>2</th>\n",
       "      <td>Case3</td>\n",
       "      <td>cited</td>\n",
       "      <td>Colgate Palmolive Co v Cussons Pty Ltd (1993) ...</td>\n",
       "      <td>Ordinarily that discretion will be exercised s...</td>\n",
       "    </tr>\n",
       "    <tr>\n",
       "      <th>3</th>\n",
       "      <td>Case4</td>\n",
       "      <td>cited</td>\n",
       "      <td>Dais Studio Pty Ltd v Bullett Creative Pty Ltd...</td>\n",
       "      <td>The general principles governing the exercise ...</td>\n",
       "    </tr>\n",
       "    <tr>\n",
       "      <th>4</th>\n",
       "      <td>Case5</td>\n",
       "      <td>cited</td>\n",
       "      <td>Dr Martens Australia Pty Ltd v Figgins Holding...</td>\n",
       "      <td>The preceding general principles inform the ex...</td>\n",
       "    </tr>\n",
       "  </tbody>\n",
       "</table>\n",
       "</div>"
      ],
      "text/plain": [
       "  case_id case_outcome                                         case_title  \\\n",
       "0   Case1        cited  Alpine Hardwood (Aust) Pty Ltd v Hardys Pty Lt...   \n",
       "1   Case2        cited  Black v Lipovac [1998] FCA 699 ; (1998) 217 AL...   \n",
       "2   Case3        cited  Colgate Palmolive Co v Cussons Pty Ltd (1993) ...   \n",
       "3   Case4        cited  Dais Studio Pty Ltd v Bullett Creative Pty Ltd...   \n",
       "4   Case5        cited  Dr Martens Australia Pty Ltd v Figgins Holding...   \n",
       "\n",
       "                                           case_text  \n",
       "0  Ordinarily that discretion will be exercised s...  \n",
       "1  The general principles governing the exercise ...  \n",
       "2  Ordinarily that discretion will be exercised s...  \n",
       "3  The general principles governing the exercise ...  \n",
       "4  The preceding general principles inform the ex...  "
      ]
     },
     "execution_count": 3,
     "metadata": {},
     "output_type": "execute_result"
    }
   ],
   "source": [
    "legal_docs = pd.read_csv(\"./data/legal_text_classification.csv\")\n",
    "legal_docs.head()"
   ]
  },
  {
   "cell_type": "code",
   "execution_count": 4,
   "metadata": {},
   "outputs": [
    {
     "name": "stdout",
     "output_type": "stream",
     "text": [
      "('Gedeon v Commissioner of New South Wales Crime Commission [2008] HCA 43 ; '\n",
      " '(2008) 82 ALJR 1465 at [43] the High Court said: The expression '\n",
      " '\"jurisdictional fact\" was used somewhat loosely in the course of '\n",
      " 'submissions. Generally the expression is used to identify a criterion the '\n",
      " 'satisfaction of which enlivens the exercise of the statutory power or '\n",
      " 'discretion in question. If the criterion be not satisfied then the decision '\n",
      " 'purportedly made in exercise of the power or discretion will have been made '\n",
      " 'without the necessary statutory authority required of the decision maker.')\n"
     ]
    }
   ],
   "source": [
    "pprint (legal_docs.iloc[100][\"case_text\"])"
   ]
  },
  {
   "cell_type": "code",
   "execution_count": 5,
   "metadata": {},
   "outputs": [
    {
     "name": "stdout",
     "output_type": "stream",
     "text": [
      "<class 'pandas.core.frame.DataFrame'>\n",
      "RangeIndex: 24985 entries, 0 to 24984\n",
      "Data columns (total 4 columns):\n",
      " #   Column        Non-Null Count  Dtype \n",
      "---  ------        --------------  ----- \n",
      " 0   case_id       24985 non-null  object\n",
      " 1   case_outcome  24985 non-null  object\n",
      " 2   case_title    24985 non-null  object\n",
      " 3   case_text     24809 non-null  object\n",
      "dtypes: object(4)\n",
      "memory usage: 780.9+ KB\n",
      "None\n"
     ]
    },
    {
     "data": {
      "text/plain": [
       "case_id           0\n",
       "case_outcome      0\n",
       "case_title        0\n",
       "case_text       176\n",
       "dtype: int64"
      ]
     },
     "execution_count": 5,
     "metadata": {},
     "output_type": "execute_result"
    }
   ],
   "source": [
    "print (legal_docs.info())\n",
    "legal_docs.isna().sum()"
   ]
  },
  {
   "cell_type": "code",
   "execution_count": 6,
   "metadata": {},
   "outputs": [],
   "source": [
    "# impute missing text with title\n",
    "legal_docs[\"case_text\"] = np.where(legal_docs[\"case_text\"].isna(), legal_docs[\"case_title\"], legal_docs[\"case_text\"])"
   ]
  },
  {
   "cell_type": "code",
   "execution_count": 7,
   "metadata": {},
   "outputs": [
    {
     "data": {
      "text/plain": [
       "case_id         0\n",
       "case_outcome    0\n",
       "case_title      0\n",
       "case_text       0\n",
       "dtype: int64"
      ]
     },
     "execution_count": 7,
     "metadata": {},
     "output_type": "execute_result"
    }
   ],
   "source": [
    "legal_docs.isna().sum()"
   ]
  },
  {
   "cell_type": "code",
   "execution_count": 8,
   "metadata": {},
   "outputs": [
    {
     "data": {
      "text/html": [
       "<div>\n",
       "<style scoped>\n",
       "    .dataframe tbody tr th:only-of-type {\n",
       "        vertical-align: middle;\n",
       "    }\n",
       "\n",
       "    .dataframe tbody tr th {\n",
       "        vertical-align: top;\n",
       "    }\n",
       "\n",
       "    .dataframe thead th {\n",
       "        text-align: right;\n",
       "    }\n",
       "</style>\n",
       "<table border=\"1\" class=\"dataframe\">\n",
       "  <thead>\n",
       "    <tr style=\"text-align: right;\">\n",
       "      <th></th>\n",
       "      <th>case_id</th>\n",
       "      <th>case_outcome</th>\n",
       "      <th>case_title</th>\n",
       "      <th>case_text</th>\n",
       "      <th>case_text_clean</th>\n",
       "    </tr>\n",
       "  </thead>\n",
       "  <tbody>\n",
       "    <tr>\n",
       "      <th>0</th>\n",
       "      <td>Case1</td>\n",
       "      <td>cited</td>\n",
       "      <td>Alpine Hardwood (Aust) Pty Ltd v Hardys Pty Lt...</td>\n",
       "      <td>Ordinarily that discretion will be exercised s...</td>\n",
       "      <td>ordinarily discretion follow event party party...</td>\n",
       "    </tr>\n",
       "    <tr>\n",
       "      <th>1</th>\n",
       "      <td>Case2</td>\n",
       "      <td>cited</td>\n",
       "      <td>Black v Lipovac [1998] FCA 699 ; (1998) 217 AL...</td>\n",
       "      <td>The general principles governing the exercise ...</td>\n",
       "      <td>general governing exercise discretion award in...</td>\n",
       "    </tr>\n",
       "    <tr>\n",
       "      <th>2</th>\n",
       "      <td>Case3</td>\n",
       "      <td>cited</td>\n",
       "      <td>Colgate Palmolive Co v Cussons Pty Ltd (1993) ...</td>\n",
       "      <td>Ordinarily that discretion will be exercised s...</td>\n",
       "      <td>ordinarily discretion follow event party party...</td>\n",
       "    </tr>\n",
       "    <tr>\n",
       "      <th>3</th>\n",
       "      <td>Case4</td>\n",
       "      <td>cited</td>\n",
       "      <td>Dais Studio Pty Ltd v Bullett Creative Pty Ltd...</td>\n",
       "      <td>The general principles governing the exercise ...</td>\n",
       "      <td>general governing exercise discretion award in...</td>\n",
       "    </tr>\n",
       "    <tr>\n",
       "      <th>4</th>\n",
       "      <td>Case5</td>\n",
       "      <td>cited</td>\n",
       "      <td>Dr Martens Australia Pty Ltd v Figgins Holding...</td>\n",
       "      <td>The preceding general principles inform the ex...</td>\n",
       "      <td>preceding general inform exercise discretion d...</td>\n",
       "    </tr>\n",
       "    <tr>\n",
       "      <th>...</th>\n",
       "      <td>...</td>\n",
       "      <td>...</td>\n",
       "      <td>...</td>\n",
       "      <td>...</td>\n",
       "      <td>...</td>\n",
       "    </tr>\n",
       "    <tr>\n",
       "      <th>24980</th>\n",
       "      <td>Case25203</td>\n",
       "      <td>cited</td>\n",
       "      <td>Reches Pty Ltd v Tadiran Pty Ltd (1998) 85 FCR...</td>\n",
       "      <td>That is not confined to persons who control th...</td>\n",
       "      <td>confined control company benefit succeed unrep...</td>\n",
       "    </tr>\n",
       "    <tr>\n",
       "      <th>24981</th>\n",
       "      <td>Case25204</td>\n",
       "      <td>cited</td>\n",
       "      <td>Sir Lindsay Parkinson &amp;amp; Co Ltd v Triplan L...</td>\n",
       "      <td>Once the threshold prescribed by s 1335 is sat...</td>\n",
       "      <td>threshold satisfied discretion whether order s...</td>\n",
       "    </tr>\n",
       "    <tr>\n",
       "      <th>24982</th>\n",
       "      <td>Case25205</td>\n",
       "      <td>cited</td>\n",
       "      <td>Spiel v Commodity Brokers Australia Pty Ltd (I...</td>\n",
       "      <td>Once the threshold prescribed by s 1335 is sat...</td>\n",
       "      <td>threshold satisfied discretion whether order s...</td>\n",
       "    </tr>\n",
       "    <tr>\n",
       "      <th>24983</th>\n",
       "      <td>Case25206</td>\n",
       "      <td>distinguished</td>\n",
       "      <td>Tullock Ltd v Walker (Unreported, Supreme Cour...</td>\n",
       "      <td>Given the extent to which Deumer stands to gai...</td>\n",
       "      <td>given extent gain successful cause action appa...</td>\n",
       "    </tr>\n",
       "    <tr>\n",
       "      <th>24984</th>\n",
       "      <td>Case25207</td>\n",
       "      <td>distinguished</td>\n",
       "      <td>Yandil Holdings Pty Ltd v Insurance Co of Nort...</td>\n",
       "      <td>In my view, it is clear that the Court may do ...</td>\n",
       "      <td>view clear court may number face contention se...</td>\n",
       "    </tr>\n",
       "  </tbody>\n",
       "</table>\n",
       "<p>24985 rows × 5 columns</p>\n",
       "</div>"
      ],
      "text/plain": [
       "         case_id   case_outcome  \\\n",
       "0          Case1          cited   \n",
       "1          Case2          cited   \n",
       "2          Case3          cited   \n",
       "3          Case4          cited   \n",
       "4          Case5          cited   \n",
       "...          ...            ...   \n",
       "24980  Case25203          cited   \n",
       "24981  Case25204          cited   \n",
       "24982  Case25205          cited   \n",
       "24983  Case25206  distinguished   \n",
       "24984  Case25207  distinguished   \n",
       "\n",
       "                                              case_title  \\\n",
       "0      Alpine Hardwood (Aust) Pty Ltd v Hardys Pty Lt...   \n",
       "1      Black v Lipovac [1998] FCA 699 ; (1998) 217 AL...   \n",
       "2      Colgate Palmolive Co v Cussons Pty Ltd (1993) ...   \n",
       "3      Dais Studio Pty Ltd v Bullett Creative Pty Ltd...   \n",
       "4      Dr Martens Australia Pty Ltd v Figgins Holding...   \n",
       "...                                                  ...   \n",
       "24980  Reches Pty Ltd v Tadiran Pty Ltd (1998) 85 FCR...   \n",
       "24981  Sir Lindsay Parkinson &amp; Co Ltd v Triplan L...   \n",
       "24982  Spiel v Commodity Brokers Australia Pty Ltd (I...   \n",
       "24983  Tullock Ltd v Walker (Unreported, Supreme Cour...   \n",
       "24984  Yandil Holdings Pty Ltd v Insurance Co of Nort...   \n",
       "\n",
       "                                               case_text  \\\n",
       "0      Ordinarily that discretion will be exercised s...   \n",
       "1      The general principles governing the exercise ...   \n",
       "2      Ordinarily that discretion will be exercised s...   \n",
       "3      The general principles governing the exercise ...   \n",
       "4      The preceding general principles inform the ex...   \n",
       "...                                                  ...   \n",
       "24980  That is not confined to persons who control th...   \n",
       "24981  Once the threshold prescribed by s 1335 is sat...   \n",
       "24982  Once the threshold prescribed by s 1335 is sat...   \n",
       "24983  Given the extent to which Deumer stands to gai...   \n",
       "24984  In my view, it is clear that the Court may do ...   \n",
       "\n",
       "                                         case_text_clean  \n",
       "0      ordinarily discretion follow event party party...  \n",
       "1      general governing exercise discretion award in...  \n",
       "2      ordinarily discretion follow event party party...  \n",
       "3      general governing exercise discretion award in...  \n",
       "4      preceding general inform exercise discretion d...  \n",
       "...                                                  ...  \n",
       "24980  confined control company benefit succeed unrep...  \n",
       "24981  threshold satisfied discretion whether order s...  \n",
       "24982  threshold satisfied discretion whether order s...  \n",
       "24983  given extent gain successful cause action appa...  \n",
       "24984  view clear court may number face contention se...  \n",
       "\n",
       "[24985 rows x 5 columns]"
      ]
     },
     "execution_count": 8,
     "metadata": {},
     "output_type": "execute_result"
    }
   ],
   "source": [
    "def clean_text_column(df, text_column_name):\n",
    "    # Define a set of English stopwords\n",
    "    stop_words = set(stopwords.words(\"english\"))\n",
    "\n",
    "    # Define a set of valid English words\n",
    "    english_words_set = set(english_words.words())\n",
    "\n",
    "    # Helper function to clean a single text string\n",
    "    def clean_text(text):\n",
    "        # Remove non-alphabetic characters and convert to lowercase\n",
    "        text = re.sub(r\"[^a-zA-Z]\", \" \", text).lower()\n",
    "\n",
    "        # Tokenize the text into words\n",
    "        words = text.split()\n",
    "\n",
    "        # Remove stopwords, single-letter words, and non-English words\n",
    "        words = [word for word in words if word not in stop_words and len(word) > 1 and word in english_words_set]\n",
    "\n",
    "        # Join the cleaned words back into a string\n",
    "        cleaned_text = \" \".join(words)\n",
    "\n",
    "        return cleaned_text\n",
    "    \n",
    "    clean_column_name = f\"{text_column_name}_clean\"\n",
    "    # Apply the clean_text function to the specified column\n",
    "    df[clean_column_name] = df[text_column_name].apply(clean_text)\n",
    "\n",
    "    return df\n",
    "\n",
    "\n",
    "clean_text_column(legal_docs, 'case_text')\n"
   ]
  },
  {
   "cell_type": "code",
   "execution_count": 153,
   "metadata": {},
   "outputs": [
    {
     "data": {
      "text/plain": [
       "(24985, 10000)"
      ]
     },
     "execution_count": 153,
     "metadata": {},
     "output_type": "execute_result"
    }
   ],
   "source": [
    "\n",
    "tfidf = TfidfVectorizer(max_df=0.9, min_df=2, max_features=10000, stop_words='english', token_pattern=r'(?u)\\b[A-Za-z]+\\b')\n",
    "dtm = tfidf.fit_transform(legal_docs['case_text_clean'])\n",
    "\n",
    "dtm.shape"
   ]
  },
  {
   "cell_type": "code",
   "execution_count": 154,
   "metadata": {},
   "outputs": [
    {
     "data": {
      "text/html": [
       "<style>#sk-container-id-3 {color: black;}#sk-container-id-3 pre{padding: 0;}#sk-container-id-3 div.sk-toggleable {background-color: white;}#sk-container-id-3 label.sk-toggleable__label {cursor: pointer;display: block;width: 100%;margin-bottom: 0;padding: 0.3em;box-sizing: border-box;text-align: center;}#sk-container-id-3 label.sk-toggleable__label-arrow:before {content: \"▸\";float: left;margin-right: 0.25em;color: #696969;}#sk-container-id-3 label.sk-toggleable__label-arrow:hover:before {color: black;}#sk-container-id-3 div.sk-estimator:hover label.sk-toggleable__label-arrow:before {color: black;}#sk-container-id-3 div.sk-toggleable__content {max-height: 0;max-width: 0;overflow: hidden;text-align: left;background-color: #f0f8ff;}#sk-container-id-3 div.sk-toggleable__content pre {margin: 0.2em;color: black;border-radius: 0.25em;background-color: #f0f8ff;}#sk-container-id-3 input.sk-toggleable__control:checked~div.sk-toggleable__content {max-height: 200px;max-width: 100%;overflow: auto;}#sk-container-id-3 input.sk-toggleable__control:checked~label.sk-toggleable__label-arrow:before {content: \"▾\";}#sk-container-id-3 div.sk-estimator input.sk-toggleable__control:checked~label.sk-toggleable__label {background-color: #d4ebff;}#sk-container-id-3 div.sk-label input.sk-toggleable__control:checked~label.sk-toggleable__label {background-color: #d4ebff;}#sk-container-id-3 input.sk-hidden--visually {border: 0;clip: rect(1px 1px 1px 1px);clip: rect(1px, 1px, 1px, 1px);height: 1px;margin: -1px;overflow: hidden;padding: 0;position: absolute;width: 1px;}#sk-container-id-3 div.sk-estimator {font-family: monospace;background-color: #f0f8ff;border: 1px dotted black;border-radius: 0.25em;box-sizing: border-box;margin-bottom: 0.5em;}#sk-container-id-3 div.sk-estimator:hover {background-color: #d4ebff;}#sk-container-id-3 div.sk-parallel-item::after {content: \"\";width: 100%;border-bottom: 1px solid gray;flex-grow: 1;}#sk-container-id-3 div.sk-label:hover label.sk-toggleable__label {background-color: #d4ebff;}#sk-container-id-3 div.sk-serial::before {content: \"\";position: absolute;border-left: 1px solid gray;box-sizing: border-box;top: 0;bottom: 0;left: 50%;z-index: 0;}#sk-container-id-3 div.sk-serial {display: flex;flex-direction: column;align-items: center;background-color: white;padding-right: 0.2em;padding-left: 0.2em;position: relative;}#sk-container-id-3 div.sk-item {position: relative;z-index: 1;}#sk-container-id-3 div.sk-parallel {display: flex;align-items: stretch;justify-content: center;background-color: white;position: relative;}#sk-container-id-3 div.sk-item::before, #sk-container-id-3 div.sk-parallel-item::before {content: \"\";position: absolute;border-left: 1px solid gray;box-sizing: border-box;top: 0;bottom: 0;left: 50%;z-index: -1;}#sk-container-id-3 div.sk-parallel-item {display: flex;flex-direction: column;z-index: 1;position: relative;background-color: white;}#sk-container-id-3 div.sk-parallel-item:first-child::after {align-self: flex-end;width: 50%;}#sk-container-id-3 div.sk-parallel-item:last-child::after {align-self: flex-start;width: 50%;}#sk-container-id-3 div.sk-parallel-item:only-child::after {width: 0;}#sk-container-id-3 div.sk-dashed-wrapped {border: 1px dashed gray;margin: 0 0.4em 0.5em 0.4em;box-sizing: border-box;padding-bottom: 0.4em;background-color: white;}#sk-container-id-3 div.sk-label label {font-family: monospace;font-weight: bold;display: inline-block;line-height: 1.2em;}#sk-container-id-3 div.sk-label-container {text-align: center;}#sk-container-id-3 div.sk-container {/* jupyter's `normalize.less` sets `[hidden] { display: none; }` but bootstrap.min.css set `[hidden] { display: none !important; }` so we also need the `!important` here to be able to override the default hidden behavior on the sphinx rendered scikit-learn.org. See: https://github.com/scikit-learn/scikit-learn/issues/21755 */display: inline-block !important;position: relative;}#sk-container-id-3 div.sk-text-repr-fallback {display: none;}</style><div id=\"sk-container-id-3\" class=\"sk-top-container\"><div class=\"sk-text-repr-fallback\"><pre>LatentDirichletAllocation(n_components=5, random_state=101)</pre><b>In a Jupyter environment, please rerun this cell to show the HTML representation or trust the notebook. <br />On GitHub, the HTML representation is unable to render, please try loading this page with nbviewer.org.</b></div><div class=\"sk-container\" hidden><div class=\"sk-item\"><div class=\"sk-estimator sk-toggleable\"><input class=\"sk-toggleable__control sk-hidden--visually\" id=\"sk-estimator-id-3\" type=\"checkbox\" checked><label for=\"sk-estimator-id-3\" class=\"sk-toggleable__label sk-toggleable__label-arrow\">LatentDirichletAllocation</label><div class=\"sk-toggleable__content\"><pre>LatentDirichletAllocation(n_components=5, random_state=101)</pre></div></div></div></div></div>"
      ],
      "text/plain": [
       "LatentDirichletAllocation(n_components=5, random_state=101)"
      ]
     },
     "execution_count": 154,
     "metadata": {},
     "output_type": "execute_result"
    }
   ],
   "source": [
    "LDA = LatentDirichletAllocation(n_components=5, random_state=101)\n",
    "LDA.fit(dtm)"
   ]
  },
  {
   "cell_type": "code",
   "execution_count": 155,
   "metadata": {},
   "outputs": [
    {
     "data": {
      "text/plain": [
       "(5, 10000)"
      ]
     },
     "execution_count": 155,
     "metadata": {},
     "output_type": "execute_result"
    }
   ],
   "source": [
    "LDA.components_.shape"
   ]
  },
  {
   "cell_type": "code",
   "execution_count": 156,
   "metadata": {},
   "outputs": [
    {
     "data": {
      "text/plain": [
       "(24985, 5)"
      ]
     },
     "execution_count": 156,
     "metadata": {},
     "output_type": "execute_result"
    }
   ],
   "source": [
    "topic_results = LDA.transform(dtm)\n",
    "\n",
    "# Now we will check the shape\n",
    "topic_results.shape"
   ]
  },
  {
   "cell_type": "code",
   "execution_count": 157,
   "metadata": {},
   "outputs": [
    {
     "data": {
      "text/plain": [
       "array([0.83431592, 0.04138432, 0.04147253, 0.04134339, 0.04148383])"
      ]
     },
     "execution_count": 157,
     "metadata": {},
     "output_type": "execute_result"
    }
   ],
   "source": [
    "topic_results[0]"
   ]
  },
  {
   "cell_type": "code",
   "execution_count": 158,
   "metadata": {},
   "outputs": [
    {
     "data": {
      "text/html": [
       "<div>\n",
       "<style scoped>\n",
       "    .dataframe tbody tr th:only-of-type {\n",
       "        vertical-align: middle;\n",
       "    }\n",
       "\n",
       "    .dataframe tbody tr th {\n",
       "        vertical-align: top;\n",
       "    }\n",
       "\n",
       "    .dataframe thead th {\n",
       "        text-align: right;\n",
       "    }\n",
       "</style>\n",
       "<table border=\"1\" class=\"dataframe\">\n",
       "  <thead>\n",
       "    <tr style=\"text-align: right;\">\n",
       "      <th></th>\n",
       "      <th>case_id</th>\n",
       "      <th>case_outcome</th>\n",
       "      <th>case_title</th>\n",
       "      <th>case_text</th>\n",
       "      <th>case_text_clean</th>\n",
       "      <th>Topic</th>\n",
       "    </tr>\n",
       "  </thead>\n",
       "  <tbody>\n",
       "    <tr>\n",
       "      <th>0</th>\n",
       "      <td>Case1</td>\n",
       "      <td>cited</td>\n",
       "      <td>Alpine Hardwood (Aust) Pty Ltd v Hardys Pty Lt...</td>\n",
       "      <td>Ordinarily that discretion will be exercised s...</td>\n",
       "      <td>ordinarily discretion follow event party party...</td>\n",
       "      <td>0</td>\n",
       "    </tr>\n",
       "    <tr>\n",
       "      <th>1</th>\n",
       "      <td>Case2</td>\n",
       "      <td>cited</td>\n",
       "      <td>Black v Lipovac [1998] FCA 699 ; (1998) 217 AL...</td>\n",
       "      <td>The general principles governing the exercise ...</td>\n",
       "      <td>general governing exercise discretion award in...</td>\n",
       "      <td>0</td>\n",
       "    </tr>\n",
       "    <tr>\n",
       "      <th>2</th>\n",
       "      <td>Case3</td>\n",
       "      <td>cited</td>\n",
       "      <td>Colgate Palmolive Co v Cussons Pty Ltd (1993) ...</td>\n",
       "      <td>Ordinarily that discretion will be exercised s...</td>\n",
       "      <td>ordinarily discretion follow event party party...</td>\n",
       "      <td>0</td>\n",
       "    </tr>\n",
       "    <tr>\n",
       "      <th>3</th>\n",
       "      <td>Case4</td>\n",
       "      <td>cited</td>\n",
       "      <td>Dais Studio Pty Ltd v Bullett Creative Pty Ltd...</td>\n",
       "      <td>The general principles governing the exercise ...</td>\n",
       "      <td>general governing exercise discretion award in...</td>\n",
       "      <td>0</td>\n",
       "    </tr>\n",
       "    <tr>\n",
       "      <th>4</th>\n",
       "      <td>Case5</td>\n",
       "      <td>cited</td>\n",
       "      <td>Dr Martens Australia Pty Ltd v Figgins Holding...</td>\n",
       "      <td>The preceding general principles inform the ex...</td>\n",
       "      <td>preceding general inform exercise discretion d...</td>\n",
       "      <td>0</td>\n",
       "    </tr>\n",
       "    <tr>\n",
       "      <th>5</th>\n",
       "      <td>Case6</td>\n",
       "      <td>cited</td>\n",
       "      <td>GEC Marconi Systems Pty Ltd v BHP Information ...</td>\n",
       "      <td>I accept that the making of a rolled up offer ...</td>\n",
       "      <td>accept making rolled offer inclusive interest ...</td>\n",
       "      <td>0</td>\n",
       "    </tr>\n",
       "    <tr>\n",
       "      <th>6</th>\n",
       "      <td>Case7</td>\n",
       "      <td>cited</td>\n",
       "      <td>John S Hayes &amp;amp; Associates Pty Ltd v Kimber...</td>\n",
       "      <td>The preceding general principles inform the ex...</td>\n",
       "      <td>preceding general inform exercise discretion d...</td>\n",
       "      <td>0</td>\n",
       "    </tr>\n",
       "    <tr>\n",
       "      <th>7</th>\n",
       "      <td>Case8</td>\n",
       "      <td>cited</td>\n",
       "      <td>Seven Network Limited v News Limited (2007) 24...</td>\n",
       "      <td>On the question of the level of unreasonablene...</td>\n",
       "      <td>question level unreasonableness necessary attr...</td>\n",
       "      <td>4</td>\n",
       "    </tr>\n",
       "    <tr>\n",
       "      <th>8</th>\n",
       "      <td>Case9</td>\n",
       "      <td>applied</td>\n",
       "      <td>Australian Broadcasting Corporation v O'Neill ...</td>\n",
       "      <td>recent decision of the High Court in Australia...</td>\n",
       "      <td>recent decision high court corporation issue v...</td>\n",
       "      <td>2</td>\n",
       "    </tr>\n",
       "    <tr>\n",
       "      <th>9</th>\n",
       "      <td>Case10</td>\n",
       "      <td>followed</td>\n",
       "      <td>Hexal Australia Pty Ltd v Roche Therapeutics I...</td>\n",
       "      <td>Hexal Australia Pty Ltd v Roche Therapeutics I...</td>\n",
       "      <td>therapeutics likelihood irreparable harm stone...</td>\n",
       "      <td>4</td>\n",
       "    </tr>\n",
       "  </tbody>\n",
       "</table>\n",
       "</div>"
      ],
      "text/plain": [
       "  case_id case_outcome                                         case_title  \\\n",
       "0   Case1        cited  Alpine Hardwood (Aust) Pty Ltd v Hardys Pty Lt...   \n",
       "1   Case2        cited  Black v Lipovac [1998] FCA 699 ; (1998) 217 AL...   \n",
       "2   Case3        cited  Colgate Palmolive Co v Cussons Pty Ltd (1993) ...   \n",
       "3   Case4        cited  Dais Studio Pty Ltd v Bullett Creative Pty Ltd...   \n",
       "4   Case5        cited  Dr Martens Australia Pty Ltd v Figgins Holding...   \n",
       "5   Case6        cited  GEC Marconi Systems Pty Ltd v BHP Information ...   \n",
       "6   Case7        cited  John S Hayes &amp; Associates Pty Ltd v Kimber...   \n",
       "7   Case8        cited  Seven Network Limited v News Limited (2007) 24...   \n",
       "8   Case9      applied  Australian Broadcasting Corporation v O'Neill ...   \n",
       "9  Case10     followed  Hexal Australia Pty Ltd v Roche Therapeutics I...   \n",
       "\n",
       "                                           case_text  \\\n",
       "0  Ordinarily that discretion will be exercised s...   \n",
       "1  The general principles governing the exercise ...   \n",
       "2  Ordinarily that discretion will be exercised s...   \n",
       "3  The general principles governing the exercise ...   \n",
       "4  The preceding general principles inform the ex...   \n",
       "5  I accept that the making of a rolled up offer ...   \n",
       "6  The preceding general principles inform the ex...   \n",
       "7  On the question of the level of unreasonablene...   \n",
       "8  recent decision of the High Court in Australia...   \n",
       "9  Hexal Australia Pty Ltd v Roche Therapeutics I...   \n",
       "\n",
       "                                     case_text_clean  Topic  \n",
       "0  ordinarily discretion follow event party party...      0  \n",
       "1  general governing exercise discretion award in...      0  \n",
       "2  ordinarily discretion follow event party party...      0  \n",
       "3  general governing exercise discretion award in...      0  \n",
       "4  preceding general inform exercise discretion d...      0  \n",
       "5  accept making rolled offer inclusive interest ...      0  \n",
       "6  preceding general inform exercise discretion d...      0  \n",
       "7  question level unreasonableness necessary attr...      4  \n",
       "8  recent decision high court corporation issue v...      2  \n",
       "9  therapeutics likelihood irreparable harm stone...      4  "
      ]
     },
     "execution_count": 158,
     "metadata": {},
     "output_type": "execute_result"
    }
   ],
   "source": [
    "legal_docs['Topic'] = topic_results.argmax(axis=1)\n",
    "legal_docs.head(10)"
   ]
  },
  {
   "cell_type": "code",
   "execution_count": 159,
   "metadata": {},
   "outputs": [
    {
     "data": {
      "text/plain": [
       "array(['aa', 'aba', 'abalone', ..., 'zero', 'zinc', 'zone'], dtype=object)"
      ]
     },
     "execution_count": 159,
     "metadata": {},
     "output_type": "execute_result"
    }
   ],
   "source": [
    "tfidf.get_feature_names_out()"
   ]
  },
  {
   "cell_type": "code",
   "execution_count": 160,
   "metadata": {},
   "outputs": [
    {
     "name": "stdout",
     "output_type": "stream",
     "text": [
      "THE TOP 4 WORDS FOR TOPIC #0\n",
      "['party', 'commissioner', 'privilege', 'court']\n",
      "\n",
      "\n",
      "THE TOP 4 WORDS FOR TOPIC #1\n",
      "['conduct', 'consumer', 'commission', 'competition']\n",
      "\n",
      "\n",
      "THE TOP 4 WORDS FOR TOPIC #2\n",
      "['agreement', 'court', 'contract', 'company']\n",
      "\n",
      "\n",
      "THE TOP 4 WORDS FOR TOPIC #3\n",
      "['patent', 'group', 'title', 'native']\n",
      "\n",
      "\n",
      "THE TOP 4 WORDS FOR TOPIC #4\n",
      "['court', 'immigration', 'minister', 'tribunal']\n",
      "\n",
      "\n"
     ]
    }
   ],
   "source": [
    "n_words = 4\n",
    "\n",
    "for index, topic in enumerate(LDA.components_):\n",
    "    print(f\"THE TOP {n_words} WORDS FOR TOPIC #{index}\")\n",
    "    list_keywords = [tfidf.get_feature_names_out()[index] for index in topic.argsort()[-n_words:]]\n",
    "    print(list_keywords)\n",
    "    print(\"\\n\")"
   ]
  },
  {
   "cell_type": "code",
   "execution_count": 161,
   "metadata": {},
   "outputs": [
    {
     "name": "stderr",
     "output_type": "stream",
     "text": [
      "c:\\Users\\AdamScarlat\\AppData\\Local\\Programs\\Python\\Python310\\lib\\site-packages\\seaborn\\_oldcore.py:1498: FutureWarning: is_categorical_dtype is deprecated and will be removed in a future version. Use isinstance(dtype, CategoricalDtype) instead\n",
      "  if pd.api.types.is_categorical_dtype(vector):\n",
      "c:\\Users\\AdamScarlat\\AppData\\Local\\Programs\\Python\\Python310\\lib\\site-packages\\seaborn\\_oldcore.py:1498: FutureWarning: is_categorical_dtype is deprecated and will be removed in a future version. Use isinstance(dtype, CategoricalDtype) instead\n",
      "  if pd.api.types.is_categorical_dtype(vector):\n"
     ]
    },
    {
     "data": {
      "text/plain": [
       "Topic\n",
       "4    10055\n",
       "2     6645\n",
       "0     3075\n",
       "1     3066\n",
       "3     2144\n",
       "Name: count, dtype: int64"
      ]
     },
     "execution_count": 161,
     "metadata": {},
     "output_type": "execute_result"
    },
    {
     "data": {
      "image/png": "[encoded data removed]",
      "text/plain": [
       "<Figure size 640x480 with 1 Axes>"
      ]
     },
     "metadata": {},
     "output_type": "display_data"
    }
   ],
   "source": [
    "sns.countplot(x = 'Topic',\n",
    "              data = legal_docs,\n",
    "              order = legal_docs['Topic'].value_counts().index)\n",
    "\n",
    "legal_docs['Topic'].value_counts().sort_values(ascending=False)"
   ]
  },
  {
   "cell_type": "code",
   "execution_count": 162,
   "metadata": {},
   "outputs": [],
   "source": [
    "def sample_titles_per_topic(papers_df, topic_num, sample_count = 5):\n",
    "  indices = papers_df['Topic'][papers_df['Topic'] == topic_num].index\n",
    "  \n",
    "  for i in indices[:sample_count]:\n",
    "    pprint (papers_df.iloc[i][\"case_text\"])"
   ]
  },
  {
   "cell_type": "code",
   "execution_count": 163,
   "metadata": {},
   "outputs": [
    {
     "name": "stdout",
     "output_type": "stream",
     "text": [
      "Topic 0: \n",
      "('Ordinarily that discretion will be exercised so that costs follow the event '\n",
      " 'and are awarded on a party and party basis. A departure from normal practice '\n",
      " 'to award indemnity costs requires some special or unusual feature in the '\n",
      " 'case: Alpine Hardwood (Aust) Pty Ltd v Hardys Pty Ltd (No 2) [2002] FCA 224 '\n",
      " '; (2002) 190 ALR 121 at [11] (Weinberg J) citing Colgate Palmolive Co v '\n",
      " 'Cussons Pty Ltd (1993) 46 FCR 225 at 233 (Sheppard J).')\n",
      "----------------------------------------------------------------------------------------------------\n",
      "Topic 1: \n",
      "('Numerous cases have held that s 911A of the Act extends to a company '\n",
      " \"director who conducts or is involved in a company's carrying on of a \"\n",
      " 'financial services business without an Australian financial services '\n",
      " 'licence: see Australian Securities and Investments Commission v Giann &amp; '\n",
      " 'Giann Pty Ltd [2005] FCA 81 ; (2005) 141 FCR 278; Australian Securities and '\n",
      " 'Investments Commission v Manito Pty Ltd (2005) 53 ACSR 56; Australian '\n",
      " 'Securities and Investments Commission v Drury Management Pty Ltd [2004] QSC '\n",
      " '68.')\n",
      "----------------------------------------------------------------------------------------------------\n",
      "Topic 2: \n",
      "('recent decision of the High Court in Australian Broadcasting Corporation v '\n",
      " \"O'Neill [2006] HCA 46 clarifies this issue. Gleeson CJ and Crennan J (at \"\n",
      " '[19]), after referring to various cases dealing with the grant of '\n",
      " 'interlocutory injunctions in cases of defamation, formulated the general '\n",
      " 'principles governing the grant of such relief in the following terms: \"in '\n",
      " 'all applications for an interlocutory injunction, a court will ask whether '\n",
      " 'the plaintiff has shown that there is a serious question to be tried as to '\n",
      " \"the plaintiff's entitlement to relief, has shown that the plaintiff is \"\n",
      " 'likely to suffer injury for which damages will not be an adequate remedy, '\n",
      " 'and has shown that the balance of convenience favours the granting of an '\n",
      " 'injunction.\"')\n",
      "----------------------------------------------------------------------------------------------------\n"
     ]
    }
   ],
   "source": [
    "print (\"Topic 0: \")\n",
    "sample_titles_per_topic(legal_docs, 0, 1)\n",
    "print (\"-\"*100)\n",
    "print (\"Topic 1: \")\n",
    "sample_titles_per_topic(legal_docs, 1, 1)\n",
    "print (\"-\"*100)\n",
    "print (\"Topic 2: \")\n",
    "sample_titles_per_topic(legal_docs, 2, 1)\n",
    "print (\"-\"*100)"
   ]
  },
  {
   "cell_type": "markdown",
   "metadata": {},
   "source": [
    "Vectorized Search"
   ]
  },
  {
   "cell_type": "code",
   "execution_count": 164,
   "metadata": {},
   "outputs": [],
   "source": [
    "def find_matching_docs(tfidf_vectorizer, tfidf_matrix, search_terms, result_count):\n",
    "  search_vector = tfidf_vectorizer.transform(search_terms)\n",
    "  cosine_similarities = cosine_similarity(search_vector, tfidf_matrix)\n",
    "\n",
    "  document_indices = np.argsort(cosine_similarities[0])[::-1]\n",
    "\n",
    "  # Retrieve and rank documents based on similarity\n",
    "  ranked_documents = pd.DataFrame([legal_docs.iloc[i] for i in document_indices])[:result_count]\n",
    "\n",
    "  return ranked_documents\n"
   ]
  },
  {
   "cell_type": "code",
   "execution_count": 166,
   "metadata": {},
   "outputs": [
    {
     "name": "stdout",
     "output_type": "stream",
     "text": [
      "('The Land Council asserts an absence of native title. The members of the Land '\n",
      " 'Council are adult Aboriginal persons who are listed on the Local Aboriginal '\n",
      " 'Land Council membership roll for the area in which the Land is located (s 53 '\n",
      " \"of the Aboriginal Land Rights Act 1983 (NSW) ('the Land Rights Act')). Once \"\n",
      " 'a determination of no native title is made, that will be conclusive with '\n",
      " 'respect to the Land. If the non-claimant application for a determination '\n",
      " 'that native title does not exist over the Land succeeds, that will operate '\n",
      " 'as a decision in rem and will, subject to the possibility of variation or '\n",
      " 'revocation under s 13 of the Act, extinguish all and any native title rights '\n",
      " 'and interests ( Western Australia v Ward [2000] FCA 191 ; (2000) 99 FCR 316 '\n",
      " 'at [190] ). 33 During the course of the various proceedings Worimi has, as '\n",
      " 'described in Hillig (No 2) , changed the description of the claim group and '\n",
      " 'the basis of his own participation, from being the representative of the '\n",
      " \"Worimi/Garuahgal women who claim the women's site on the Land to claiming \"\n",
      " 'for himself and his immediate family and as guardian of the Land. He has '\n",
      " \"changed the description of the location of the women's site from being \"\n",
      " 'wholly on the Land to only partly on the Land. No Worimi woman has given '\n",
      " 'evidence to support the existence of that site. 34 There are a number of '\n",
      " \"factors relevant to the exercise of the Court's discretion pursuant to s \"\n",
      " '84(5) of the Act: &#8226; These proceedings were commenced on 31 December '\n",
      " '2004. The procedural history is set out in part in Hillig (No 2) at [39]. '\n",
      " '&#8226; The notice period under s 66 of the Act ended on 8 June 2005. '\n",
      " '&#8226; Worimi first applied to be a respondent to these proceedings on 23 '\n",
      " 'August 2005. &#8226; The first directions hearing attended by Worimi was on '\n",
      " '10 November 2005. On a number of subsequent occasions, Worimi was granted '\n",
      " 'adjournments to prepare his case, or the proceedings were adjourned because '\n",
      " 'he did not attend. Worimi filed a claimant application on 9 February 2006. '\n",
      " 'The first hearing in connection with his claim, being an application to '\n",
      " 'strike out the claimant application commenced on 13 June 2006. Delay prior '\n",
      " 'to that time was caused in part by Worimi declining legal representation. On '\n",
      " '14 June 2006, Worimi notified the court that he was unwell and would not be '\n",
      " 'attending. The proceedings were again adjourned. On 26 June 2006, Ms Jowett '\n",
      " 'appeared pro bono for Worimi. &#8226; After the first claimant application '\n",
      " 'was struck out on 22 August 2006, Worimi filed a second claimant application '\n",
      " 'on 15 September 2006. The (then) administrator of the Land Council moved the '\n",
      " 'Court to have the second application struck out. At the hearing, Worimi was '\n",
      " 'legally represented by Ms Jowett and Mr Lenehan, pro bono. That claimant '\n",
      " 'application was struck out on 19 December 2006. &#8226; On 6 February 2007, '\n",
      " 'Ms Jowett informed the Court that Worimi intended to file another claimant '\n",
      " 'application. Directions were made for Worimi to file and serve any amended '\n",
      " 'notice of motion for joinder to the proceedings and any affidavit upon which '\n",
      " 'he relied in support of that motion by 6 March 2007. Worimi was unable to '\n",
      " 'comply with the directions. The Court extended the time for him to file the '\n",
      " 'amended motion to 30 March 2007 and the time for him to file any evidence to '\n",
      " '24 April 2007. &#8226; On 30 March 2007, Worimi filed an amended notice of '\n",
      " 'motion for joinder and a supporting affidavit. &#8226; Worimi has had the '\n",
      " 'opportunity over a year and a half to file evidence to support his assertion '\n",
      " 'of native title over the Land and his application for joinder to the '\n",
      " 'non-claimant application. &#8226; Worimi originally stated that he brought '\n",
      " \"the application on behalf of Worimi/Garuahgal women and that a women's site \"\n",
      " 'existed on the Land. The description by Worimi of the nature and extent of '\n",
      " 'the practices said to have been observed on the Land has changed from being '\n",
      " 'wholly on the Land to being only partially on the Land ( Worimi at [32]). '\n",
      " 'That, in turn, affects and enlarges the extent to which men, including '\n",
      " 'Worimi, are permitted onto the Land to engage in the activities described by '\n",
      " 'Worimi in his evidence ( Hillig (No 2) at [16]-[17]; [21]; [29]). That '\n",
      " \"change coincided with the change in the basis of Worimi's claim. &#8226; \"\n",
      " \"While Worimi still asserts a women's site on the Land, there is no evidence \"\n",
      " 'from any Worimi or Garuahgal woman that that is so. Worimi has previously '\n",
      " 'acknowledged that, to the contrary, Worimi women assert that there is no '\n",
      " \"such women's site. &#8226; Worimi originally asserted an association of the \"\n",
      " 'Worimi nation, the Garuahgal clan and the descendents of Mary Mahr with the '\n",
      " 'Land ( Hillig (No 2) at [21], [25]; Worimi at [40]). &#8226; While Worimi '\n",
      " 'asserts guardianship over the Land as the eldest male of his family, there '\n",
      " 'is no evidence from any other spokesman for any other family supporting the '\n",
      " 'existence of native title. Worimi does not claim that individual or family '\n",
      " 'rights are recognised by traditional law or custom ( Worimi at [43]). '\n",
      " '&#8226; Native title rights are, of their nature, group rights and '\n",
      " 'interests, communally held. Worimi acknowledges that the Worimi community '\n",
      " 'and the women in particular are unaware of such rights or traditional laws '\n",
      " 'and customs associated with the Land and do not observe any such laws and '\n",
      " 'customs in connection with the Land. &#8226; The applicant seeking a '\n",
      " 'determination of no native title is the Land Council, which was granted fee '\n",
      " 'simple in the Land. One of its statutory functions is to protect the '\n",
      " 'interests of Aboriginal persons in its area in relation to the acquisition, '\n",
      " 'management, use, control and disposal of the Land (s 52(3)(b) of the Land '\n",
      " 'Rights Act). &#8226; The Land Council has attempted to sell the Land, a '\n",
      " 'single lot that represents only a part of the land granted pursuant to the '\n",
      " 'Land Rights Act ( Hillig (No 2) at [5]). In order to sell the Land, not less '\n",
      " 'than 80% of the members of the Land Council present and voting must have '\n",
      " 'determined that the Land is not of cultural significance to Aborigines in '\n",
      " \"the area (s 40D(1)(a) of the Land Rights Act). &#8226; Worimi's attempts, \"\n",
      " 'via two claimant applications, to establish native title over the Land have '\n",
      " 'been dismissed, on the basis that he cannot establish native title under the '\n",
      " 'Act. He has not sought to appeal those decisions or to file a further '\n",
      " 'claimant application. &#8226; The Land Council has urged the hearing of its '\n",
      " \"application since it first came before the Court. It is aware of Worimi's \"\n",
      " 'assertions and persists with its application. It has opposed the various '\n",
      " 'adjournments sought and granted to Worimi. The Land Council has a right to '\n",
      " 'have its application heard. &#8226; Worimi, through Mr Austin, informs the '\n",
      " 'Court that, if joined, he wants a further 16 weeks in which to consider '\n",
      " 'whether he wishes to adduce additional evidence on the question of native '\n",
      " 'title and to file any such evidence. He is content to accept such a '\n",
      " 'direction as a condition of joinder.')\n"
     ]
    }
   ],
   "source": [
    "search_terms = [\"Native tribes land dispute\"]\n",
    "ranked_docs = find_matching_docs(tfidf, dtm, search_terms, 5)\n",
    "pprint (ranked_docs.iloc[0][\"case_text\"])"
   ]
  },
  {
   "cell_type": "code",
   "execution_count": 168,
   "metadata": {},
   "outputs": [],
   "source": [
    "def summarize_text(text, num_sentences=5, english_level=9):\n",
    "  response = openai.ChatCompletion.create(\n",
    "    model = \"gpt-3.5-turbo\",\n",
    "    temperature = 0,\n",
    "    messages = [{\"role\":\"system\", \"content\": f\"Follow these instructions when writing the summary:\\\n",
    "      \\n1. Write a clear and concise summary consisting of {num_sentences} bullets \\\n",
    "      \\n2. Make sure the summary's english level matches that of a person with {english_level} years of education\"},\n",
    "      {\"role\": \"user\", \"content\":f\"Write a summary of the following text:{text}\"}]\n",
    "    )\n",
    "\n",
    "  return response['choices'][0]['message']['content']\n"
   ]
  },
  {
   "cell_type": "code",
   "execution_count": 169,
   "metadata": {},
   "outputs": [
    {
     "data": {
      "text/plain": [
       "6946"
      ]
     },
     "execution_count": 169,
     "metadata": {},
     "output_type": "execute_result"
    }
   ],
   "source": [
    "doc1_text = ranked_docs.iloc[0][\"case_text\"]\n",
    "len(doc1_text)"
   ]
  },
  {
   "cell_type": "code",
   "execution_count": 170,
   "metadata": {},
   "outputs": [],
   "source": [
    "summary_1 = summarize_text(ranked_docs.iloc[0][\"case_text\"], num_sentences=5, english_level=7)"
   ]
  },
  {
   "cell_type": "code",
   "execution_count": 171,
   "metadata": {},
   "outputs": [
    {
     "name": "stdout",
     "output_type": "stream",
     "text": [
      "('- The Land Council asserts that there is no native title over the Land\\n'\n",
      " '- Worimi, who has changed his claim multiple times, has not provided '\n",
      " \"evidence to support the existence of a women's site on the Land\\n\"\n",
      " \"- Worimi's claim of association with the Worimi nation, Garuahgal clan, and \"\n",
      " 'descendents of Mary Mahr is not supported by any other spokesman for any '\n",
      " 'other family\\n'\n",
      " '- Worimi acknowledges that the Worimi community is unaware of native title '\n",
      " 'rights or traditional laws and customs associated with the Land\\n'\n",
      " '- The Land Council has the right to have its application heard and has '\n",
      " 'opposed the adjournments sought by Worimi')\n"
     ]
    }
   ],
   "source": [
    "pprint (summary_1)"
   ]
  },
  {
   "cell_type": "code",
   "execution_count": 146,
   "metadata": {},
   "outputs": [
    {
     "name": "stdout",
     "output_type": "stream",
     "text": [
      "('applicant referred to Lange v Australian Broadcasting Corporation [1997] HCA '\n",
      " '25 ; (1997) 189 CLR 520 at 567, 568, where the High Court set out a '\n",
      " 'two-stage test for determining whether a law infringes the constitutional '\n",
      " 'implication. The test, as slightly modified in Coleman v Power , is as '\n",
      " 'follows: (1) Does the law effectively burden freedom of communication about '\n",
      " 'government or political matters either in its terms, operation or effect? '\n",
      " '(2) If so, is the law reasonably appropriate and adapted to serve a '\n",
      " 'legitimate end in a manner which is compatible with the system of government '\n",
      " 'prescribed by the Constitution ? The Court in Lange emphasised that the '\n",
      " 'freedom of communication only covers those communications necessary for the '\n",
      " 'functioning of the institutions of representative and responsible government '\n",
      " 'identified in the text and structure of the Constitution (at 561). More '\n",
      " 'particularly, to the extent that the freedom of communication is an '\n",
      " 'implication drawn from ss 7 , 24 , 64 and 128 of the Constitution , the '\n",
      " 'implication extends only insofar as it is necessary to give effect to those '\n",
      " \"sections (at 567). In 'The Freedom of Political Communication Since Lange' \"\n",
      " 'in Stone A and Williams G, The High Court at the Crossroads: Essays in '\n",
      " \"Constitutional Law' (The Federation Press, 2000) at pp 6 7, Ms Stone \"\n",
      " \"summarised the post -Lange position as follows: 'Thus the effect of Lange \"\n",
      " 'appears to be a narrower scope for the freedom of political communication, '\n",
      " 'excluding discussion that is not directed to a particular law, policy or '\n",
      " 'activity of the government. However, on close analysis it is apparent that '\n",
      " 'Lange does not require this conclusion nor preclude the opposite conclusion. '\n",
      " 'What Lange requires is that there be a link between the discussion of some '\n",
      " 'matter and the institutions of representative and responsible government '\n",
      " 'that the court has identified in the text. One of these institutions is the '\n",
      " \"free election of members for the House of Representatives and the Senate.' \"\n",
      " \"(Emphasis in original) In the applicant's submission, Join the Caravan and \"\n",
      " 'Defence of the Muslim Lands are relevant to the choices facing voters and to '\n",
      " 'the opinions they might form as to the appropriate governmental response to '\n",
      " 'the threat of terrorism. The applicant noted that there is a document in '\n",
      " 'evidence that contains an extensive list of legislative measures introduced '\n",
      " 'to deal with the threat of terrorism. The extent of the response is the '\n",
      " 'subject of significant debate and differences of opinion. See, for example, '\n",
      " 'Golder B and Williams G, \"Balancing National Security and Human Rights: '\n",
      " 'Assessing the Legal Response of Common Law Nations to the Threat of '\n",
      " 'Terrorism\" (2006) 8 Journal of Comparative Policy Analysis 43 62, and, in '\n",
      " 'the political sphere, see the Senate Hansard on 5 December 2005. According '\n",
      " 'to the Attorney, it appears that the Lange test as refined in Coleman v '\n",
      " 'Power involves two limbs, but the second has three elements: 1. Determining '\n",
      " 'whether the law effectively burdens communication about government or '\n",
      " 'political matters. 2. Identifying the object of the law and determining '\n",
      " 'whether it is incompatible with the system of government prescribed by the '\n",
      " 'Constitution . 3. Determining whether the manner in which the law achieves '\n",
      " 'that object is incompatible with the system of government prescribed by the '\n",
      " 'Constitution , in that the law is not reasonably appropriate and adapted to '\n",
      " 'its end. THE FIRST LIMB The Attorney submitted that the concept of '\n",
      " \"'communication about government or political matters' is not free-standing. \"\n",
      " 'To the contrary, the concept is confined by those provisions of the '\n",
      " 'Commonwealth Constitution which require that federal elections and referenda '\n",
      " 'be free and that federal electors have access to information relevant to '\n",
      " 'their choice and which prescribe the federal system of responsible '\n",
      " 'government principally, ss 7 , 24 , 64 and 128 : see Lange at 560 561; see '\n",
      " 'also at 567, 571, 575. According to the Attorney, as Lange made clear, the '\n",
      " \"constitutional requirement of freedom of communication 'can validly extend \"\n",
      " \"only so far as is necessary to give effect to these sections' (at 567): see \"\n",
      " 'also Coleman v Power , McHugh J at [89], Kirby J at [228], Callinan J at '\n",
      " '[291] [292] and [294] and Heydon J at [320], [331] and [335]. The Attorney '\n",
      " 'submitted that it is of the essence of the Lange test that before a law will '\n",
      " \"be held invalid, it must ' effectively burden' (at 567) (emphasis added) the \"\n",
      " 'freedom of communication about federal government and political matters by '\n",
      " 'actually tending to impair the effective operation of the constitutional '\n",
      " 'system of representative and responsible government ( Coleman v Power per '\n",
      " \"McHugh J at [91]). As McHugh J went on to say in Coleman v Power , '[i]n all \"\n",
      " 'but exceptional cases, a law will not burden such communications unless, by '\n",
      " 'its operation or practical effect, it directly and not remotely restricts or '\n",
      " 'limits the content of those communications or the time, place, manner or '\n",
      " \"conditions of their occurrence' (at [91]). The Attorney submitted that the \"\n",
      " 'present Code does not so burden the freedom of communication about '\n",
      " \"government or political matters. Contrary to the applicant's submission, in \"\n",
      " \"the Attorney's submission the question for the Court is not whether some \"\n",
      " 'means other than those chosen by the Parliament may have been preferable or '\n",
      " \"less onerous, but rather whether Parliament's choice was a reasonable one in \"\n",
      " 'light of the burden which it places on the implied freedom of communication '\n",
      " 'about government and political matters: Lange at 561 562, 567. See also Levy '\n",
      " 'v State of Victoria [1997] HCA 31 ; (1997) 189 CLR 579 at 598 per Brennan '\n",
      " 'CJ, 608 per Dawson J, 614 615 per Toohey and Gummow JJ, 618 620 per Gaudron '\n",
      " 'J, 627 628 per McHugh J, 647 648 per Kirby J; Coleman v Power at [31] per '\n",
      " 'Gleeson CJ, [l00] per McHugh J, [292] per Callinan J, [328] per Heydon J; '\n",
      " 'cf. at [235] per Kirby J; Mulholland v Australian Electoral Commission '\n",
      " '[2004] HCA 41 ; (2004) 220 CLR 181 at [32] [33] per Gleeson CJ, [248] [249] '\n",
      " 'and [256] [267] per Kirby J, [360] per Heydon J. For the corresponding '\n",
      " 'position under the Canadian Charter of Rights and Freedoms, see R v Sharpe '\n",
      " '[2001] 1 SCR 45 at [96] per McLachlin CJ, Iacobucci, Major, Binnie, Arbour '\n",
      " \"and LeBel JJ: 'It suffices if the means adopted fall within a range of \"\n",
      " \"reasonable solutions to the problem confronted'. In relation to APLA (see \"\n",
      " '[182] above), the applicant made the following points: (a) The first limb of '\n",
      " \"the Lange test looks to the 'terms, operation or effect of the law' . See \"\n",
      " 'also the passage from McHugh J in Coleman v Power at [91] (quoted at [179] '\n",
      " 'above). (b) The practical effects of the law in the present case include '\n",
      " 'preventing Australian voters from reading the contents of the books. To that '\n",
      " 'extent the law restricts Australian voters from knowing what are the ideas '\n",
      " 'contained in the books and what those ideas convey about the nature of the '\n",
      " \"terrorist threat. (c) The Attorney's conclusion in the first two sentences \"\n",
      " 'of [185] above latches on to what the law is directed to and ignores its '\n",
      " 'practical effect. On any view, it is not necessary that I consider the '\n",
      " \"second limb of the Lange test or, on the Attorney's view of Coleman v Power \"\n",
      " '(see [187] above), the second and third elements of that limb. Had it been '\n",
      " 'necessary, I would have found the object of the relevant provisions of the '\n",
      " 'Code to be compatible with the system of government prescribed by the '\n",
      " 'Constitution and that the manner in which those provisions achieve that '\n",
      " 'object are compatible with the system of government prescribed by the '\n",
      " 'Constitution ; in other words, the relevant provisions of the Code were '\n",
      " 'reasonably appropriate and adapted to that end.')\n"
     ]
    }
   ],
   "source": [
    "search_terms = [\"Government\", \"Banks\", \"Bankruptcy\"]\n",
    "ranked_docs_2 = find_matching_docs(tfidf, dtm, search_terms, 5)\n",
    "\n",
    "pprint (ranked_docs_2.iloc[3][\"case_text\"])"
   ]
  },
  {
   "cell_type": "code",
   "execution_count": 147,
   "metadata": {},
   "outputs": [
    {
     "data": {
      "text/plain": [
       "7658"
      ]
     },
     "execution_count": 147,
     "metadata": {},
     "output_type": "execute_result"
    }
   ],
   "source": [
    "len(ranked_docs_2.iloc[3][\"case_text\"])"
   ]
  },
  {
   "cell_type": "code",
   "execution_count": 148,
   "metadata": {},
   "outputs": [],
   "source": [
    "summary_2 = summarize_text(ranked_docs_2.iloc[3][\"case_text\"], num_sentences=5, english_level=3)\n"
   ]
  },
  {
   "cell_type": "code",
   "execution_count": 149,
   "metadata": {},
   "outputs": [
    {
     "name": "stdout",
     "output_type": "stream",
     "text": [
      "('- The High Court set out a two-stage test for determining if a law infringes '\n",
      " 'the constitutional implication in Lange v Australian Broadcasting '\n",
      " 'Corporation.\\n'\n",
      " '- The test, as modified in Coleman v Power, involves determining if the law '\n",
      " 'burdens freedom of communication about government or political matters and '\n",
      " 'if it is reasonably appropriate and adapted to serve a legitimate end.\\n'\n",
      " '- The freedom of communication only covers necessary communications for the '\n",
      " 'functioning of representative and responsible government institutions.\\n'\n",
      " '- The applicant argues that Join the Caravan and Defence of the Muslim Lands '\n",
      " \"are relevant to voters' choices and opinions on the government's response to \"\n",
      " 'terrorism.\\n'\n",
      " '- The Attorney argues that the present Code does not burden the freedom of '\n",
      " \"communication about government or political matters and that Parliament's \"\n",
      " 'choice was reasonable in light of the burden it places on the implied '\n",
      " 'freedom of communication.')\n"
     ]
    }
   ],
   "source": [
    "pprint (summary_2)\n"
   ]
  },
  {
   "cell_type": "code",
   "execution_count": null,
   "metadata": {},
   "outputs": [],
   "source": []
  }
 ],
 "metadata": {
  "kernelspec": {
   "display_name": "Python 3",
   "language": "python",
   "name": "python3"
  },
  "language_info": {
   "codemirror_mode": {
    "name": "ipython",
    "version": 3
   },
   "file_extension": ".py",
   "mimetype": "text/x-python",
   "name": "python",
   "nbconvert_exporter": "python",
   "pygments_lexer": "ipython3",
   "version": "3.10.0"
  },
  "orig_nbformat": 4
 },
 "nbformat": 4,
 "nbformat_minor": 2
}
