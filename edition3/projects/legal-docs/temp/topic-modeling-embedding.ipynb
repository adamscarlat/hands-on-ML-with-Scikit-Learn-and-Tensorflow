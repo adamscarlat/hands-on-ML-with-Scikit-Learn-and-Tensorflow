{
 "cells": [
  {
   "cell_type": "code",
   "execution_count": 2,
   "metadata": {},
   "outputs": [],
   "source": [
    "import numpy as np # linear algebra\n",
    "import pandas as pd\n",
    "import seaborn as sns\n",
    "\n",
    "import os\n",
    "\n",
    "import faiss\n",
    "\n",
    "import tensorflow as tf\n",
    "\n",
    "import tensorflow_hub as hub\n",
    "\n",
    "from pprint import pprint\n",
    "\n",
    "from nltk.corpus import stopwords, words as english_words\n",
    "\n",
    "import openai\n",
    "openai.api_key = os.environ[\"OPENAI_API_KEY\"]\n",
    "\n"
   ]
  },
  {
   "cell_type": "code",
   "execution_count": 3,
   "metadata": {},
   "outputs": [
    {
     "data": {
      "text/html": [
       "<div>\n",
       "<style scoped>\n",
       "    .dataframe tbody tr th:only-of-type {\n",
       "        vertical-align: middle;\n",
       "    }\n",
       "\n",
       "    .dataframe tbody tr th {\n",
       "        vertical-align: top;\n",
       "    }\n",
       "\n",
       "    .dataframe thead th {\n",
       "        text-align: right;\n",
       "    }\n",
       "</style>\n",
       "<table border=\"1\" class=\"dataframe\">\n",
       "  <thead>\n",
       "    <tr style=\"text-align: right;\">\n",
       "      <th></th>\n",
       "      <th>case_id</th>\n",
       "      <th>case_outcome</th>\n",
       "      <th>case_title</th>\n",
       "      <th>case_text</th>\n",
       "    </tr>\n",
       "  </thead>\n",
       "  <tbody>\n",
       "    <tr>\n",
       "      <th>0</th>\n",
       "      <td>Case1</td>\n",
       "      <td>cited</td>\n",
       "      <td>Alpine Hardwood (Aust) Pty Ltd v Hardys Pty Lt...</td>\n",
       "      <td>Ordinarily that discretion will be exercised s...</td>\n",
       "    </tr>\n",
       "    <tr>\n",
       "      <th>1</th>\n",
       "      <td>Case2</td>\n",
       "      <td>cited</td>\n",
       "      <td>Black v Lipovac [1998] FCA 699 ; (1998) 217 AL...</td>\n",
       "      <td>The general principles governing the exercise ...</td>\n",
       "    </tr>\n",
       "    <tr>\n",
       "      <th>2</th>\n",
       "      <td>Case3</td>\n",
       "      <td>cited</td>\n",
       "      <td>Colgate Palmolive Co v Cussons Pty Ltd (1993) ...</td>\n",
       "      <td>Ordinarily that discretion will be exercised s...</td>\n",
       "    </tr>\n",
       "    <tr>\n",
       "      <th>3</th>\n",
       "      <td>Case4</td>\n",
       "      <td>cited</td>\n",
       "      <td>Dais Studio Pty Ltd v Bullett Creative Pty Ltd...</td>\n",
       "      <td>The general principles governing the exercise ...</td>\n",
       "    </tr>\n",
       "    <tr>\n",
       "      <th>4</th>\n",
       "      <td>Case5</td>\n",
       "      <td>cited</td>\n",
       "      <td>Dr Martens Australia Pty Ltd v Figgins Holding...</td>\n",
       "      <td>The preceding general principles inform the ex...</td>\n",
       "    </tr>\n",
       "  </tbody>\n",
       "</table>\n",
       "</div>"
      ],
      "text/plain": [
       "  case_id case_outcome                                         case_title  \\\n",
       "0   Case1        cited  Alpine Hardwood (Aust) Pty Ltd v Hardys Pty Lt...   \n",
       "1   Case2        cited  Black v Lipovac [1998] FCA 699 ; (1998) 217 AL...   \n",
       "2   Case3        cited  Colgate Palmolive Co v Cussons Pty Ltd (1993) ...   \n",
       "3   Case4        cited  Dais Studio Pty Ltd v Bullett Creative Pty Ltd...   \n",
       "4   Case5        cited  Dr Martens Australia Pty Ltd v Figgins Holding...   \n",
       "\n",
       "                                           case_text  \n",
       "0  Ordinarily that discretion will be exercised s...  \n",
       "1  The general principles governing the exercise ...  \n",
       "2  Ordinarily that discretion will be exercised s...  \n",
       "3  The general principles governing the exercise ...  \n",
       "4  The preceding general principles inform the ex...  "
      ]
     },
     "execution_count": 3,
     "metadata": {},
     "output_type": "execute_result"
    }
   ],
   "source": [
    "legal_docs = pd.read_csv(\"./data/legal_text_classification.csv\")\n",
    "legal_docs.head()"
   ]
  },
  {
   "cell_type": "code",
   "execution_count": 3,
   "metadata": {},
   "outputs": [
    {
     "data": {
      "text/plain": [
       "array(['cited', 'applied', 'followed', 'referred to', 'related',\n",
       "       'considered', 'discussed', 'distinguished', 'affirmed', 'approved'],\n",
       "      dtype=object)"
      ]
     },
     "execution_count": 3,
     "metadata": {},
     "output_type": "execute_result"
    }
   ],
   "source": [
    "legal_docs[\"case_outcome\"].unique()"
   ]
  },
  {
   "cell_type": "code",
   "execution_count": 4,
   "metadata": {},
   "outputs": [
    {
     "data": {
      "text/plain": [
       "(24985, 4)"
      ]
     },
     "execution_count": 4,
     "metadata": {},
     "output_type": "execute_result"
    }
   ],
   "source": [
    "legal_docs.shape"
   ]
  },
  {
   "cell_type": "code",
   "execution_count": 5,
   "metadata": {},
   "outputs": [
    {
     "name": "stdout",
     "output_type": "stream",
     "text": [
      "('Gedeon v Commissioner of New South Wales Crime Commission [2008] HCA 43 ; '\n",
      " '(2008) 82 ALJR 1465 at [43] the High Court said: The expression '\n",
      " '\"jurisdictional fact\" was used somewhat loosely in the course of '\n",
      " 'submissions. Generally the expression is used to identify a criterion the '\n",
      " 'satisfaction of which enlivens the exercise of the statutory power or '\n",
      " 'discretion in question. If the criterion be not satisfied then the decision '\n",
      " 'purportedly made in exercise of the power or discretion will have been made '\n",
      " 'without the necessary statutory authority required of the decision maker.')\n"
     ]
    }
   ],
   "source": [
    "pprint (legal_docs.iloc[100][\"case_text\"])"
   ]
  },
  {
   "cell_type": "code",
   "execution_count": 6,
   "metadata": {},
   "outputs": [
    {
     "name": "stdout",
     "output_type": "stream",
     "text": [
      "<class 'pandas.core.frame.DataFrame'>\n",
      "RangeIndex: 24985 entries, 0 to 24984\n",
      "Data columns (total 4 columns):\n",
      " #   Column        Non-Null Count  Dtype \n",
      "---  ------        --------------  ----- \n",
      " 0   case_id       24985 non-null  object\n",
      " 1   case_outcome  24985 non-null  object\n",
      " 2   case_title    24985 non-null  object\n",
      " 3   case_text     24809 non-null  object\n",
      "dtypes: object(4)\n",
      "memory usage: 780.9+ KB\n",
      "None\n"
     ]
    },
    {
     "data": {
      "text/plain": [
       "case_id           0\n",
       "case_outcome      0\n",
       "case_title        0\n",
       "case_text       176\n",
       "dtype: int64"
      ]
     },
     "execution_count": 6,
     "metadata": {},
     "output_type": "execute_result"
    }
   ],
   "source": [
    "print (legal_docs.info())\n",
    "legal_docs.isna().sum()"
   ]
  },
  {
   "cell_type": "code",
   "execution_count": 4,
   "metadata": {},
   "outputs": [],
   "source": [
    "# impute missing text with title\n",
    "legal_docs[\"case_text\"] = np.where(legal_docs[\"case_text\"].isna(), legal_docs[\"case_title\"], legal_docs[\"case_text\"])"
   ]
  },
  {
   "cell_type": "code",
   "execution_count": 8,
   "metadata": {},
   "outputs": [
    {
     "data": {
      "text/plain": [
       "case_id         0\n",
       "case_outcome    0\n",
       "case_title      0\n",
       "case_text       0\n",
       "dtype: int64"
      ]
     },
     "execution_count": 8,
     "metadata": {},
     "output_type": "execute_result"
    }
   ],
   "source": [
    "legal_docs.isna().sum()"
   ]
  },
  {
   "cell_type": "code",
   "execution_count": 5,
   "metadata": {},
   "outputs": [
    {
     "name": "stdout",
     "output_type": "stream",
     "text": [
      "module https://tfhub.dev/google/universal-sentence-encoder/4 loaded\n"
     ]
    }
   ],
   "source": [
    "module_url = \"https://tfhub.dev/google/universal-sentence-encoder/4\"\n",
    "#module_url = \"https://tfhub.dev/google/universal-sentence-encoder-large/5\"\n",
    "model = hub.load(module_url)\n",
    "print (\"module %s loaded\" % module_url)\n",
    "def embed(input):\n",
    "  return model(input)"
   ]
  },
  {
   "cell_type": "code",
   "execution_count": 6,
   "metadata": {},
   "outputs": [],
   "source": [
    "text_all = legal_docs[\"case_text\"].to_list()\n",
    "text_partial = text_all[:10000]\n",
    "text_embeddings = embed(text_partial)"
   ]
  },
  {
   "cell_type": "code",
   "execution_count": 7,
   "metadata": {},
   "outputs": [
    {
     "data": {
      "text/plain": [
       "<tf.Tensor: shape=(128, 512), dtype=float32, numpy=\n",
       "array([[ 0.03102933, -0.068979  , -0.04295269, ...,  0.01397307,\n",
       "        -0.01894638, -0.07713135],\n",
       "       [ 0.01482124, -0.06870302, -0.03530958, ..., -0.01106551,\n",
       "         0.02936252,  0.02105497],\n",
       "       [ 0.03102933, -0.068979  , -0.04295269, ...,  0.01397307,\n",
       "        -0.01894638, -0.07713135],\n",
       "       ...,\n",
       "       [-0.06406745, -0.03563351,  0.00391999, ...,  0.02086089,\n",
       "         0.05275058, -0.07116473],\n",
       "       [ 0.03646484, -0.0358234 , -0.06585963, ...,  0.01198741,\n",
       "         0.0170996 ,  0.00892396],\n",
       "       [ 0.00962008, -0.05651353,  0.05581524, ..., -0.040302  ,\n",
       "        -0.04164934, -0.06030609]], dtype=float32)>"
      ]
     },
     "execution_count": 7,
     "metadata": {},
     "output_type": "execute_result"
    }
   ],
   "source": [
    "text_embeddings"
   ]
  },
  {
   "cell_type": "code",
   "execution_count": 17,
   "metadata": {},
   "outputs": [],
   "source": [
    "text_embeddings_np = text_embeddings.numpy()\n",
    "index = faiss.IndexFlatL2(text_embeddings_np.shape[1])\n",
    "index.add(text_embeddings_np)"
   ]
  },
  {
   "cell_type": "code",
   "execution_count": 55,
   "metadata": {},
   "outputs": [
    {
     "name": "stdout",
     "output_type": "stream",
     "text": [
      "Top 5 similar documents:\n",
      "Index: 5748, Similarity Score: -0.34309840202331543\n",
      "Index: 6910, Similarity Score: -0.3489185571670532\n",
      "Index: 6415, Similarity Score: -0.38929688930511475\n",
      "Index: 6929, Similarity Score: -0.3893812894821167\n",
      "Index: 4121, Similarity Score: -0.3918271064758301\n"
     ]
    }
   ],
   "source": [
    "#query1 = \"Lawsuits involving harm to another human being.\"\n",
    "#query1 = \"Native tribes lawsuits involving land claims.\"\n",
    "#query1 = \"lawsuits where the plaintiff won\"\n",
    "query1 = \"Court cases involving chemicals\"\n",
    "#query1 = \"lawsuits involving multiple plaintiffs\"\n",
    "query1 = \"claims related to shoe companies\"\n",
    "\n",
    "\n",
    "# Encode the query into an embedding\n",
    "query_embedding = embed([query1]).numpy()\n",
    "\n",
    "# Search for similar embeddings in the index\n",
    "D, I = index.search(query_embedding, k=5)  # Retrieve the top 5 similar documents\n",
    "\n",
    "# Print the indices and distances of the similar documents\n",
    "print(\"Top 5 similar documents:\")\n",
    "indices = []\n",
    "for i, d in zip(I[0], D[0]):\n",
    "    print(f\"Index: {i}, Similarity Score: {1 - d}\")\n",
    "    indices.append(i)\n"
   ]
  },
  {
   "cell_type": "code",
   "execution_count": 56,
   "metadata": {},
   "outputs": [
    {
     "name": "stdout",
     "output_type": "stream",
     "text": [
      "'Raben Footwear Pty Ltd v Polygram Records Inc (1997) 75 FCR 88'\n",
      "('determining whether an alleged \"infringer\" has the requisite knowledge under '\n",
      " 's 38 of the Copyright Act , regard may be had to the \"knowledge, capacity '\n",
      " 'and circumstances of the particular defendant\": Raben Footwear Pty Ltd v '\n",
      " 'Polygram Records Inc (1997) 75 FCR 88 at 91 per Burchett J; see also at 97 '\n",
      " 'per Tamberlin J, at 104 per Lehane J. Raben Footwear was concerned with the '\n",
      " 'construction and effect of ss 102 and 103 of the Copyright Act which contain '\n",
      " 'the same element of knowledge as s 38 , namely \"knew or ought reasonably to '\n",
      " 'have known\". Accordingly, the same approach may be adopted on this question '\n",
      " \"in the present case. Mr Cobden's submission that knowledge could be inferred \"\n",
      " 'from Global\\'s \"pattern of trade\" rested upon the fact that the Play King '\n",
      " 'transaction was the twelfth in the list of 54 transactions identified by the '\n",
      " 'Aristocrat companies. However, in my view, this submission must be rejected '\n",
      " 'for the following reasons. Third, there was no evidence in the present case '\n",
      " 'of the type which resulted in a finding of constructive knowledge in Raben '\n",
      " 'Footwear . In that case, the importer made inquiries from the manufacturer '\n",
      " 'as to whether all copyright conditions had been met but received only a '\n",
      " 'guarded and limited assurance: see Raben Footwear at 92.')\n"
     ]
    }
   ],
   "source": [
    "idx = 5748\n",
    "\n",
    "pprint (legal_docs.iloc[idx][\"case_title\"])\n",
    "pprint (text_partial[idx])\n"
   ]
  },
  {
   "cell_type": "code",
   "execution_count": 21,
   "metadata": {},
   "outputs": [],
   "source": [
    "def summarize_text(text, num_sentences=5, english_level=9):\n",
    "  response = openai.ChatCompletion.create(\n",
    "    model = \"gpt-3.5-turbo\",\n",
    "    temperature = 0,\n",
    "    messages = [{\"role\":\"system\", \"content\": f\"Follow these instructions when writing the summary:\\\n",
    "      \\n1. Write a clear and concise summary consisting of {num_sentences} sentences \\\n",
    "      \\n2. The summary's english level matches that of a person with {english_level} years of education \\\n",
    "      \\n3. The summary should consist of an explanation of what the case is about, who's involved and the outcome\"\n",
    "      },\n",
    "      {\"role\": \"user\", \"content\":f\"Write a summary of the following text:{text}\"}]\n",
    "    )\n",
    "\n",
    "  return response['choices'][0]['message']['content']\n"
   ]
  },
  {
   "cell_type": "code",
   "execution_count": 24,
   "metadata": {},
   "outputs": [],
   "source": [
    "summary = summarize_text(text_partial[idx], num_sentences=3, english_level=4)"
   ]
  },
  {
   "cell_type": "code",
   "execution_count": 25,
   "metadata": {},
   "outputs": [
    {
     "name": "stdout",
     "output_type": "stream",
     "text": [
      "('The case of Roussel Uclaf Imperial Chemical Industries plc [1990] RPC 45 '\n",
      " 'involved the question of whether trade secrets should be disclosed to two '\n",
      " 'patent attorneys employed by the plaintiff. The attorneys were responsible '\n",
      " 'for litigation in both England and France, but the plaintiff wanted to '\n",
      " 'ensure that the confidential information would not be used in the French '\n",
      " 'proceedings. The court imposed conditions on the disclosure, including that '\n",
      " 'the attorneys would not be involved in the French litigation and that the '\n",
      " 'plaintiff would compensate the defendants for any wrongful disclosure.')\n"
     ]
    }
   ],
   "source": [
    "pprint (summary)"
   ]
  },
  {
   "cell_type": "code",
   "execution_count": 47,
   "metadata": {},
   "outputs": [],
   "source": [
    "def answer_question(question, text, num_sentences=5, english_level=9):\n",
    "  response = openai.ChatCompletion.create(\n",
    "    model = \"gpt-3.5-turbo\",\n",
    "    temperature = 0,\n",
    "    messages = [{\"role\":\"system\", \"content\": f\"Follow these instructions when writing the summary:\\\n",
    "      \\n1. Write a clear and concise summary consisting of {num_sentences} sentences \\\n",
    "      \\n2. The summary's english level matches that of a person with {english_level} years of education \\\n",
    "      \\n3. The summary should consist of an explanation of what the case is about, who's involved and the outcome \\\n",
    "      \\n4. Different texts are separated by ***\"\n",
    "      },\n",
    "      {\"role\": \"user\", \"content\":f\"Answer the following question about the text:{question}. text:{text}\"}]\n",
    "    )\n",
    "\n",
    "  return response['choices'][0]['message']['content']"
   ]
  },
  {
   "cell_type": "code",
   "execution_count": 32,
   "metadata": {},
   "outputs": [
    {
     "name": "stdout",
     "output_type": "stream",
     "text": [
      "('This lawsuit is about whether trade secrets should be disclosed to two '\n",
      " 'patent attorneys employed by the plaintiff. The case involves Roussel Uclaf '\n",
      " 'Imperial Chemical Industries plc and Warner-Lambert Co v Glaxo Laboratories '\n",
      " 'Ltd. The question at hand is whether the patent attorneys should have access '\n",
      " 'to the confidential information for litigation purposes. The outcome of the '\n",
      " 'case is not mentioned in the text.')\n"
     ]
    }
   ],
   "source": [
    "pprint (answer_question(\"What is this lawsuit all about?\", text_partial[idx]))"
   ]
  },
  {
   "cell_type": "code",
   "execution_count": 57,
   "metadata": {},
   "outputs": [],
   "source": [
    "texts = []\n",
    "for i in indices:\n",
    "  texts.append(text_partial[i])\n",
    "\n",
    "text_all = \"***\".join(texts)"
   ]
  },
  {
   "cell_type": "code",
   "execution_count": 58,
   "metadata": {},
   "outputs": [
    {
     "name": "stdout",
     "output_type": "stream",
     "text": [
      "('The cases mentioned in the text are Raben Footwear Pty Ltd v Polygram '\n",
      " 'Records Inc, World Brands Management Pty Ltd v Cube Footwear Pty Ltd, '\n",
      " 'Lockwood Security Products Pty Ltd v Doric Products Pty Ltd, and Global '\n",
      " 'Brand Marketing Inc v Cube Footwear Pty Ltd. In the Raben Footwear case, the '\n",
      " \"court rejected the submission that knowledge could be inferred from Global's \"\n",
      " '\"pattern of trade\" and found no evidence of constructive knowledge. In the '\n",
      " 'World Brands Management case, the court discussed the process of purchasing '\n",
      " 'footwear and the expectations of consumers. In the Lockwood Security '\n",
      " 'Products case, the court clarified the standards for determining inventive '\n",
      " 'step and obviousness in patent law. In the Global Brand Marketing case, the '\n",
      " 'court allowed an amendment to the statement of claim and emphasized the '\n",
      " 'importance of evidence of consumer recollections in determining deceptive '\n",
      " 'similarity. The text also mentions concerns raised by Mr. Yunghanns that '\n",
      " 'warrant further investigation.')\n"
     ]
    }
   ],
   "source": [
    "pprint (answer_question(\"Who won in each of these cases?\", text_all))"
   ]
  },
  {
   "cell_type": "code",
   "execution_count": null,
   "metadata": {},
   "outputs": [],
   "source": []
  }
 ],
 "metadata": {
  "kernelspec": {
   "display_name": "Python 3",
   "language": "python",
   "name": "python3"
  },
  "language_info": {
   "codemirror_mode": {
    "name": "ipython",
    "version": 3
   },
   "file_extension": ".py",
   "mimetype": "text/x-python",
   "name": "python",
   "nbconvert_exporter": "python",
   "pygments_lexer": "ipython3",
   "version": "3.10.0"
  },
  "orig_nbformat": 4
 },
 "nbformat": 4,
 "nbformat_minor": 2
}
