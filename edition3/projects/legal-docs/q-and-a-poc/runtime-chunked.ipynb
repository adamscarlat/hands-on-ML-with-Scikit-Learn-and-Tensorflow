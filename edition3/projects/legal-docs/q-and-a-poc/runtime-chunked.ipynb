{
 "cells": [
  {
   "cell_type": "code",
   "execution_count": 1,
   "metadata": {},
   "outputs": [],
   "source": [
    "import pandas as pd\n",
    "import faiss\n",
    "import os\n",
    "import json\n",
    "\n",
    "import tensorflow_hub as hub\n",
    "\n",
    "from pprint import pprint\n",
    "\n",
    "import openai\n",
    "openai.api_key = os.environ[\"OPENAI_API_KEY\"]"
   ]
  },
  {
   "cell_type": "markdown",
   "metadata": {},
   "source": [
    "NOT AS ACCURATE AS THE NON-CHUNKED VERSION. DO NOT USE!"
   ]
  },
  {
   "cell_type": "code",
   "execution_count": 2,
   "metadata": {},
   "outputs": [
    {
     "name": "stdout",
     "output_type": "stream",
     "text": [
      "module https://tfhub.dev/google/universal-sentence-encoder/4 loaded\n"
     ]
    }
   ],
   "source": [
    "legal_docs = pd.read_csv(\"../data/legal_text_classification.csv\")\n",
    "index = faiss.read_index(\"chunked_court_text.index\")\n",
    "\n",
    "with open('chunk-doc-map.json', 'r') as fp:\n",
    "    chunk_to_doc_map = json.load(fp)\n",
    "\n",
    "module_url = \"https://tfhub.dev/google/universal-sentence-encoder/4\"\n",
    "\n",
    "model = hub.load(module_url)\n",
    "print (\"module %s loaded\" % module_url)\n",
    "def embed(input):\n",
    "  return model(input)"
   ]
  },
  {
   "cell_type": "code",
   "execution_count": 4,
   "metadata": {},
   "outputs": [
    {
     "name": "stdout",
     "output_type": "stream",
     "text": [
      "Top 5 similar documents:\n",
      "Index: 5892, Similarity Score: -0.17656362056732178\n",
      "Index: 22065, Similarity Score: -0.27195632457733154\n",
      "Index: 4448, Similarity Score: -0.2751309871673584\n",
      "Index: 9587, Similarity Score: -0.2851524353027344\n",
      "Index: 23104, Similarity Score: -0.33100032806396484\n"
     ]
    }
   ],
   "source": [
    "query1 = \"claims related to shoe companies\"\n",
    "#query1 = \"claims involving large sums of money\"\n",
    "\n",
    "# Encode the query into an embedding\n",
    "query_embedding = embed([query1]).numpy()\n",
    "\n",
    "# Search for similar embeddings in the index\n",
    "D, I = index.search(query_embedding, k=5)  # Retrieve the top 5 similar documents\n",
    "\n",
    "# Print the indices and distances of the similar documents\n",
    "print(\"Top 5 similar documents:\")\n",
    "indices = []\n",
    "for chunk_idx, d in zip(I[0], D[0]):\n",
    "    doc_idx = chunk_to_doc_map[str(chunk_idx)]\n",
    "    print(f\"Index: {doc_idx}, Similarity Score: {1 - d}\")\n",
    "    indices.append(doc_idx)"
   ]
  },
  {
   "cell_type": "code",
   "execution_count": 8,
   "metadata": {},
   "outputs": [
    {
     "name": "stdout",
     "output_type": "stream",
     "text": [
      "'Equuscorp Pty Ltd v Perpetual Trustees WA Ltd (1997) 25 ACSR 675'\n",
      "('G &amp; J Gears conceded that it had not satisfied the statutory demand '\n",
      " 'within the period for compliance allowed by the registrar, but it contended '\n",
      " 'that the court could extend the time for compliance because it had made an '\n",
      " 'application for an extension before the time fixed by the registrar had '\n",
      " 'passed. In support of this contention, it referred to Equuscorp Pty Ltd v '\n",
      " 'Perpetual Trustees WA Ltd (1997) 25 ACSR 675 (\" Equuscorp \") at 701 per '\n",
      " 'French, Kiefel and Sundberg JJ. G &amp; J Gears contended that the court '\n",
      " 'should exercise the discretion it had in its favour, amongst other reasons, '\n",
      " 'because the review would otherwise be nugatory. 36 Further, G &amp; J Gears '\n",
      " 'also relied on s 459F(2)(a)(ii) of the Corporations Act in support of its '\n",
      " 'submission that the Court could and should make an order extending the time '\n",
      " 'for compliance with the demand, notwithstanding that the time allowed under '\n",
      " \"the registrar's order had passed. It argued that s 459F(2)(a)(ii) meant that \"\n",
      " 'the period for compliance with the statutory demand did not terminate until '\n",
      " '\"7 days after the application under section 459G is finally determined or '\n",
      " 'otherwise disposed of\" and that the application was not finally determined '\n",
      " \"by the registrar's decision. Counsel for G &amp; J Gears contended that \"\n",
      " \"there was no final determination until after the review of the registrar's \"\n",
      " 'decision had occurred. 37 G &amp; J Gears did not dispute the amount of its '\n",
      " 'indebtedness to Brobo as found by the registrar. It contended, however, that '\n",
      " 'the statutory demand should be set aside because the company had offsetting '\n",
      " 'claims within the meaning of s 459H of the Corporations Act . These claims '\n",
      " 'were: (1) a trademark infringement claim in respect of the Little Rock mark; '\n",
      " '(2) a claim that Brobo had unlawfully induced Rockcrusher-USA to breach its '\n",
      " 'sole distribution agreement with G &amp; J Gears; (3) a breach of contract '\n",
      " \"claim; and (4) a claim that Brobo had unlawfully converted G &amp; J Gears' \"\n",
      " 'designs, patterns and tools to its own use. The trademark infringement claim '\n",
      " \"was the subject of Shirley's affidavit of 2 September 2005, whilst the other \"\n",
      " \"claims were not raised prior to Davis's affidavit of 8 November 2005 and \"\n",
      " 'were dealt with substantially in an affidavit sworn by Shirley on 6 February '\n",
      " '2006. The affidavit of 6 February 2006 was not, of course, before the '\n",
      " 'Registrar. Further, only the trademark infringement claim was raised as a '\n",
      " \"ground in the company's initial affidavit filed pursuant to s 459G(3) of the \"\n",
      " 'Corporations Act . That is, the only basis for an offsetting claim initially '\n",
      " 'disclosed in the application made by G &amp; J Gears under s 459G was the '\n",
      " \"alleged wrongful sale by Brobo of two containers of G &amp; J Gears' goods \"\n",
      " 'and the consequential breach of the Little Rock mark. 48 Upon G &amp; J '\n",
      " \"Gears' application, the Court would have had power to extend time further at \"\n",
      " 'any time after the registrar made the order extending time until the expiry '\n",
      " 'of that time. It would have been open to the company to have made such an '\n",
      " 'application before the end of this period had there been grounds, but it did '\n",
      " 'not do so: see Equuscorp at 701 per French, Kiefel and Sundberg JJ; '\n",
      " 'Graywinter Management Pty Ltd v Deputy Commissioner of Taxation (1996) 22 '\n",
      " 'ACSR 636 at 638 per Finn J; Shakespeares Pie Co Australia Pty Ltd v Multipye '\n",
      " 'Pty Ltd [2005] NSWSC 1201 (\" Shakespeare Pie \") at [7] per Barrett J; '\n",
      " 'Australian Beverage Distributors Pty Ltd v Cranswick Premium Wines Pty Ltd '\n",
      " '[2004] NSWSC 877 (\" Australian Beverage Distributors \") at [12] per Barrett '\n",
      " 'J; and Livestock Traders at 54. Once the time for compliance has passed, '\n",
      " 'however, the Court has no such power.')\n"
     ]
    }
   ],
   "source": [
    "idx = 9587\n",
    "\n",
    "pprint (legal_docs.iloc[idx][\"case_title\"])\n",
    "pprint (legal_docs.iloc[idx][\"case_text\"])"
   ]
  },
  {
   "cell_type": "code",
   "execution_count": 10,
   "metadata": {},
   "outputs": [],
   "source": [
    "def answer_question(question, text, num_sentences=5, english_level=9):\n",
    "  response = openai.ChatCompletion.create(\n",
    "    model = \"gpt-3.5-turbo\",\n",
    "    temperature = 0,\n",
    "    messages = [{\"role\":\"system\", \"content\": f\"Follow these instructions when writing the answer:\\\n",
    "      \\n1. Different texts in the input are separated by ***\"\n",
    "      },\n",
    "      {\"role\": \"user\", \"content\":f\"Answer the following question about the text:{question}. text:{text}\"}]\n",
    "    )\n",
    "\n",
    "  return response['choices'][0]['message']['content']\n",
    "\n",
    "\n",
    "def summarize_text(text, num_sentences=5, english_level=9):\n",
    "  response = openai.ChatCompletion.create(\n",
    "    model = \"gpt-3.5-turbo\",\n",
    "    temperature = 0,\n",
    "    messages = [{\"role\":\"system\", \"content\": f\"Follow these instructions when writing the summary:\\\n",
    "      \\n1. Write a clear and concise summary consisting of {num_sentences} sentences \\\n",
    "      \\n2. The summary's english level matches that of a person with {english_level} years of education \\\n",
    "      \\n3. The summary should consist of an explanation of what the case is about, who's involved and the outcome\"\n",
    "      },\n",
    "      {\"role\": \"user\", \"content\":f\"Write a summary of the following text:{text}\"}]\n",
    "    )\n",
    "\n",
    "  return response['choices'][0]['message']['content']"
   ]
  },
  {
   "cell_type": "code",
   "execution_count": 13,
   "metadata": {},
   "outputs": [],
   "source": [
    "query_docs_list = legal_docs.iloc[indices][\"case_text\"].tolist()\n",
    "texts = []\n",
    "for query_doc in query_docs_list:\n",
    "  texts.append(query_doc)\n",
    "\n",
    "text_all = \"***\".join(texts)\n"
   ]
  },
  {
   "cell_type": "code",
   "execution_count": 16,
   "metadata": {},
   "outputs": [
    {
     "name": "stdout",
     "output_type": "stream",
     "text": [
      "('***In all of these cases, the issue of knowledge is important in determining '\n",
      " 'liability for copyright infringement. The courts consider the knowledge, '\n",
      " 'capacity, and circumstances of the defendant when determining whether they '\n",
      " 'had the requisite knowledge of the infringement. In the case of Raben '\n",
      " 'Footwear Pty Ltd v Polygram Records Inc, the court found that knowledge '\n",
      " \"could not be inferred from the defendant's pattern of trade. In Deckers \"\n",
      " 'Outdoor Corporation Inc v Farley, the court made declarations and ordered '\n",
      " 'the defendant to deliver up counterfeit footwear and pay damages for '\n",
      " \"infringing Deckers' intellectual property rights. In World Brands Management \"\n",
      " 'Pty Ltd v Cube Footwear Pty Ltd, the court considered the common process of '\n",
      " 'purchasing footwear and the expectations of retail consumers. In Lockwood '\n",
      " 'Security Products Pty Ltd v Doric Products Pty Ltd, the court discussed fair '\n",
      " 'basis and the comparison between the claims made in a patent and what is '\n",
      " 'disclosed in the specification. In Deckers Outdoor Corporation Inc v Farley '\n",
      " '(No 4), the court granted summary judgment against the defendants and '\n",
      " 'ordered them to pay damages for copyright infringement.')\n"
     ]
    }
   ],
   "source": [
    "pprint (answer_question(\"What's common in all of these cases?\", text_all))"
   ]
  },
  {
   "cell_type": "code",
   "execution_count": 14,
   "metadata": {},
   "outputs": [
    {
     "name": "stdout",
     "output_type": "stream",
     "text": [
      "('The commonality among all the companies mentioned in this text is that they '\n",
      " 'are involved in legal proceedings or disputes.')\n"
     ]
    }
   ],
   "source": [
    "pprint (answer_question(\"What's common to all the companies mentioned in this text?\", text_all))\n"
   ]
  },
  {
   "cell_type": "code",
   "execution_count": 15,
   "metadata": {},
   "outputs": [
    {
     "name": "stdout",
     "output_type": "stream",
     "text": [
      "('The common industry for all the companies in these texts is the legal '\n",
      " 'industry.')\n"
     ]
    }
   ],
   "source": [
    "pprint (answer_question(\"What's the common industry for all the companies in these texts?\", text_all))\n"
   ]
  },
  {
   "cell_type": "code",
   "execution_count": 11,
   "metadata": {},
   "outputs": [
    {
     "name": "stdout",
     "output_type": "stream",
     "text": [
      "('This document is about a case involving G & J Gears and their failure to '\n",
      " 'comply with a statutory demand within the allowed time period. G & J Gears '\n",
      " 'argues that the court should extend the time for compliance because they had '\n",
      " \"made an application for an extension before the registrar's deadline. They \"\n",
      " 'also rely on a section of the Corporations Act to support their argument. G '\n",
      " '& J Gears further contends that the statutory demand should be set aside due '\n",
      " 'to offsetting claims they have against Brobo, including trademark '\n",
      " 'infringement, breach of contract, and unlawful conversion of designs. The '\n",
      " 'document also mentions that G & J Gears had the opportunity to apply for a '\n",
      " 'further extension of time, but they did not do so. Once the time for '\n",
      " 'compliance has passed, the court no longer has the power to extend it.')\n"
     ]
    }
   ],
   "source": [
    "text = legal_docs.iloc[idx][\"case_text\"]\n",
    "pprint (answer_question(\"What is this document about?\", text))\n"
   ]
  },
  {
   "cell_type": "code",
   "execution_count": 17,
   "metadata": {},
   "outputs": [
    {
     "name": "stdout",
     "output_type": "stream",
     "text": [
      "('The plaintiff in this case is G & J Gears. They are looking for the '\n",
      " 'statutory demand to be set aside because they believe they have offsetting '\n",
      " 'claims against Brobo. These claims include a trademark infringement claim, a '\n",
      " 'claim of unlawful inducement to breach a distribution agreement, a breach of '\n",
      " 'contract claim, and a claim of unlawful conversion of designs, patterns, and '\n",
      " 'tools. G & J Gears argues that these offsetting claims should be considered '\n",
      " 'and that the court should exercise its discretion in their favor.')\n"
     ]
    }
   ],
   "source": [
    "pprint (answer_question(\"Who is the plaintiff in this case and what are they looking for?\", text))\n"
   ]
  },
  {
   "cell_type": "code",
   "execution_count": 26,
   "metadata": {},
   "outputs": [
    {
     "name": "stdout",
     "output_type": "stream",
     "text": [
      "('The case mentioned is World Brands Management Pty Ltd v Cube Footwear Pty '\n",
      " 'Ltd [2004] FCA 769. The judge, Heerey J, refers to a previous case, Dr '\n",
      " 'Martens Australia Pty Ltd v Figgins Holdings Pty Ltd (1999) 44 IPR 281, but '\n",
      " 'does not agree that it establishes a rule of law for the retail footwear '\n",
      " 'trade. However, Heerey J finds value in the observations made in the '\n",
      " 'previous case, as they align with personal experiences of how shoes are '\n",
      " 'typically purchased. Shoes are not usually bought impulsively, but rather, '\n",
      " 'consumers compare, try on, and think over their options. Shoes are expected '\n",
      " 'to last for a few years, and if not chosen well, they can cause discomfort '\n",
      " 'and regret. The outcome of the case is not mentioned in the summary.')\n"
     ]
    }
   ],
   "source": [
    "pprint (summarize_text(text, english_level=5))\n"
   ]
  },
  {
   "cell_type": "code",
   "execution_count": 27,
   "metadata": {},
   "outputs": [
    {
     "name": "stdout",
     "output_type": "stream",
     "text": [
      "'The meaning of life is not discussed in the given texts.'\n"
     ]
    }
   ],
   "source": [
    "pprint (answer_question(\"What is the meaning of life?\", text_all))\n"
   ]
  },
  {
   "cell_type": "code",
   "execution_count": null,
   "metadata": {},
   "outputs": [],
   "source": []
  }
 ],
 "metadata": {
  "kernelspec": {
   "display_name": "Python 3",
   "language": "python",
   "name": "python3"
  },
  "language_info": {
   "codemirror_mode": {
    "name": "ipython",
    "version": 3
   },
   "file_extension": ".py",
   "mimetype": "text/x-python",
   "name": "python",
   "nbconvert_exporter": "python",
   "pygments_lexer": "ipython3",
   "version": "3.10.0"
  },
  "orig_nbformat": 4
 },
 "nbformat": 4,
 "nbformat_minor": 2
}
