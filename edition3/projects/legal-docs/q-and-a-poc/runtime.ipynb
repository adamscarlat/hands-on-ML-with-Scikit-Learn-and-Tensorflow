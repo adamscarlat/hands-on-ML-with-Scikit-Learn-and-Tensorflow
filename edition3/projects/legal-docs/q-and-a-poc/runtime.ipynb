{
 "cells": [
  {
   "cell_type": "code",
   "execution_count": 3,
   "metadata": {},
   "outputs": [],
   "source": [
    "import pandas as pd\n",
    "import faiss\n",
    "import os\n",
    "\n",
    "import tensorflow_hub as hub\n",
    "\n",
    "from pprint import pprint\n",
    "\n",
    "import openai\n",
    "openai.api_key = os.environ[\"OPENAI_API_KEY\"]"
   ]
  },
  {
   "cell_type": "code",
   "execution_count": 6,
   "metadata": {},
   "outputs": [
    {
     "name": "stdout",
     "output_type": "stream",
     "text": [
      "module https://tfhub.dev/google/universal-sentence-encoder/4 loaded\n"
     ]
    }
   ],
   "source": [
    "legal_docs = pd.read_csv(\"../data/legal_text_classification.csv\")\n",
    "index = faiss.read_index(\"non_chunked_court_text.index\")\n",
    "\n",
    "module_url = \"https://tfhub.dev/google/universal-sentence-encoder/4\"\n",
    "\n",
    "model = hub.load(module_url)\n",
    "print (\"module %s loaded\" % module_url)\n",
    "def embed(input):\n",
    "  return model(input)"
   ]
  },
  {
   "cell_type": "code",
   "execution_count": 55,
   "metadata": {},
   "outputs": [
    {
     "name": "stdout",
     "output_type": "stream",
     "text": [
      "Top 5 similar documents:\n",
      "Index: 21879, Similarity Score: -0.03011620044708252\n",
      "Index: 22935, Similarity Score: -0.07395720481872559\n",
      "Index: 6362, Similarity Score: -0.14229393005371094\n",
      "Index: 6358, Similarity Score: -0.14308977127075195\n",
      "Index: 6381, Similarity Score: -0.14308977127075195\n"
     ]
    }
   ],
   "source": [
    "#query1 = \"claims related to shoe companies\"\n",
    "#query1 = \"claims involving large sums of money\"\n",
    "#query1 = \"claims involving boats\"\n",
    "#query1 = \"claims involving injuries or death\"\n",
    "query1 = \"claims involving sexual harrasment\"\n",
    "\n",
    "# Encode the query into an embedding\n",
    "query_embedding = embed([query1]).numpy()\n",
    "\n",
    "# Search for similar embeddings in the index\n",
    "D, I = index.search(query_embedding, k=5)  # Retrieve the top 5 similar documents\n",
    "\n",
    "# Print the indices and distances of the similar documents\n",
    "print(\"Top 5 similar documents:\")\n",
    "indices = []\n",
    "for i, d in zip(I[0], D[0]):\n",
    "    print(f\"Index: {i}, Similarity Score: {1 - d}\")\n",
    "    indices.append(i)"
   ]
  },
  {
   "cell_type": "code",
   "execution_count": 56,
   "metadata": {},
   "outputs": [
    {
     "name": "stdout",
     "output_type": "stream",
     "text": [
      "'Hall v A &amp; A Sheiban Pty Ltd [1989] FCA 72 ; (1989) 20 FCR 217'\n",
      "('Ms Huang does not contend that the Federal Magistrate was in error in his '\n",
      " 'summary of the principles applicable to conduct in breach of s 28A(1)(b). '\n",
      " 'His Honour recognised the breadth of actions that can constitute conduct of '\n",
      " 'a sexual nature and that single incident could constitute a contravention of '\n",
      " 's 28A. He also considered the distinction, pointed out by Wilcox J in Hall v '\n",
      " 'A &amp; A Sheiban Pty Ltd [1989] FCA 72 ; (1989) 20 FCR 217 at 247, that '\n",
      " \"'[u] nwelcome sexual conduct may be insensitive, even offensive, but it does \"\n",
      " \"not necessarily constitute sexual harassment ', the latter suggesting \"\n",
      " 'repetition. 37 The allegation of sexual harassment made to HREOC against '\n",
      " \"Professor Winder is that he touched Ms Huang's hip while passing her in a \"\n",
      " 'corridor in the second semester of 1999. The allegation against Professor '\n",
      " \"Winder is described by Ms Huang in her documentation in the appeal as ' an \"\n",
      " \"upward affectionate stroking motion on hip ' constituting, she says, a \"\n",
      " 'sexual advance for sexual favours which in turn constitutes sexual '\n",
      " 'harassment. Ms Huang confirms that the allegation of sexual harassment '\n",
      " 'against Professor Winder consisted of a single incident late in 1999. In her '\n",
      " 'Notice of Appeal, Ms Huang repeatedly describes the incident with Professor '\n",
      " 'Winder and she also demonstrated his alleged action a number of times during '\n",
      " \"her submissions. The description was in terms of touching of the hip with ' \"\n",
      " 'an upwards affectionate stroking motion on my hip, for his sexual advance '\n",
      " \"for his sexual favours to me '. 38 Noting (at [82]) that Professor Winder \"\n",
      " 'had no recollection of the incident, Driver FM expressed concern about Ms '\n",
      " \"Huang's evidence. Ms Huang waited more than two years before mentioning the \"\n",
      " 'incident and his Honour did not accept her explanation for the delay. His '\n",
      " 'Honour also commented that Ms Huang had changed her account of the incident '\n",
      " 'over time. As his Honour recorded at [87]: ... Ms Huang has changed and '\n",
      " 'embellished her account of the incident over time. Her initial allegation in '\n",
      " \"2002 was that 'one day when I passed the passage from the printing room of \"\n",
      " \"the school he touched my hip'. In her 29 October 2004 affidavit she deposed \"\n",
      " \"that 'he stretched out his right arm towards me and touched me on the hip'. \"\n",
      " 'In her oral evidence Ms Huang said that Professor Winder had caressed her. '\n",
      " \"Her submissions allege 'affectionate stroking' and give further details but \"\n",
      " \"such detailed recollection is inconsistent with Ms Huang's oral evidence \"\n",
      " \"that she did not see Professor's Winder's hand . 39 Federal Magistrate \"\n",
      " 'Driver accepted at [82] that an incident occurred and that there was some '\n",
      " 'physical contact between Professor Winder and Ms Huang as they passed each '\n",
      " 'other in the corridor but found nothing to establish that the incident '\n",
      " 'complained of constituted sexual harassment within the meaning of s 28A of '\n",
      " \"the Sex Discrimination Act . His Honour concluded that ' in all probability, \"\n",
      " 'the contact that occurred between Professor Winder and Ms Huang was '\n",
      " \"accidental and non-sexual as they passed in the corridor ': at [89]. His \"\n",
      " \"Honour noted that the alleged incident did not apparently affect Ms Huang's \"\n",
      " 'dealings with Professor Winder after that time; equally significantly, Ms '\n",
      " 'Huang did not allege that there was ever any other physical contact between '\n",
      " 'her and Professor Winder. 40 Ms Huang alleges a number of consequences '\n",
      " 'arising from the alleged sexual harassment by Professor Winder. Those '\n",
      " 'consequences and the existence of them are dependent upon a finding that the '\n",
      " 'single incident alleged against Professor Winder took place and constituted '\n",
      " 'a breach of the Sex Discrimination Act . 41 Ms Huang alleges that Professor '\n",
      " \"Winder ' made unwelcome sexual advance for sexual favours to me, engaged in \"\n",
      " 'unwelcome conduct of sexual nature in relation to me, and discriminated '\n",
      " 'against me of a sexual nature in relation to my sex, his sexual favours to '\n",
      " 'me, and his sexual harassment, that he treated me less favourably than other '\n",
      " 'girls and the male students and that his support of my PhD, my progress of '\n",
      " 'my PhD and the continuance of my PhD re-enrolment were conditional upon my '\n",
      " \"provision of sexual favours '. 42 In the Notice of Appeal Ms Huang asserts \"\n",
      " 'that, had it not been for the sexual harassment she would have done certain '\n",
      " 'things, such as change her supervisor from Dr Markovic to Professor Winder '\n",
      " 'or not done certain things, such as sent him emails or given him a bottle of '\n",
      " \"wine. She says that if she had intended to invent Professor Winder's \"\n",
      " 'actions, she would have suggested other contact. Ms Huang does not suggest '\n",
      " 'that Professor Winder touched her at any other time. She says that she told '\n",
      " \"Ms Frank that the touching of her hip was sexual harassment because ' he \"\n",
      " \"showed his sexual intention in me '.\")\n"
     ]
    }
   ],
   "source": [
    "idx = 21879\n",
    "\n",
    "pprint (legal_docs.iloc[idx][\"case_title\"])\n",
    "pprint (legal_docs.iloc[idx][\"case_text\"])"
   ]
  },
  {
   "cell_type": "code",
   "execution_count": 19,
   "metadata": {},
   "outputs": [],
   "source": [
    "def answer_question(question, text, num_sentences=5, english_level=9):\n",
    "  response = openai.ChatCompletion.create(\n",
    "    model = \"gpt-3.5-turbo\",\n",
    "    temperature = 0,\n",
    "    messages = [{\"role\":\"system\", \"content\": f\"Follow these instructions when writing the answer:\\\n",
    "      \\n1. Different texts in the input are separated by ***\"\n",
    "      },\n",
    "      {\"role\": \"user\", \"content\":f\"Answer the following question about the text:{question}. text:{text}\"}]\n",
    "    )\n",
    "\n",
    "  return response['choices'][0]['message']['content']\n",
    "\n",
    "\n",
    "def summarize_text(text, num_sentences=5, english_level=9):\n",
    "  response = openai.ChatCompletion.create(\n",
    "    model = \"gpt-3.5-turbo\",\n",
    "    temperature = 0,\n",
    "    messages = [{\"role\":\"system\", \"content\": f\"Follow these instructions when writing the summary:\\\n",
    "      \\n1. Write a clear and concise summary consisting of {num_sentences} sentences \\\n",
    "      \\n2. The summary's english level matches that of a person with {english_level} years of education \\\n",
    "      \\n3. The summary should consist of an explanation of what the case is about, who's involved and the outcome\"\n",
    "      },\n",
    "      {\"role\": \"user\", \"content\":f\"Write a summary of the following text:{text}\"}]\n",
    "    )\n",
    "\n",
    "  return response['choices'][0]['message']['content']"
   ]
  },
  {
   "cell_type": "code",
   "execution_count": 57,
   "metadata": {},
   "outputs": [],
   "source": [
    "query_docs_list = legal_docs.iloc[indices][\"case_text\"].tolist()\n",
    "texts = []\n",
    "for query_doc in query_docs_list:\n",
    "  texts.append(query_doc)\n",
    "\n",
    "text_all = \"***\".join(texts)\n"
   ]
  },
  {
   "cell_type": "code",
   "execution_count": 58,
   "metadata": {},
   "outputs": [
    {
     "name": "stdout",
     "output_type": "stream",
     "text": [
      "('In all of these cases, the common factor is that the individuals are making '\n",
      " 'allegations of sexual harassment. They are claiming that they have '\n",
      " 'experienced unwelcome sexual advances, requests for sexual favors, or other '\n",
      " 'unwelcome conduct of a sexual nature. They are seeking relief and claiming '\n",
      " 'that their rights under the Sex Discrimination Act have been violated.')\n"
     ]
    }
   ],
   "source": [
    "pprint (answer_question(\"What's common in all of these cases?\", text_all))"
   ]
  },
  {
   "cell_type": "code",
   "execution_count": 59,
   "metadata": {},
   "outputs": [
    {
     "name": "stdout",
     "output_type": "stream",
     "text": [
      "('The commonality among all the companies mentioned in this text is that they '\n",
      " 'are all involved in legal proceedings related to allegations of sexual '\n",
      " 'harassment or discrimination.')\n"
     ]
    }
   ],
   "source": [
    "pprint (answer_question(\"What's common to all the companies mentioned in this text?\", text_all))\n"
   ]
  },
  {
   "cell_type": "code",
   "execution_count": 60,
   "metadata": {},
   "outputs": [
    {
     "name": "stdout",
     "output_type": "stream",
     "text": [
      "('The common industry for all the companies in these texts is the legal '\n",
      " 'industry.')\n"
     ]
    }
   ],
   "source": [
    "pprint (answer_question(\"What's the common industry for all the companies in these texts?\", text_all))\n"
   ]
  },
  {
   "cell_type": "code",
   "execution_count": 62,
   "metadata": {},
   "outputs": [
    {
     "name": "stdout",
     "output_type": "stream",
     "text": [
      "'Companies: \\n- A & A Sheiban Pty Ltd\\n- TAFE\\n\\nIndustries: \\n- Education'\n"
     ]
    }
   ],
   "source": [
    "pprint (answer_question(\"List the companies and industries you find in these texts\", text_all))\n"
   ]
  },
  {
   "cell_type": "code",
   "execution_count": 63,
   "metadata": {},
   "outputs": [
    {
     "name": "stdout",
     "output_type": "stream",
     "text": [
      "('The text does not describe any specific injuries. It focuses on allegations '\n",
      " 'of sexual harassment and the legal proceedings surrounding those '\n",
      " 'allegations.')\n"
     ]
    }
   ],
   "source": [
    "pprint (answer_question(\"What types of injuries are described in the text?\", text_all))"
   ]
  },
  {
   "cell_type": "code",
   "execution_count": 64,
   "metadata": {},
   "outputs": [
    {
     "name": "stdout",
     "output_type": "stream",
     "text": [
      "('This document is about a case involving allegations of sexual harassment '\n",
      " 'made by Ms Huang against Professor Winder. The document discusses the '\n",
      " \"incident in question, Ms Huang's changing accounts of the incident, and the \"\n",
      " 'consequences she alleges resulted from the alleged harassment.')\n"
     ]
    }
   ],
   "source": [
    "text = legal_docs.iloc[idx][\"case_text\"]\n",
    "pprint (answer_question(\"What is this document about? keep the answer at 2 sentences\", text))\n"
   ]
  },
  {
   "cell_type": "code",
   "execution_count": 33,
   "metadata": {},
   "outputs": [
    {
     "name": "stdout",
     "output_type": "stream",
     "text": [
      "('The text mentions two companies: Lockwood Security Products Pty Ltd and '\n",
      " 'Doric Products Pty Ltd. Lockwood Security Products Pty Ltd is mentioned in '\n",
      " 'the context of a court case where their observations were cited with '\n",
      " 'approval by the High Court. Doric Products Pty Ltd is mentioned as the '\n",
      " 'opposing party in the court case. The text does not provide specific '\n",
      " 'information about what these companies do.')\n"
     ]
    }
   ],
   "source": [
    "pprint (answer_question(\"What type of company are mentioned in the text and what do they do?\", text))\n"
   ]
  },
  {
   "cell_type": "code",
   "execution_count": 26,
   "metadata": {},
   "outputs": [
    {
     "name": "stdout",
     "output_type": "stream",
     "text": [
      "('The case mentioned is World Brands Management Pty Ltd v Cube Footwear Pty '\n",
      " 'Ltd [2004] FCA 769. The judge, Heerey J, refers to a previous case, Dr '\n",
      " 'Martens Australia Pty Ltd v Figgins Holdings Pty Ltd (1999) 44 IPR 281, but '\n",
      " 'does not agree that it establishes a rule of law for the retail footwear '\n",
      " 'trade. However, Heerey J finds value in the observations made in the '\n",
      " 'previous case, as they align with personal experiences of how shoes are '\n",
      " 'typically purchased. Shoes are not usually bought impulsively, but rather, '\n",
      " 'consumers compare, try on, and think over their options. Shoes are expected '\n",
      " 'to last for a few years, and if not chosen well, they can cause discomfort '\n",
      " 'and regret. The outcome of the case is not mentioned in the summary.')\n"
     ]
    }
   ],
   "source": [
    "pprint (summarize_text(text, english_level=5))\n"
   ]
  },
  {
   "cell_type": "code",
   "execution_count": 42,
   "metadata": {},
   "outputs": [
    {
     "name": "stdout",
     "output_type": "stream",
     "text": [
      "'The meaning of life is not addressed in the given text.'\n"
     ]
    }
   ],
   "source": [
    "pprint (answer_question(\"What is the meaning of life?\", text_all))\n"
   ]
  },
  {
   "cell_type": "code",
   "execution_count": null,
   "metadata": {},
   "outputs": [],
   "source": []
  }
 ],
 "metadata": {
  "kernelspec": {
   "display_name": "Python 3",
   "language": "python",
   "name": "python3"
  },
  "language_info": {
   "codemirror_mode": {
    "name": "ipython",
    "version": 3
   },
   "file_extension": ".py",
   "mimetype": "text/x-python",
   "name": "python",
   "nbconvert_exporter": "python",
   "pygments_lexer": "ipython3",
   "version": "3.10.0"
  },
  "orig_nbformat": 4
 },
 "nbformat": 4,
 "nbformat_minor": 2
}
