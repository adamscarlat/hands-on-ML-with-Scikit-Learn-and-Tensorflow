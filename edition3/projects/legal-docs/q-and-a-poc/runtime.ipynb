{
 "cells": [
  {
   "cell_type": "code",
   "execution_count": 3,
   "metadata": {},
   "outputs": [],
   "source": [
    "import pandas as pd\n",
    "import faiss\n",
    "import os\n",
    "\n",
    "import tensorflow_hub as hub\n",
    "\n",
    "from pprint import pprint\n",
    "\n",
    "import openai\n",
    "openai.api_key = os.environ[\"OPENAI_API_KEY\"]"
   ]
  },
  {
   "cell_type": "code",
   "execution_count": 5,
   "metadata": {},
   "outputs": [],
   "source": [
    "# IMPORTANT - used to find doc index\n",
    "tokens_chunk_size = 512"
   ]
  },
  {
   "cell_type": "code",
   "execution_count": 6,
   "metadata": {},
   "outputs": [
    {
     "name": "stdout",
     "output_type": "stream",
     "text": [
      "module https://tfhub.dev/google/universal-sentence-encoder/4 loaded\n"
     ]
    }
   ],
   "source": [
    "legal_docs = pd.read_csv(\"../data/legal_text_classification.csv\")\n",
    "index = faiss.read_index(\"non_chunked_court_text.index\")\n",
    "\n",
    "module_url = \"https://tfhub.dev/google/universal-sentence-encoder/4\"\n",
    "\n",
    "model = hub.load(module_url)\n",
    "print (\"module %s loaded\" % module_url)\n",
    "def embed(input):\n",
    "  return model(input)"
   ]
  },
  {
   "cell_type": "code",
   "execution_count": 7,
   "metadata": {},
   "outputs": [
    {
     "name": "stdout",
     "output_type": "stream",
     "text": [
      "Top 5 similar documents:\n",
      "Index: 5748, Similarity Score: -0.34309840202331543\n",
      "Index: 22063, Similarity Score: -0.3481215238571167\n",
      "Index: 6910, Similarity Score: -0.3489185571670532\n",
      "Index: 10535, Similarity Score: -0.3654189109802246\n",
      "Index: 22065, Similarity Score: -0.37540555000305176\n"
     ]
    }
   ],
   "source": [
    "query1 = \"claims related to shoe companies\"\n",
    "#query1 = \"claims involving large sums of money\"\n",
    "\n",
    "# Encode the query into an embedding\n",
    "query_embedding = embed([query1]).numpy()\n",
    "\n",
    "# Search for similar embeddings in the index\n",
    "D, I = index.search(query_embedding, k=5)  # Retrieve the top 5 similar documents\n",
    "\n",
    "# Print the indices and distances of the similar documents\n",
    "print(\"Top 5 similar documents:\")\n",
    "indices = []\n",
    "for i, d in zip(I[0], D[0]):\n",
    "    print(f\"Index: {i}, Similarity Score: {1 - d}\")\n",
    "    indices.append(i)"
   ]
  },
  {
   "cell_type": "code",
   "execution_count": 8,
   "metadata": {},
   "outputs": [
    {
     "name": "stdout",
     "output_type": "stream",
     "text": [
      "'World Brands Management Pty Ltd v Cube Footwear Pty Ltd [2004] FCA 769'\n",
      "('The above findings are based not only on the evidence in the proceedings, '\n",
      " 'but on commonsense and judicial experience of the process people typically '\n",
      " 'engage in when purchasing footwear. In World Brands Management Pty Ltd v '\n",
      " 'Cube Footwear Pty Ltd [2004] FCA 769 at [7] (albeit in a passing off '\n",
      " 'context) Heerey J said: Turning to the TPA and passing-off claims, I do not '\n",
      " 'agree that the decision of Goldberg J in Dr Martens Australia Pty Ltd v '\n",
      " 'Figgins Holdings Pty Ltd (1999) 44 IPR 281 establishes some rule of law as '\n",
      " 'to the circumstances which pertain in the retail footwear trade. '\n",
      " \"Nevertheless, his Honour's observations are valuable in another way. They \"\n",
      " \"light up and provoke one's memories from personal experience as to the way \"\n",
      " 'in which shoes are bought by retail consumers. As counsel for the '\n",
      " 'respondents pointed out, shoes are usually not a quick impulsive purchase of '\n",
      " 'something off the supermarket shelf. Rather, shoes are compared and tried on '\n",
      " 'and thought over. Shoes are expected to last for some years at least. If not '\n",
      " 'well chosen, they may cause discomfort and regret.')\n"
     ]
    }
   ],
   "source": [
    "idx = 6910\n",
    "\n",
    "pprint (legal_docs.iloc[idx][\"case_title\"])\n",
    "pprint (legal_docs.iloc[idx][\"case_text\"])"
   ]
  },
  {
   "cell_type": "code",
   "execution_count": 19,
   "metadata": {},
   "outputs": [],
   "source": [
    "def answer_question(question, text, num_sentences=5, english_level=9):\n",
    "  response = openai.ChatCompletion.create(\n",
    "    model = \"gpt-3.5-turbo\",\n",
    "    temperature = 0,\n",
    "    messages = [{\"role\":\"system\", \"content\": f\"Follow these instructions when writing the answer:\\\n",
    "      \\n1. Different texts in the input are separated by ***\"\n",
    "      },\n",
    "      {\"role\": \"user\", \"content\":f\"Answer the following question about the text:{question}. text:{text}\"}]\n",
    "    )\n",
    "\n",
    "  return response['choices'][0]['message']['content']\n",
    "\n",
    "\n",
    "def summarize_text(text, num_sentences=5, english_level=9):\n",
    "  response = openai.ChatCompletion.create(\n",
    "    model = \"gpt-3.5-turbo\",\n",
    "    temperature = 0,\n",
    "    messages = [{\"role\":\"system\", \"content\": f\"Follow these instructions when writing the summary:\\\n",
    "      \\n1. Write a clear and concise summary consisting of {num_sentences} sentences \\\n",
    "      \\n2. The summary's english level matches that of a person with {english_level} years of education \\\n",
    "      \\n3. The summary should consist of an explanation of what the case is about, who's involved and the outcome\"\n",
    "      },\n",
    "      {\"role\": \"user\", \"content\":f\"Write a summary of the following text:{text}\"}]\n",
    "    )\n",
    "\n",
    "  return response['choices'][0]['message']['content']"
   ]
  },
  {
   "cell_type": "code",
   "execution_count": 14,
   "metadata": {},
   "outputs": [],
   "source": [
    "query_docs_list = legal_docs.iloc[indices][\"case_text\"].tolist()\n",
    "texts = []\n",
    "for query_doc in query_docs_list:\n",
    "  texts.append(query_doc)\n",
    "\n",
    "text_all = \"***\".join(texts)\n"
   ]
  },
  {
   "cell_type": "code",
   "execution_count": 16,
   "metadata": {},
   "outputs": [
    {
     "name": "stdout",
     "output_type": "stream",
     "text": [
      "('***In all of these cases, the issue of knowledge is important in determining '\n",
      " 'liability for copyright infringement. The courts consider the knowledge, '\n",
      " 'capacity, and circumstances of the defendant when determining whether they '\n",
      " 'had the requisite knowledge of the infringement. In the case of Raben '\n",
      " 'Footwear Pty Ltd v Polygram Records Inc, the court found that knowledge '\n",
      " \"could not be inferred from the defendant's pattern of trade. In Deckers \"\n",
      " 'Outdoor Corporation Inc v Farley, the court made declarations and ordered '\n",
      " 'the defendant to deliver up counterfeit footwear and pay damages for '\n",
      " \"infringing Deckers' intellectual property rights. In World Brands Management \"\n",
      " 'Pty Ltd v Cube Footwear Pty Ltd, the court considered the common process of '\n",
      " 'purchasing footwear and the expectations of retail consumers. In Lockwood '\n",
      " 'Security Products Pty Ltd v Doric Products Pty Ltd, the court discussed fair '\n",
      " 'basis and the comparison between the claims made in a patent and what is '\n",
      " 'disclosed in the specification. In Deckers Outdoor Corporation Inc v Farley '\n",
      " '(No 4), the court granted summary judgment against the defendants and '\n",
      " 'ordered them to pay damages for copyright infringement.')\n"
     ]
    }
   ],
   "source": [
    "pprint (answer_question(\"What's common in all of these cases?\", text_all))"
   ]
  },
  {
   "cell_type": "code",
   "execution_count": 20,
   "metadata": {},
   "outputs": [
    {
     "name": "stdout",
     "output_type": "stream",
     "text": [
      "('The common factor among all the companies mentioned in the text is that they '\n",
      " 'are involved in copyright infringement or intellectual property rights '\n",
      " 'violations.')\n"
     ]
    }
   ],
   "source": [
    "pprint (answer_question(\"What's common to all the companies mentioned in this text?\", text_all))\n"
   ]
  },
  {
   "cell_type": "code",
   "execution_count": 21,
   "metadata": {},
   "outputs": [
    {
     "name": "stdout",
     "output_type": "stream",
     "text": [
      "('The common industry for all the companies in these texts is the footwear '\n",
      " 'industry.')\n"
     ]
    }
   ],
   "source": [
    "pprint (answer_question(\"What's the common industry for all the companies in these texts?\", text_all))\n"
   ]
  },
  {
   "cell_type": "code",
   "execution_count": null,
   "metadata": {},
   "outputs": [],
   "source": []
  }
 ],
 "metadata": {
  "kernelspec": {
   "display_name": "Python 3",
   "language": "python",
   "name": "python3"
  },
  "language_info": {
   "codemirror_mode": {
    "name": "ipython",
    "version": 3
   },
   "file_extension": ".py",
   "mimetype": "text/x-python",
   "name": "python",
   "nbconvert_exporter": "python",
   "pygments_lexer": "ipython3",
   "version": "3.10.0"
  },
  "orig_nbformat": 4
 },
 "nbformat": 4,
 "nbformat_minor": 2
}
