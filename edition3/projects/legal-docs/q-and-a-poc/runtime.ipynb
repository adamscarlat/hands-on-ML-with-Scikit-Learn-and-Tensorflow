{
 "cells": [
  {
   "cell_type": "code",
   "execution_count": 12,
   "metadata": {},
   "outputs": [],
   "source": [
    "import pandas as pd\n",
    "import faiss\n",
    "\n",
    "import tensorflow_hub as hub\n",
    "\n",
    "from pprint import pprint"
   ]
  },
  {
   "cell_type": "code",
   "execution_count": 2,
   "metadata": {},
   "outputs": [],
   "source": [
    "# IMPORTANT - used to find doc index\n",
    "tokens_chunk_size = 512"
   ]
  },
  {
   "cell_type": "code",
   "execution_count": 15,
   "metadata": {},
   "outputs": [
    {
     "name": "stdout",
     "output_type": "stream",
     "text": [
      "module https://tfhub.dev/google/universal-sentence-encoder/4 loaded\n"
     ]
    }
   ],
   "source": [
    "legal_docs = pd.read_csv(\"../data/legal_text_classification.csv\")\n",
    "index = faiss.read_index(\"non_chunked_court_text.index\")\n",
    "\n",
    "module_url = \"https://tfhub.dev/google/universal-sentence-encoder/4\"\n",
    "\n",
    "model = hub.load(module_url)\n",
    "print (\"module %s loaded\" % module_url)\n",
    "def embed(input):\n",
    "  return model(input)"
   ]
  },
  {
   "cell_type": "code",
   "execution_count": 23,
   "metadata": {},
   "outputs": [
    {
     "name": "stdout",
     "output_type": "stream",
     "text": [
      "Top 5 similar documents:\n",
      "Index: 5748, Similarity Score: -0.34309840202331543\n",
      "Index: 22063, Similarity Score: -0.3481215238571167\n",
      "Index: 6910, Similarity Score: -0.3489185571670532\n",
      "Index: 10535, Similarity Score: -0.3654189109802246\n",
      "Index: 22065, Similarity Score: -0.37540555000305176\n"
     ]
    }
   ],
   "source": [
    "query1 = \"claims related to shoe companies\"\n",
    "#query1 = \"claims involving large sums of money\"\n",
    "\n",
    "# Encode the query into an embedding\n",
    "query_embedding = embed([query1]).numpy()\n",
    "\n",
    "# Search for similar embeddings in the index\n",
    "D, I = index.search(query_embedding, k=5)  # Retrieve the top 5 similar documents\n",
    "\n",
    "# Print the indices and distances of the similar documents\n",
    "print(\"Top 5 similar documents:\")\n",
    "indices = []\n",
    "for i, d in zip(I[0], D[0]):\n",
    "    print(f\"Index: {i}, Similarity Score: {1 - d}\")\n",
    "    indices.append(i)"
   ]
  },
  {
   "cell_type": "code",
   "execution_count": 25,
   "metadata": {},
   "outputs": [
    {
     "name": "stdout",
     "output_type": "stream",
     "text": [
      "'World Brands Management Pty Ltd v Cube Footwear Pty Ltd [2004] FCA 769'\n",
      "('The above findings are based not only on the evidence in the proceedings, '\n",
      " 'but on commonsense and judicial experience of the process people typically '\n",
      " 'engage in when purchasing footwear. In World Brands Management Pty Ltd v '\n",
      " 'Cube Footwear Pty Ltd [2004] FCA 769 at [7] (albeit in a passing off '\n",
      " 'context) Heerey J said: Turning to the TPA and passing-off claims, I do not '\n",
      " 'agree that the decision of Goldberg J in Dr Martens Australia Pty Ltd v '\n",
      " 'Figgins Holdings Pty Ltd (1999) 44 IPR 281 establishes some rule of law as '\n",
      " 'to the circumstances which pertain in the retail footwear trade. '\n",
      " \"Nevertheless, his Honour's observations are valuable in another way. They \"\n",
      " \"light up and provoke one's memories from personal experience as to the way \"\n",
      " 'in which shoes are bought by retail consumers. As counsel for the '\n",
      " 'respondents pointed out, shoes are usually not a quick impulsive purchase of '\n",
      " 'something off the supermarket shelf. Rather, shoes are compared and tried on '\n",
      " 'and thought over. Shoes are expected to last for some years at least. If not '\n",
      " 'well chosen, they may cause discomfort and regret.')\n"
     ]
    }
   ],
   "source": [
    "idx = 6910\n",
    "\n",
    "pprint (legal_docs.iloc[idx][\"case_title\"])\n",
    "pprint (legal_docs.iloc[idx][\"case_text\"])"
   ]
  },
  {
   "cell_type": "code",
   "execution_count": null,
   "metadata": {},
   "outputs": [],
   "source": []
  }
 ],
 "metadata": {
  "kernelspec": {
   "display_name": "Python 3",
   "language": "python",
   "name": "python3"
  },
  "language_info": {
   "codemirror_mode": {
    "name": "ipython",
    "version": 3
   },
   "file_extension": ".py",
   "mimetype": "text/x-python",
   "name": "python",
   "nbconvert_exporter": "python",
   "pygments_lexer": "ipython3",
   "version": "3.10.0"
  },
  "orig_nbformat": 4
 },
 "nbformat": 4,
 "nbformat_minor": 2
}
