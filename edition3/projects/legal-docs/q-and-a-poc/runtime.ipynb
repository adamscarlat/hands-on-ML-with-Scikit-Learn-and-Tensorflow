{
 "cells": [
  {
   "cell_type": "code",
   "execution_count": 12,
   "metadata": {},
   "outputs": [],
   "source": [
    "import pandas as pd\n",
    "import faiss\n",
    "\n",
    "import tensorflow_hub as hub\n",
    "\n",
    "from pprint import pprint"
   ]
  },
  {
   "cell_type": "code",
   "execution_count": 2,
   "metadata": {},
   "outputs": [],
   "source": [
    "# IMPORTANT - used to find doc index\n",
    "tokens_chunk_size = 512"
   ]
  },
  {
   "cell_type": "code",
   "execution_count": 15,
   "metadata": {},
   "outputs": [
    {
     "name": "stdout",
     "output_type": "stream",
     "text": [
      "module https://tfhub.dev/google/universal-sentence-encoder/4 loaded\n"
     ]
    }
   ],
   "source": [
    "legal_docs = pd.read_csv(\"../data/legal_text_classification.csv\")\n",
    "index = faiss.read_index(\"non_chunked_court_text.index\")\n",
    "\n",
    "module_url = \"https://tfhub.dev/google/universal-sentence-encoder/4\"\n",
    "\n",
    "model = hub.load(module_url)\n",
    "print (\"module %s loaded\" % module_url)\n",
    "def embed(input):\n",
    "  return model(input)"
   ]
  },
  {
   "cell_type": "code",
   "execution_count": 21,
   "metadata": {},
   "outputs": [
    {
     "name": "stdout",
     "output_type": "stream",
     "text": [
      "Top 5 similar documents:\n",
      "Index: 18197, Similarity Score: -0.35356605052948\n",
      "Index: 14894, Similarity Score: -0.42606401443481445\n",
      "Index: 10145, Similarity Score: -0.47372210025787354\n",
      "Index: 14491, Similarity Score: -0.4985116720199585\n",
      "Index: 22965, Similarity Score: -0.5052845478057861\n"
     ]
    }
   ],
   "source": [
    "query1 = \"claims related to shoe companies\"\n",
    "#query1 = \"claims involving large sums of money\"\n",
    "\n",
    "# Encode the query into an embedding\n",
    "query_embedding = embed([query1]).numpy()\n",
    "\n",
    "# Search for similar embeddings in the index\n",
    "D, I = index.search(query_embedding, k=5)  # Retrieve the top 5 similar documents\n",
    "\n",
    "# Print the indices and distances of the similar documents\n",
    "print(\"Top 5 similar documents:\")\n",
    "indices = []\n",
    "for i, d in zip(I[0], D[0]):\n",
    "    print(f\"Index: {i}, Similarity Score: {1 - d}\")\n",
    "    indices.append(i)"
   ]
  },
  {
   "cell_type": "code",
   "execution_count": 22,
   "metadata": {},
   "outputs": [
    {
     "name": "stdout",
     "output_type": "stream",
     "text": [
      "('Elderslie Finance Corporation Ltd v Newpage (No 6) [2007] FCA 1030 ; (2007) '\n",
      " '160 FCR 423')\n",
      "('Court may approve a compromise if one of a number of ways of presenting a '\n",
      " 'claim involves a \"debt\" claim: Elderslie Finance Corporation Ltd v Newpage '\n",
      " '(No 6) [2007] FCA 1030 ; (2007) 160 FCR 423 at [40] - [41] . In the present '\n",
      " 'case, one way in which EBD has framed its claim is that payments made by it '\n",
      " 'to EBM upon false invoices were made pursuant to sham transactions, and of '\n",
      " 'no legal effect and that consequently, there is no basis upon which EBM may '\n",
      " 'retain the money paid by EBD. This is a claim for restitution of an amount '\n",
      " 'wrongly paid which is capable of constituting a \"debt\". Discretion')\n"
     ]
    }
   ],
   "source": [
    "idx = 18197\n",
    "\n",
    "pprint (legal_docs.iloc[idx][\"case_title\"])\n",
    "pprint (legal_docs.iloc[idx][\"case_text\"])"
   ]
  },
  {
   "cell_type": "code",
   "execution_count": null,
   "metadata": {},
   "outputs": [],
   "source": []
  }
 ],
 "metadata": {
  "kernelspec": {
   "display_name": "Python 3",
   "language": "python",
   "name": "python3"
  },
  "language_info": {
   "codemirror_mode": {
    "name": "ipython",
    "version": 3
   },
   "file_extension": ".py",
   "mimetype": "text/x-python",
   "name": "python",
   "nbconvert_exporter": "python",
   "pygments_lexer": "ipython3",
   "version": "3.10.0"
  },
  "orig_nbformat": 4
 },
 "nbformat": 4,
 "nbformat_minor": 2
}
