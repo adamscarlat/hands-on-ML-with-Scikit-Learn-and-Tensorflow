{
 "cells": [
  {
   "cell_type": "code",
   "execution_count": 386,
   "metadata": {},
   "outputs": [],
   "source": [
    "import os\n",
    "import numpy as np \n",
    "import pandas as pd \n",
    "import matplotlib \n",
    "import matplotlib.pyplot as plt\n",
    "import joblib\n",
    "\n",
    "import warnings\n",
    "warnings.filterwarnings(\"ignore\")\n",
    "\n",
    "from sklearn.preprocessing import LabelEncoder, RobustScaler\n",
    "from sklearn.model_selection import train_test_split, RandomizedSearchCV\n",
    "from sklearn.discriminant_analysis import StandardScaler\n",
    "from sklearn.impute import SimpleImputer, KNNImputer\n",
    "from sklearn.pipeline import Pipeline, FunctionTransformer\n",
    "from sklearn.compose import ColumnTransformer\n",
    "from sklearn.ensemble import RandomForestClassifier\n",
    "from sklearn.model_selection import cross_val_score\n",
    "from sklearn.metrics import f1_score, precision_score, recall_score, precision_recall_curve, accuracy_score\n",
    "\n",
    "from scipy.stats import randint\n",
    "\n",
    "from pandas import DataFrame\n",
    "\n",
    "\n",
    "from xgboost import XGBClassifier\n",
    "\n"
   ]
  },
  {
   "cell_type": "markdown",
   "metadata": {},
   "source": [
    "# The Attributess include:\n",
    "- Age: age of the patient [years]\n",
    "- Sex: sex of the patient \n",
    "  * M: Male \n",
    "  * F: Female\n",
    "- ChestPainType: chest pain type \n",
    "  * TA: Typical Angina \n",
    "  * ATA: Atypical Angina \n",
    "  * NAP: Non-Anginal Pain \n",
    "  * ASY: Asymptomatic\n",
    "- RestingBP: resting blood pressure [mm Hg]\n",
    "- Cholesterol: serum cholesterol [mm/dl]\n",
    "- FastingBS: fasting blood sugar \n",
    "  * 1: if FastingBS > 120 mg/dl \n",
    "  * 0: otherwise\n",
    "- RestingECG: resting electrocardiogram results \n",
    "  * Normal: Normal \n",
    "  * ST: having ST-T wave abnormality (T wave inversions and/or ST elevation or depression of > 0.05 mV) \n",
    "  * LVH: showing probable or definite left ventricular hypertrophy by Estes' criteria\n",
    "- MaxHR: maximum heart rate achieved [Numeric value between 60 and 202]\n",
    "- ExerciseAngina: exercise-induced angina \n",
    "  * Y: Yes \n",
    "  * N: No\n",
    "- Oldpeak: oldpeak = ST [Numeric value measured in depression]\n",
    "- ST_Slope: the slope of the peak exercise ST segment \n",
    "  * Up: upsloping \n",
    "  * Flat: flat, Down: downsloping\n",
    "- HeartDisease: output class \n",
    "  * 1: heart disease \n",
    "  * 0: Normal"
   ]
  },
  {
   "cell_type": "markdown",
   "metadata": {},
   "source": [
    "# Exploratory Data Analysis"
   ]
  },
  {
   "cell_type": "markdown",
   "metadata": {},
   "source": [
    "#### General data statistics"
   ]
  },
  {
   "cell_type": "code",
   "execution_count": 387,
   "metadata": {},
   "outputs": [
    {
     "data": {
      "text/html": [
       "<div>\n",
       "<style scoped>\n",
       "    .dataframe tbody tr th:only-of-type {\n",
       "        vertical-align: middle;\n",
       "    }\n",
       "\n",
       "    .dataframe tbody tr th {\n",
       "        vertical-align: top;\n",
       "    }\n",
       "\n",
       "    .dataframe thead th {\n",
       "        text-align: right;\n",
       "    }\n",
       "</style>\n",
       "<table border=\"1\" class=\"dataframe\">\n",
       "  <thead>\n",
       "    <tr style=\"text-align: right;\">\n",
       "      <th></th>\n",
       "      <th>index</th>\n",
       "      <th>Age</th>\n",
       "      <th>Sex</th>\n",
       "      <th>ChestPainType</th>\n",
       "      <th>RestingBP</th>\n",
       "      <th>Cholesterol</th>\n",
       "      <th>FastingBS</th>\n",
       "      <th>RestingECG</th>\n",
       "      <th>MaxHR</th>\n",
       "      <th>ExerciseAngina</th>\n",
       "      <th>Oldpeak</th>\n",
       "      <th>ST_Slope</th>\n",
       "      <th>HeartDisease</th>\n",
       "    </tr>\n",
       "  </thead>\n",
       "  <tbody>\n",
       "    <tr>\n",
       "      <th>0</th>\n",
       "      <td>637</td>\n",
       "      <td>43</td>\n",
       "      <td>M</td>\n",
       "      <td>ASY</td>\n",
       "      <td>115</td>\n",
       "      <td>303</td>\n",
       "      <td>0</td>\n",
       "      <td>Normal</td>\n",
       "      <td>181</td>\n",
       "      <td>N</td>\n",
       "      <td>1.2</td>\n",
       "      <td>Flat</td>\n",
       "      <td>0</td>\n",
       "    </tr>\n",
       "    <tr>\n",
       "      <th>1</th>\n",
       "      <td>541</td>\n",
       "      <td>76</td>\n",
       "      <td>M</td>\n",
       "      <td>NAP</td>\n",
       "      <td>104</td>\n",
       "      <td>113</td>\n",
       "      <td>0</td>\n",
       "      <td>LVH</td>\n",
       "      <td>120</td>\n",
       "      <td>N</td>\n",
       "      <td>3.5</td>\n",
       "      <td>Down</td>\n",
       "      <td>1</td>\n",
       "    </tr>\n",
       "    <tr>\n",
       "      <th>2</th>\n",
       "      <td>570</td>\n",
       "      <td>56</td>\n",
       "      <td>M</td>\n",
       "      <td>ASY</td>\n",
       "      <td>128</td>\n",
       "      <td>223</td>\n",
       "      <td>0</td>\n",
       "      <td>ST</td>\n",
       "      <td>119</td>\n",
       "      <td>Y</td>\n",
       "      <td>2.0</td>\n",
       "      <td>Down</td>\n",
       "      <td>1</td>\n",
       "    </tr>\n",
       "    <tr>\n",
       "      <th>3</th>\n",
       "      <td>611</td>\n",
       "      <td>62</td>\n",
       "      <td>M</td>\n",
       "      <td>TA</td>\n",
       "      <td>135</td>\n",
       "      <td>139</td>\n",
       "      <td>0</td>\n",
       "      <td>ST</td>\n",
       "      <td>137</td>\n",
       "      <td>N</td>\n",
       "      <td>0.2</td>\n",
       "      <td>Up</td>\n",
       "      <td>0</td>\n",
       "    </tr>\n",
       "    <tr>\n",
       "      <th>4</th>\n",
       "      <td>685</td>\n",
       "      <td>61</td>\n",
       "      <td>M</td>\n",
       "      <td>ASY</td>\n",
       "      <td>120</td>\n",
       "      <td>260</td>\n",
       "      <td>0</td>\n",
       "      <td>Normal</td>\n",
       "      <td>140</td>\n",
       "      <td>Y</td>\n",
       "      <td>3.6</td>\n",
       "      <td>Flat</td>\n",
       "      <td>1</td>\n",
       "    </tr>\n",
       "  </tbody>\n",
       "</table>\n",
       "</div>"
      ],
      "text/plain": [
       "   index  Age Sex ChestPainType  RestingBP  Cholesterol  FastingBS RestingECG  \\\n",
       "0    637   43   M           ASY        115          303          0     Normal   \n",
       "1    541   76   M           NAP        104          113          0        LVH   \n",
       "2    570   56   M           ASY        128          223          0         ST   \n",
       "3    611   62   M            TA        135          139          0         ST   \n",
       "4    685   61   M           ASY        120          260          0     Normal   \n",
       "\n",
       "   MaxHR ExerciseAngina  Oldpeak ST_Slope  HeartDisease  \n",
       "0    181              N      1.2     Flat             0  \n",
       "1    120              N      3.5     Down             1  \n",
       "2    119              Y      2.0     Down             1  \n",
       "3    137              N      0.2       Up             0  \n",
       "4    140              Y      3.6     Flat             1  "
      ]
     },
     "execution_count": 387,
     "metadata": {},
     "output_type": "execute_result"
    }
   ],
   "source": [
    "df=pd.read_csv(\"./data/heart.csv\")\n",
    "\n",
    "# separate label from data\n",
    "X = df.drop(\"HeartDisease\", axis=1)\n",
    "y = df[\"HeartDisease\"].copy()\n",
    "\n",
    "X_train, X_test, y_train, y_test = train_test_split(X, y, random_state=42, stratify=y)\n",
    "\n",
    "# Join the train data and train labels into a full dataframe\n",
    "full_train = X_train.copy()\n",
    "full_train[\"HeartDisease\"] = y\n",
    "full_train = full_train.reset_index()\n",
    "\n",
    "full_train.head()"
   ]
  },
  {
   "cell_type": "code",
   "execution_count": 388,
   "metadata": {},
   "outputs": [
    {
     "data": {
      "text/html": [
       "<div>\n",
       "<style scoped>\n",
       "    .dataframe tbody tr th:only-of-type {\n",
       "        vertical-align: middle;\n",
       "    }\n",
       "\n",
       "    .dataframe tbody tr th {\n",
       "        vertical-align: top;\n",
       "    }\n",
       "\n",
       "    .dataframe thead th {\n",
       "        text-align: right;\n",
       "    }\n",
       "</style>\n",
       "<table border=\"1\" class=\"dataframe\">\n",
       "  <thead>\n",
       "    <tr style=\"text-align: right;\">\n",
       "      <th></th>\n",
       "      <th>index</th>\n",
       "      <th>Age</th>\n",
       "      <th>RestingBP</th>\n",
       "      <th>Cholesterol</th>\n",
       "      <th>FastingBS</th>\n",
       "      <th>MaxHR</th>\n",
       "      <th>Oldpeak</th>\n",
       "      <th>HeartDisease</th>\n",
       "    </tr>\n",
       "  </thead>\n",
       "  <tbody>\n",
       "    <tr>\n",
       "      <th>count</th>\n",
       "      <td>688.000000</td>\n",
       "      <td>688.000000</td>\n",
       "      <td>688.000000</td>\n",
       "      <td>688.000000</td>\n",
       "      <td>688.000000</td>\n",
       "      <td>688.000000</td>\n",
       "      <td>688.000000</td>\n",
       "      <td>688.000000</td>\n",
       "    </tr>\n",
       "    <tr>\n",
       "      <th>mean</th>\n",
       "      <td>458.510174</td>\n",
       "      <td>53.899709</td>\n",
       "      <td>132.800872</td>\n",
       "      <td>202.350291</td>\n",
       "      <td>0.228198</td>\n",
       "      <td>136.209302</td>\n",
       "      <td>0.873837</td>\n",
       "      <td>0.553779</td>\n",
       "    </tr>\n",
       "    <tr>\n",
       "      <th>std</th>\n",
       "      <td>267.294592</td>\n",
       "      <td>9.496194</td>\n",
       "      <td>18.254936</td>\n",
       "      <td>108.150487</td>\n",
       "      <td>0.419976</td>\n",
       "      <td>26.032559</td>\n",
       "      <td>1.070478</td>\n",
       "      <td>0.497461</td>\n",
       "    </tr>\n",
       "    <tr>\n",
       "      <th>min</th>\n",
       "      <td>0.000000</td>\n",
       "      <td>29.000000</td>\n",
       "      <td>92.000000</td>\n",
       "      <td>0.000000</td>\n",
       "      <td>0.000000</td>\n",
       "      <td>60.000000</td>\n",
       "      <td>-2.600000</td>\n",
       "      <td>0.000000</td>\n",
       "    </tr>\n",
       "    <tr>\n",
       "      <th>25%</th>\n",
       "      <td>221.750000</td>\n",
       "      <td>48.000000</td>\n",
       "      <td>120.000000</td>\n",
       "      <td>180.000000</td>\n",
       "      <td>0.000000</td>\n",
       "      <td>118.000000</td>\n",
       "      <td>0.000000</td>\n",
       "      <td>0.000000</td>\n",
       "    </tr>\n",
       "    <tr>\n",
       "      <th>50%</th>\n",
       "      <td>458.000000</td>\n",
       "      <td>55.000000</td>\n",
       "      <td>130.000000</td>\n",
       "      <td>224.000000</td>\n",
       "      <td>0.000000</td>\n",
       "      <td>138.000000</td>\n",
       "      <td>0.500000</td>\n",
       "      <td>1.000000</td>\n",
       "    </tr>\n",
       "    <tr>\n",
       "      <th>75%</th>\n",
       "      <td>692.250000</td>\n",
       "      <td>61.000000</td>\n",
       "      <td>141.000000</td>\n",
       "      <td>269.000000</td>\n",
       "      <td>0.000000</td>\n",
       "      <td>156.000000</td>\n",
       "      <td>1.500000</td>\n",
       "      <td>1.000000</td>\n",
       "    </tr>\n",
       "    <tr>\n",
       "      <th>max</th>\n",
       "      <td>916.000000</td>\n",
       "      <td>77.000000</td>\n",
       "      <td>200.000000</td>\n",
       "      <td>603.000000</td>\n",
       "      <td>1.000000</td>\n",
       "      <td>202.000000</td>\n",
       "      <td>5.600000</td>\n",
       "      <td>1.000000</td>\n",
       "    </tr>\n",
       "  </tbody>\n",
       "</table>\n",
       "</div>"
      ],
      "text/plain": [
       "            index         Age   RestingBP  Cholesterol   FastingBS  \\\n",
       "count  688.000000  688.000000  688.000000   688.000000  688.000000   \n",
       "mean   458.510174   53.899709  132.800872   202.350291    0.228198   \n",
       "std    267.294592    9.496194   18.254936   108.150487    0.419976   \n",
       "min      0.000000   29.000000   92.000000     0.000000    0.000000   \n",
       "25%    221.750000   48.000000  120.000000   180.000000    0.000000   \n",
       "50%    458.000000   55.000000  130.000000   224.000000    0.000000   \n",
       "75%    692.250000   61.000000  141.000000   269.000000    0.000000   \n",
       "max    916.000000   77.000000  200.000000   603.000000    1.000000   \n",
       "\n",
       "            MaxHR     Oldpeak  HeartDisease  \n",
       "count  688.000000  688.000000    688.000000  \n",
       "mean   136.209302    0.873837      0.553779  \n",
       "std     26.032559    1.070478      0.497461  \n",
       "min     60.000000   -2.600000      0.000000  \n",
       "25%    118.000000    0.000000      0.000000  \n",
       "50%    138.000000    0.500000      1.000000  \n",
       "75%    156.000000    1.500000      1.000000  \n",
       "max    202.000000    5.600000      1.000000  "
      ]
     },
     "execution_count": 388,
     "metadata": {},
     "output_type": "execute_result"
    }
   ],
   "source": [
    "full_train.describe()"
   ]
  },
  {
   "cell_type": "code",
   "execution_count": 389,
   "metadata": {},
   "outputs": [
    {
     "data": {
      "text/plain": [
       "index               int64\n",
       "Age                 int64\n",
       "Sex                object\n",
       "ChestPainType      object\n",
       "RestingBP           int64\n",
       "Cholesterol         int64\n",
       "FastingBS           int64\n",
       "RestingECG         object\n",
       "MaxHR               int64\n",
       "ExerciseAngina     object\n",
       "Oldpeak           float64\n",
       "ST_Slope           object\n",
       "HeartDisease        int64\n",
       "dtype: object"
      ]
     },
     "execution_count": 389,
     "metadata": {},
     "output_type": "execute_result"
    }
   ],
   "source": [
    "full_train.dtypes"
   ]
  },
  {
   "cell_type": "code",
   "execution_count": 390,
   "metadata": {},
   "outputs": [
    {
     "name": "stdout",
     "output_type": "stream",
     "text": [
      "<class 'pandas.core.frame.DataFrame'>\n",
      "RangeIndex: 688 entries, 0 to 687\n",
      "Data columns (total 13 columns):\n",
      " #   Column          Non-Null Count  Dtype  \n",
      "---  ------          --------------  -----  \n",
      " 0   index           688 non-null    int64  \n",
      " 1   Age             688 non-null    int64  \n",
      " 2   Sex             688 non-null    object \n",
      " 3   ChestPainType   688 non-null    object \n",
      " 4   RestingBP       688 non-null    int64  \n",
      " 5   Cholesterol     688 non-null    int64  \n",
      " 6   FastingBS       688 non-null    int64  \n",
      " 7   RestingECG      688 non-null    object \n",
      " 8   MaxHR           688 non-null    int64  \n",
      " 9   ExerciseAngina  688 non-null    object \n",
      " 10  Oldpeak         688 non-null    float64\n",
      " 11  ST_Slope        688 non-null    object \n",
      " 12  HeartDisease    688 non-null    int64  \n",
      "dtypes: float64(1), int64(7), object(5)\n",
      "memory usage: 70.0+ KB\n"
     ]
    }
   ],
   "source": [
    "# No missing values\n",
    "full_train.info()"
   ]
  },
  {
   "cell_type": "code",
   "execution_count": 391,
   "metadata": {},
   "outputs": [
    {
     "data": {
      "text/plain": [
       "HeartDisease\n",
       "1    381\n",
       "0    307\n",
       "Name: count, dtype: int64"
      ]
     },
     "execution_count": 391,
     "metadata": {},
     "output_type": "execute_result"
    }
   ],
   "source": [
    "# dataset is somewhat balanced\n",
    "full_train[\"HeartDisease\"].value_counts()"
   ]
  },
  {
   "cell_type": "markdown",
   "metadata": {},
   "source": [
    "#### Numerical columns analysis"
   ]
  },
  {
   "cell_type": "code",
   "execution_count": 392,
   "metadata": {},
   "outputs": [
    {
     "data": {
      "text/plain": [
       "array([[<Axes: title={'center': 'Age'}>,\n",
       "        <Axes: title={'center': 'RestingBP'}>],\n",
       "       [<Axes: title={'center': 'Cholesterol'}>,\n",
       "        <Axes: title={'center': 'FastingBS'}>],\n",
       "       [<Axes: title={'center': 'MaxHR'}>,\n",
       "        <Axes: title={'center': 'Oldpeak'}>]], dtype=object)"
      ]
     },
     "execution_count": 392,
     "metadata": {},
     "output_type": "execute_result"
    },
    {
     "data": {
      "image/png": "[encoded data removed]",
      "text/plain": [
       "<Figure size 1800x800 with 6 Axes>"
      ]
     },
     "metadata": {},
     "output_type": "display_data"
    }
   ],
   "source": [
    "num_columns = [\"Age\", \"RestingBP\", \"Cholesterol\", \"FastingBS\", \"MaxHR\", \"Oldpeak\"]\n",
    "full_train[num_columns].hist(bins=50, figsize=(18,8))"
   ]
  },
  {
   "cell_type": "code",
   "execution_count": 393,
   "metadata": {},
   "outputs": [
    {
     "data": {
      "image/png": "[encoded data removed]",
      "text/plain": [
       "<Figure size 640x480 with 1 Axes>"
      ]
     },
     "metadata": {},
     "output_type": "display_data"
    }
   ],
   "source": [
    "# Noticed that there are 122 row where cholesterol is 0\n",
    "cholesterol_0_idx = full_train.index[full_train[\"Cholesterol\"] == 0]\n",
    "\n",
    "cholesterol_0 = full_train[full_train[\"Cholesterol\"] == 0].copy()\n",
    "\n",
    "# Looks like these cholesterol_0 examples are mostly heart disease related\n",
    "plt.hist(x=cholesterol_0[\"HeartDisease\"], bins=[-0.5, 0.5, 1.5], rwidth=0.8)\n",
    "plt.xticks([0, 1])\n",
    "plt.title(\"cholesterol 0 heart disease counts\")\n",
    "plt.xlabel(\"Heart Disease\")\n",
    "plt.ylabel(\"Count\")\n",
    "plt.grid()\n",
    "plt.show()\n"
   ]
  },
  {
   "cell_type": "code",
   "execution_count": 394,
   "metadata": {},
   "outputs": [
    {
     "name": "stdout",
     "output_type": "stream",
     "text": [
      "cholesterol_0:  0\n"
     ]
    },
    {
     "data": {
      "text/plain": [
       "<Axes: >"
      ]
     },
     "execution_count": 394,
     "metadata": {},
     "output_type": "execute_result"
    },
    {
     "data": {
      "image/png": "[encoded data removed]",
      "text/plain": [
       "<Figure size 640x480 with 1 Axes>"
      ]
     },
     "metadata": {},
     "output_type": "display_data"
    }
   ],
   "source": [
    "# Set all cholesterol 0 to None so that they get imputed later\n",
    "full_train[\"Cholesterol\"] = full_train[\"Cholesterol\"].replace(0, np.nan)\n",
    "\n",
    "# Confirm no more 0 cholesterol\n",
    "cholesterol_0 = full_train[full_train[\"Cholesterol\"] == 0]\n",
    "print (\"cholesterol_0: \", len(cholesterol_0))\n",
    "\n",
    "# Check cholesterol distribution\n",
    "full_train[\"Cholesterol\"].hist()"
   ]
  },
  {
   "cell_type": "code",
   "execution_count": 395,
   "metadata": {},
   "outputs": [],
   "source": [
    "# Store the indices of cholesterol na rows for checking after imputation\n",
    "\n",
    "cholesterol_0_idx = full_train.index[full_train[\"Cholesterol\"].isna()]"
   ]
  },
  {
   "cell_type": "markdown",
   "metadata": {},
   "source": [
    "#### Categorical columns analysis"
   ]
  },
  {
   "cell_type": "code",
   "execution_count": 396,
   "metadata": {},
   "outputs": [
    {
     "name": "stdout",
     "output_type": "stream",
     "text": [
      "Sex\n",
      "M    542\n",
      "F    146\n",
      "Name: count, dtype: int64 \n",
      "\n",
      "ChestPainType\n",
      "ASY    380\n",
      "NAP    143\n",
      "ATA    128\n",
      "TA      37\n",
      "Name: count, dtype: int64 \n",
      "\n",
      "RestingECG\n",
      "Normal    422\n",
      "LVH       135\n",
      "ST        131\n",
      "Name: count, dtype: int64 \n",
      "\n",
      "ExerciseAngina\n",
      "N    409\n",
      "Y    279\n",
      "Name: count, dtype: int64 \n",
      "\n",
      "ST_Slope\n",
      "Flat    349\n",
      "Up      292\n",
      "Down     47\n",
      "Name: count, dtype: int64 \n",
      "\n"
     ]
    }
   ],
   "source": [
    "cat_columns = [\"Sex\", \"ChestPainType\", \"RestingECG\", \"ExerciseAngina\", \"ST_Slope\"]\n",
    "for col in full_train[cat_columns]:\n",
    "  print (f\"{full_train[col].value_counts()} \\n\")\n"
   ]
  },
  {
   "cell_type": "markdown",
   "metadata": {},
   "source": [
    "# Data transformations\n",
    "* Since we'll be using tree based models, one-hot encoding is not necessary.\n",
    "* Only transformation is labeling the categorical features (also handling outliers but this data set doesn't have any).\n",
    "* Although the data does not contain any missing values, we'll add an imputer to our pipeline in case inference examples\n",
    "  will have missing data."
   ]
  },
  {
   "cell_type": "code",
   "execution_count": 397,
   "metadata": {},
   "outputs": [],
   "source": [
    "# Separate the full train again to data and labels\n",
    "\n",
    "X_train = full_train.drop(\"HeartDisease\", axis=1)\n",
    "y_train = full_train[\"HeartDisease\"].copy()"
   ]
  },
  {
   "cell_type": "code",
   "execution_count": 398,
   "metadata": {},
   "outputs": [
    {
     "data": {
      "text/html": [
       "<div>\n",
       "<style scoped>\n",
       "    .dataframe tbody tr th:only-of-type {\n",
       "        vertical-align: middle;\n",
       "    }\n",
       "\n",
       "    .dataframe tbody tr th {\n",
       "        vertical-align: top;\n",
       "    }\n",
       "\n",
       "    .dataframe thead th {\n",
       "        text-align: right;\n",
       "    }\n",
       "</style>\n",
       "<table border=\"1\" class=\"dataframe\">\n",
       "  <thead>\n",
       "    <tr style=\"text-align: right;\">\n",
       "      <th></th>\n",
       "      <th>num__Age</th>\n",
       "      <th>num__RestingBP</th>\n",
       "      <th>num__Cholesterol</th>\n",
       "      <th>num__FastingBS</th>\n",
       "      <th>num__MaxHR</th>\n",
       "      <th>num__Oldpeak</th>\n",
       "      <th>cat__Sex</th>\n",
       "      <th>cat__ChestPainType</th>\n",
       "      <th>cat__RestingECG</th>\n",
       "      <th>cat__ExerciseAngina</th>\n",
       "      <th>cat__ST_Slope</th>\n",
       "    </tr>\n",
       "  </thead>\n",
       "  <tbody>\n",
       "    <tr>\n",
       "      <th>0</th>\n",
       "      <td>-0.923077</td>\n",
       "      <td>-0.714286</td>\n",
       "      <td>1.061224</td>\n",
       "      <td>0.0</td>\n",
       "      <td>1.131579</td>\n",
       "      <td>0.466667</td>\n",
       "      <td>1.0</td>\n",
       "      <td>0.0</td>\n",
       "      <td>1.0</td>\n",
       "      <td>0.0</td>\n",
       "      <td>1.0</td>\n",
       "    </tr>\n",
       "    <tr>\n",
       "      <th>1</th>\n",
       "      <td>1.615385</td>\n",
       "      <td>-1.238095</td>\n",
       "      <td>-2.040816</td>\n",
       "      <td>0.0</td>\n",
       "      <td>-0.473684</td>\n",
       "      <td>2.000000</td>\n",
       "      <td>1.0</td>\n",
       "      <td>2.0</td>\n",
       "      <td>0.0</td>\n",
       "      <td>0.0</td>\n",
       "      <td>0.0</td>\n",
       "    </tr>\n",
       "    <tr>\n",
       "      <th>2</th>\n",
       "      <td>0.076923</td>\n",
       "      <td>-0.095238</td>\n",
       "      <td>-0.244898</td>\n",
       "      <td>0.0</td>\n",
       "      <td>-0.500000</td>\n",
       "      <td>1.000000</td>\n",
       "      <td>1.0</td>\n",
       "      <td>0.0</td>\n",
       "      <td>2.0</td>\n",
       "      <td>1.0</td>\n",
       "      <td>0.0</td>\n",
       "    </tr>\n",
       "    <tr>\n",
       "      <th>3</th>\n",
       "      <td>0.538462</td>\n",
       "      <td>0.238095</td>\n",
       "      <td>-1.616327</td>\n",
       "      <td>0.0</td>\n",
       "      <td>-0.026316</td>\n",
       "      <td>-0.200000</td>\n",
       "      <td>1.0</td>\n",
       "      <td>3.0</td>\n",
       "      <td>2.0</td>\n",
       "      <td>0.0</td>\n",
       "      <td>2.0</td>\n",
       "    </tr>\n",
       "    <tr>\n",
       "      <th>4</th>\n",
       "      <td>0.461538</td>\n",
       "      <td>-0.476190</td>\n",
       "      <td>0.359184</td>\n",
       "      <td>0.0</td>\n",
       "      <td>0.052632</td>\n",
       "      <td>2.066667</td>\n",
       "      <td>1.0</td>\n",
       "      <td>0.0</td>\n",
       "      <td>1.0</td>\n",
       "      <td>1.0</td>\n",
       "      <td>1.0</td>\n",
       "    </tr>\n",
       "  </tbody>\n",
       "</table>\n",
       "</div>"
      ],
      "text/plain": [
       "   num__Age  num__RestingBP  num__Cholesterol  num__FastingBS  num__MaxHR  \\\n",
       "0 -0.923077       -0.714286          1.061224             0.0    1.131579   \n",
       "1  1.615385       -1.238095         -2.040816             0.0   -0.473684   \n",
       "2  0.076923       -0.095238         -0.244898             0.0   -0.500000   \n",
       "3  0.538462        0.238095         -1.616327             0.0   -0.026316   \n",
       "4  0.461538       -0.476190          0.359184             0.0    0.052632   \n",
       "\n",
       "   num__Oldpeak  cat__Sex  cat__ChestPainType  cat__RestingECG  \\\n",
       "0      0.466667       1.0                 0.0              1.0   \n",
       "1      2.000000       1.0                 2.0              0.0   \n",
       "2      1.000000       1.0                 0.0              2.0   \n",
       "3     -0.200000       1.0                 3.0              2.0   \n",
       "4      2.066667       1.0                 0.0              1.0   \n",
       "\n",
       "   cat__ExerciseAngina  cat__ST_Slope  \n",
       "0                  0.0            1.0  \n",
       "1                  0.0            0.0  \n",
       "2                  1.0            0.0  \n",
       "3                  0.0            2.0  \n",
       "4                  1.0            1.0  "
      ]
     },
     "execution_count": 398,
     "metadata": {},
     "output_type": "execute_result"
    }
   ],
   "source": [
    "# Build a data transformation pipeline\n",
    "\n",
    "def apply_label_encoding(X: DataFrame):\n",
    "  transformed_df = DataFrame()\n",
    "  for column_num in range(X.shape[1]):\n",
    "      column = X[:, column_num]\n",
    "      transformed_df[column_num] = LabelEncoder().fit_transform(column)\n",
    "\n",
    "  return transformed_df\n",
    "\n",
    "cat_pipeline = Pipeline([\n",
    "  (\"most_frequent\", SimpleImputer(strategy=\"most_frequent\")),\n",
    "  (\"label_encoder\", FunctionTransformer(apply_label_encoding, feature_names_out=\"one-to-one\"))\n",
    "])\n",
    "\n",
    "num_pipeline = Pipeline([\n",
    "  (\"impute\", KNNImputer(n_neighbors=5)),\n",
    "  (\"standardize\", RobustScaler())\n",
    "])\n",
    "\n",
    "num_columns = [\"Age\", \"RestingBP\", \"Cholesterol\", \"FastingBS\", \"MaxHR\", \"Oldpeak\"]\n",
    "cat_columns = [\"Sex\", \"ChestPainType\", \"RestingECG\", \"ExerciseAngina\", \"ST_Slope\"]\n",
    "\n",
    "preprocessing = ColumnTransformer([\n",
    "  (\"num\", num_pipeline, num_columns),\n",
    "  (\"cat\", cat_pipeline, cat_columns)\n",
    "])\n",
    "\n",
    "X_train_transformed = preprocessing.fit_transform(X_train)\n",
    "\n",
    "X_train_transformed_df = DataFrame(X_train_transformed, \n",
    "                        columns=preprocessing.get_feature_names_out(),\n",
    "                        index=X_train.index)\n",
    "\n",
    "X_train_transformed_df.head()"
   ]
  },
  {
   "cell_type": "markdown",
   "metadata": {},
   "source": [
    "# Model Training"
   ]
  },
  {
   "cell_type": "code",
   "execution_count": 399,
   "metadata": {},
   "outputs": [],
   "source": [
    "# Helper function to do k-fold cross validation with different scoring functions\n",
    "\n",
    "def k_fold_cross_val_all_metrics(estimator):\n",
    "  acc = cross_val_score(estimator, X_train, y_train, cv=5, scoring=\"accuracy\")\n",
    "  recall = cross_val_score(estimator, X_train, y_train, cv=5, scoring=\"recall\")\n",
    "  precision = cross_val_score(estimator, X_train, y_train, cv=5, scoring=\"precision\")\n",
    "  f1 = cross_val_score(estimator, X_train, y_train, cv=5, scoring=\"f1\")\n",
    "\n",
    "  print (\"Accuracy:  \", np.mean(acc).round(2))\n",
    "  print (\"Recall:    \", np.mean(recall).round(2))\n",
    "  print (\"Precision: \", np.mean(precision).round(2))\n",
    "  print (\"F1:        \", np.mean(f1).round(2))"
   ]
  },
  {
   "cell_type": "code",
   "execution_count": 400,
   "metadata": {},
   "outputs": [
    {
     "name": "stdout",
     "output_type": "stream",
     "text": [
      "Accuracy:   0.85\n",
      "Recall:     0.88\n",
      "Precision:  0.84\n",
      "F1:         0.87\n"
     ]
    }
   ],
   "source": [
    "#Model 1: Random Forest\n",
    "forest_clf = RandomForestClassifier(n_estimators=200,criterion=\"entropy\")\n",
    "forest_pipeline = get_full_pipeline(forest_clf)\n",
    "k_fold_cross_val_all_metrics(forest_pipeline)"
   ]
  },
  {
   "cell_type": "code",
   "execution_count": 401,
   "metadata": {},
   "outputs": [
    {
     "name": "stdout",
     "output_type": "stream",
     "text": [
      "Accuracy:   0.84\n",
      "Recall:     0.85\n",
      "Precision:  0.86\n",
      "F1:         0.85\n"
     ]
    }
   ],
   "source": [
    "# Model 2: XGBoost \n",
    "xgboost_clf = XGBClassifier(n_estimators=200)\n",
    "xgboost_pipeline = get_full_pipeline(xgboost_clf)\n",
    "k_fold_cross_val_all_metrics(xgboost_pipeline)\n"
   ]
  },
  {
   "cell_type": "markdown",
   "metadata": {},
   "source": [
    "# Hyperparameter Tuning"
   ]
  },
  {
   "cell_type": "code",
   "execution_count": 402,
   "metadata": {},
   "outputs": [
    {
     "data": {
      "text/html": [
       "<div>\n",
       "<style scoped>\n",
       "    .dataframe tbody tr th:only-of-type {\n",
       "        vertical-align: middle;\n",
       "    }\n",
       "\n",
       "    .dataframe tbody tr th {\n",
       "        vertical-align: top;\n",
       "    }\n",
       "\n",
       "    .dataframe thead th {\n",
       "        text-align: right;\n",
       "    }\n",
       "</style>\n",
       "<table border=\"1\" class=\"dataframe\">\n",
       "  <thead>\n",
       "    <tr style=\"text-align: right;\">\n",
       "      <th></th>\n",
       "      <th>mean_fit_time</th>\n",
       "      <th>std_fit_time</th>\n",
       "      <th>mean_score_time</th>\n",
       "      <th>std_score_time</th>\n",
       "      <th>param_clf__criterion</th>\n",
       "      <th>param_clf__max_depth</th>\n",
       "      <th>param_clf__n_estimators</th>\n",
       "      <th>params</th>\n",
       "      <th>split0_test_score</th>\n",
       "      <th>split1_test_score</th>\n",
       "      <th>split2_test_score</th>\n",
       "      <th>mean_test_score</th>\n",
       "      <th>std_test_score</th>\n",
       "      <th>rank_test_score</th>\n",
       "    </tr>\n",
       "  </thead>\n",
       "  <tbody>\n",
       "    <tr>\n",
       "      <th>2</th>\n",
       "      <td>0.048417</td>\n",
       "      <td>0.000366</td>\n",
       "      <td>0.005401</td>\n",
       "      <td>0.000188</td>\n",
       "      <td>gini</td>\n",
       "      <td>30</td>\n",
       "      <td>87</td>\n",
       "      <td>{'clf__criterion': 'gini', 'clf__max_depth': 3...</td>\n",
       "      <td>0.874525</td>\n",
       "      <td>0.848980</td>\n",
       "      <td>0.879121</td>\n",
       "      <td>0.867542</td>\n",
       "      <td>0.013259</td>\n",
       "      <td>1</td>\n",
       "    </tr>\n",
       "    <tr>\n",
       "      <th>5</th>\n",
       "      <td>0.035005</td>\n",
       "      <td>0.000352</td>\n",
       "      <td>0.004524</td>\n",
       "      <td>0.000103</td>\n",
       "      <td>log_loss</td>\n",
       "      <td>159</td>\n",
       "      <td>57</td>\n",
       "      <td>{'clf__criterion': 'log_loss', 'clf__max_depth...</td>\n",
       "      <td>0.863636</td>\n",
       "      <td>0.864000</td>\n",
       "      <td>0.863469</td>\n",
       "      <td>0.863702</td>\n",
       "      <td>0.000222</td>\n",
       "      <td>2</td>\n",
       "    </tr>\n",
       "    <tr>\n",
       "      <th>8</th>\n",
       "      <td>0.045520</td>\n",
       "      <td>0.000536</td>\n",
       "      <td>0.005209</td>\n",
       "      <td>0.000226</td>\n",
       "      <td>gini</td>\n",
       "      <td>170</td>\n",
       "      <td>80</td>\n",
       "      <td>{'clf__criterion': 'gini', 'clf__max_depth': 1...</td>\n",
       "      <td>0.865900</td>\n",
       "      <td>0.844262</td>\n",
       "      <td>0.879121</td>\n",
       "      <td>0.863095</td>\n",
       "      <td>0.014369</td>\n",
       "      <td>3</td>\n",
       "    </tr>\n",
       "    <tr>\n",
       "      <th>0</th>\n",
       "      <td>0.061028</td>\n",
       "      <td>0.000776</td>\n",
       "      <td>0.006120</td>\n",
       "      <td>0.000310</td>\n",
       "      <td>log_loss</td>\n",
       "      <td>189</td>\n",
       "      <td>97</td>\n",
       "      <td>{'clf__criterion': 'log_loss', 'clf__max_depth...</td>\n",
       "      <td>0.866920</td>\n",
       "      <td>0.858300</td>\n",
       "      <td>0.863469</td>\n",
       "      <td>0.862896</td>\n",
       "      <td>0.003543</td>\n",
       "      <td>4</td>\n",
       "    </tr>\n",
       "    <tr>\n",
       "      <th>9</th>\n",
       "      <td>0.054119</td>\n",
       "      <td>0.000545</td>\n",
       "      <td>0.005469</td>\n",
       "      <td>0.000054</td>\n",
       "      <td>entropy</td>\n",
       "      <td>31</td>\n",
       "      <td>93</td>\n",
       "      <td>{'clf__criterion': 'entropy', 'clf__max_depth'...</td>\n",
       "      <td>0.866920</td>\n",
       "      <td>0.858300</td>\n",
       "      <td>0.862454</td>\n",
       "      <td>0.862558</td>\n",
       "      <td>0.003520</td>\n",
       "      <td>5</td>\n",
       "    </tr>\n",
       "  </tbody>\n",
       "</table>\n",
       "</div>"
      ],
      "text/plain": [
       "   mean_fit_time  std_fit_time  mean_score_time  std_score_time  \\\n",
       "2       0.048417      0.000366         0.005401        0.000188   \n",
       "5       0.035005      0.000352         0.004524        0.000103   \n",
       "8       0.045520      0.000536         0.005209        0.000226   \n",
       "0       0.061028      0.000776         0.006120        0.000310   \n",
       "9       0.054119      0.000545         0.005469        0.000054   \n",
       "\n",
       "  param_clf__criterion param_clf__max_depth param_clf__n_estimators  \\\n",
       "2                 gini                   30                      87   \n",
       "5             log_loss                  159                      57   \n",
       "8                 gini                  170                      80   \n",
       "0             log_loss                  189                      97   \n",
       "9              entropy                   31                      93   \n",
       "\n",
       "                                              params  split0_test_score  \\\n",
       "2  {'clf__criterion': 'gini', 'clf__max_depth': 3...           0.874525   \n",
       "5  {'clf__criterion': 'log_loss', 'clf__max_depth...           0.863636   \n",
       "8  {'clf__criterion': 'gini', 'clf__max_depth': 1...           0.865900   \n",
       "0  {'clf__criterion': 'log_loss', 'clf__max_depth...           0.866920   \n",
       "9  {'clf__criterion': 'entropy', 'clf__max_depth'...           0.866920   \n",
       "\n",
       "   split1_test_score  split2_test_score  mean_test_score  std_test_score  \\\n",
       "2           0.848980           0.879121         0.867542        0.013259   \n",
       "5           0.864000           0.863469         0.863702        0.000222   \n",
       "8           0.844262           0.879121         0.863095        0.014369   \n",
       "0           0.858300           0.863469         0.862896        0.003543   \n",
       "9           0.858300           0.862454         0.862558        0.003520   \n",
       "\n",
       "   rank_test_score  \n",
       "2                1  \n",
       "5                2  \n",
       "8                3  \n",
       "0                4  \n",
       "9                5  "
      ]
     },
     "execution_count": 402,
     "metadata": {},
     "output_type": "execute_result"
    }
   ],
   "source": [
    "# Randomized search\n",
    "\n",
    "params_ditribs = {'clf__n_estimators': randint(low=5, high=100), \n",
    "                  'clf__max_depth': randint(low=10, high=200), \n",
    "                  'clf__criterion': ['gini', 'entropy', 'log_loss']}\n",
    "\n",
    "clf_rnd = RandomForestClassifier(random_state=42)\n",
    "pipeline_rnd = get_full_pipeline(clf_rnd)\n",
    "\n",
    "scoring = 'f1'\n",
    "rnd_search = RandomizedSearchCV(pipeline_rnd, param_distributions=params_ditribs, n_iter=10, cv=3,\n",
    "                                scoring=scoring, random_state=42)\n",
    "\n",
    "rnd_search.fit(X_train, y_train)\n",
    "\n",
    "# Getting the best model and its hyperparameters\n",
    "final_pipeline = rnd_search.best_estimator_\n",
    "cv_res = pd.DataFrame(rnd_search.cv_results_)\n",
    "cv_res.sort_values(by=\"rank_test_score\", ascending=True, inplace=True)\n",
    "cv_res.head()"
   ]
  },
  {
   "cell_type": "code",
   "execution_count": 403,
   "metadata": {},
   "outputs": [
    {
     "data": {
      "text/plain": [
       "[('cat__ST_Slope', 0.24384517732169825),\n",
       " ('cat__ChestPainType', 0.14572770230615228),\n",
       " ('num__MaxHR', 0.12471154589681213),\n",
       " ('num__Oldpeak', 0.09791425978628998),\n",
       " ('num__Cholesterol', 0.08245387918431359),\n",
       " ('num__Age', 0.07939704863858363),\n",
       " ('cat__ExerciseAngina', 0.06945334227955184),\n",
       " ('num__RestingBP', 0.06851253047155162),\n",
       " ('cat__Sex', 0.03285416265741221),\n",
       " ('num__FastingBS', 0.03032518353843908),\n",
       " ('cat__RestingECG', 0.024805167919195386)]"
      ]
     },
     "execution_count": 403,
     "metadata": {},
     "output_type": "execute_result"
    }
   ],
   "source": [
    "# Feature importance for selected model\n",
    "\n",
    "preprocessing = final_pipeline[\"preprocessing\"]\n",
    "clf = final_pipeline[\"clf\"]\n",
    "clf.feature_importances_\n",
    "preprocessing.get_feature_names_out()\n",
    "\n",
    "features_with_importance = list(zip(preprocessing.get_feature_names_out(), clf.feature_importances_))\n",
    "features_with_importance = sorted(features_with_importance, key=lambda tup: tup[1], reverse=True)\n",
    "features_with_importance"
   ]
  },
  {
   "cell_type": "code",
   "execution_count": 404,
   "metadata": {},
   "outputs": [
    {
     "data": {
      "text/plain": [
       "array([[0.64367816, 0.35632184],\n",
       "       [0.17241379, 0.82758621],\n",
       "       [0.02298851, 0.97701149],\n",
       "       ...,\n",
       "       [0.04597701, 0.95402299],\n",
       "       [0.08045977, 0.91954023],\n",
       "       [0.96551724, 0.03448276]])"
      ]
     },
     "execution_count": 404,
     "metadata": {},
     "output_type": "execute_result"
    }
   ],
   "source": [
    "# Getting prediction by threshold\n",
    "\n",
    "clf = final_pipeline[\"clf\"]\n",
    "final_pipeline.predict_proba(X_train) # prob: [FALSE, TRUE]\n"
   ]
  },
  {
   "cell_type": "code",
   "execution_count": 405,
   "metadata": {},
   "outputs": [
    {
     "name": "stdout",
     "output_type": "stream",
     "text": [
      "Accuracy:    0.9043478260869565\n",
      "Precision:   0.9069767441860465\n",
      "Recall:      0.9212598425196851\n",
      "F1:          0.9140625\n"
     ]
    }
   ],
   "source": [
    "# Final evaluation on the test set\n",
    "predictions_test = final_pipeline.predict(X_test)\n",
    "\n",
    "print (\"Accuracy:   \", accuracy_score(y_test, predictions_test))\n",
    "print (\"Precision:  \", precision_score(y_test, predictions_test))\n",
    "print (\"Recall:     \", recall_score(y_test, predictions_test))\n",
    "print (\"F1:         \", f1_score(y_test, predictions_test))"
   ]
  },
  {
   "cell_type": "code",
   "execution_count": 406,
   "metadata": {},
   "outputs": [
    {
     "data": {
      "text/plain": [
       "['heart_disease_model.pkl']"
      ]
     },
     "execution_count": 406,
     "metadata": {},
     "output_type": "execute_result"
    }
   ],
   "source": [
    "# Pickling the model\n",
    "joblib.dump(final_pipeline, \"heart_disease_model.pkl\")"
   ]
  }
 ],
 "metadata": {
  "kernelspec": {
   "display_name": "tensorflow",
   "language": "python",
   "name": "python3"
  },
  "language_info": {
   "codemirror_mode": {
    "name": "ipython",
    "version": 3
   },
   "file_extension": ".py",
   "mimetype": "text/x-python",
   "name": "python",
   "nbconvert_exporter": "python",
   "pygments_lexer": "ipython3",
   "version": "3.11.5"
  },
  "orig_nbformat": 4
 },
 "nbformat": 4,
 "nbformat_minor": 2
}
