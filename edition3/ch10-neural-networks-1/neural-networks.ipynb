{
 "cells": [
  {
   "cell_type": "code",
   "execution_count": 29,
   "metadata": {},
   "outputs": [],
   "source": [
    "import numpy as np\n",
    "import matplotlib.pyplot as plt"
   ]
  },
  {
   "cell_type": "markdown",
   "metadata": {},
   "source": [
    "# The Perceptron"
   ]
  },
  {
   "cell_type": "code",
   "execution_count": 14,
   "metadata": {},
   "outputs": [
    {
     "data": {
      "text/plain": [
       "array([[ 31,  61,  91],\n",
       "       [ 71, 141, 211],\n",
       "       [111, 221, 331],\n",
       "       [151, 301, 451]])"
      ]
     },
     "execution_count": 14,
     "metadata": {},
     "output_type": "execute_result"
    }
   ],
   "source": [
    "# Broadcasting example\n",
    "# Given a matrix with shape (m,n) and a vector of shape (1,n), we can add the vector to the matrix (since the outer dim n is the same).\n",
    "# Numpy will broadcast the vector to the shape (m,n). It'll copy the same row m times and complete the operation (e.g. addition).\n",
    "\n",
    "X = np.array([\n",
    "  [1,2],\n",
    "  [3,4],\n",
    "  [5,6],\n",
    "  [7,8]\n",
    "])\n",
    "\n",
    "W = np.array([\n",
    "  [10,10],\n",
    "  [20,20],\n",
    "  [30, 30]\n",
    "])\n",
    "\n",
    "b = np.array([\n",
    "  [1,1,1],\n",
    "])\n",
    "\n",
    "X @ W.T + b"
   ]
  },
  {
   "cell_type": "code",
   "execution_count": 60,
   "metadata": {},
   "outputs": [],
   "source": [
    "from sklearn.datasets import load_iris\n",
    "from sklearn.linear_model import Perceptron\n",
    "from sklearn.model_selection import train_test_split\n",
    "\n",
    "# Using two features and a single label from the Iris dataset \n",
    "iris = load_iris(as_frame=True)\n",
    "X = iris.data[[\"petal length (cm)\", \"petal width (cm)\"]].values \n",
    "y = iris.target\n",
    "\n"
   ]
  },
  {
   "cell_type": "code",
   "execution_count": 61,
   "metadata": {},
   "outputs": [
    {
     "data": {
      "text/plain": [
       "Text(0, 0.5, 'Petal width (cm)')"
      ]
     },
     "execution_count": 61,
     "metadata": {},
     "output_type": "execute_result"
    },
    {
     "data": {
      "image/png": "[encoded data removed]",
      "text/plain": [
       "<Figure size 640x480 with 1 Axes>"
      ]
     },
     "metadata": {},
     "output_type": "display_data"
    }
   ],
   "source": [
    "# Notice that Iris Setosa can be linearly separated from the rest of the data (if we were to learn a binary classification\n",
    "# of what's Setosa and what's not). The other Iris types are not linearly separable.\n",
    "\n",
    "X_setosa = X[y == 0]\n",
    "X_versicolor = X[y == 1]\n",
    "X_virginica = X[y == 2]\n",
    "\n",
    "plt.scatter(X_setosa[:,0], X_setosa[:,1], s=5, color=\"red\", label=\"Setosa\")\n",
    "plt.scatter(X_versicolor[:,0], X_versicolor[:,1], s=5, color=\"blue\", label=\"Versicolor\")\n",
    "plt.scatter(X_virginica[:,0], X_virginica[:,1], s=5, color=\"green\", label=\"Virginica\")\n",
    "\n",
    "plt.grid()\n",
    "plt.legend()\n",
    "plt.xlabel(\"Petal length (cm)\")\n",
    "plt.ylabel(\"Petal width (cm)\")"
   ]
  },
  {
   "cell_type": "code",
   "execution_count": 62,
   "metadata": {},
   "outputs": [
    {
     "data": {
      "text/plain": [
       "1.0"
      ]
     },
     "execution_count": 62,
     "metadata": {},
     "output_type": "execute_result"
    }
   ],
   "source": [
    "# Creating a binary classification problem (Setosa / not Setosa)\n",
    "y = (iris.target == 0) # Iris setosa\n",
    "\n",
    "X_train, X_test, y_train, y_test = train_test_split(X, y, random_state=42)\n",
    "\n",
    "per_clf = Perceptron(random_state=42)\n",
    "per_clf.fit(X_train, y_train)\n",
    "\n",
    "# Perfect separation because it's linearly separable (try to learn one of the other types and it won't be perfect)\n",
    "per_clf.score(X_test, y_test)"
   ]
  },
  {
   "cell_type": "markdown",
   "metadata": {},
   "source": [
    "### Using multi layer perceptron to solve XOR"
   ]
  },
  {
   "cell_type": "code",
   "execution_count": 74,
   "metadata": {},
   "outputs": [
    {
     "name": "stdout",
     "output_type": "stream",
     "text": [
      "True\n"
     ]
    }
   ],
   "source": [
    "# XOR is linearly inseparable. If we use multiple layers of perceptrons (2 layers), we can separate it.\n",
    "# The weights below have already been fitted, we're just using them to predict.\n",
    "\n",
    "# XOR dataset (X and y are the XOR logic table)\n",
    "X = np.array([\n",
    "  [0,0],\n",
    "  [0,1],\n",
    "  [1,0],\n",
    "  [1,1]\n",
    "])\n",
    "y = np.array([0,1,1,0])\n",
    "\n",
    "b1 = np.array([-3/2, -1/2])\n",
    "b2 = -1/2\n",
    "\n",
    "W1 = np.ones((2,2))\n",
    "W2 = np.array([-1,1])\n",
    "\n",
    "def predict_xor(x1, x2):\n",
    "  # layer 1\n",
    "  X = np.array([x1, x2])\n",
    "  z1 = X @ W1.T + b1\n",
    "  hz1 = np.where(z1 >= 0, 1, -1)\n",
    "\n",
    "  # layer 2\n",
    "  z2 = hz1 @ W2.T + b2\n",
    "  hz2 = np.where(z2 >= 0, 1, -1)\n",
    "  \n",
    "  return hz2 == 1\n",
    "\n",
    "print (predict_xor(1,0))"
   ]
  },
  {
   "cell_type": "code",
   "execution_count": null,
   "metadata": {},
   "outputs": [],
   "source": []
  }
 ],
 "metadata": {
  "kernelspec": {
   "display_name": "Python 3",
   "language": "python",
   "name": "python3"
  },
  "language_info": {
   "codemirror_mode": {
    "name": "ipython",
    "version": 3
   },
   "file_extension": ".py",
   "mimetype": "text/x-python",
   "name": "python",
   "nbconvert_exporter": "python",
   "pygments_lexer": "ipython3",
   "version": "3.11.4"
  },
  "orig_nbformat": 4
 },
 "nbformat": 4,
 "nbformat_minor": 2
}
