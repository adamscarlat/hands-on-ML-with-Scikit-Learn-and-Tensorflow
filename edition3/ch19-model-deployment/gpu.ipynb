{
 "cells": [
  {
   "cell_type": "code",
   "execution_count": 1,
   "metadata": {},
   "outputs": [],
   "source": [
    "import tensorflow as tf"
   ]
  },
  {
   "cell_type": "code",
   "execution_count": 17,
   "metadata": {},
   "outputs": [
    {
     "data": {
      "text/plain": [
       "[PhysicalDevice(name='/physical_device:GPU:0', device_type='GPU')]"
      ]
     },
     "execution_count": 17,
     "metadata": {},
     "output_type": "execute_result"
    }
   ],
   "source": [
    "# Check GPUs available for tf\n",
    "\n",
    "physical_gpus = tf.config.list_physical_devices(\"GPU\")\n",
    "physical_gpus\n"
   ]
  },
  {
   "cell_type": "code",
   "execution_count": null,
   "metadata": {},
   "outputs": [],
   "source": [
    "# Splitting a single GPU's RAM into multiple logical devices\n",
    "\n",
    "# This is useful if you have a single GPU and want to test a multi-GPU algorithm\n",
    "\n",
    "# DOESN'T WORK - maybe because it's a Mac M2?\n",
    "tf.config.set_logical_device_configuration(\n",
    "  physical_gpus[0],\n",
    "  [tf.config.LogicalDeviceConfiguration(memory_limit=2048), \n",
    "   tf.config.LogicalDeviceConfiguration(memory_limit=2048)]\n",
    ")"
   ]
  },
  {
   "cell_type": "code",
   "execution_count": 28,
   "metadata": {},
   "outputs": [
    {
     "name": "stdout",
     "output_type": "stream",
     "text": [
      "/job:localhost/replica:0/task:0/device:GPU:0\n",
      "/job:localhost/replica:0/task:0/device:CPU:0\n",
      "/job:localhost/replica:0/task:0/device:CPU:0\n",
      "/job:localhost/replica:0/task:0/device:CPU:0\n"
     ]
    }
   ],
   "source": [
    "# Placing objects and running tasks on different devices (CPU/GPU)\n",
    "\n",
    "# float32 variable goes on the GPU\n",
    "a = tf.Variable([1., 2., 3.])\n",
    "print (a.device)\n",
    "\n",
    "# int32 variable goes on the CPU\n",
    "b = tf.Variable([1, 2, 3])\n",
    "print (b.device)\n",
    "\n",
    "# Explicitly stating which device an object is placed on.\n",
    "with tf.device(\"/cpu:0\"):\n",
    "  c = tf.Variable([1., 2., 3.])\n",
    "print (c.device)\n",
    "\n",
    "# The object must have a GPU kernel - an operation type in the GPU to support the type.\n",
    "# For example, this will still be CPU since there is no GPU kernel for int32\n",
    "with tf.device(\"/gpu:0\"):\n",
    "  d = tf.Variable([1, 2, 3])\n",
    "print (d.device)"
   ]
  },
  {
   "cell_type": "code",
   "execution_count": null,
   "metadata": {},
   "outputs": [],
   "source": []
  }
 ],
 "metadata": {
  "kernelspec": {
   "display_name": "Python 3",
   "language": "python",
   "name": "python3"
  },
  "language_info": {
   "codemirror_mode": {
    "name": "ipython",
    "version": 3
   },
   "file_extension": ".py",
   "mimetype": "text/x-python",
   "name": "python",
   "nbconvert_exporter": "python",
   "pygments_lexer": "ipython3",
   "version": "3.11.4"
  }
 },
 "nbformat": 4,
 "nbformat_minor": 2
}
