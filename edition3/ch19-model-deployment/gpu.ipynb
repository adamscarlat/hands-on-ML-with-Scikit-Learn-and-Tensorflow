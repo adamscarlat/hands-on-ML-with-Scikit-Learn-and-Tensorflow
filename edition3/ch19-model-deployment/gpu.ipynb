{
 "cells": [
  {
   "cell_type": "code",
   "execution_count": 39,
   "metadata": {},
   "outputs": [],
   "source": [
    "import os\n",
    "import json\n",
    "import tensorflow as tf\n",
    "import tempfile\n",
    "\n",
    "import numpy as np"
   ]
  },
  {
   "cell_type": "code",
   "execution_count": 17,
   "metadata": {},
   "outputs": [
    {
     "data": {
      "text/plain": [
       "[PhysicalDevice(name='/physical_device:GPU:0', device_type='GPU')]"
      ]
     },
     "execution_count": 17,
     "metadata": {},
     "output_type": "execute_result"
    }
   ],
   "source": [
    "# Check GPUs available for tf\n",
    "\n",
    "physical_gpus = tf.config.list_physical_devices(\"GPU\")\n",
    "physical_gpus\n"
   ]
  },
  {
   "cell_type": "code",
   "execution_count": null,
   "metadata": {},
   "outputs": [],
   "source": [
    "# Splitting a single GPU's RAM into multiple logical devices\n",
    "\n",
    "# This is useful if you have a single GPU and want to test a multi-GPU algorithm\n",
    "\n",
    "# DOESN'T WORK - maybe because it's a Mac M2?\n",
    "tf.config.set_logical_device_configuration(\n",
    "  physical_gpus[0],\n",
    "  [tf.config.LogicalDeviceConfiguration(memory_limit=2048), \n",
    "   tf.config.LogicalDeviceConfiguration(memory_limit=2048)]\n",
    ")"
   ]
  },
  {
   "cell_type": "code",
   "execution_count": 28,
   "metadata": {},
   "outputs": [
    {
     "name": "stdout",
     "output_type": "stream",
     "text": [
      "/job:localhost/replica:0/task:0/device:GPU:0\n",
      "/job:localhost/replica:0/task:0/device:CPU:0\n",
      "/job:localhost/replica:0/task:0/device:CPU:0\n",
      "/job:localhost/replica:0/task:0/device:CPU:0\n"
     ]
    }
   ],
   "source": [
    "# Placing objects and running tasks on different devices (CPU/GPU)\n",
    "\n",
    "# float32 variable goes on the GPU\n",
    "a = tf.Variable([1., 2., 3.])\n",
    "print (a.device)\n",
    "\n",
    "# int32 variable goes on the CPU\n",
    "b = tf.Variable([1, 2, 3])\n",
    "print (b.device)\n",
    "\n",
    "# Explicitly stating which device an object is placed on.\n",
    "with tf.device(\"/cpu:0\"):\n",
    "  c = tf.Variable([1., 2., 3.])\n",
    "print (c.device)\n",
    "\n",
    "# The object must have a GPU kernel - an operation type in the GPU to support the type.\n",
    "# For example, this will still be CPU since there is no GPU kernel for int32\n",
    "with tf.device(\"/gpu:0\"):\n",
    "  d = tf.Variable([1, 2, 3])\n",
    "print (d.device)"
   ]
  },
  {
   "cell_type": "code",
   "execution_count": 35,
   "metadata": {},
   "outputs": [
    {
     "name": "stdout",
     "output_type": "stream",
     "text": [
      "INFO:tensorflow:Using MirroredStrategy with devices ('/job:localhost/replica:0/task:0/device:GPU:0',)\n"
     ]
    },
    {
     "name": "stderr",
     "output_type": "stream",
     "text": [
      "INFO:tensorflow:Using MirroredStrategy with devices ('/job:localhost/replica:0/task:0/device:GPU:0',)\n"
     ]
    },
    {
     "name": "stdout",
     "output_type": "stream",
     "text": [
      "Epoch 1/10\n",
      "550/550 [==============================] - 4s 6ms/step - loss: 1.0795 - accuracy: 0.7297 - val_loss: 0.5968 - val_accuracy: 0.8562\n",
      "Epoch 2/10\n",
      "550/550 [==============================] - 3s 6ms/step - loss: 0.5253 - accuracy: 0.8627 - val_loss: 0.4430 - val_accuracy: 0.8818\n",
      "Epoch 3/10\n",
      "550/550 [==============================] - 3s 6ms/step - loss: 0.4348 - accuracy: 0.8814 - val_loss: 0.3871 - val_accuracy: 0.8944\n",
      "Epoch 4/10\n",
      "550/550 [==============================] - 3s 6ms/step - loss: 0.3949 - accuracy: 0.8894 - val_loss: 0.3582 - val_accuracy: 0.9014\n",
      "Epoch 5/10\n",
      "550/550 [==============================] - 3s 6ms/step - loss: 0.3716 - accuracy: 0.8948 - val_loss: 0.3416 - val_accuracy: 0.9056\n",
      "Epoch 6/10\n",
      "550/550 [==============================] - 4s 6ms/step - loss: 0.3564 - accuracy: 0.8984 - val_loss: 0.3276 - val_accuracy: 0.9086\n",
      "Epoch 7/10\n",
      "550/550 [==============================] - 4s 7ms/step - loss: 0.3451 - accuracy: 0.9015 - val_loss: 0.3181 - val_accuracy: 0.9124\n",
      "Epoch 8/10\n",
      "550/550 [==============================] - 3s 6ms/step - loss: 0.3364 - accuracy: 0.9039 - val_loss: 0.3112 - val_accuracy: 0.9126\n",
      "Epoch 9/10\n",
      "550/550 [==============================] - 3s 6ms/step - loss: 0.3296 - accuracy: 0.9062 - val_loss: 0.3061 - val_accuracy: 0.9158\n",
      "Epoch 10/10\n",
      "550/550 [==============================] - 3s 6ms/step - loss: 0.3240 - accuracy: 0.9080 - val_loss: 0.3006 - val_accuracy: 0.9158\n"
     ]
    },
    {
     "data": {
      "text/plain": [
       "<keras.src.callbacks.History at 0x2e23ae550>"
      ]
     },
     "execution_count": 35,
     "metadata": {},
     "output_type": "execute_result"
    }
   ],
   "source": [
    "# Training a model using a data parallelism approach (mirrored strategy)\n",
    "\n",
    "# Getting the data\n",
    "mnist = tf.keras.datasets.mnist.load_data()\n",
    "(X_train_full, y_train_full), (X_test, y_test) = mnist\n",
    "X_valid, X_train = X_train_full[:5000], X_train_full[5000:]\n",
    "y_valid, y_train = y_train_full[:5000], y_train_full[5000:]\n",
    "\n",
    "# mirrored strategy\n",
    "strategy = tf.distribute.MirroredStrategy()\n",
    "with strategy.scope():\n",
    "  model = tf.keras.Sequential([\n",
    "    tf.keras.layers.Flatten(input_shape=[28, 28], dtype=tf.uint8),\n",
    "    tf.keras.layers.Rescaling(scale=1 / 255),\n",
    "    tf.keras.layers.Dense(100, activation=\"relu\"),\n",
    "    tf.keras.layers.Dense(10, activation=\"softmax\")\n",
    "  ])\n",
    "  optimizer = tf.keras.optimizers.legacy.SGD(learning_rate=1e-2)\n",
    "  model.compile(loss=\"sparse_categorical_crossentropy\", optimizer=optimizer, metrics=[\"accuracy\"])\n",
    "\n",
    "# Preferably divisible by the number of replicas\n",
    "batch_size = 100\n",
    "model.fit(X_train, y_train, epochs=10, validation_data=(X_valid, y_valid), batch_size=batch_size)\n",
    "\n"
   ]
  },
  {
   "cell_type": "code",
   "execution_count": 36,
   "metadata": {},
   "outputs": [
    {
     "name": "stderr",
     "output_type": "stream",
     "text": [
      "WARNING:absl:At this time, the v2.11+ optimizer `tf.keras.optimizers.RestoredOptimizer` runs slowly on M1/M2 Macs, please use the legacy Keras optimizer instead, located at `tf.keras.optimizers.legacy.RestoredOptimizer`.\n",
      "WARNING:absl:At this time, the v2.11+ optimizer `tf.keras.optimizers.SGD` runs slowly on M1/M2 Macs, please use the legacy Keras optimizer instead, located at `tf.keras.optimizers.legacy.SGD`.\n"
     ]
    },
    {
     "name": "stdout",
     "output_type": "stream",
     "text": [
      "1/1 [==============================] - 0s 140ms/step\n"
     ]
    },
    {
     "data": {
      "text/plain": [
       "array([7, 2, 1])"
      ]
     },
     "execution_count": 36,
     "metadata": {},
     "output_type": "execute_result"
    }
   ],
   "source": [
    "# Loading a model with a distributed strategy\n",
    "\n",
    "with strategy.scope():\n",
    "  model = tf.keras.models.load_model(\"my_mnist_model/0001\")\n",
    "\n",
    "np.argmax(model.predict([X_test[:3]]), axis=1)\n"
   ]
  },
  {
   "cell_type": "markdown",
   "metadata": {},
   "source": [
    "## Training models on a Tensorflow cluster"
   ]
  },
  {
   "cell_type": "code",
   "execution_count": null,
   "metadata": {},
   "outputs": [],
   "source": [
    "# Need to set up TF_CONFIG with the cluster's specs first \n",
    "\n",
    "# NOT WORKING CODE!\n",
    "\n",
    "# EXAMPLE ONLY!\n",
    "cluster_spec = {\n",
    "  \"worker\": [\n",
    "    \"machine-a.example.com:2222\",\n",
    "    \"machine-b.example.com:2222\"\n",
    "  ],\n",
    "  \"ps\": [\"machine-a.example.com:2221\"] # /job:ps/task:0 \n",
    "}\n",
    "\n",
    "os.environ[\"TF_CONFIG\"] = json.dumps({\n",
    "    \"cluster\": cluster_spec,\n",
    "    \"task\": {\"type\": \"worker\", \"index\": 0}\n",
    "})\n",
    "\n",
    "\n",
    "strategy = tf.distribute.MultiWorkerMirroredStrategy() # at the start! \n",
    "resolver = tf.distribute.cluster_resolver.TFConfigClusterResolver() \n",
    "\n",
    "print(f\"Starting task {resolver.task_type} #{resolver.task_id}\")\n",
    "\n",
    "with strategy.scope():\n",
    "  model = tf.keras.Sequential([\n",
    "      tf.keras.layers.Flatten(input_shape=[28, 28], dtype=tf.uint8),\n",
    "      tf.keras.layers.Rescaling(scale=1 / 255),\n",
    "      tf.keras.layers.Dense(100, activation=\"relu\"),\n",
    "      tf.keras.layers.Dense(10, activation=\"softmax\")\n",
    "    ])\n",
    "  optimizer = tf.keras.optimizers.legacy.SGD(learning_rate=1e-2)\n",
    "  model.compile(loss=\"sparse_categorical_crossentropy\", optimizer=optimizer, metrics=[\"accuracy\"])\n",
    "  \n",
    "model.fit(X_train, y_train, validation_data=(X_valid, y_valid), epochs=10)\n",
    "\n",
    "if resolver.task_id == 0: # the chief saves the model to the right location \n",
    "    model.save(\"my_mnist_multiworker_model\", save_format=\"tf\")\n",
    "else:\n",
    "  tmpdir = tempfile.mkdtemp() # other workers save to a temporary directory \n",
    "  model.save(tmpdir, save_format=\"tf\")\n",
    "  tf.io.gfile.rmtree(tmpdir) # and we can delete this directory at the end!"
   ]
  },
  {
   "cell_type": "code",
   "execution_count": null,
   "metadata": {},
   "outputs": [],
   "source": []
  }
 ],
 "metadata": {
  "kernelspec": {
   "display_name": "Python 3",
   "language": "python",
   "name": "python3"
  },
  "language_info": {
   "codemirror_mode": {
    "name": "ipython",
    "version": 3
   },
   "file_extension": ".py",
   "mimetype": "text/x-python",
   "name": "python",
   "nbconvert_exporter": "python",
   "pygments_lexer": "ipython3",
   "version": "3.11.4"
  }
 },
 "nbformat": 4,
 "nbformat_minor": 2
}
