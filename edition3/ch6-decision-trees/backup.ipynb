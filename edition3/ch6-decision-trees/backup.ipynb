{
 "cells": [
  {
   "cell_type": "code",
   "execution_count": 1,
   "metadata": {},
   "outputs": [],
   "source": [
    "import numpy as np\n",
    "import pandas as pd\n",
    "\n",
    "from sklearn.datasets import make_moons\n",
    "from sklearn.model_selection import train_test_split\n",
    "from sklearn.tree import DecisionTreeClassifier\n",
    "\n",
    "from sklearn.model_selection import GridSearchCV\n",
    "\n",
    "from scipy.stats import mode"
   ]
  },
  {
   "cell_type": "code",
   "execution_count": 2,
   "metadata": {},
   "outputs": [],
   "source": [
    "X_moons, y_moons = make_moons(n_samples=10000, noise=0.4, random_state=42)\n",
    "X_train, X_test, y_train, y_test = train_test_split(X_moons, y_moons, random_state=42)\n",
    "tree_clf = DecisionTreeClassifier()"
   ]
  },
  {
   "cell_type": "code",
   "execution_count": 3,
   "metadata": {},
   "outputs": [
    {
     "data": {
      "text/html": [
       "<style>#sk-container-id-1 {color: black;}#sk-container-id-1 pre{padding: 0;}#sk-container-id-1 div.sk-toggleable {background-color: white;}#sk-container-id-1 label.sk-toggleable__label {cursor: pointer;display: block;width: 100%;margin-bottom: 0;padding: 0.3em;box-sizing: border-box;text-align: center;}#sk-container-id-1 label.sk-toggleable__label-arrow:before {content: \"▸\";float: left;margin-right: 0.25em;color: #696969;}#sk-container-id-1 label.sk-toggleable__label-arrow:hover:before {color: black;}#sk-container-id-1 div.sk-estimator:hover label.sk-toggleable__label-arrow:before {color: black;}#sk-container-id-1 div.sk-toggleable__content {max-height: 0;max-width: 0;overflow: hidden;text-align: left;background-color: #f0f8ff;}#sk-container-id-1 div.sk-toggleable__content pre {margin: 0.2em;color: black;border-radius: 0.25em;background-color: #f0f8ff;}#sk-container-id-1 input.sk-toggleable__control:checked~div.sk-toggleable__content {max-height: 200px;max-width: 100%;overflow: auto;}#sk-container-id-1 input.sk-toggleable__control:checked~label.sk-toggleable__label-arrow:before {content: \"▾\";}#sk-container-id-1 div.sk-estimator input.sk-toggleable__control:checked~label.sk-toggleable__label {background-color: #d4ebff;}#sk-container-id-1 div.sk-label input.sk-toggleable__control:checked~label.sk-toggleable__label {background-color: #d4ebff;}#sk-container-id-1 input.sk-hidden--visually {border: 0;clip: rect(1px 1px 1px 1px);clip: rect(1px, 1px, 1px, 1px);height: 1px;margin: -1px;overflow: hidden;padding: 0;position: absolute;width: 1px;}#sk-container-id-1 div.sk-estimator {font-family: monospace;background-color: #f0f8ff;border: 1px dotted black;border-radius: 0.25em;box-sizing: border-box;margin-bottom: 0.5em;}#sk-container-id-1 div.sk-estimator:hover {background-color: #d4ebff;}#sk-container-id-1 div.sk-parallel-item::after {content: \"\";width: 100%;border-bottom: 1px solid gray;flex-grow: 1;}#sk-container-id-1 div.sk-label:hover label.sk-toggleable__label {background-color: #d4ebff;}#sk-container-id-1 div.sk-serial::before {content: \"\";position: absolute;border-left: 1px solid gray;box-sizing: border-box;top: 0;bottom: 0;left: 50%;z-index: 0;}#sk-container-id-1 div.sk-serial {display: flex;flex-direction: column;align-items: center;background-color: white;padding-right: 0.2em;padding-left: 0.2em;position: relative;}#sk-container-id-1 div.sk-item {position: relative;z-index: 1;}#sk-container-id-1 div.sk-parallel {display: flex;align-items: stretch;justify-content: center;background-color: white;position: relative;}#sk-container-id-1 div.sk-item::before, #sk-container-id-1 div.sk-parallel-item::before {content: \"\";position: absolute;border-left: 1px solid gray;box-sizing: border-box;top: 0;bottom: 0;left: 50%;z-index: -1;}#sk-container-id-1 div.sk-parallel-item {display: flex;flex-direction: column;z-index: 1;position: relative;background-color: white;}#sk-container-id-1 div.sk-parallel-item:first-child::after {align-self: flex-end;width: 50%;}#sk-container-id-1 div.sk-parallel-item:last-child::after {align-self: flex-start;width: 50%;}#sk-container-id-1 div.sk-parallel-item:only-child::after {width: 0;}#sk-container-id-1 div.sk-dashed-wrapped {border: 1px dashed gray;margin: 0 0.4em 0.5em 0.4em;box-sizing: border-box;padding-bottom: 0.4em;background-color: white;}#sk-container-id-1 div.sk-label label {font-family: monospace;font-weight: bold;display: inline-block;line-height: 1.2em;}#sk-container-id-1 div.sk-label-container {text-align: center;}#sk-container-id-1 div.sk-container {/* jupyter's `normalize.less` sets `[hidden] { display: none; }` but bootstrap.min.css set `[hidden] { display: none !important; }` so we also need the `!important` here to be able to override the default hidden behavior on the sphinx rendered scikit-learn.org. See: https://github.com/scikit-learn/scikit-learn/issues/21755 */display: inline-block !important;position: relative;}#sk-container-id-1 div.sk-text-repr-fallback {display: none;}</style><div id=\"sk-container-id-1\" class=\"sk-top-container\"><div class=\"sk-text-repr-fallback\"><pre>GridSearchCV(estimator=DecisionTreeClassifier(),\n",
       "             param_grid=[{&#x27;max_depth&#x27;: [2, 4, 8, 16, 32],\n",
       "                          &#x27;max_leaf_nodes&#x27;: [2, 4, 8, 16, 32, 64, 128]}],\n",
       "             scoring=&#x27;accuracy&#x27;)</pre><b>In a Jupyter environment, please rerun this cell to show the HTML representation or trust the notebook. <br />On GitHub, the HTML representation is unable to render, please try loading this page with nbviewer.org.</b></div><div class=\"sk-container\" hidden><div class=\"sk-item sk-dashed-wrapped\"><div class=\"sk-label-container\"><div class=\"sk-label sk-toggleable\"><input class=\"sk-toggleable__control sk-hidden--visually\" id=\"sk-estimator-id-1\" type=\"checkbox\" ><label for=\"sk-estimator-id-1\" class=\"sk-toggleable__label sk-toggleable__label-arrow\">GridSearchCV</label><div class=\"sk-toggleable__content\"><pre>GridSearchCV(estimator=DecisionTreeClassifier(),\n",
       "             param_grid=[{&#x27;max_depth&#x27;: [2, 4, 8, 16, 32],\n",
       "                          &#x27;max_leaf_nodes&#x27;: [2, 4, 8, 16, 32, 64, 128]}],\n",
       "             scoring=&#x27;accuracy&#x27;)</pre></div></div></div><div class=\"sk-parallel\"><div class=\"sk-parallel-item\"><div class=\"sk-item\"><div class=\"sk-label-container\"><div class=\"sk-label sk-toggleable\"><input class=\"sk-toggleable__control sk-hidden--visually\" id=\"sk-estimator-id-2\" type=\"checkbox\" ><label for=\"sk-estimator-id-2\" class=\"sk-toggleable__label sk-toggleable__label-arrow\">estimator: DecisionTreeClassifier</label><div class=\"sk-toggleable__content\"><pre>DecisionTreeClassifier()</pre></div></div></div><div class=\"sk-serial\"><div class=\"sk-item\"><div class=\"sk-estimator sk-toggleable\"><input class=\"sk-toggleable__control sk-hidden--visually\" id=\"sk-estimator-id-3\" type=\"checkbox\" ><label for=\"sk-estimator-id-3\" class=\"sk-toggleable__label sk-toggleable__label-arrow\">DecisionTreeClassifier</label><div class=\"sk-toggleable__content\"><pre>DecisionTreeClassifier()</pre></div></div></div></div></div></div></div></div></div></div>"
      ],
      "text/plain": [
       "GridSearchCV(estimator=DecisionTreeClassifier(),\n",
       "             param_grid=[{'max_depth': [2, 4, 8, 16, 32],\n",
       "                          'max_leaf_nodes': [2, 4, 8, 16, 32, 64, 128]}],\n",
       "             scoring='accuracy')"
      ]
     },
     "execution_count": 3,
     "metadata": {},
     "output_type": "execute_result"
    }
   ],
   "source": [
    "param_grid = [\n",
    "  {'max_leaf_nodes': [2,4,8,16,32,64,128],\n",
    "   'max_depth': [2,4,8,16,32]}\n",
    "]\n",
    "\n",
    "grid_search_cv = GridSearchCV(tree_clf, param_grid, scoring='accuracy')\n",
    "grid_search_cv.fit(X_train, y_train)"
   ]
  },
  {
   "cell_type": "code",
   "execution_count": 4,
   "metadata": {},
   "outputs": [
    {
     "name": "stdout",
     "output_type": "stream",
     "text": [
      "{'max_depth': 8, 'max_leaf_nodes': 32}\n"
     ]
    },
    {
     "data": {
      "text/html": [
       "<div>\n",
       "<style scoped>\n",
       "    .dataframe tbody tr th:only-of-type {\n",
       "        vertical-align: middle;\n",
       "    }\n",
       "\n",
       "    .dataframe tbody tr th {\n",
       "        vertical-align: top;\n",
       "    }\n",
       "\n",
       "    .dataframe thead th {\n",
       "        text-align: right;\n",
       "    }\n",
       "</style>\n",
       "<table border=\"1\" class=\"dataframe\">\n",
       "  <thead>\n",
       "    <tr style=\"text-align: right;\">\n",
       "      <th></th>\n",
       "      <th>mean_fit_time</th>\n",
       "      <th>std_fit_time</th>\n",
       "      <th>mean_score_time</th>\n",
       "      <th>std_score_time</th>\n",
       "      <th>param_max_depth</th>\n",
       "      <th>param_max_leaf_nodes</th>\n",
       "      <th>params</th>\n",
       "      <th>split0_test_score</th>\n",
       "      <th>split1_test_score</th>\n",
       "      <th>split2_test_score</th>\n",
       "      <th>split3_test_score</th>\n",
       "      <th>split4_test_score</th>\n",
       "      <th>mean_test_score</th>\n",
       "      <th>std_test_score</th>\n",
       "      <th>rank_test_score</th>\n",
       "    </tr>\n",
       "  </thead>\n",
       "  <tbody>\n",
       "    <tr>\n",
       "      <th>18</th>\n",
       "      <td>0.005679</td>\n",
       "      <td>0.000234</td>\n",
       "      <td>0.000278</td>\n",
       "      <td>0.000023</td>\n",
       "      <td>8</td>\n",
       "      <td>32</td>\n",
       "      <td>{'max_depth': 8, 'max_leaf_nodes': 32}</td>\n",
       "      <td>0.848667</td>\n",
       "      <td>0.867333</td>\n",
       "      <td>0.866000</td>\n",
       "      <td>0.856667</td>\n",
       "      <td>0.858667</td>\n",
       "      <td>0.859467</td>\n",
       "      <td>0.006778</td>\n",
       "      <td>1</td>\n",
       "    </tr>\n",
       "    <tr>\n",
       "      <th>32</th>\n",
       "      <td>0.005661</td>\n",
       "      <td>0.000212</td>\n",
       "      <td>0.000301</td>\n",
       "      <td>0.000053</td>\n",
       "      <td>32</td>\n",
       "      <td>32</td>\n",
       "      <td>{'max_depth': 32, 'max_leaf_nodes': 32}</td>\n",
       "      <td>0.847333</td>\n",
       "      <td>0.871333</td>\n",
       "      <td>0.863333</td>\n",
       "      <td>0.856667</td>\n",
       "      <td>0.858000</td>\n",
       "      <td>0.859333</td>\n",
       "      <td>0.007911</td>\n",
       "      <td>2</td>\n",
       "    </tr>\n",
       "    <tr>\n",
       "      <th>25</th>\n",
       "      <td>0.005769</td>\n",
       "      <td>0.000281</td>\n",
       "      <td>0.000309</td>\n",
       "      <td>0.000032</td>\n",
       "      <td>16</td>\n",
       "      <td>32</td>\n",
       "      <td>{'max_depth': 16, 'max_leaf_nodes': 32}</td>\n",
       "      <td>0.847333</td>\n",
       "      <td>0.869333</td>\n",
       "      <td>0.863333</td>\n",
       "      <td>0.856667</td>\n",
       "      <td>0.858000</td>\n",
       "      <td>0.858933</td>\n",
       "      <td>0.007322</td>\n",
       "      <td>3</td>\n",
       "    </tr>\n",
       "    <tr>\n",
       "      <th>17</th>\n",
       "      <td>0.004997</td>\n",
       "      <td>0.000064</td>\n",
       "      <td>0.000279</td>\n",
       "      <td>0.000029</td>\n",
       "      <td>8</td>\n",
       "      <td>16</td>\n",
       "      <td>{'max_depth': 8, 'max_leaf_nodes': 16}</td>\n",
       "      <td>0.854667</td>\n",
       "      <td>0.858667</td>\n",
       "      <td>0.861333</td>\n",
       "      <td>0.850667</td>\n",
       "      <td>0.856667</td>\n",
       "      <td>0.856400</td>\n",
       "      <td>0.003617</td>\n",
       "      <td>4</td>\n",
       "    </tr>\n",
       "    <tr>\n",
       "      <th>24</th>\n",
       "      <td>0.004972</td>\n",
       "      <td>0.000047</td>\n",
       "      <td>0.000309</td>\n",
       "      <td>0.000040</td>\n",
       "      <td>16</td>\n",
       "      <td>16</td>\n",
       "      <td>{'max_depth': 16, 'max_leaf_nodes': 16}</td>\n",
       "      <td>0.854667</td>\n",
       "      <td>0.858667</td>\n",
       "      <td>0.861333</td>\n",
       "      <td>0.850667</td>\n",
       "      <td>0.856667</td>\n",
       "      <td>0.856400</td>\n",
       "      <td>0.003617</td>\n",
       "      <td>4</td>\n",
       "    </tr>\n",
       "  </tbody>\n",
       "</table>\n",
       "</div>"
      ],
      "text/plain": [
       "    mean_fit_time  std_fit_time  mean_score_time  std_score_time  \\\n",
       "18       0.005679      0.000234         0.000278        0.000023   \n",
       "32       0.005661      0.000212         0.000301        0.000053   \n",
       "25       0.005769      0.000281         0.000309        0.000032   \n",
       "17       0.004997      0.000064         0.000279        0.000029   \n",
       "24       0.004972      0.000047         0.000309        0.000040   \n",
       "\n",
       "   param_max_depth param_max_leaf_nodes  \\\n",
       "18               8                   32   \n",
       "32              32                   32   \n",
       "25              16                   32   \n",
       "17               8                   16   \n",
       "24              16                   16   \n",
       "\n",
       "                                     params  split0_test_score  \\\n",
       "18   {'max_depth': 8, 'max_leaf_nodes': 32}           0.848667   \n",
       "32  {'max_depth': 32, 'max_leaf_nodes': 32}           0.847333   \n",
       "25  {'max_depth': 16, 'max_leaf_nodes': 32}           0.847333   \n",
       "17   {'max_depth': 8, 'max_leaf_nodes': 16}           0.854667   \n",
       "24  {'max_depth': 16, 'max_leaf_nodes': 16}           0.854667   \n",
       "\n",
       "    split1_test_score  split2_test_score  split3_test_score  \\\n",
       "18           0.867333           0.866000           0.856667   \n",
       "32           0.871333           0.863333           0.856667   \n",
       "25           0.869333           0.863333           0.856667   \n",
       "17           0.858667           0.861333           0.850667   \n",
       "24           0.858667           0.861333           0.850667   \n",
       "\n",
       "    split4_test_score  mean_test_score  std_test_score  rank_test_score  \n",
       "18           0.858667         0.859467        0.006778                1  \n",
       "32           0.858000         0.859333        0.007911                2  \n",
       "25           0.858000         0.858933        0.007322                3  \n",
       "17           0.856667         0.856400        0.003617                4  \n",
       "24           0.856667         0.856400        0.003617                4  "
      ]
     },
     "execution_count": 4,
     "metadata": {},
     "output_type": "execute_result"
    }
   ],
   "source": [
    "# Getting the best parameters from the grid search\n",
    "print (grid_search_cv.best_params_)\n",
    "\n",
    "# Getting the evaluation data from the grid search\n",
    "cv_res = pd.DataFrame(grid_search_cv.cv_results_)\n",
    "cv_res.sort_values(by=\"rank_test_score\", ascending=True, inplace=True)\n",
    "cv_res.head()"
   ]
  },
  {
   "cell_type": "code",
   "execution_count": 6,
   "metadata": {},
   "outputs": [
    {
     "data": {
      "text/plain": [
       "0.8644"
      ]
     },
     "execution_count": 6,
     "metadata": {},
     "output_type": "execute_result"
    }
   ],
   "source": [
    "best_tree = grid_search_cv.best_estimator_\n",
    "best_tree.fit(X_train, y_train)\n",
    "best_tree.score(X_test, y_test)"
   ]
  },
  {
   "cell_type": "markdown",
   "metadata": {},
   "source": [
    "### Homemade Random Forest"
   ]
  },
  {
   "cell_type": "code",
   "execution_count": 7,
   "metadata": {},
   "outputs": [],
   "source": [
    "from sklearn.model_selection import ShuffleSplit\n",
    "\n",
    "\n",
    "X_moons, y_moons = make_moons(n_samples=10000, noise=0.4, random_state=42)\n",
    "X_train, X_test, y_train, y_test = train_test_split(X_moons, y_moons, random_state=42)\n",
    "\n",
    "# Returns random indices for each split\n",
    "split  = ShuffleSplit(n_splits=1000, random_state=42)\n",
    "\n",
    "random_forest = []\n",
    "for i, (train_index, _) in enumerate(split.split(X_train)):\n",
    "  tree_clf = DecisionTreeClassifier(max_depth=8, max_leaf_nodes=32, random_state=42)\n",
    "  X_train_subset = X_train[train_index]\n",
    "  y_train_subset = y_train[train_index]\n",
    "  tree_clf.fit(X_train_subset, y_train_subset)\n",
    "  random_forest.append(tree_clf)"
   ]
  },
  {
   "cell_type": "code",
   "execution_count": 8,
   "metadata": {},
   "outputs": [
    {
     "data": {
      "text/plain": [
       "0.8595176"
      ]
     },
     "execution_count": 8,
     "metadata": {},
     "output_type": "execute_result"
    }
   ],
   "source": [
    "# Predicting the accuracy score of each tree individually on the test set and getting the mean\n",
    "accuracy_scores = [tree_clf.score(X_test, y_test) for tree_clf in random_forest]\n",
    "np.mean(accuracy_scores)"
   ]
  },
  {
   "cell_type": "code",
   "execution_count": 9,
   "metadata": {},
   "outputs": [],
   "source": [
    "# Ensemble method\n",
    "# Getting predictions from all tree for each test example and choosing the most frequent example\n",
    "y_pred_all = []\n",
    "for tree_clf in random_forest:\n",
    "  y_pred = tree_clf.predict(X_test)\n",
    "  y_pred_all.append(y_pred)\n",
    "\n",
    "y_pred_all = np.array(y_pred_all)"
   ]
  },
  {
   "cell_type": "code",
   "execution_count": 10,
   "metadata": {},
   "outputs": [
    {
     "name": "stdout",
     "output_type": "stream",
     "text": [
      "(1000, 2500)\n",
      "(2500,)\n"
     ]
    },
    {
     "data": {
      "text/plain": [
       "0.8608"
      ]
     },
     "execution_count": 10,
     "metadata": {},
     "output_type": "execute_result"
    }
   ],
   "source": [
    "# Each row represents the prediction of tree i over test set. Each cell (i,j) is the prediction of tree i over sample j in \n",
    "# test set.\n",
    "from sklearn.metrics import accuracy_score\n",
    "\n",
    "\n",
    "print (y_pred_all.shape)\n",
    "\n",
    "# Condensing the results by taking the most frequent result over the axis (over all trees)\n",
    "y_pred_combined = mode(y_pred_all, axis=0).mode\n",
    "print (y_pred_combined.shape)\n",
    "\n",
    "accuracy_score(y_test, y_pred_combined)"
   ]
  },
  {
   "cell_type": "code",
   "execution_count": null,
   "metadata": {},
   "outputs": [],
   "source": []
  }
 ],
 "metadata": {
  "kernelspec": {
   "display_name": "Python 3",
   "language": "python",
   "name": "python3"
  },
  "language_info": {
   "codemirror_mode": {
    "name": "ipython",
    "version": 3
   },
   "file_extension": ".py",
   "mimetype": "text/x-python",
   "name": "python",
   "nbconvert_exporter": "python",
   "pygments_lexer": "ipython3",
   "version": "3.11.4"
  },
  "orig_nbformat": 4
 },
 "nbformat": 4,
 "nbformat_minor": 2
}
