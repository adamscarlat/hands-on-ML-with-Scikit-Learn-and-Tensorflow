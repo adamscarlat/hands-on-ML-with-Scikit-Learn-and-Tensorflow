{
  "cells": [
   {
    "cell_type": "code",
    "execution_count": 1,
    "metadata": {},
    "outputs": [
     {
      "data": {
       "text/html": [
        "<style>#sk-container-id-1 {color: black;}#sk-container-id-1 pre{padding: 0;}#sk-container-id-1 div.sk-toggleable {background-color: white;}#sk-container-id-1 label.sk-toggleable__label {cursor: pointer;display: block;width: 100%;margin-bottom: 0;padding: 0.3em;box-sizing: border-box;text-align: center;}#sk-container-id-1 label.sk-toggleable__label-arrow:before {content: \"▸\";float: left;margin-right: 0.25em;color: #696969;}#sk-container-id-1 label.sk-toggleable__label-arrow:hover:before {color: black;}#sk-container-id-1 div.sk-estimator:hover label.sk-toggleable__label-arrow:before {color: black;}#sk-container-id-1 div.sk-toggleable__content {max-height: 0;max-width: 0;overflow: hidden;text-align: left;background-color: #f0f8ff;}#sk-container-id-1 div.sk-toggleable__content pre {margin: 0.2em;color: black;border-radius: 0.25em;background-color: #f0f8ff;}#sk-container-id-1 input.sk-toggleable__control:checked~div.sk-toggleable__content {max-height: 200px;max-width: 100%;overflow: auto;}#sk-container-id-1 input.sk-toggleable__control:checked~label.sk-toggleable__label-arrow:before {content: \"▾\";}#sk-container-id-1 div.sk-estimator input.sk-toggleable__control:checked~label.sk-toggleable__label {background-color: #d4ebff;}#sk-container-id-1 div.sk-label input.sk-toggleable__control:checked~label.sk-toggleable__label {background-color: #d4ebff;}#sk-container-id-1 input.sk-hidden--visually {border: 0;clip: rect(1px 1px 1px 1px);clip: rect(1px, 1px, 1px, 1px);height: 1px;margin: -1px;overflow: hidden;padding: 0;position: absolute;width: 1px;}#sk-container-id-1 div.sk-estimator {font-family: monospace;background-color: #f0f8ff;border: 1px dotted black;border-radius: 0.25em;box-sizing: border-box;margin-bottom: 0.5em;}#sk-container-id-1 div.sk-estimator:hover {background-color: #d4ebff;}#sk-container-id-1 div.sk-parallel-item::after {content: \"\";width: 100%;border-bottom: 1px solid gray;flex-grow: 1;}#sk-container-id-1 div.sk-label:hover label.sk-toggleable__label {background-color: #d4ebff;}#sk-container-id-1 div.sk-serial::before {content: \"\";position: absolute;border-left: 1px solid gray;box-sizing: border-box;top: 0;bottom: 0;left: 50%;z-index: 0;}#sk-container-id-1 div.sk-serial {display: flex;flex-direction: column;align-items: center;background-color: white;padding-right: 0.2em;padding-left: 0.2em;position: relative;}#sk-container-id-1 div.sk-item {position: relative;z-index: 1;}#sk-container-id-1 div.sk-parallel {display: flex;align-items: stretch;justify-content: center;background-color: white;position: relative;}#sk-container-id-1 div.sk-item::before, #sk-container-id-1 div.sk-parallel-item::before {content: \"\";position: absolute;border-left: 1px solid gray;box-sizing: border-box;top: 0;bottom: 0;left: 50%;z-index: -1;}#sk-container-id-1 div.sk-parallel-item {display: flex;flex-direction: column;z-index: 1;position: relative;background-color: white;}#sk-container-id-1 div.sk-parallel-item:first-child::after {align-self: flex-end;width: 50%;}#sk-container-id-1 div.sk-parallel-item:last-child::after {align-self: flex-start;width: 50%;}#sk-container-id-1 div.sk-parallel-item:only-child::after {width: 0;}#sk-container-id-1 div.sk-dashed-wrapped {border: 1px dashed gray;margin: 0 0.4em 0.5em 0.4em;box-sizing: border-box;padding-bottom: 0.4em;background-color: white;}#sk-container-id-1 div.sk-label label {font-family: monospace;font-weight: bold;display: inline-block;line-height: 1.2em;}#sk-container-id-1 div.sk-label-container {text-align: center;}#sk-container-id-1 div.sk-container {/* jupyter's `normalize.less` sets `[hidden] { display: none; }` but bootstrap.min.css set `[hidden] { display: none !important; }` so we also need the `!important` here to be able to override the default hidden behavior on the sphinx rendered scikit-learn.org. See: https://github.com/scikit-learn/scikit-learn/issues/21755 */display: inline-block !important;position: relative;}#sk-container-id-1 div.sk-text-repr-fallback {display: none;}</style><div id=\"sk-container-id-1\" class=\"sk-top-container\"><div class=\"sk-text-repr-fallback\"><pre>DecisionTreeClassifier(max_depth=2, random_state=42)</pre><b>In a Jupyter environment, please rerun this cell to show the HTML representation or trust the notebook. <br />On GitHub, the HTML representation is unable to render, please try loading this page with nbviewer.org.</b></div><div class=\"sk-container\" hidden><div class=\"sk-item\"><div class=\"sk-estimator sk-toggleable\"><input class=\"sk-toggleable__control sk-hidden--visually\" id=\"sk-estimator-id-1\" type=\"checkbox\" checked><label for=\"sk-estimator-id-1\" class=\"sk-toggleable__label sk-toggleable__label-arrow\">DecisionTreeClassifier</label><div class=\"sk-toggleable__content\"><pre>DecisionTreeClassifier(max_depth=2, random_state=42)</pre></div></div></div></div></div>"
       ],
       "text/plain": [
        "DecisionTreeClassifier(max_depth=2, random_state=42)"
       ]
      },
      "execution_count": 1,
      "metadata": {},
      "output_type": "execute_result"
     }
    ],
    "source": [
     "from sklearn.datasets import load_iris\n",
     "from sklearn.tree import DecisionTreeClassifier\n",
     "\n",
     "\n",
     "iris = load_iris(as_frame=True)\n",
     "X_iris = iris.data[[\"petal length (cm)\", \"petal width (cm)\"]].values\n",
     "y_iris = iris.target\n",
     "\n",
     "tree_clf = DecisionTreeClassifier(max_depth=2, random_state=42)\n",
     "tree_clf.fit(X_iris, y_iris)"
    ]
   },
   {
    "cell_type": "code",
    "execution_count": 2,
    "metadata": {},
    "outputs": [],
    "source": [
     "from sklearn.tree import export_graphviz\n",
     "\n",
     "export_graphviz(\n",
     "  tree_clf,\n",
     "  out_file=\"iris_tree.dot\",\n",
     "  feature_names=[\"petal length (cm)\", \"petal width (cm)\"],\n",
     "  class_names=iris.target_names,\n",
     "  rounded=True,\n",
     "  filled=True\n",
     ")"
    ]
   },
   {
    "cell_type": "code",
    "execution_count": 4,
    "metadata": {},
    "outputs": [
     {
      "data": {
       "image/svg+xml": [
        "<?xml version=\"1.0\" encoding=\"UTF-8\" standalone=\"no\"?>\n",
        "<!DOCTYPE svg PUBLIC \"-//W3C//DTD SVG 1.1//EN\"\n",
        " \"http://www.w3.org/Graphics/SVG/1.1/DTD/svg11.dtd\">\n",
        "<!-- Generated by graphviz version 9.0.0 (20230911.1827)\n",
        " -->\n",
        "<!-- Title: Tree Pages: 1 -->\n",
        "<svg width=\"350pt\" height=\"314pt\"\n",
        " viewBox=\"0.00 0.00 349.50 314.00\" xmlns=\"http://www.w3.org/2000/svg\" xmlns:xlink=\"http://www.w3.org/1999/xlink\">\n",
        "<g id=\"graph0\" class=\"graph\" transform=\"scale(1 1) rotate(0) translate(4 310)\">\n",
        "<title>Tree</title>\n",
        "<polygon fill=\"white\" stroke=\"none\" points=\"-4,4 -4,-310 345.5,-310 345.5,4 -4,4\"/>\n",
        "<!-- 0 -->\n",
        "<g id=\"node1\" class=\"node\">\n",
        "<title>0</title>\n",
        "<path fill=\"#ffffff\" stroke=\"black\" d=\"M208,-306C208,-306 64.5,-306 64.5,-306 58.5,-306 52.5,-300 52.5,-294 52.5,-294 52.5,-235 52.5,-235 52.5,-229 58.5,-223 64.5,-223 64.5,-223 208,-223 208,-223 214,-223 220,-229 220,-235 220,-235 220,-294 220,-294 220,-300 214,-306 208,-306\"/>\n",
        "<text text-anchor=\"middle\" x=\"136.25\" y=\"-288.7\" font-family=\"Helvetica,sans-Serif\" font-size=\"14.00\">petal length (cm) &lt;= 2.45</text>\n",
        "<text text-anchor=\"middle\" x=\"136.25\" y=\"-273.7\" font-family=\"Helvetica,sans-Serif\" font-size=\"14.00\">gini = 0.667</text>\n",
        "<text text-anchor=\"middle\" x=\"136.25\" y=\"-258.7\" font-family=\"Helvetica,sans-Serif\" font-size=\"14.00\">samples = 150</text>\n",
        "<text text-anchor=\"middle\" x=\"136.25\" y=\"-243.7\" font-family=\"Helvetica,sans-Serif\" font-size=\"14.00\">value = [50, 50, 50]</text>\n",
        "<text text-anchor=\"middle\" x=\"136.25\" y=\"-228.7\" font-family=\"Helvetica,sans-Serif\" font-size=\"14.00\">class = setosa</text>\n",
        "</g>\n",
        "<!-- 1 -->\n",
        "<g id=\"node2\" class=\"node\">\n",
        "<title>1</title>\n",
        "<path fill=\"#e58139\" stroke=\"black\" d=\"M104.5,-179.5C104.5,-179.5 12,-179.5 12,-179.5 6,-179.5 0,-173.5 0,-167.5 0,-167.5 0,-123.5 0,-123.5 0,-117.5 6,-111.5 12,-111.5 12,-111.5 104.5,-111.5 104.5,-111.5 110.5,-111.5 116.5,-117.5 116.5,-123.5 116.5,-123.5 116.5,-167.5 116.5,-167.5 116.5,-173.5 110.5,-179.5 104.5,-179.5\"/>\n",
        "<text text-anchor=\"middle\" x=\"58.25\" y=\"-162.2\" font-family=\"Helvetica,sans-Serif\" font-size=\"14.00\">gini = 0.0</text>\n",
        "<text text-anchor=\"middle\" x=\"58.25\" y=\"-147.2\" font-family=\"Helvetica,sans-Serif\" font-size=\"14.00\">samples = 50</text>\n",
        "<text text-anchor=\"middle\" x=\"58.25\" y=\"-132.2\" font-family=\"Helvetica,sans-Serif\" font-size=\"14.00\">value = [50, 0, 0]</text>\n",
        "<text text-anchor=\"middle\" x=\"58.25\" y=\"-117.2\" font-family=\"Helvetica,sans-Serif\" font-size=\"14.00\">class = setosa</text>\n",
        "</g>\n",
        "<!-- 0&#45;&gt;1 -->\n",
        "<g id=\"edge1\" class=\"edge\">\n",
        "<title>0&#45;&gt;1</title>\n",
        "<path fill=\"none\" stroke=\"black\" d=\"M108.97,-222.58C101.77,-211.77 93.97,-200.09 86.71,-189.19\"/>\n",
        "<polygon fill=\"black\" stroke=\"black\" points=\"89.79,-187.5 81.33,-181.12 83.97,-191.38 89.79,-187.5\"/>\n",
        "<text text-anchor=\"middle\" x=\"75.59\" y=\"-198.58\" font-family=\"Helvetica,sans-Serif\" font-size=\"14.00\">True</text>\n",
        "</g>\n",
        "<!-- 2 -->\n",
        "<g id=\"node3\" class=\"node\">\n",
        "<title>2</title>\n",
        "<path fill=\"#ffffff\" stroke=\"black\" d=\"M284.38,-187C284.38,-187 146.12,-187 146.12,-187 140.12,-187 134.12,-181 134.12,-175 134.12,-175 134.12,-116 134.12,-116 134.12,-110 140.12,-104 146.12,-104 146.12,-104 284.38,-104 284.38,-104 290.38,-104 296.38,-110 296.38,-116 296.38,-116 296.38,-175 296.38,-175 296.38,-181 290.38,-187 284.38,-187\"/>\n",
        "<text text-anchor=\"middle\" x=\"215.25\" y=\"-169.7\" font-family=\"Helvetica,sans-Serif\" font-size=\"14.00\">petal width (cm) &lt;= 1.75</text>\n",
        "<text text-anchor=\"middle\" x=\"215.25\" y=\"-154.7\" font-family=\"Helvetica,sans-Serif\" font-size=\"14.00\">gini = 0.5</text>\n",
        "<text text-anchor=\"middle\" x=\"215.25\" y=\"-139.7\" font-family=\"Helvetica,sans-Serif\" font-size=\"14.00\">samples = 100</text>\n",
        "<text text-anchor=\"middle\" x=\"215.25\" y=\"-124.7\" font-family=\"Helvetica,sans-Serif\" font-size=\"14.00\">value = [0, 50, 50]</text>\n",
        "<text text-anchor=\"middle\" x=\"215.25\" y=\"-109.7\" font-family=\"Helvetica,sans-Serif\" font-size=\"14.00\">class = versicolor</text>\n",
        "</g>\n",
        "<!-- 0&#45;&gt;2 -->\n",
        "<g id=\"edge2\" class=\"edge\">\n",
        "<title>0&#45;&gt;2</title>\n",
        "<path fill=\"none\" stroke=\"black\" d=\"M163.88,-222.58C169.57,-214.16 175.61,-205.2 181.49,-196.5\"/>\n",
        "<polygon fill=\"black\" stroke=\"black\" points=\"184.23,-198.7 186.92,-188.45 178.42,-194.78 184.23,-198.7\"/>\n",
        "<text text-anchor=\"middle\" x=\"192.53\" y=\"-205.94\" font-family=\"Helvetica,sans-Serif\" font-size=\"14.00\">False</text>\n",
        "</g>\n",
        "<!-- 3 -->\n",
        "<g id=\"node4\" class=\"node\">\n",
        "<title>3</title>\n",
        "<path fill=\"#4de88e\" stroke=\"black\" d=\"M195.38,-68C195.38,-68 99.12,-68 99.12,-68 93.12,-68 87.12,-62 87.12,-56 87.12,-56 87.12,-12 87.12,-12 87.12,-6 93.12,0 99.12,0 99.12,0 195.38,0 195.38,0 201.38,0 207.38,-6 207.38,-12 207.38,-12 207.38,-56 207.38,-56 207.38,-62 201.38,-68 195.38,-68\"/>\n",
        "<text text-anchor=\"middle\" x=\"147.25\" y=\"-50.7\" font-family=\"Helvetica,sans-Serif\" font-size=\"14.00\">gini = 0.168</text>\n",
        "<text text-anchor=\"middle\" x=\"147.25\" y=\"-35.7\" font-family=\"Helvetica,sans-Serif\" font-size=\"14.00\">samples = 54</text>\n",
        "<text text-anchor=\"middle\" x=\"147.25\" y=\"-20.7\" font-family=\"Helvetica,sans-Serif\" font-size=\"14.00\">value = [0, 49, 5]</text>\n",
        "<text text-anchor=\"middle\" x=\"147.25\" y=\"-5.7\" font-family=\"Helvetica,sans-Serif\" font-size=\"14.00\">class = versicolor</text>\n",
        "</g>\n",
        "<!-- 2&#45;&gt;3 -->\n",
        "<g id=\"edge3\" class=\"edge\">\n",
        "<title>2&#45;&gt;3</title>\n",
        "<path fill=\"none\" stroke=\"black\" d=\"M189.93,-103.73C184.72,-95.34 179.22,-86.47 173.96,-78.01\"/>\n",
        "<polygon fill=\"black\" stroke=\"black\" points=\"176.98,-76.23 168.73,-69.59 171.03,-79.93 176.98,-76.23\"/>\n",
        "</g>\n",
        "<!-- 4 -->\n",
        "<g id=\"node5\" class=\"node\">\n",
        "<title>4</title>\n",
        "<path fill=\"#843de6\" stroke=\"black\" d=\"M329.5,-68C329.5,-68 237,-68 237,-68 231,-68 225,-62 225,-56 225,-56 225,-12 225,-12 225,-6 231,0 237,0 237,0 329.5,0 329.5,0 335.5,0 341.5,-6 341.5,-12 341.5,-12 341.5,-56 341.5,-56 341.5,-62 335.5,-68 329.5,-68\"/>\n",
        "<text text-anchor=\"middle\" x=\"283.25\" y=\"-50.7\" font-family=\"Helvetica,sans-Serif\" font-size=\"14.00\">gini = 0.043</text>\n",
        "<text text-anchor=\"middle\" x=\"283.25\" y=\"-35.7\" font-family=\"Helvetica,sans-Serif\" font-size=\"14.00\">samples = 46</text>\n",
        "<text text-anchor=\"middle\" x=\"283.25\" y=\"-20.7\" font-family=\"Helvetica,sans-Serif\" font-size=\"14.00\">value = [0, 1, 45]</text>\n",
        "<text text-anchor=\"middle\" x=\"283.25\" y=\"-5.7\" font-family=\"Helvetica,sans-Serif\" font-size=\"14.00\">class = virginica</text>\n",
        "</g>\n",
        "<!-- 2&#45;&gt;4 -->\n",
        "<g id=\"edge4\" class=\"edge\">\n",
        "<title>2&#45;&gt;4</title>\n",
        "<path fill=\"none\" stroke=\"black\" d=\"M240.57,-103.73C245.78,-95.34 251.28,-86.47 256.54,-78.01\"/>\n",
        "<polygon fill=\"black\" stroke=\"black\" points=\"259.47,-79.93 261.77,-69.59 253.52,-76.23 259.47,-79.93\"/>\n",
        "</g>\n",
        "</g>\n",
        "</svg>\n"
       ],
       "text/plain": [
        "<graphviz.sources.Source at 0x104f0bbd0>"
       ]
      },
      "execution_count": 4,
      "metadata": {},
      "output_type": "execute_result"
     }
    ],
    "source": [
     "from graphviz import Source\n",
     "\n",
     "Source.from_file(\"iris_tree.dot\")"
    ]
   },
   {
    "cell_type": "code",
    "execution_count": null,
    "metadata": {},
    "outputs": [],
    "source": []
   }
  ],
  "metadata": {
   "kernelspec": {
    "display_name": "tensorflow",
    "language": "python",
    "name": "python3"
   },
   "language_info": {
    "codemirror_mode": {
     "name": "ipython",
     "version": 3
    },
    "file_extension": ".py",
    "mimetype": "text/x-python",
    "name": "python",
    "nbconvert_exporter": "python",
    "pygments_lexer": "ipython3",
    "version": "3.11.4"
   },
   "orig_nbformat": 4
  },
  "nbformat": 4,
  "nbformat_minor": 2
 }
 