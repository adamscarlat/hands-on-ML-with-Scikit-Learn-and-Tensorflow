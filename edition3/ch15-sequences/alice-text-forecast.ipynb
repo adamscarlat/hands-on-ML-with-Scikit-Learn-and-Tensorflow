{
 "cells": [
  {
   "cell_type": "code",
   "execution_count": 23,
   "metadata": {},
   "outputs": [],
   "source": [
    "import sys\n",
    "from pprint import pprint\n",
    "\n",
    "import numpy as np\n",
    "import tensorflow as tf\n"
   ]
  },
  {
   "cell_type": "markdown",
   "metadata": {},
   "source": [
    "In this example, we will train a character based language model on the text of Alice in Wonderland to predict the next character \n",
    "given 100 previous characters. We have chosen to build a character-based model here because it has a smaller vocabulary and trains quicker.\n",
    "\n",
    "Taken from:\n",
    "https://machinelearningmastery.com/text-generation-lstm-recurrent-neural-networks-python-keras/\n"
   ]
  },
  {
   "cell_type": "code",
   "execution_count": 3,
   "metadata": {},
   "outputs": [
    {
     "name": "stdout",
     "output_type": "stream",
     "text": [
      "Extracting text from input...\n"
     ]
    }
   ],
   "source": [
    "# Getting the input\n",
    "\n",
    "INPUT_FILE = \"./datasets/alice-text/alice.txt\"\n",
    "\n",
    "# extract the input as a stream of characters\n",
    "print(\"Extracting text from input...\")\n",
    "\n",
    "fin = open(INPUT_FILE, 'rb')\n",
    "lines = []\n",
    "for line in fin:\n",
    "    line = line.strip().lower()\n",
    "    line = line.decode(\"ascii\", \"ignore\")\n",
    "    if len(line) == 0:\n",
    "        continue\n",
    "    lines.append(line)\n",
    "fin.close()\n",
    "\n",
    "text = \" \".join(lines)\n",
    "text = text.lower()"
   ]
  },
  {
   "cell_type": "code",
   "execution_count": 4,
   "metadata": {},
   "outputs": [],
   "source": [
    "# Converting the characters to integers (indexing)\n",
    "\n",
    "# Create mapping of unique chars to integers\n",
    "chars = sorted(list(set(text)))\n",
    "char_to_int = dict((c, i) for i, c in enumerate(chars))"
   ]
  },
  {
   "cell_type": "code",
   "execution_count": 7,
   "metadata": {},
   "outputs": [
    {
     "name": "stdout",
     "output_type": "stream",
     "text": [
      "Total Characters:  158783\n",
      "Total Vocab:  55\n"
     ]
    }
   ],
   "source": [
    "# Getting some info about the text after indexing it \n",
    "\n",
    "n_chars = len(text)\n",
    "n_vocab = len(chars)\n",
    "print (\"Total Characters: \", n_chars)\n",
    "print (\"Total Vocab: \", n_vocab)"
   ]
  },
  {
   "cell_type": "code",
   "execution_count": 8,
   "metadata": {},
   "outputs": [
    {
     "name": "stdout",
     "output_type": "stream",
     "text": [
      "Total Patterns:  158683\n"
     ]
    }
   ],
   "source": [
    "# Splitting the text into sequences and labels\n",
    "\n",
    "# Each sequence will be 100 characters and each label will be a single (next) character\n",
    "\n",
    "# Prepare the dataset of input to output pairs encoded as integers\n",
    "seq_length = 100\n",
    "dataX = []\n",
    "dataY = []\n",
    "for i in range(0, n_chars - seq_length, 1):\n",
    "\tseq_in = text[i:i + seq_length]\n",
    "\tseq_out = text[i + seq_length]\n",
    "\tdataX.append([char_to_int[char] for char in seq_in])\n",
    "\tdataY.append(char_to_int[seq_out])\n",
    "\t\n",
    "n_patterns = len(dataX)\n",
    "print (\"Total Patterns: \", n_patterns)"
   ]
  },
  {
   "cell_type": "code",
   "execution_count": 10,
   "metadata": {},
   "outputs": [],
   "source": [
    "# Preparing the inputs and labels for training\n",
    "\n",
    "# Reshape X to be [samples, time steps, features]\n",
    "X = np.reshape(dataX, (n_patterns, seq_length, 1))\n",
    "\n",
    "# Normalize\n",
    "X = X / float(n_vocab)\n",
    "\n",
    "# One hot encode the output variable.\n",
    "# Each output will be (seq_index, vocab_length) and there will be a single character marked with 1\n",
    "y = tf.keras.utils.to_categorical(dataY)"
   ]
  },
  {
   "cell_type": "code",
   "execution_count": 14,
   "metadata": {},
   "outputs": [],
   "source": [
    "# Building the model\n",
    "\n",
    "# You are not interested in the most accurate (classification accuracy) model of the training dataset. \n",
    "# This would be a model that predicts each character in the training dataset perfectly. \n",
    "# Instead, you are interested in a generalization of the dataset that minimizes the chosen loss function. \n",
    "# You are seeking a balance between generalization and overfitting but short of memorization.\n",
    "\n",
    "model = tf.keras.Sequential([\n",
    "  tf.keras.layers.LSTM(256, input_shape=(X.shape[1], X.shape[2]), unroll=True),\n",
    "  tf.keras.layers.Dropout(0.2),\n",
    "  tf.keras.layers.Dense(y.shape[1], activation='softmax')\n",
    "])\n",
    "model.compile(loss='categorical_crossentropy', optimizer='adam')\n",
    "\n"
   ]
  },
  {
   "cell_type": "code",
   "execution_count": null,
   "metadata": {},
   "outputs": [],
   "source": [
    "# Training the model (very slow, requires GPU)\n",
    "\n",
    "# Define the checkpoint\n",
    "filepath=\"models_cp/weights-improvement-{epoch:02d}-{loss:.4f}.hdf5\"\n",
    "checkpoint = tf.keras.callbacks.ModelCheckpoint(filepath, monitor='loss', verbose=1, save_best_only=True, mode='min')\n",
    "callbacks_list = [checkpoint]\n",
    "\n",
    "model.fit(X, y, epochs=20, batch_size=128, callbacks=callbacks_list)"
   ]
  },
  {
   "cell_type": "markdown",
   "metadata": {},
   "source": [
    "Training on Kaggle......."
   ]
  },
  {
   "cell_type": "code",
   "execution_count": 29,
   "metadata": {},
   "outputs": [],
   "source": [
    "# Using the model for predictions\n",
    "\n",
    "# The simplest way to use the Keras LSTM model to make predictions is to first start with a seed sequence as input, \n",
    "# generate the next character, then update the seed sequence to add the generated character on the end and trim \n",
    "# off the first character. his process is repeated for as long as you want to predict new characters \n",
    "# (e.g., a sequence of 1,000 characters in length)\n",
    "\n",
    "def generate_text(model_path):\n",
    "  # load the network weights\n",
    "  filename = \"models_cp/weights-improvement-16-2.1293.hdf5\"\n",
    "  model.load_weights(filename)\n",
    "  model.compile(loss='categorical_crossentropy', optimizer='adam')\n",
    "\n",
    "  # Create a reverse mapping from int to chars so that we can understand the model's inferences\n",
    "  int_to_char = dict((i, c) for i, c in enumerate(chars))  \n",
    "\n",
    "  # Pick a random seed (sequence) from the dataset\n",
    "  start = np.random.randint(0, len(dataX)-1)\n",
    "  pattern = dataX[start]\n",
    "  pattern_english = ''.join([int_to_char[value] for value in pattern])\n",
    "  print(\"Seed:\")\n",
    "  print(\"\\\"\", pattern_english, \"\\\"\")\n",
    "\n",
    "  # Generate characters\n",
    "  for i in range(1000):\n",
    "    # Reshape (1, length, 1) and normalize\n",
    "    x = np.reshape(pattern, (1, len(pattern), 1))\n",
    "    x = x / float(n_vocab)\n",
    "\n",
    "    # Infer the next char\n",
    "    prediction = model.predict(x, verbose=0)\n",
    "    index = np.argmax(prediction)\n",
    "    result = int_to_char[index]\n",
    "\n",
    "    # Print the next char\n",
    "    #sys.stdout.write(result)\n",
    "    pattern_english += result\n",
    "\n",
    "    # Add the new char (its index) to the pattern and repeat the inference\n",
    "    pattern.append(index)\n",
    "    pattern = pattern[1:len(pattern)]\n",
    "\n",
    "  return pattern_english"
   ]
  },
  {
   "cell_type": "code",
   "execution_count": 30,
   "metadata": {},
   "outputs": [
    {
     "name": "stdout",
     "output_type": "stream",
     "text": [
      "Seed:\n",
      "\" world of trouble, you know, as we neednt try to find any. and yet i dont know, he went on, spreading \"\n",
      "\n",
      "Done.\n",
      "('world of trouble, you know, as we neednt try to find any. and yet i dont '\n",
      " 'know, he went on, spreading ano ali the tooe  she said to herself, and the '\n",
      " 'whst hnt le the woodd aedin to the tooe  she said to herself, and the whst '\n",
      " 'hnt le the woodd aedin to the tooe  she said to herself, and the whst hnt le '\n",
      " 'the woodd aedin to the tooe  she said to herself, and the whst hnt le the '\n",
      " 'woodd aedin to the tooe  she said to herself, and the whst hnt le the woodd '\n",
      " 'aedin to the tooe  she said to herself, and the whst hnt le the woodd aedin '\n",
      " 'to the tooe  she said to herself, and the whst hnt le the woodd aedin to the '\n",
      " 'tooe  she said to herself, and the whst hnt le the woodd aedin to the tooe  '\n",
      " 'she said to herself, and the whst hnt le the woodd aedin to the tooe  she '\n",
      " 'said to herself, and the whst hnt le the woodd aedin to the tooe  she said '\n",
      " 'to herself, and the whst hnt le the woodd aedin to the tooe  she said to '\n",
      " 'herself, and the whst hnt le the woodd aedin to the tooe  she said to '\n",
      " 'herself, and the whst hnt le the woodd aedin to the tooe  she said to '\n",
      " 'herself, and the whst hnt le the woodd aedin to the tooe  s')\n"
     ]
    }
   ],
   "source": [
    "model_path = \"models_cp/weights-improvement-16-2.1293.hdf5\"\n",
    "pprint(generate_text(model_path))"
   ]
  },
  {
   "cell_type": "markdown",
   "metadata": {},
   "source": [
    "### Using a larger LSTM network and training for longer"
   ]
  },
  {
   "cell_type": "code",
   "execution_count": null,
   "metadata": {},
   "outputs": [],
   "source": [
    "model = tf.keras.Sequential([\n",
    "  tf.keras.layers.LSTM(256, input_shape=(X.shape[1], X.shape[2]), return_sequences=True),\n",
    "  tf.keras.layers.Dropout(0.2),\n",
    "  tf.keras.layers.LSTM(256),\n",
    "  tf.keras.layers.Dropout(0.2),\n",
    "  tf.keras.layers.Dense(y.shape[1], activation='softmax')\n",
    "])\n",
    "model.compile(loss='categorical_crossentropy', optimizer='adam')\n",
    "\n",
    "# Checkpoint for saving the best model\n",
    "filepath=\"weights-improvement-{epoch:02d}-{loss:.4f}-bigger.hdf5\"\n",
    "checkpoint = tf.keras.callbacks.ModelCheckpoint(filepath, monitor='loss', verbose=1, save_best_only=True, mode='min')\n",
    "callbacks_list = [checkpoint]\n",
    "\n",
    "# VERY SLOW (must run on a GPU)\n",
    "model.fit(X, y, epochs=50, batch_size=64, callbacks=callbacks_list)"
   ]
  },
  {
   "cell_type": "markdown",
   "metadata": {},
   "source": [
    "Training on Kaggle..."
   ]
  },
  {
   "cell_type": "code",
   "execution_count": 31,
   "metadata": {},
   "outputs": [
    {
     "name": "stdout",
     "output_type": "stream",
     "text": [
      "Seed:\n",
      "\" ed into the air off all its feet at once, with a yelp of delight, and rushed at the stick, and made  \"\n",
      "\n",
      "Done.\n",
      "('ed into the air off all its feet at once, with a yelp of delight, and rushed '\n",
      " 'at the stick, and made to the soeee of the soee  she was aolnne and toen  '\n",
      " 'she was aolnne to the tooe  she was aolnne to tee thet she was to tere the '\n",
      " 'was oo tie tooe  and the whst hn  shi mant to her haad  she manter was '\n",
      " 'toelking an inr toaee  she hat aelin the winte rabbit  shi mact to herself '\n",
      " 'to aedin  she said to herself, and the whst on ani alo her haad  she mant '\n",
      " 'woine so tee the was oo tie tooe  she was aolnne to tee thet she was to tere '\n",
      " 'the was oo tie tooe  and the whst hn  shi mant to her haad  she manter was '\n",
      " 'toelking an inr toaee  she hat aelin the winte rabbit  shi mact to herself '\n",
      " 'to aedin  she said to herself, and the whst on ani alo her haad  she mant '\n",
      " 'woine so tee the was oo tie tooe  she was aolnne to tee thet she was to tere '\n",
      " 'the was oo tie tooe  and the whst hn  shi mant to her haad  she manter was '\n",
      " 'toelking an inr toaee  she hat aelin the winte rabbit  shi mact to herself '\n",
      " 'to aedin  she said to herself, and the whst on ani alo her haad  she mant '\n",
      " 'woine so tee the was oo tie tooe  she was aolnne to ')\n"
     ]
    }
   ],
   "source": [
    "model_path = \"weights-improvement-50-1.2879-bigger.hdf5\"\n",
    "pprint(generate_text(model_path))"
   ]
  },
  {
   "cell_type": "code",
   "execution_count": null,
   "metadata": {},
   "outputs": [],
   "source": []
  }
 ],
 "metadata": {
  "kernelspec": {
   "display_name": "Python 3",
   "language": "python",
   "name": "python3"
  },
  "language_info": {
   "codemirror_mode": {
    "name": "ipython",
    "version": 3
   },
   "file_extension": ".py",
   "mimetype": "text/x-python",
   "name": "python",
   "nbconvert_exporter": "python",
   "pygments_lexer": "ipython3",
   "version": "3.11.4"
  }
 },
 "nbformat": 4,
 "nbformat_minor": 2
}
