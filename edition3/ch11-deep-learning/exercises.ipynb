{
 "cells": [
  {
   "cell_type": "markdown",
   "metadata": {},
   "source": [
    "Answers\n",
    "-------\n",
    "1. Both are weight initialization techniques that attempt to normalize the initial weights of a NN. The purpose \n",
    "  of it is to speed training and prevent vanishing and exploding gradients. This problem is due to the large variance\n",
    "  between inputs and outputs of layers which these weight initialization techniques attempt to fix.\n",
    "\n",
    "2. No, this would defeat the purpose of the initialization. The network won't be able to learn since there will be \n",
    "  no variability between the weight values - no breaking symmetry. This means that all neurons will always output\n",
    "  the same weights (symmetry) which will be equivalent to training a network with a single neuron per layer.\n",
    "\n",
    "3. It's ok to initialize bias to 0. Does not make a difference.\n",
    "\n",
    "4. Depending on the problem and the other techniques used for training:\n",
    "  - Sigmoid and TanH\n",
    "    * Since these are sensitive to vanishing gradients, it's important to use them with batch normalization.\n",
    "    * Also, they are more expensive to compute, therefore, they could slow down larger networks\n",
    "  - ReLU\n",
    "    * Fast but has the risk of creating dead neurons (their input is less than zero and they output 0).\n",
    "    * Leaky ReLU fixes this problem\n",
    "    * Good for smaller networks\n",
    "  - Swish\n",
    "    * Good activation function for larger networks\n",
    "\n",
    "5. If we set the momentum hyperparameter b closer to 1, the momentum of previous weights will get taken into account more.\n",
    "  It will put less emphasis on the current weight updates. This can make the weight updates to accumulate speed to the point\n",
    "  that it overshoots the minimum.\n",
    "\n",
    "6. 3 ways to produce a sparse model:\n",
    "  - l1 regularization\n",
    "  - Dropout\n",
    "  - ??\n",
    "\n",
    "7. Dropout does slow down training (usually by a factor of 2). No effects on inference as long as we do the dropout\n",
    "  scaling during training (we can also do it during inference). In MC, inference is affected as well."
   ]
  },
  {
   "cell_type": "code",
   "execution_count": 79,
   "metadata": {},
   "outputs": [],
   "source": [
    "import tensorflow as tf\n",
    "import numpy as np\n",
    "import matplotlib.pyplot as plt"
   ]
  },
  {
   "cell_type": "code",
   "execution_count": 52,
   "metadata": {},
   "outputs": [],
   "source": [
    "# Load the CIFAR-10 dataset\n",
    "(X_train, y_train), (X_test, y_test) = tf.keras.datasets.cifar10.load_data()\n",
    "\n",
    "# Normalize the pixel values to a range between 0 and 1\n",
    "X_train, X_test = X_train / 255.0, X_test / 255.0"
   ]
  },
  {
   "cell_type": "markdown",
   "metadata": {},
   "source": [
    "### Exercise 8.a"
   ]
  },
  {
   "cell_type": "code",
   "execution_count": 77,
   "metadata": {},
   "outputs": [],
   "source": [
    "def build_dnn_model(input_shape, num_hidden_layers, num_neurons_hidden, \n",
    "                    output_num, optimizer, loss, use_batch_norm=False, use_dropout=False):\n",
    "  model = tf.keras.models.Sequential()\n",
    "  model.add(tf.keras.layers.Flatten(input_shape=input_shape))\n",
    "  \n",
    "  for i in range(num_hidden_layers):\n",
    "    model.add(tf.keras.layers.Dense(num_neurons_hidden, kernel_initializer=\"he_normal\"))\n",
    "    if use_dropout and num_hidden_layers - i < 3:\n",
    "      model.add(tf.keras.layers.Dropout(rate=0.25))    \n",
    "    if use_batch_norm: \n",
    "      model.add(tf.keras.layers.BatchNormalization())    \n",
    "    model.add(tf.keras.layers.Activation(\"swish\"))\n",
    "\n",
    "  if use_batch_norm: \n",
    "    model.add(tf.keras.layers.BatchNormalization())\n",
    "\n",
    "  model.add(tf.keras.layers.Dense(output_num, activation=\"softmax\"))\n",
    "  model.compile(optimizer=optimizer, loss=loss, metrics=[\"accuracy\"])\n",
    "\n",
    "  return model\n",
    "\n",
    "def fit_dnn_model(model, X_train, y_train, epochs=20, validation_split=0.2, callbacks=[]):\n",
    "  return model.fit(X_train, y_train, \n",
    "            epochs=epochs, \n",
    "            validation_split=validation_split, \n",
    "            callbacks=callbacks)\n",
    "\n"
   ]
  },
  {
   "cell_type": "markdown",
   "metadata": {},
   "source": [
    "### Exercise 8.b"
   ]
  },
  {
   "cell_type": "code",
   "execution_count": 69,
   "metadata": {},
   "outputs": [
    {
     "name": "stdout",
     "output_type": "stream",
     "text": [
      "Epoch 1/20\n",
      "1249/1250 [============================>.] - ETA: 0s - loss: 2.0768 - accuracy: 0.2063INFO:tensorflow:Assets written to: my_cifar10_model/assets\n"
     ]
    },
    {
     "name": "stderr",
     "output_type": "stream",
     "text": [
      "INFO:tensorflow:Assets written to: my_cifar10_model/assets\n"
     ]
    },
    {
     "name": "stdout",
     "output_type": "stream",
     "text": [
      "1250/1250 [==============================] - 8s 5ms/step - loss: 2.0768 - accuracy: 0.2064 - val_loss: 2.0747 - val_accuracy: 0.2234\n",
      "Epoch 2/20\n",
      "1247/1250 [============================>.] - ETA: 0s - loss: 1.8807 - accuracy: 0.2945INFO:tensorflow:Assets written to: my_cifar10_model/assets\n"
     ]
    },
    {
     "name": "stderr",
     "output_type": "stream",
     "text": [
      "INFO:tensorflow:Assets written to: my_cifar10_model/assets\n"
     ]
    },
    {
     "name": "stdout",
     "output_type": "stream",
     "text": [
      "1250/1250 [==============================] - 6s 5ms/step - loss: 1.8810 - accuracy: 0.2944 - val_loss: 1.8324 - val_accuracy: 0.3160\n",
      "Epoch 3/20\n",
      "1242/1250 [============================>.] - ETA: 0s - loss: 1.8289 - accuracy: 0.3160INFO:tensorflow:Assets written to: my_cifar10_model/assets\n"
     ]
    },
    {
     "name": "stderr",
     "output_type": "stream",
     "text": [
      "INFO:tensorflow:Assets written to: my_cifar10_model/assets\n"
     ]
    },
    {
     "name": "stdout",
     "output_type": "stream",
     "text": [
      "1250/1250 [==============================] - 6s 5ms/step - loss: 1.8286 - accuracy: 0.3159 - val_loss: 1.8112 - val_accuracy: 0.3238\n",
      "Epoch 4/20\n",
      "1247/1250 [============================>.] - ETA: 0s - loss: 1.8015 - accuracy: 0.3281INFO:tensorflow:Assets written to: my_cifar10_model/assets\n"
     ]
    },
    {
     "name": "stderr",
     "output_type": "stream",
     "text": [
      "INFO:tensorflow:Assets written to: my_cifar10_model/assets\n"
     ]
    },
    {
     "name": "stdout",
     "output_type": "stream",
     "text": [
      "1250/1250 [==============================] - 6s 5ms/step - loss: 1.8019 - accuracy: 0.3281 - val_loss: 1.8015 - val_accuracy: 0.3274\n",
      "Epoch 5/20\n",
      "1239/1250 [============================>.] - ETA: 0s - loss: 1.7817 - accuracy: 0.3400INFO:tensorflow:Assets written to: my_cifar10_model/assets\n"
     ]
    },
    {
     "name": "stderr",
     "output_type": "stream",
     "text": [
      "INFO:tensorflow:Assets written to: my_cifar10_model/assets\n"
     ]
    },
    {
     "name": "stdout",
     "output_type": "stream",
     "text": [
      "1250/1250 [==============================] - 7s 5ms/step - loss: 1.7810 - accuracy: 0.3406 - val_loss: 1.7934 - val_accuracy: 0.3342\n",
      "Epoch 6/20\n",
      "1250/1250 [==============================] - 5s 4ms/step - loss: 1.7625 - accuracy: 0.3506 - val_loss: 1.7983 - val_accuracy: 0.3459\n",
      "Epoch 7/20\n",
      "1250/1250 [==============================] - 5s 4ms/step - loss: 1.7517 - accuracy: 0.3605 - val_loss: 1.7995 - val_accuracy: 0.3497\n",
      "Epoch 8/20\n",
      "1250/1250 [==============================] - 5s 4ms/step - loss: 1.7370 - accuracy: 0.3666 - val_loss: 1.8108 - val_accuracy: 0.3434\n",
      "Epoch 9/20\n",
      "1240/1250 [============================>.] - ETA: 0s - loss: 1.7208 - accuracy: 0.3756INFO:tensorflow:Assets written to: my_cifar10_model/assets\n"
     ]
    },
    {
     "name": "stderr",
     "output_type": "stream",
     "text": [
      "INFO:tensorflow:Assets written to: my_cifar10_model/assets\n"
     ]
    },
    {
     "name": "stdout",
     "output_type": "stream",
     "text": [
      "1250/1250 [==============================] - 6s 5ms/step - loss: 1.7221 - accuracy: 0.3751 - val_loss: 1.7227 - val_accuracy: 0.3755\n",
      "Epoch 10/20\n",
      "1250/1250 [==============================] - 5s 4ms/step - loss: 1.7063 - accuracy: 0.3815 - val_loss: 1.7380 - val_accuracy: 0.3663\n",
      "Epoch 11/20\n",
      "1250/1250 [==============================] - 6s 5ms/step - loss: 1.6947 - accuracy: 0.3823 - val_loss: 1.7972 - val_accuracy: 0.3547\n",
      "Epoch 12/20\n",
      "1250/1250 [==============================] - 5s 4ms/step - loss: 1.6843 - accuracy: 0.3947 - val_loss: 1.7237 - val_accuracy: 0.3863\n",
      "Epoch 13/20\n",
      "1246/1250 [============================>.] - ETA: 0s - loss: 1.6697 - accuracy: 0.3966INFO:tensorflow:Assets written to: my_cifar10_model/assets\n"
     ]
    },
    {
     "name": "stderr",
     "output_type": "stream",
     "text": [
      "INFO:tensorflow:Assets written to: my_cifar10_model/assets\n"
     ]
    },
    {
     "name": "stdout",
     "output_type": "stream",
     "text": [
      "1250/1250 [==============================] - 6s 5ms/step - loss: 1.6700 - accuracy: 0.3965 - val_loss: 1.6814 - val_accuracy: 0.3987\n",
      "Epoch 14/20\n",
      "1250/1250 [==============================] - 5s 4ms/step - loss: 1.6526 - accuracy: 0.4034 - val_loss: 1.7092 - val_accuracy: 0.3853\n",
      "Epoch 15/20\n",
      "1250/1250 [==============================] - 5s 4ms/step - loss: 1.6363 - accuracy: 0.4108 - val_loss: 1.7020 - val_accuracy: 0.3939\n",
      "Epoch 16/20\n",
      "1249/1250 [============================>.] - ETA: 0s - loss: 1.6262 - accuracy: 0.4193INFO:tensorflow:Assets written to: my_cifar10_model/assets\n"
     ]
    },
    {
     "name": "stderr",
     "output_type": "stream",
     "text": [
      "INFO:tensorflow:Assets written to: my_cifar10_model/assets\n"
     ]
    },
    {
     "name": "stdout",
     "output_type": "stream",
     "text": [
      "1250/1250 [==============================] - 6s 5ms/step - loss: 1.6263 - accuracy: 0.4193 - val_loss: 1.6723 - val_accuracy: 0.4002\n",
      "Epoch 17/20\n",
      "1250/1250 [==============================] - 5s 4ms/step - loss: 1.6164 - accuracy: 0.4195 - val_loss: 1.6974 - val_accuracy: 0.3934\n",
      "Epoch 18/20\n",
      "1250/1250 [==============================] - 5s 4ms/step - loss: 1.6062 - accuracy: 0.4241 - val_loss: 1.6958 - val_accuracy: 0.4029\n",
      "Epoch 19/20\n",
      "1250/1250 [==============================] - 5s 4ms/step - loss: 1.6004 - accuracy: 0.4244 - val_loss: 1.6914 - val_accuracy: 0.3939\n",
      "Epoch 20/20\n",
      "1250/1250 [==============================] - 6s 4ms/step - loss: 1.5862 - accuracy: 0.4314 - val_loss: 1.7306 - val_accuracy: 0.3850\n"
     ]
    }
   ],
   "source": [
    "input_shape = list(X_train.shape[1:])\n",
    "optimizer = tf.keras.optimizers.legacy.Nadam()\n",
    "model = build_dnn_model(input_shape, 20, 100, 10, optimizer, \"sparse_categorical_crossentropy\")\n",
    "\n",
    "early_stopping_cb = tf.keras.callbacks.EarlyStopping(patience=5, restore_best_weights=True)\n",
    "model_checkpoint_cb = tf.keras.callbacks.ModelCheckpoint(\"my_cifar10_model\", save_best_only=True)\n",
    "\n",
    "history = fit_dnn_model(model, X_train, y_train, epochs=20, validation_split=0.2, callbacks=[early_stopping_cb, model_checkpoint_cb])"
   ]
  },
  {
   "cell_type": "markdown",
   "metadata": {},
   "source": [
    "### Exercise 8.c"
   ]
  },
  {
   "cell_type": "code",
   "execution_count": 73,
   "metadata": {},
   "outputs": [
    {
     "name": "stdout",
     "output_type": "stream",
     "text": [
      "Epoch 1/20\n",
      "1244/1250 [============================>.] - ETA: 0s - loss: 2.0459 - accuracy: 0.2563INFO:tensorflow:Assets written to: my_cifar10_model/assets\n"
     ]
    },
    {
     "name": "stderr",
     "output_type": "stream",
     "text": [
      "INFO:tensorflow:Assets written to: my_cifar10_model/assets\n"
     ]
    },
    {
     "name": "stdout",
     "output_type": "stream",
     "text": [
      "1250/1250 [==============================] - 13s 8ms/step - loss: 2.0449 - accuracy: 0.2567 - val_loss: 1.8558 - val_accuracy: 0.3309\n",
      "Epoch 2/20\n",
      "1250/1250 [==============================] - ETA: 0s - loss: 1.7872 - accuracy: 0.3584INFO:tensorflow:Assets written to: my_cifar10_model/assets\n"
     ]
    },
    {
     "name": "stderr",
     "output_type": "stream",
     "text": [
      "INFO:tensorflow:Assets written to: my_cifar10_model/assets\n"
     ]
    },
    {
     "name": "stdout",
     "output_type": "stream",
     "text": [
      "1250/1250 [==============================] - 9s 7ms/step - loss: 1.7872 - accuracy: 0.3584 - val_loss: 1.7480 - val_accuracy: 0.3704\n",
      "Epoch 3/20\n",
      "1250/1250 [==============================] - 7s 6ms/step - loss: 1.7074 - accuracy: 0.3905 - val_loss: 1.7833 - val_accuracy: 0.3753\n",
      "Epoch 4/20\n",
      "1249/1250 [============================>.] - ETA: 0s - loss: 1.6600 - accuracy: 0.4052INFO:tensorflow:Assets written to: my_cifar10_model/assets\n"
     ]
    },
    {
     "name": "stderr",
     "output_type": "stream",
     "text": [
      "INFO:tensorflow:Assets written to: my_cifar10_model/assets\n"
     ]
    },
    {
     "name": "stdout",
     "output_type": "stream",
     "text": [
      "1250/1250 [==============================] - 10s 8ms/step - loss: 1.6599 - accuracy: 0.4053 - val_loss: 1.6488 - val_accuracy: 0.4048\n",
      "Epoch 5/20\n",
      "1250/1250 [==============================] - 7s 5ms/step - loss: 1.6147 - accuracy: 0.4211 - val_loss: 1.6802 - val_accuracy: 0.4012\n",
      "Epoch 6/20\n",
      "1249/1250 [============================>.] - ETA: 0s - loss: 1.5637 - accuracy: 0.4422INFO:tensorflow:Assets written to: my_cifar10_model/assets\n"
     ]
    },
    {
     "name": "stderr",
     "output_type": "stream",
     "text": [
      "INFO:tensorflow:Assets written to: my_cifar10_model/assets\n"
     ]
    },
    {
     "name": "stdout",
     "output_type": "stream",
     "text": [
      "1250/1250 [==============================] - 9s 7ms/step - loss: 1.5639 - accuracy: 0.4421 - val_loss: 1.6219 - val_accuracy: 0.4191\n",
      "Epoch 7/20\n",
      "1250/1250 [==============================] - 7s 5ms/step - loss: 1.5265 - accuracy: 0.4568 - val_loss: 1.6880 - val_accuracy: 0.3991\n",
      "Epoch 8/20\n",
      "1242/1250 [============================>.] - ETA: 0s - loss: 1.4806 - accuracy: 0.4734INFO:tensorflow:Assets written to: my_cifar10_model/assets\n"
     ]
    },
    {
     "name": "stderr",
     "output_type": "stream",
     "text": [
      "INFO:tensorflow:Assets written to: my_cifar10_model/assets\n"
     ]
    },
    {
     "name": "stdout",
     "output_type": "stream",
     "text": [
      "1250/1250 [==============================] - 10s 8ms/step - loss: 1.4805 - accuracy: 0.4732 - val_loss: 1.5304 - val_accuracy: 0.4427\n",
      "Epoch 9/20\n",
      "1250/1250 [==============================] - 7s 5ms/step - loss: 1.4496 - accuracy: 0.4854 - val_loss: 1.7085 - val_accuracy: 0.4062\n",
      "Epoch 10/20\n",
      "1250/1250 [==============================] - 7s 6ms/step - loss: 1.4106 - accuracy: 0.5002 - val_loss: 1.5543 - val_accuracy: 0.4531\n",
      "Epoch 11/20\n",
      "1250/1250 [==============================] - 7s 6ms/step - loss: 1.3771 - accuracy: 0.5128 - val_loss: 1.6876 - val_accuracy: 0.4261\n",
      "Epoch 12/20\n",
      "1250/1250 [==============================] - 7s 6ms/step - loss: 1.3518 - accuracy: 0.5230 - val_loss: 1.5897 - val_accuracy: 0.4335\n",
      "Epoch 13/20\n",
      "1242/1250 [============================>.] - ETA: 0s - loss: 1.3253 - accuracy: 0.5336INFO:tensorflow:Assets written to: my_cifar10_model/assets\n"
     ]
    },
    {
     "name": "stderr",
     "output_type": "stream",
     "text": [
      "INFO:tensorflow:Assets written to: my_cifar10_model/assets\n"
     ]
    },
    {
     "name": "stdout",
     "output_type": "stream",
     "text": [
      "1250/1250 [==============================] - 10s 8ms/step - loss: 1.3253 - accuracy: 0.5335 - val_loss: 1.4478 - val_accuracy: 0.4888\n",
      "Epoch 14/20\n",
      "1250/1250 [==============================] - 7s 6ms/step - loss: 1.2886 - accuracy: 0.5444 - val_loss: 1.7300 - val_accuracy: 0.4241\n",
      "Epoch 15/20\n",
      "1250/1250 [==============================] - 7s 6ms/step - loss: 1.2662 - accuracy: 0.5551 - val_loss: 1.5246 - val_accuracy: 0.4626\n",
      "Epoch 16/20\n",
      "1250/1250 [==============================] - 7s 6ms/step - loss: 1.2457 - accuracy: 0.5609 - val_loss: 1.5252 - val_accuracy: 0.4761\n",
      "Epoch 17/20\n",
      "1250/1250 [==============================] - 7s 6ms/step - loss: 1.2165 - accuracy: 0.5685 - val_loss: 1.5431 - val_accuracy: 0.4585\n",
      "Epoch 18/20\n",
      "1250/1250 [==============================] - 7s 6ms/step - loss: 1.2025 - accuracy: 0.5777 - val_loss: 1.6127 - val_accuracy: 0.4454\n"
     ]
    }
   ],
   "source": [
    "input_shape = list(X_train.shape[1:])\n",
    "optimizer = tf.keras.optimizers.legacy.Nadam()\n",
    "model = build_dnn_model(input_shape, 20, 100, 10, optimizer, \"sparse_categorical_crossentropy\", use_batch_norm=True)\n",
    "\n",
    "early_stopping_cb = tf.keras.callbacks.EarlyStopping(patience=5, restore_best_weights=True)\n",
    "model_checkpoint_cb = tf.keras.callbacks.ModelCheckpoint(\"my_cifar10_model\", save_best_only=True)\n",
    "\n",
    "history = fit_dnn_model(model, X_train, y_train, epochs=20, validation_split=0.2, \n",
    "                        callbacks=[early_stopping_cb, model_checkpoint_cb])"
   ]
  },
  {
   "cell_type": "code",
   "execution_count": 78,
   "metadata": {},
   "outputs": [
    {
     "name": "stdout",
     "output_type": "stream",
     "text": [
      "Epoch 1/20\n",
      "1244/1250 [============================>.] - ETA: 0s - loss: 2.1958 - accuracy: 0.2100INFO:tensorflow:Assets written to: my_cifar10_model/assets\n"
     ]
    },
    {
     "name": "stderr",
     "output_type": "stream",
     "text": [
      "INFO:tensorflow:Assets written to: my_cifar10_model/assets\n"
     ]
    },
    {
     "name": "stdout",
     "output_type": "stream",
     "text": [
      "1250/1250 [==============================] - 13s 9ms/step - loss: 2.1949 - accuracy: 0.2104 - val_loss: 2.1575 - val_accuracy: 0.2647\n",
      "Epoch 2/20\n",
      "1243/1250 [============================>.] - ETA: 0s - loss: 1.8514 - accuracy: 0.3345INFO:tensorflow:Assets written to: my_cifar10_model/assets\n"
     ]
    },
    {
     "name": "stderr",
     "output_type": "stream",
     "text": [
      "INFO:tensorflow:Assets written to: my_cifar10_model/assets\n"
     ]
    },
    {
     "name": "stdout",
     "output_type": "stream",
     "text": [
      "1250/1250 [==============================] - 10s 8ms/step - loss: 1.8503 - accuracy: 0.3346 - val_loss: 1.8648 - val_accuracy: 0.3221\n",
      "Epoch 3/20\n",
      "1250/1250 [==============================] - 7s 6ms/step - loss: 1.7283 - accuracy: 0.3837 - val_loss: 1.9117 - val_accuracy: 0.3171\n",
      "Epoch 4/20\n",
      "1250/1250 [==============================] - 7s 5ms/step - loss: 1.6630 - accuracy: 0.4059 - val_loss: 1.9100 - val_accuracy: 0.3441\n",
      "Epoch 5/20\n",
      "1248/1250 [============================>.] - ETA: 0s - loss: 1.6174 - accuracy: 0.4211INFO:tensorflow:Assets written to: my_cifar10_model/assets\n"
     ]
    },
    {
     "name": "stderr",
     "output_type": "stream",
     "text": [
      "INFO:tensorflow:Assets written to: my_cifar10_model/assets\n"
     ]
    },
    {
     "name": "stdout",
     "output_type": "stream",
     "text": [
      "1250/1250 [==============================] - 10s 8ms/step - loss: 1.6172 - accuracy: 0.4212 - val_loss: 1.7371 - val_accuracy: 0.4057\n",
      "Epoch 6/20\n",
      "1250/1250 [==============================] - ETA: 0s - loss: 1.5747 - accuracy: 0.4397INFO:tensorflow:Assets written to: my_cifar10_model/assets\n"
     ]
    },
    {
     "name": "stderr",
     "output_type": "stream",
     "text": [
      "INFO:tensorflow:Assets written to: my_cifar10_model/assets\n"
     ]
    },
    {
     "name": "stdout",
     "output_type": "stream",
     "text": [
      "1250/1250 [==============================] - 9s 8ms/step - loss: 1.5747 - accuracy: 0.4397 - val_loss: 1.7024 - val_accuracy: 0.3854\n",
      "Epoch 7/20\n",
      "1245/1250 [============================>.] - ETA: 0s - loss: 1.5305 - accuracy: 0.4562INFO:tensorflow:Assets written to: my_cifar10_model/assets\n"
     ]
    },
    {
     "name": "stderr",
     "output_type": "stream",
     "text": [
      "INFO:tensorflow:Assets written to: my_cifar10_model/assets\n"
     ]
    },
    {
     "name": "stdout",
     "output_type": "stream",
     "text": [
      "1250/1250 [==============================] - 10s 8ms/step - loss: 1.5308 - accuracy: 0.4561 - val_loss: 1.6326 - val_accuracy: 0.4221\n",
      "Epoch 8/20\n",
      "1242/1250 [============================>.] - ETA: 0s - loss: 1.4899 - accuracy: 0.4742INFO:tensorflow:Assets written to: my_cifar10_model/assets\n"
     ]
    },
    {
     "name": "stderr",
     "output_type": "stream",
     "text": [
      "INFO:tensorflow:Assets written to: my_cifar10_model/assets\n"
     ]
    },
    {
     "name": "stdout",
     "output_type": "stream",
     "text": [
      "1250/1250 [==============================] - 10s 8ms/step - loss: 1.4893 - accuracy: 0.4746 - val_loss: 1.6134 - val_accuracy: 0.4467\n",
      "Epoch 9/20\n",
      "1250/1250 [==============================] - 7s 6ms/step - loss: 1.4543 - accuracy: 0.4874 - val_loss: 1.6310 - val_accuracy: 0.4205\n",
      "Epoch 10/20\n",
      "1242/1250 [============================>.] - ETA: 0s - loss: 1.4225 - accuracy: 0.4958INFO:tensorflow:Assets written to: my_cifar10_model/assets\n"
     ]
    },
    {
     "name": "stderr",
     "output_type": "stream",
     "text": [
      "INFO:tensorflow:Assets written to: my_cifar10_model/assets\n"
     ]
    },
    {
     "name": "stdout",
     "output_type": "stream",
     "text": [
      "1250/1250 [==============================] - 10s 8ms/step - loss: 1.4225 - accuracy: 0.4957 - val_loss: 1.5870 - val_accuracy: 0.4477\n",
      "Epoch 11/20\n",
      "1247/1250 [============================>.] - ETA: 0s - loss: 1.3887 - accuracy: 0.5121INFO:tensorflow:Assets written to: my_cifar10_model/assets\n"
     ]
    },
    {
     "name": "stderr",
     "output_type": "stream",
     "text": [
      "INFO:tensorflow:Assets written to: my_cifar10_model/assets\n"
     ]
    },
    {
     "name": "stdout",
     "output_type": "stream",
     "text": [
      "1250/1250 [==============================] - 11s 8ms/step - loss: 1.3886 - accuracy: 0.5121 - val_loss: 1.5601 - val_accuracy: 0.4546\n",
      "Epoch 12/20\n",
      "1250/1250 [==============================] - 8s 6ms/step - loss: 1.3628 - accuracy: 0.5194 - val_loss: 1.6497 - val_accuracy: 0.4318\n",
      "Epoch 13/20\n",
      "1243/1250 [============================>.] - ETA: 0s - loss: 1.3332 - accuracy: 0.5302INFO:tensorflow:Assets written to: my_cifar10_model/assets\n"
     ]
    },
    {
     "name": "stderr",
     "output_type": "stream",
     "text": [
      "INFO:tensorflow:Assets written to: my_cifar10_model/assets\n"
     ]
    },
    {
     "name": "stdout",
     "output_type": "stream",
     "text": [
      "1250/1250 [==============================] - 10s 8ms/step - loss: 1.3335 - accuracy: 0.5300 - val_loss: 1.5093 - val_accuracy: 0.4736\n",
      "Epoch 14/20\n",
      "1250/1250 [==============================] - 7s 6ms/step - loss: 1.3050 - accuracy: 0.5415 - val_loss: 1.6229 - val_accuracy: 0.4421\n",
      "Epoch 15/20\n",
      "1250/1250 [==============================] - 8s 6ms/step - loss: 1.2844 - accuracy: 0.5483 - val_loss: 1.6597 - val_accuracy: 0.4607\n",
      "Epoch 16/20\n",
      "1250/1250 [==============================] - 8s 6ms/step - loss: 1.2597 - accuracy: 0.5609 - val_loss: 1.5359 - val_accuracy: 0.4680\n",
      "Epoch 17/20\n",
      "1250/1250 [==============================] - 7s 6ms/step - loss: 1.2410 - accuracy: 0.5647 - val_loss: 1.5774 - val_accuracy: 0.4668\n",
      "Epoch 18/20\n",
      "1250/1250 [==============================] - 8s 6ms/step - loss: 1.2189 - accuracy: 0.5695 - val_loss: 1.5896 - val_accuracy: 0.4736\n"
     ]
    }
   ],
   "source": [
    "input_shape = list(X_train.shape[1:])\n",
    "optimizer = tf.keras.optimizers.legacy.Nadam()\n",
    "model = build_dnn_model(input_shape, 20, 100, 10, optimizer, \"sparse_categorical_crossentropy\", \n",
    "                        use_batch_norm=True, use_dropout=True)\n",
    "\n",
    "early_stopping_cb = tf.keras.callbacks.EarlyStopping(patience=5, restore_best_weights=True)\n",
    "model_checkpoint_cb = tf.keras.callbacks.ModelCheckpoint(\"my_cifar10_model\", save_best_only=True)\n",
    "\n",
    "history = fit_dnn_model(model, X_train, y_train, epochs=20, validation_split=0.2, \n",
    "                        callbacks=[early_stopping_cb, model_checkpoint_cb])"
   ]
  },
  {
   "cell_type": "code",
   "execution_count": 86,
   "metadata": {},
   "outputs": [],
   "source": [
    "# MC dropout\n",
    "# Training=True ensures that the dropout layer remains active, ensuring different predictions each time\n",
    "y_probas = np.stack([model(X_test, training=True) for sample in range(100)])\n",
    "y_proba = y_probas.mean(axis=0)\n",
    "y_pred = np.argmax(y_proba, axis=1)"
   ]
  },
  {
   "cell_type": "code",
   "execution_count": 91,
   "metadata": {},
   "outputs": [
    {
     "data": {
      "text/plain": [
       "0.5207"
      ]
     },
     "execution_count": 91,
     "metadata": {},
     "output_type": "execute_result"
    }
   ],
   "source": [
    "from sklearn.metrics import accuracy_score\n",
    "\n",
    "accuracy_score(y_test, y_pred)"
   ]
  },
  {
   "cell_type": "code",
   "execution_count": null,
   "metadata": {},
   "outputs": [],
   "source": []
  }
 ],
 "metadata": {
  "kernelspec": {
   "display_name": "Python 3",
   "language": "python",
   "name": "python3"
  },
  "language_info": {
   "codemirror_mode": {
    "name": "ipython",
    "version": 3
   },
   "file_extension": ".py",
   "mimetype": "text/x-python",
   "name": "python",
   "nbconvert_exporter": "python",
   "pygments_lexer": "ipython3",
   "version": "3.11.4"
  },
  "orig_nbformat": 4
 },
 "nbformat": 4,
 "nbformat_minor": 2
}
