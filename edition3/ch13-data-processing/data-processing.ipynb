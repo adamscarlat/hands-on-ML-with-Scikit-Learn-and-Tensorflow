{
 "cells": [
  {
   "cell_type": "code",
   "execution_count": 25,
   "metadata": {},
   "outputs": [],
   "source": [
    "import numpy as np\n",
    "import tensorflow as tf\n",
    "\n",
    "from pathlib import Path\n",
    "\n",
    "from sklearn.datasets import fetch_california_housing\n",
    "from sklearn.model_selection import train_test_split\n",
    "from sklearn.preprocessing import StandardScaler\n"
   ]
  },
  {
   "cell_type": "markdown",
   "metadata": {},
   "source": [
    "### The tf.data API\n",
    "\n",
    "The tf.data API is a streaming API. It lets you efficiently iterate through a large dataset's records."
   ]
  },
  {
   "cell_type": "code",
   "execution_count": 2,
   "metadata": {},
   "outputs": [
    {
     "data": {
      "text/plain": [
       "<_TensorSliceDataset element_spec=TensorSpec(shape=(), dtype=tf.int32, name=None)>"
      ]
     },
     "execution_count": 2,
     "metadata": {},
     "output_type": "execute_result"
    }
   ],
   "source": [
    "X = tf.range(10)\n",
    "dataset = tf.data.Dataset.from_tensor_slices(X)\n",
    "dataset"
   ]
  },
  {
   "cell_type": "code",
   "execution_count": 12,
   "metadata": {},
   "outputs": [
    {
     "name": "stdout",
     "output_type": "stream",
     "text": [
      "tf.Tensor([0 1 2 3 4], shape=(5,), dtype=int32)\n",
      "tf.Tensor([5 6 7 8 9], shape=(5,), dtype=int32)\n",
      "tf.Tensor([0 1 2 3 4], shape=(5,), dtype=int32)\n",
      "tf.Tensor([5 6 7 8 9], shape=(5,), dtype=int32)\n",
      "tf.Tensor([0 1 2 3 4], shape=(5,), dtype=int32)\n",
      "tf.Tensor([5 6 7 8 9], shape=(5,), dtype=int32)\n",
      "--------------------------------------------------\n",
      "tf.Tensor([ 0  1  4  9 16], shape=(5,), dtype=int32)\n",
      "tf.Tensor([25 36 49 64 81], shape=(5,), dtype=int32)\n",
      "tf.Tensor([ 0  1  4  9 16], shape=(5,), dtype=int32)\n",
      "tf.Tensor([25 36 49 64 81], shape=(5,), dtype=int32)\n",
      "tf.Tensor([ 0  1  4  9 16], shape=(5,), dtype=int32)\n",
      "tf.Tensor([25 36 49 64 81], shape=(5,), dtype=int32)\n",
      "--------------------------------------------------\n",
      "tf.Tensor([25 36 49 64 81], shape=(5,), dtype=int32)\n",
      "tf.Tensor([25 36 49 64 81], shape=(5,), dtype=int32)\n",
      "tf.Tensor([25 36 49 64 81], shape=(5,), dtype=int32)\n"
     ]
    }
   ],
   "source": [
    "# Chaining transformations\n",
    "\n",
    "# Duplicate the dataset 3 times and create batches of 5 items\n",
    "dataset = tf.data.Dataset.from_tensor_slices(tf.range(10))\n",
    "dataset = dataset.repeat(3).batch(5)\n",
    "for item in dataset:\n",
    "  print (item)\n",
    "\n",
    "print (\"-\" * 50)\n",
    "\n",
    "# Applying a lambda function to the elements. \n",
    "# Any function passed to this API will be converted to a tf.function and must follow the tf function rules\n",
    "dataset = dataset.map(lambda x: x ** 2)\n",
    "for item in dataset:\n",
    "  print (item)\n",
    "\n",
    "print (\"-\" * 50)\n",
    "\n",
    "# Filtering the data\n",
    "dataset = dataset.filter(lambda x: tf.reduce_sum(x) > 50)\n",
    "for item in dataset:\n",
    "  print (item)\n",
    "\n"
   ]
  },
  {
   "cell_type": "markdown",
   "metadata": {},
   "source": [
    "### Shuffling\n",
    "\n",
    "Shuffling a tf dataset creates a buffer in memory (of a given size). Then it fills it from the dataset, shuffles it and \n",
    "outputs an item. It does that until the entire dataset is utilized."
   ]
  },
  {
   "cell_type": "code",
   "execution_count": 14,
   "metadata": {},
   "outputs": [
    {
     "name": "stdout",
     "output_type": "stream",
     "text": [
      "tf.Tensor([1 4 2 3 5 0 6], shape=(7,), dtype=int64)\n",
      "tf.Tensor([9 8 2 0 3 1 4], shape=(7,), dtype=int64)\n",
      "tf.Tensor([5 7 9 6 7 8], shape=(6,), dtype=int64)\n"
     ]
    }
   ],
   "source": [
    "# 0-9 repeated twice\n",
    "dataset = tf.data.Dataset.range(10).repeat(2)\n",
    "\n",
    "# Get shuffled batches of 7 items\n",
    "dataset = dataset.shuffle(buffer_size=4, seed=42).batch(7)\n",
    "for item in dataset:\n",
    "  print (item)"
   ]
  },
  {
   "cell_type": "code",
   "execution_count": 18,
   "metadata": {},
   "outputs": [],
   "source": [
    "# Shuffling data from multiple files\n",
    "\n",
    "# Using the California dataset to demonstrate shuffling data in multiple files.\n",
    "# Creating a train, validation, test sets.\n",
    "housing = fetch_california_housing()\n",
    "X_train_full, X_test, y_train_full, y_test = train_test_split(housing.data, housing.target.reshape(-1, 1), random_state=42)\n",
    "X_train, X_valid, y_train, y_valid = train_test_split(X_train_full, y_train_full, random_state=42)\n",
    "\n",
    "# Assume that this dataset is too big to fit in memory. We split it into files\n",
    "def save_to_csv_files(data, name_prefix, header=None, n_parts=10):\n",
    "    housing_dir = Path() / \"datasets\" / \"housing\"\n",
    "    housing_dir.mkdir(parents=True, exist_ok=True)\n",
    "    filename_format = \"my_{}_{:02d}.csv\"\n",
    "\n",
    "    filepaths = []\n",
    "    m = len(data)\n",
    "    chunks = np.array_split(np.arange(m), n_parts)\n",
    "    for file_idx, row_indices in enumerate(chunks):\n",
    "        part_csv = housing_dir / filename_format.format(name_prefix, file_idx)\n",
    "        filepaths.append(str(part_csv))\n",
    "        with open(part_csv, \"w\") as f:\n",
    "            if header is not None:\n",
    "                f.write(header)\n",
    "                f.write(\"\\n\")\n",
    "            for row_idx in row_indices:\n",
    "                f.write(\",\".join([repr(col) for col in data[row_idx]]))\n",
    "                f.write(\"\\n\")\n",
    "    return filepaths\n",
    "\n",
    "# Combining data and labels before saving them to chunked files\n",
    "train_data = np.c_[X_train, y_train]\n",
    "valid_data = np.c_[X_valid, y_valid]\n",
    "test_data = np.c_[X_test, y_test]\n",
    "\n",
    "# Add column names since they are not in the datasets\n",
    "header_cols = housing.feature_names + [\"MedianHouseValue\"]\n",
    "header = \",\".join(header_cols)\n",
    "\n",
    "train_filepaths = save_to_csv_files(train_data, \"train\", header, n_parts=20)\n",
    "valid_filepaths = save_to_csv_files(valid_data, \"valid\", header, n_parts=10)\n",
    "test_filepaths = save_to_csv_files(test_data, \"test\", header, n_parts=10)"
   ]
  },
  {
   "cell_type": "code",
   "execution_count": 19,
   "metadata": {},
   "outputs": [
    {
     "name": "stdout",
     "output_type": "stream",
     "text": [
      "MedInc,HouseAge,AveRooms,AveBedrms,Population,AveOccup,Latitude,Longitude,MedianHouseValue\n",
      "3.5214,15.0,3.0499445061043287,1.106548279689234,1447.0,1.6059933407325193,37.63,-122.43,1.442\n",
      "5.3275,5.0,6.490059642147117,0.9910536779324056,3464.0,3.4433399602385686,33.69,-117.39,1.687\n",
      "3.1,29.0,7.5423728813559325,1.5915254237288134,1328.0,2.2508474576271187,38.44,-122.98,1.621\n",
      "\n"
     ]
    }
   ],
   "source": [
    "# Peeking into the first chunked file's 4 lines\n",
    "print(\"\".join(open(train_filepaths[0]).readlines()[:4]))"
   ]
  },
  {
   "cell_type": "code",
   "execution_count": 20,
   "metadata": {},
   "outputs": [],
   "source": [
    "# Now that we have the dataset (which in theory doesn't fit in memory) as chunked files, we\n",
    "# build the input pipeline\n",
    "\n",
    "# We create a tf dataset of filepaths (let tf manage reading from these file). tf will\n",
    "# shuffle the filepaths as well.\n",
    "filepath_dataset = tf.data.Dataset.list_files(train_filepaths, seed=42)\n",
    "\n",
    "# We call interleave to read rows from multiple files at a time\n",
    "n_readers = 5\n",
    "dataset = filepath_dataset.interleave(\n",
    "  # Let tf decide the number of threads\n",
    "  num_parallel_calls=tf.data.AUTOTUNE,\n",
    "  # Skip the header line\n",
    "  map_func=lambda filepath: tf.data.TextLineDataset(filepath).skip(1), cycle_length=n_readers\n",
    ")"
   ]
  },
  {
   "cell_type": "code",
   "execution_count": 21,
   "metadata": {},
   "outputs": [
    {
     "name": "stdout",
     "output_type": "stream",
     "text": [
      "tf.Tensor(b'4.2083,44.0,5.323204419889502,0.9171270718232044,846.0,2.3370165745856353,37.47,-122.2,2.782', shape=(), dtype=string)\n",
      "tf.Tensor(b'4.1812,52.0,5.701388888888889,0.9965277777777778,692.0,2.4027777777777777,33.73,-118.31,3.215', shape=(), dtype=string)\n",
      "tf.Tensor(b'3.6875,44.0,4.524475524475524,0.993006993006993,457.0,3.195804195804196,34.04,-118.15,1.625', shape=(), dtype=string)\n",
      "tf.Tensor(b'3.3456,37.0,4.514084507042254,0.9084507042253521,458.0,3.2253521126760565,36.67,-121.7,2.526', shape=(), dtype=string)\n",
      "tf.Tensor(b'3.5214,15.0,3.0499445061043287,1.106548279689234,1447.0,1.6059933407325193,37.63,-122.43,1.442', shape=(), dtype=string)\n"
     ]
    }
   ],
   "source": [
    "for line in dataset.take(5):\n",
    "  print (line)"
   ]
  },
  {
   "cell_type": "markdown",
   "metadata": {},
   "source": [
    "### Preprocessing the data\n",
    "\n",
    "We now have a dataset built from the housing dataset. Each line is a tensor that contains a byte string. \n",
    "We need to preprocess the data - parse the byte string and scale it"
   ]
  },
  {
   "cell_type": "code",
   "execution_count": 30,
   "metadata": {},
   "outputs": [
    {
     "data": {
      "text/plain": [
       "(<tf.Tensor: shape=(8,), dtype=float32, numpy=\n",
       " array([ 0.16579159,  1.216324  , -0.05204564, -0.39215982, -0.5277444 ,\n",
       "        -0.2633488 ,  0.8543046 , -1.3072058 ], dtype=float32)>,\n",
       " <tf.Tensor: shape=(1,), dtype=float32, numpy=array([2.782], dtype=float32)>)"
      ]
     },
     "execution_count": 30,
     "metadata": {},
     "output_type": "execute_result"
    }
   ],
   "source": [
    "# Getting the mean and std of the training data. This can be done on a large enough sample of the training \n",
    "# dataset (in this scenario the dataset does not fit in memory).\n",
    "scaler = StandardScaler()\n",
    "scaler.fit(X_train)\n",
    "X_mean, X_std = scaler.mean_, scaler.scale_\n",
    "\n",
    "n_inputs = 8\n",
    "\n",
    "def parse_csv_line(line):\n",
    "  # Default array for each row. Tells tf the datatype for each column.\n",
    "  # We also add the last column(label) separately without filling in missing values (it\n",
    "  # will raise an exception instead).\n",
    "  defs = [0.] * n_inputs + [tf.constant([], dtype=tf.float32)]\n",
    "\n",
    "  # Returns a list of scalar tensors \n",
    "  fields = tf.io.decode_csv(line, record_defaults=defs)\n",
    "\n",
    "  # Using stack to turn these scalars into a 1D tensor for the features\n",
    "  # and another 1D tensor for the label\n",
    "  return tf.stack(fields[:-1]), tf.stack(fields[-1:])\n",
    "\n",
    "# Parse and scale a line from the CSV file\n",
    "def preprocessor(line):\n",
    "  x, y = parse_csv_line(line)\n",
    "  return (x - X_mean) / X_std, y\n",
    "\n",
    "# Example - 1 line parsing\n",
    "preprocessor(b'4.2083,44.0,5.3232,0.9171,846.0,2.3370,37.47,-122.2,2.782')"
   ]
  },
  {
   "cell_type": "markdown",
   "metadata": {},
   "source": [
    "### Putting it all together\n",
    "\n",
    "Using all the functionalities we showed above to parse a folder containing a chunked dataset"
   ]
  },
  {
   "cell_type": "code",
   "execution_count": 31,
   "metadata": {},
   "outputs": [],
   "source": [
    "# Applying the preprocessor to every line in the dataset and getting back \n",
    "# batches of shuffled data.\n",
    "def csv_reader_dataset(filepaths, n_readers=5, n_read_threads=None, \n",
    "                       n_parse_threads=5, shuffle_buffer_size=10_000, seed=42, batch_size=32):\n",
    "  \n",
    "  # Let tf manage the filepaths\n",
    "  dataset = tf.data.Dataset.list_files(filepaths, seed=seed)\n",
    "  dataset = dataset.interleave(\n",
    "    lambda filepath: tf.data.TextLineDataset(filepath).skip(1),\n",
    "    cycle_length=n_readers, num_parallel_calls=n_read_threads\n",
    "  )\n",
    "  \n",
    "  dataset = dataset.map(preprocessor, num_parallel_calls=n_parse_threads)\n",
    "  dataset = dataset.shuffle(shuffle_buffer_size, seed=seed)\n",
    "\n",
    "  # prefetch prepares the next batch while the GPU is working on the current one.\n",
    "  # Better for performance\n",
    "  return dataset.batch(batch_size).prefetch(1)\n",
    "\n"
   ]
  },
  {
   "cell_type": "code",
   "execution_count": 32,
   "metadata": {},
   "outputs": [],
   "source": [
    "# Using the dataset with Keras\n",
    "\n",
    "train_set = csv_reader_dataset(train_filepaths)\n",
    "valid_set = csv_reader_dataset(valid_filepaths)\n",
    "test_set = csv_reader_dataset(test_filepaths)"
   ]
  },
  {
   "cell_type": "code",
   "execution_count": 34,
   "metadata": {},
   "outputs": [
    {
     "name": "stdout",
     "output_type": "stream",
     "text": [
      "Epoch 1/5\n",
      "363/363 [==============================] - 1s 1ms/step - loss: 0.8034 - accuracy: 0.0028 - val_loss: 0.9290 - val_accuracy: 0.0044\n",
      "Epoch 2/5\n",
      "363/363 [==============================] - 1s 1ms/step - loss: 0.5661 - accuracy: 0.0026 - val_loss: 16.5037 - val_accuracy: 0.0044\n",
      "Epoch 3/5\n",
      "363/363 [==============================] - 1s 1ms/step - loss: 0.6649 - accuracy: 0.0027 - val_loss: 11.9535 - val_accuracy: 0.0044\n",
      "Epoch 4/5\n",
      "363/363 [==============================] - 1s 1ms/step - loss: 0.5525 - accuracy: 0.0029 - val_loss: 18.8439 - val_accuracy: 0.0044\n",
      "Epoch 5/5\n",
      "363/363 [==============================] - 1s 1ms/step - loss: 0.5559 - accuracy: 0.0028 - val_loss: 18.7824 - val_accuracy: 0.0044\n"
     ]
    },
    {
     "data": {
      "text/plain": [
       "<keras.src.callbacks.History at 0x1757a5490>"
      ]
     },
     "execution_count": 34,
     "metadata": {},
     "output_type": "execute_result"
    }
   ],
   "source": [
    "model = tf.keras.Sequential([\n",
    "    tf.keras.layers.Dense(30, activation=\"relu\", kernel_initializer=\"he_normal\",\n",
    "                          input_shape=X_train.shape[1:]),\n",
    "    tf.keras.layers.Dense(1),\n",
    "])\n",
    "model.compile(loss=\"mse\", optimizer=\"sgd\", metrics=[\"accuracy\"])\n",
    "model.fit(train_set, validation_data=valid_set, epochs=5)"
   ]
  },
  {
   "cell_type": "markdown",
   "metadata": {},
   "source": [
    "# Keras Preprocessing Layers"
   ]
  },
  {
   "cell_type": "code",
   "execution_count": null,
   "metadata": {},
   "outputs": [],
   "source": []
  }
 ],
 "metadata": {
  "kernelspec": {
   "display_name": "Python 3",
   "language": "python",
   "name": "python3"
  },
  "language_info": {
   "codemirror_mode": {
    "name": "ipython",
    "version": 3
   },
   "file_extension": ".py",
   "mimetype": "text/x-python",
   "name": "python",
   "nbconvert_exporter": "python",
   "pygments_lexer": "ipython3",
   "version": "3.11.4"
  }
 },
 "nbformat": 4,
 "nbformat_minor": 2
}
