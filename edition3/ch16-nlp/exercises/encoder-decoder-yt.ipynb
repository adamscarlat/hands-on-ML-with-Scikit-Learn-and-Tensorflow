{
 "cells": [
  {
   "cell_type": "markdown",
   "metadata": {},
   "source": [
    "# Encoder Decoder - YouTube Tutorial\n",
    "\n",
    "Example for machine translation using encoder-decoder. The dataset is set in a way of [english word,french word]\n",
    "\n",
    "The input (encoder) will be character based and one-hot encoded\n",
    "\n",
    "The decoder input will be the vector outputted from the encoder and the one-hot encoded characters for the decoder."
   ]
  },
  {
   "cell_type": "code",
   "execution_count": 2,
   "metadata": {},
   "outputs": [],
   "source": [
    "from tensorflow.keras.models import Model\n",
    "from tensorflow.keras.layers import Input, LSTM, Dense\n",
    "import numpy as np"
   ]
  },
  {
   "cell_type": "code",
   "execution_count": 34,
   "metadata": {},
   "outputs": [],
   "source": [
    "# Initial parameters\n",
    "\n",
    "batch_size = 64\n",
    "epochs = 100\n",
    "\n",
    "# LSTM dimension\n",
    "latent_dim = 256\n",
    "num_samples = 10000\n",
    "\n",
    "data_path = '../datasets/fra-eng/fra.txt'"
   ]
  },
  {
   "cell_type": "code",
   "execution_count": 18,
   "metadata": {},
   "outputs": [
    {
     "name": "stdout",
     "output_type": "stream",
     "text": [
      "Num unique tokens input:  70\n",
      "Length of input texts:  10000\n",
      "Max input sequence length:  14\n",
      "Max target sequence length:  59\n",
      "Num unique tokens target:  93\n",
      "Length of target texts:  10000\n"
     ]
    }
   ],
   "source": [
    "# Vectorize the data\n",
    "\n",
    "# English \n",
    "input_texts = []\n",
    "input_characters = set()\n",
    "\n",
    "# French\n",
    "target_texts = []\n",
    "target_characters = set()\n",
    "\n",
    "with open(data_path, 'r', encoding='utf-8') as f:\n",
    "  lines = f.read().split('\\n')\n",
    "\n",
    "num_lines = min(num_samples, len(lines) - 1)\n",
    "for line in lines[:num_lines]:\n",
    "  input_text, target_text, _ = line.split('\\t')\n",
    "  \n",
    "  # we use \"tab\" as the start sequence character \n",
    "  # we use \"\\n\" as end sequence character\n",
    "  target_text = '\\t' + target_text + '\\n'\n",
    "\n",
    "  input_texts.append(input_text)\n",
    "  target_texts.append(target_text)\n",
    "\n",
    "  for char in input_text:\n",
    "    if char not in input_characters:\n",
    "      input_characters.add(char)\n",
    "  \n",
    "  for char in target_text:\n",
    "    if char not in target_characters:\n",
    "      target_characters.add(char)\n",
    "\n",
    "\n",
    "input_characters = sorted(list(input_characters))\n",
    "target_characters = sorted(list(target_characters))\n",
    "num_encoder_tokens = len(input_characters)\n",
    "num_decoder_tokens = len(target_characters)\n",
    "max_encoder_seq_length = max([len(txt) for txt in input_texts])\n",
    "max_decoder_seq_length = max([len(txt) for txt in target_texts])\n",
    "\n",
    "print (\"Num unique tokens input: \", len(input_characters))\n",
    "print (\"Length of input texts: \", len(input_texts))\n",
    "print (\"Max input sequence length: \", max_encoder_seq_length)\n",
    "print (\"Max target sequence length: \", max_decoder_seq_length)\n",
    "print (\"Num unique tokens target: \", len(target_characters))\n",
    "print (\"Length of target texts: \", len(target_texts))"
   ]
  },
  {
   "cell_type": "code",
   "execution_count": 37,
   "metadata": {},
   "outputs": [],
   "source": [
    "# Create a map from character to index\n",
    "\n",
    "input_token_index = dict(\n",
    "  [(char, i) for i,char in enumerate(input_characters)]\n",
    ")\n",
    "\n",
    "target_token_index = dict(\n",
    "  [(char, i) for i,char in enumerate(target_characters)]\n",
    ")\n",
    "\n",
    "reverse_target_char_index = dict(\n",
    "  [(i, char) for i,char in enumerate(target_characters)]\n",
    ")"
   ]
  },
  {
   "cell_type": "code",
   "execution_count": 30,
   "metadata": {},
   "outputs": [
    {
     "name": "stdout",
     "output_type": "stream",
     "text": [
      "encoder_input_data:  (10000, 15, 70)\n",
      "decoder_input_data:  (10000, 60, 93)\n",
      "decoder_target_data:  (10000, 60, 93)\n"
     ]
    }
   ],
   "source": [
    "# Create a one-hot representation of the input characters\n",
    "\n",
    "# Each text gets a one-hot matrix win which the row represents the character index in the text (num rows is equal to max\n",
    "# seq length) and the number of columns is equal to the number of unique tokens.\n",
    "\n",
    "encoder_input_data = np.zeros(\n",
    "  shape=(len(input_texts), max_encoder_seq_length + 1, num_encoder_tokens),\n",
    "  dtype='float32'\n",
    ")\n",
    "\n",
    "decoder_input_data = np.zeros(\n",
    "  shape=(len(target_texts), max_decoder_seq_length + 1, num_decoder_tokens),\n",
    "  dtype='float32'\n",
    ")\n",
    "\n",
    "decoder_target_data = np.zeros(\n",
    "  shape=(len(target_texts), max_decoder_seq_length + 1, num_decoder_tokens),\n",
    "  dtype='float32'\n",
    ")\n",
    "\n",
    "# Fill in the one-hot matrices\n",
    "\n",
    "for i, (input_text, target_text) in enumerate(zip(input_texts, target_texts)):\n",
    "  \n",
    "  for t, char in enumerate(input_text):\n",
    "    # Processing the ith sequence, tth character and marking the column in which it equals 1\n",
    "    encoder_input_data[i, t, input_token_index[char]] = 1\n",
    "  encoder_input_data[i, t + 1, input_token_index[' ']] = 1\n",
    "\n",
    "  for t, char in enumerate(target_text): \n",
    "    decoder_input_data[i, t, target_token_index[char]] = 1\n",
    "    if t > 0:\n",
    "      # decoder target data will be ahead by one timestep and will\n",
    "      # not include the start character. For example, if in the decoder input data the character\n",
    "      # V is in place 1, in the target data the same character is in place 0.\n",
    "      decoder_target_data[i, t - 1, target_token_index[char]] = 1\n",
    "  \n",
    "  decoder_input_data[i, t + 1, target_token_index[' ']] = 1\n",
    "  decoder_target_data[i, t:, target_token_index[' ']] = 1\n",
    "\n",
    "print (\"encoder_input_data: \", encoder_input_data.shape)\n",
    "print (\"decoder_input_data: \", decoder_input_data.shape)\n",
    "print (\"decoder_target_data: \", decoder_target_data.shape)\n"
   ]
  },
  {
   "cell_type": "code",
   "execution_count": 31,
   "metadata": {},
   "outputs": [],
   "source": [
    "# Encoder definitions\n",
    "\n",
    "# The shape argument indicates that the input sequences can have variable length (None) and each time step has \n",
    "# num_encoder_tokens features.\n",
    "encoder_inputs = Input(shape=(None, num_encoder_tokens))\n",
    "encoder = LSTM(latent_dim, return_state=True)\n",
    "\n",
    "# We will pass this as the initial state for the decoder\n",
    "encoder_outputs, state_h, state_c = encoder(encoder_inputs)\n",
    "encoder_states = [state_h, state_c]"
   ]
  },
  {
   "cell_type": "code",
   "execution_count": 32,
   "metadata": {},
   "outputs": [],
   "source": [
    "# Decoder definitions\n",
    "\n",
    "decoder_inputs = Input(shape=(None, num_decoder_tokens))\n",
    "\n",
    "# We take the whole LSTM output sequence and pass it to a Dense layer.\n",
    "decoder_lstm = LSTM(latent_dim, return_sequences=True, return_state=True)\n",
    "decoder_outputs, _, _ = decoder_lstm(decoder_inputs, initial_state=encoder_states)\n",
    "\n",
    "# The dense layer runs a softmax on the decoder outputs which will give the \n",
    "# probability of the next token\n",
    "decoder_dense = Dense(num_decoder_tokens, activation=\"softmax\")\n",
    "decoder_outputs = decoder_dense(decoder_outputs)"
   ]
  },
  {
   "cell_type": "code",
   "execution_count": 36,
   "metadata": {},
   "outputs": [
    {
     "name": "stdout",
     "output_type": "stream",
     "text": [
      "Epoch 1/10\n",
      "125/125 [==============================] - 19s 122ms/step - loss: 0.3656 - accuracy: 0.8904 - val_loss: 0.4570 - val_accuracy: 0.8649\n",
      "Epoch 2/10\n",
      "125/125 [==============================] - 14s 112ms/step - loss: 0.3492 - accuracy: 0.8949 - val_loss: 0.4448 - val_accuracy: 0.8691\n",
      "Epoch 3/10\n",
      "125/125 [==============================] - 14s 115ms/step - loss: 0.3353 - accuracy: 0.8991 - val_loss: 0.4398 - val_accuracy: 0.8714\n",
      "Epoch 4/10\n",
      "125/125 [==============================] - 14s 115ms/step - loss: 0.3229 - accuracy: 0.9028 - val_loss: 0.4468 - val_accuracy: 0.8686\n",
      "Epoch 5/10\n",
      "125/125 [==============================] - 14s 116ms/step - loss: 0.3109 - accuracy: 0.9060 - val_loss: 0.4338 - val_accuracy: 0.8723\n",
      "Epoch 6/10\n",
      "125/125 [==============================] - 14s 116ms/step - loss: 0.2993 - accuracy: 0.9098 - val_loss: 0.4269 - val_accuracy: 0.8752\n",
      "Epoch 7/10\n",
      "125/125 [==============================] - 14s 111ms/step - loss: 0.2886 - accuracy: 0.9127 - val_loss: 0.4252 - val_accuracy: 0.8757\n",
      "Epoch 8/10\n",
      "125/125 [==============================] - 15s 122ms/step - loss: 0.2784 - accuracy: 0.9159 - val_loss: 0.4309 - val_accuracy: 0.8747\n",
      "Epoch 9/10\n",
      "125/125 [==============================] - 14s 111ms/step - loss: 0.2687 - accuracy: 0.9189 - val_loss: 0.4231 - val_accuracy: 0.8773\n",
      "Epoch 10/10\n",
      "125/125 [==============================] - 14s 116ms/step - loss: 0.2593 - accuracy: 0.9215 - val_loss: 0.4227 - val_accuracy: 0.8784\n"
     ]
    },
    {
     "data": {
      "text/plain": [
       "<keras.src.callbacks.History at 0x2da19d950>"
      ]
     },
     "execution_count": 36,
     "metadata": {},
     "output_type": "execute_result"
    }
   ],
   "source": [
    "# Model definitions\n",
    "\n",
    "model = Model([encoder_inputs, decoder_inputs], decoder_outputs)\n",
    "\n",
    "model.compile(optimizer=\"rmsprop\", loss=\"categorical_crossentropy\", metrics=[\"accuracy\"])\n",
    "\n",
    "model.fit([encoder_input_data, decoder_input_data], decoder_target_data, \n",
    "          batch_size=batch_size, epochs=10, validation_split=0.2)"
   ]
  },
  {
   "cell_type": "code",
   "execution_count": 51,
   "metadata": {},
   "outputs": [
    {
     "name": "stdout",
     "output_type": "stream",
     "text": [
      "1/1 [==============================] - 0s 482ms/step\n",
      "1/1 [==============================] - 0s 493ms/step\n",
      "1/1 [==============================] - 0s 10ms/step\n",
      "1/1 [==============================] - 0s 9ms/step\n",
      "1/1 [==============================] - 0s 9ms/step\n",
      "1/1 [==============================] - 0s 10ms/step\n",
      "1/1 [==============================] - 0s 10ms/step\n",
      "1/1 [==============================] - 0s 10ms/step\n",
      "1/1 [==============================] - 0s 10ms/step\n",
      "1/1 [==============================] - 0s 9ms/step\n",
      "1/1 [==============================] - 0s 9ms/step\n",
      "1/1 [==============================] - 0s 10ms/step\n",
      "1/1 [==============================] - 0s 9ms/step\n",
      "Prez-vous !\n",
      "\n"
     ]
    }
   ],
   "source": [
    "# Inference\n",
    "\n",
    "encoder_model = Model(encoder_inputs, encoder_states)\n",
    "\n",
    "decoder_state_input_h = Input(shape=(latent_dim,))\n",
    "decoder_state_input_c = Input(shape=(latent_dim,))\n",
    "\n",
    "decoder_states_inputs = [decoder_state_input_h, decoder_state_input_c]\n",
    "decoder_outputs, state_h, state_c = decoder_lstm(decoder_inputs, initial_state=decoder_states_inputs)\n",
    "\n",
    "decoder_states = [state_h, state_c]\n",
    "decoder_outputs = decoder_dense(decoder_outputs)\n",
    "\n",
    "decoder_model = Model(\n",
    "    [decoder_inputs] + decoder_states_inputs,\n",
    "    [decoder_outputs] + decoder_states)\n",
    "\n",
    "def decode_sequence(input_seq):\n",
    "    encoded_seq = [input_token_index[char.lower()] for char in input_seq]\n",
    "\n",
    "    one_hot_input = np.zeros(shape=(1, len(input_seq) + 1, num_encoder_tokens))\n",
    "    for t, char in enumerate(input_seq):\n",
    "        one_hot_input[0, t, input_token_index[char]] = 1\n",
    "\n",
    "    # Encode the input as state vectors.\n",
    "    states_value = encoder_model.predict(one_hot_input)\n",
    "\n",
    "    # Generate empty target sequence of length 1.\n",
    "    target_seq = np.zeros((1, 1, num_decoder_tokens))\n",
    "\n",
    "    # Populate the first character of target sequence with the start character.\n",
    "    target_seq[0, 0, target_token_index['\\t']] = 1.\n",
    "\n",
    "    # Sampling loop for a batch of sequences\n",
    "    # (to simplify, here we assume a batch of size 1).\n",
    "    stop_condition = False\n",
    "    decoded_sentence = ''\n",
    "    while not stop_condition:\n",
    "        output_tokens, h, c = decoder_model.predict([target_seq] + states_value)\n",
    "\n",
    "        # Sample a token\n",
    "        sampled_token_index = np.argmax(output_tokens[0, -1, :])\n",
    "        sampled_char = reverse_target_char_index[sampled_token_index]\n",
    "        decoded_sentence += sampled_char\n",
    "\n",
    "        # Exit condition: either hit max length\n",
    "        # or find stop character.\n",
    "        if (sampled_char == '\\n' or\n",
    "           len(decoded_sentence) > max_decoder_seq_length):\n",
    "            stop_condition = True\n",
    "\n",
    "        # Update the target sequence (of length 1).\n",
    "        target_seq = np.zeros((1, 1, num_decoder_tokens))\n",
    "        target_seq[0, 0, sampled_token_index] = 1.\n",
    "\n",
    "        # Update states\n",
    "        states_value = [h, c]\n",
    "\n",
    "    return decoded_sentence\n",
    "\n",
    "print (decode_sequence(\"I am\"))"
   ]
  },
  {
   "cell_type": "code",
   "execution_count": null,
   "metadata": {},
   "outputs": [],
   "source": []
  }
 ],
 "metadata": {
  "kernelspec": {
   "display_name": "Python 3",
   "language": "python",
   "name": "python3"
  },
  "language_info": {
   "codemirror_mode": {
    "name": "ipython",
    "version": 3
   },
   "file_extension": ".py",
   "mimetype": "text/x-python",
   "name": "python",
   "nbconvert_exporter": "python",
   "pygments_lexer": "ipython3",
   "version": "3.11.4"
  }
 },
 "nbformat": 4,
 "nbformat_minor": 2
}
