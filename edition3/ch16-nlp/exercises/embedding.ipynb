{
 "cells": [
  {
   "cell_type": "code",
   "execution_count": 4,
   "metadata": {},
   "outputs": [],
   "source": [
    "import tensorflow as tf\n",
    "import numpy as np"
   ]
  },
  {
   "cell_type": "code",
   "execution_count": 19,
   "metadata": {},
   "outputs": [
    {
     "name": "stdout",
     "output_type": "stream",
     "text": [
      "Original Input Data:\n",
      "[[1 2 3 4]]\n",
      "\n",
      "Embedded Data:\n",
      "[[[-0.0149781  -0.02442976  0.02281013  0.00162014]\n",
      "  [ 0.01873421 -0.01610229 -0.03243386  0.04829535]\n",
      "  [ 0.03758735  0.03599087 -0.01888402 -0.01882864]\n",
      "  [-0.03374155  0.03429857 -0.03001671 -0.03581722]]]\n",
      "(1, 4, 4)\n"
     ]
    }
   ],
   "source": [
    "# Example input data with sequences of length 3\n",
    "input_data = np.array([[1, 2, 3, 4]])\n",
    "\n",
    "# Define the embedding layer\n",
    "embedding_size = 4\n",
    "vocab_size = 10\n",
    "embedding_layer = tf.keras.layers.Embedding(input_dim=vocab_size, output_dim=embedding_size, input_length=3)\n",
    "\n",
    "# Apply the embedding layer to the input data\n",
    "embedded_data = embedding_layer(input_data)\n",
    "\n",
    "# Print the original and embedded data\n",
    "print(\"Original Input Data:\")\n",
    "print(input_data)\n",
    "\n",
    "print(\"\\nEmbedded Data:\")\n",
    "print(embedded_data.numpy())\n",
    "print(embedded_data.numpy().shape)\n"
   ]
  },
  {
   "cell_type": "code",
   "execution_count": 17,
   "metadata": {},
   "outputs": [
    {
     "data": {
      "text/plain": [
       "[<tf.Variable 'embedding_6/embeddings:0' shape=(10, 4) dtype=float32, numpy=\n",
       " array([[ 0.03605654,  0.04244219, -0.04763841, -0.01573974],\n",
       "        [ 0.00870035,  0.01802123, -0.00633644,  0.04599639],\n",
       "        [-0.01107519,  0.03048099, -0.04809731,  0.03882614],\n",
       "        [-0.00512581, -0.0016821 ,  0.0127919 ,  0.02775532],\n",
       "        [-0.0099294 , -0.03650414,  0.03527318,  0.04310865],\n",
       "        [ 0.04217825,  0.01715516,  0.00508072, -0.04289785],\n",
       "        [ 0.03938809, -0.03958308, -0.00490121, -0.04891822],\n",
       "        [ 0.04659427, -0.02871102,  0.01538889, -0.0493192 ],\n",
       "        [-0.04023143, -0.00989513,  0.00542838, -0.01371833],\n",
       "        [ 0.02628987, -0.03822715,  0.04243076, -0.01340281]],\n",
       "       dtype=float32)>]"
      ]
     },
     "execution_count": 17,
     "metadata": {},
     "output_type": "execute_result"
    }
   ],
   "source": [
    "embedding_layer.weights"
   ]
  },
  {
   "cell_type": "code",
   "execution_count": null,
   "metadata": {},
   "outputs": [],
   "source": []
  }
 ],
 "metadata": {
  "kernelspec": {
   "display_name": "Python 3",
   "language": "python",
   "name": "python3"
  },
  "language_info": {
   "codemirror_mode": {
    "name": "ipython",
    "version": 3
   },
   "file_extension": ".py",
   "mimetype": "text/x-python",
   "name": "python",
   "nbconvert_exporter": "python",
   "pygments_lexer": "ipython3",
   "version": "3.11.4"
  }
 },
 "nbformat": 4,
 "nbformat_minor": 2
}
